{
 "cells": [
  {
   "cell_type": "markdown",
   "id": "0fbb8c3f",
   "metadata": {
    "papermill": {
     "duration": 0.009132,
     "end_time": "2022-06-01T12:01:34.461865",
     "exception": false,
     "start_time": "2022-06-01T12:01:34.452733",
     "status": "completed"
    },
    "tags": []
   },
   "source": [
    "# Ensemble fork with weights\n",
    "\n",
    "## I forked this notebook: https://www.kaggle.com/code/apoorvbhardwaj/amex-early-ensemble/notebook?scriptVersionId=97132599\n",
    "## Please give that notebook an upvote if you give this one an upvote...\n",
    "\n",
    "I took the above notebook and played around with model weights. Pretty simple idea added to the above simple idea.\n",
    "\n",
    "Here's a good explanation of the idea of doing a weighted ensemble.\n",
    "https://machinelearningmastery.com/weighted-average-ensemble-with-python/\n",
    "\n",
    "\n",
    "Anyway, just a slight improvement over the origial linked notebook above\n",
    "* Original score = 0.794\n",
    "* This score = 0.794 ++ (the leaderboard needs to add some decimal places...)"
   ]
  },
  {
   "cell_type": "code",
   "execution_count": 1,
   "id": "905ead50",
   "metadata": {
    "execution": {
     "iopub.execute_input": "2022-06-01T12:01:34.484435Z",
     "iopub.status.busy": "2022-06-01T12:01:34.482487Z",
     "iopub.status.idle": "2022-06-01T12:01:36.357433Z",
     "shell.execute_reply": "2022-06-01T12:01:36.356642Z",
     "shell.execute_reply.started": "2022-06-01T03:42:10.609772Z"
    },
    "papermill": {
     "duration": 1.887087,
     "end_time": "2022-06-01T12:01:36.357577",
     "exception": false,
     "start_time": "2022-06-01T12:01:34.470490",
     "status": "completed"
    },
    "tags": []
   },
   "outputs": [],
   "source": [
    "import os\n",
    "import numpy as np\n",
    "import pandas as pd\n",
    "from scipy import stats\n",
    "import plotly.express as px"
   ]
  },
  {
   "cell_type": "code",
   "execution_count": 2,
   "id": "07444bb6",
   "metadata": {
    "execution": {
     "iopub.execute_input": "2022-06-01T12:01:36.378600Z",
     "iopub.status.busy": "2022-06-01T12:01:36.377941Z",
     "iopub.status.idle": "2022-06-01T12:01:38.405946Z",
     "shell.execute_reply": "2022-06-01T12:01:38.405461Z",
     "shell.execute_reply.started": "2022-06-01T03:42:10.625774Z"
    },
    "papermill": {
     "duration": 2.040231,
     "end_time": "2022-06-01T12:01:38.406109",
     "exception": false,
     "start_time": "2022-06-01T12:01:36.365878",
     "status": "completed"
    },
    "tags": []
   },
   "outputs": [],
   "source": [
    "targetName = 'prediciton'\n",
    "competitionDir = r'C:\\Users\\Khangjrakpam Arjun\\OneDrive - McKinsey & Company\\Documents\\ARJUN\\ML\\COMPETITIONS\\Amex\\amex-default-prediction'\n",
    "submission = pd.read_csv(r'C:\\Users\\Khangjrakpam Arjun\\OneDrive - McKinsey & Company\\Documents\\ARJUN\\ML\\COMPETITIONS\\Amex\\amex-default-prediction/sample_submission.csv')"
   ]
  },
  {
   "cell_type": "code",
   "execution_count": 3,
   "id": "1f7dc220",
   "metadata": {
    "execution": {
     "iopub.execute_input": "2022-06-01T12:01:38.429067Z",
     "iopub.status.busy": "2022-06-01T12:01:38.428349Z",
     "iopub.status.idle": "2022-06-01T12:01:38.431732Z",
     "shell.execute_reply": "2022-06-01T12:01:38.432403Z",
     "shell.execute_reply.started": "2022-06-01T03:42:11.871696Z"
    },
    "papermill": {
     "duration": 0.017732,
     "end_time": "2022-06-01T12:01:38.432618",
     "exception": false,
     "start_time": "2022-06-01T12:01:38.414886",
     "status": "completed"
    },
    "tags": []
   },
   "outputs": [
    {
     "name": "stderr",
     "output_type": "stream",
     "text": [
      "C:\\Users\\Khangjrakpam Arjun\\AppData\\Local\\Temp\\ipykernel_22444\\3298245924.py:3: DeprecationWarning: Flags not at the start of the expression '([^\\\\s]+(\\\\.(?i)(csv))' (truncated) but at position 10\n",
      "  p = re.compile(regex)\n"
     ]
    }
   ],
   "source": [
    "import re\n",
    "regex = \"([^\\\\s]+(\\\\.(?i)(csv))$)\"\n",
    "p = re.compile(regex)"
   ]
  },
  {
   "cell_type": "code",
   "execution_count": 4,
   "id": "6e0d9127",
   "metadata": {
    "execution": {
     "iopub.execute_input": "2022-06-01T12:01:38.456028Z",
     "iopub.status.busy": "2022-06-01T12:01:38.455461Z",
     "iopub.status.idle": "2022-06-01T12:01:38.458156Z",
     "shell.execute_reply": "2022-06-01T12:01:38.457679Z",
     "shell.execute_reply.started": "2022-06-01T03:42:11.878013Z"
    },
    "papermill": {
     "duration": 0.015325,
     "end_time": "2022-06-01T12:01:38.458288",
     "exception": false,
     "start_time": "2022-06-01T12:01:38.442963",
     "status": "completed"
    },
    "tags": []
   },
   "outputs": [],
   "source": [
    "preds = []"
   ]
  },
  {
   "cell_type": "code",
   "execution_count": 5,
   "id": "2ac136ef",
   "metadata": {
    "execution": {
     "iopub.execute_input": "2022-06-01T12:01:38.479670Z",
     "iopub.status.busy": "2022-06-01T12:01:38.479095Z",
     "iopub.status.idle": "2022-06-01T12:01:38.593893Z",
     "shell.execute_reply": "2022-06-01T12:01:38.593030Z",
     "shell.execute_reply.started": "2022-06-01T03:42:11.898294Z"
    },
    "papermill": {
     "duration": 0.127063,
     "end_time": "2022-06-01T12:01:38.594030",
     "exception": false,
     "start_time": "2022-06-01T12:01:38.466967",
     "status": "completed"
    },
    "tags": []
   },
   "outputs": [],
   "source": [
    "from sklearn.preprocessing import StandardScaler, LabelEncoder\n",
    "from scipy import stats"
   ]
  },
  {
   "cell_type": "markdown",
   "id": "860c0ea3",
   "metadata": {
    "papermill": {
     "duration": 0.008324,
     "end_time": "2022-06-01T12:01:38.610995",
     "exception": false,
     "start_time": "2022-06-01T12:01:38.602671",
     "status": "completed"
    },
    "tags": []
   },
   "source": [
    "# Weighted average\n",
    "As per the little function below, I wrote a little formula for weighting the predictions that is based on how well the model it came from scored. The best model is weighted 1, and the worst is weighted somewhere around 0.05.\n",
    "\n",
    "The article that's linked below has some more elegant ways to do the weighting if you actually buld the models youself and can therefore do some cross validation, but here, since I'm just pulling the output from other people's hard work, I can't and can just do the crude little thing below. \n",
    "https://machinelearningmastery.com/weighted-average-ensemble-with-python/"
   ]
  },
  {
   "cell_type": "code",
   "execution_count": 6,
   "id": "6fbee6d5",
   "metadata": {
    "execution": {
     "iopub.execute_input": "2022-06-01T12:01:38.631011Z",
     "iopub.status.busy": "2022-06-01T12:01:38.630464Z",
     "iopub.status.idle": "2022-06-01T12:01:38.633583Z",
     "shell.execute_reply": "2022-06-01T12:01:38.634149Z",
     "shell.execute_reply.started": "2022-06-01T03:42:11.91051Z"
    },
    "papermill": {
     "duration": 0.01475,
     "end_time": "2022-06-01T12:01:38.634302",
     "exception": false,
     "start_time": "2022-06-01T12:01:38.619552",
     "status": "completed"
    },
    "tags": []
   },
   "outputs": [],
   "source": [
    "#crude formula for model weighting.\n",
    "# Using this formaula the best model's weight = 1, the worst model's weight ~0.05\n",
    "def model_weight(model_loss, worst_loss, best_loss):\n",
    "    return 1- ((best_loss - model_loss)/(best_loss-(worst_loss - 0.01)))"
   ]
  },
  {
   "cell_type": "code",
   "execution_count": 7,
   "id": "ad800ac9",
   "metadata": {},
   "outputs": [],
   "source": [
    "os.chdir(r\"C:\\Users\\Khangjrakpam Arjun\\OneDrive - McKinsey & Company\\Documents\\ARJUN\\ML\\COMPETITIONS\\Amex\\amex-default-prediction\\submission\")"
   ]
  },
  {
   "cell_type": "code",
   "execution_count": 8,
   "id": "a56639cf",
   "metadata": {},
   "outputs": [
    {
     "data": {
      "text/plain": [
       "['AutoML_0.78878.csv',\n",
       " 'blended',\n",
       " 'catboost_0.794.csv',\n",
       " 'keras_0.78326.csv',\n",
       " 'LGBM_0.795.csv',\n",
       " 'results.zip',\n",
       " 'XGBoost_0.7776.csv',\n",
       " 'XGB_0.793.csv']"
      ]
     },
     "execution_count": 8,
     "metadata": {},
     "output_type": "execute_result"
    }
   ],
   "source": [
    "os.listdir()"
   ]
  },
  {
   "cell_type": "code",
   "execution_count": 9,
   "id": "7cdaaffc",
   "metadata": {},
   "outputs": [
    {
     "data": {
      "text/plain": [
       "['LGBM_0.795.csv',\n",
       " 'catboost_0.794.csv',\n",
       " 'XGB_0.793.csv',\n",
       " 'AutoML_0.78878.csv',\n",
       " 'keras_0.78326.csv']"
      ]
     },
     "execution_count": 9,
     "metadata": {},
     "output_type": "execute_result"
    }
   ],
   "source": [
    "['LGBM_0.795.csv','catboost_0.794.csv','XGB_0.793.csv','AutoML_0.78878.csv','keras_0.78326.csv']"
   ]
  },
  {
   "cell_type": "code",
   "execution_count": 10,
   "id": "283bb1cb",
   "metadata": {
    "execution": {
     "iopub.execute_input": "2022-06-01T12:01:38.661579Z",
     "iopub.status.busy": "2022-06-01T12:01:38.660971Z",
     "iopub.status.idle": "2022-06-01T12:01:47.989791Z",
     "shell.execute_reply": "2022-06-01T12:01:47.990269Z",
     "shell.execute_reply.started": "2022-06-01T03:35:21.480235Z"
    },
    "papermill": {
     "duration": 9.347083,
     "end_time": "2022-06-01T12:01:47.990450",
     "exception": false,
     "start_time": "2022-06-01T12:01:38.643367",
     "status": "completed"
    },
    "tags": []
   },
   "outputs": [
    {
     "name": "stdout",
     "output_type": "stream",
     "text": [
      "(924621, 1)\n",
      "(924621, 2)\n",
      "(924621, 3)\n"
     ]
    },
    {
     "data": {
      "text/plain": [
       "\"df4 = pd.read_csv('AutoML_0.78878.csv')\\ndf4['prediction'] = df4['prediction']*w4\\npreds.append(df4['prediction'])\\nprint(np.column_stack(preds).shape)\\n\\ndf5 = pd.read_csv('keras_0.78326.csv')\\ndf5['prediction'] = df5['prediction']*w5\\npreds.append(df5['prediction'])\\nprint(np.column_stack(preds).shape)\""
      ]
     },
     "execution_count": 10,
     "metadata": {},
     "output_type": "execute_result"
    }
   ],
   "source": [
    "best = 0.795\n",
    "worst = 0.793\n",
    "w1 = model_weight(0.795, worst, best)\n",
    "w2 = model_weight(0.794, worst, best) \n",
    "w3 = model_weight(0.793, worst, best)\n",
    "w4 = model_weight(0.788, worst, best)\n",
    "w5 = model_weight(0.783, worst, best)\n",
    "#w8 = model_weight(.715, worst, best)\n",
    "\n",
    "\n",
    "df = pd.read_csv('LGBM_0.795.csv')\n",
    "df['prediction'] = df['prediction']*w1\n",
    "preds.append((df['prediction']))\n",
    "print(np.column_stack(preds).shape)\n",
    "\n",
    "df2 = pd.read_csv('catboost_0.794.csv')\n",
    "df2['prediction'] = df2['prediction']*w2\n",
    "preds.append((df2['prediction']))\n",
    "print(np.column_stack(preds).shape)\n",
    "\n",
    "df3 = pd.read_csv('XGB_0.793.csv')\n",
    "df3['prediction'] = df3['prediction']*w3\n",
    "preds.append((df3['prediction']))\n",
    "print(np.column_stack(preds).shape)\n",
    "\n",
    "\"\"\"df4 = pd.read_csv('AutoML_0.78878.csv')\n",
    "df4['prediction'] = df4['prediction']*w4\n",
    "preds.append(df4['prediction'])\n",
    "print(np.column_stack(preds).shape)\n",
    "\n",
    "df5 = pd.read_csv('keras_0.78326.csv')\n",
    "df5['prediction'] = df5['prediction']*w5\n",
    "preds.append(df5['prediction'])\n",
    "print(np.column_stack(preds).shape)\"\"\"\n",
    "\n",
    "\n",
    "\n",
    "# df8 = pd.read_csv('../input/best-correlated-features-with-low-correlation/submission.csv')\n",
    "# df8['prediction'] = df8['prediction']*w8\n",
    "# preds.append(df8['prediction'])\n",
    "# print(np.column_stack(preds).shape)"
   ]
  },
  {
   "cell_type": "code",
   "execution_count": 11,
   "id": "452dd9a0",
   "metadata": {
    "execution": {
     "iopub.execute_input": "2022-06-01T12:01:48.023802Z",
     "iopub.status.busy": "2022-06-01T12:01:48.023129Z",
     "iopub.status.idle": "2022-06-01T12:01:48.028441Z",
     "shell.execute_reply": "2022-06-01T12:01:48.028993Z",
     "shell.execute_reply.started": "2022-06-01T03:35:33.848885Z"
    },
    "papermill": {
     "duration": 0.028929,
     "end_time": "2022-06-01T12:01:48.029214",
     "exception": false,
     "start_time": "2022-06-01T12:01:48.000285",
     "status": "completed"
    },
    "tags": []
   },
   "outputs": [
    {
     "data": {
      "text/plain": [
       "[0        -3.617492\n",
       " 1        -7.207893\n",
       " 2        -3.027030\n",
       " 3        -1.247392\n",
       " 4         1.883784\n",
       "             ...   \n",
       " 924616   -4.242699\n",
       " 924617    1.249989\n",
       " 924618   -0.271345\n",
       " 924619   -0.744686\n",
       " 924620   -3.183316\n",
       " Name: prediction, Length: 924621, dtype: float64,\n",
       " 0         0.022182\n",
       " 1         0.001506\n",
       " 2         0.036879\n",
       " 3         0.175892\n",
       " 4         0.783179\n",
       "             ...   \n",
       " 924616    0.013792\n",
       " 924617    0.742194\n",
       " 924618    0.347119\n",
       " 924619    0.267197\n",
       " 924620    0.051176\n",
       " Name: prediction, Length: 924621, dtype: float64,\n",
       " 0         0.001670\n",
       " 1         0.000405\n",
       " 2         0.002191\n",
       " 3         0.033856\n",
       " 4         0.034988\n",
       "             ...   \n",
       " 924616    0.730198\n",
       " 924617    0.036306\n",
       " 924618    0.002045\n",
       " 924619    0.729078\n",
       " 924620    0.107938\n",
       " Name: prediction, Length: 924621, dtype: float64]"
      ]
     },
     "execution_count": 11,
     "metadata": {},
     "output_type": "execute_result"
    }
   ],
   "source": [
    "preds"
   ]
  },
  {
   "cell_type": "code",
   "execution_count": 12,
   "id": "f2b23b60",
   "metadata": {
    "execution": {
     "iopub.execute_input": "2022-06-01T12:01:48.054586Z",
     "iopub.status.busy": "2022-06-01T12:01:48.053933Z",
     "iopub.status.idle": "2022-06-01T12:01:48.074437Z",
     "shell.execute_reply": "2022-06-01T12:01:48.073910Z",
     "shell.execute_reply.started": "2022-06-01T03:35:33.865227Z"
    },
    "papermill": {
     "duration": 0.034168,
     "end_time": "2022-06-01T12:01:48.074575",
     "exception": false,
     "start_time": "2022-06-01T12:01:48.040407",
     "status": "completed"
    },
    "tags": []
   },
   "outputs": [
    {
     "name": "stdout",
     "output_type": "stream",
     "text": [
      "CPU times: total: 15.6 ms\n",
      "Wall time: 13.3 ms\n"
     ]
    }
   ],
   "source": [
    "%%time\n",
    "blend_ss = submission.copy()"
   ]
  },
  {
   "cell_type": "code",
   "execution_count": 13,
   "id": "fb7f85de",
   "metadata": {
    "execution": {
     "iopub.execute_input": "2022-06-01T12:01:48.100175Z",
     "iopub.status.busy": "2022-06-01T12:01:48.099551Z",
     "iopub.status.idle": "2022-06-01T12:01:48.169833Z",
     "shell.execute_reply": "2022-06-01T12:01:48.170351Z",
     "shell.execute_reply.started": "2022-06-01T03:35:33.896377Z"
    },
    "papermill": {
     "duration": 0.085575,
     "end_time": "2022-06-01T12:01:48.170570",
     "exception": false,
     "start_time": "2022-06-01T12:01:48.084995",
     "status": "completed"
    },
    "tags": []
   },
   "outputs": [
    {
     "data": {
      "text/html": [
       "<div>\n",
       "<style scoped>\n",
       "    .dataframe tbody tr th:only-of-type {\n",
       "        vertical-align: middle;\n",
       "    }\n",
       "\n",
       "    .dataframe tbody tr th {\n",
       "        vertical-align: top;\n",
       "    }\n",
       "\n",
       "    .dataframe thead th {\n",
       "        text-align: right;\n",
       "    }\n",
       "</style>\n",
       "<table border=\"1\" class=\"dataframe\">\n",
       "  <thead>\n",
       "    <tr style=\"text-align: right;\">\n",
       "      <th></th>\n",
       "      <th>customer_ID</th>\n",
       "      <th>prediction</th>\n",
       "    </tr>\n",
       "  </thead>\n",
       "  <tbody>\n",
       "    <tr>\n",
       "      <th>0</th>\n",
       "      <td>00000469ba478561f23a92a868bd366de6f6527a684c9a...</td>\n",
       "      <td>-1.306778</td>\n",
       "    </tr>\n",
       "    <tr>\n",
       "      <th>1</th>\n",
       "      <td>00001bf2e77ff879fab36aa4fac689b9ba411dae63ae39...</td>\n",
       "      <td>-2.620357</td>\n",
       "    </tr>\n",
       "    <tr>\n",
       "      <th>2</th>\n",
       "      <td>0000210045da4f81e5f122c6bde5c2a617d03eef67f82c...</td>\n",
       "      <td>-1.086531</td>\n",
       "    </tr>\n",
       "    <tr>\n",
       "      <th>3</th>\n",
       "      <td>00003b41e58ede33b8daf61ab56d9952f17c9ad1c3976c...</td>\n",
       "      <td>-0.377325</td>\n",
       "    </tr>\n",
       "    <tr>\n",
       "      <th>4</th>\n",
       "      <td>00004b22eaeeeb0ec976890c1d9bfc14fd9427e98c4ee9...</td>\n",
       "      <td>0.982528</td>\n",
       "    </tr>\n",
       "    <tr>\n",
       "      <th>...</th>\n",
       "      <td>...</td>\n",
       "      <td>...</td>\n",
       "    </tr>\n",
       "    <tr>\n",
       "      <th>924616</th>\n",
       "      <td>ffff952c631f2c911b8a2a8ca56ea6e656309a83d2f64c...</td>\n",
       "      <td>-1.272258</td>\n",
       "    </tr>\n",
       "    <tr>\n",
       "      <th>924617</th>\n",
       "      <td>ffffcf5df59e5e0bba2a5ac4578a34e2b5aa64a1546cd3...</td>\n",
       "      <td>0.737633</td>\n",
       "    </tr>\n",
       "    <tr>\n",
       "      <th>924618</th>\n",
       "      <td>ffffd61f098cc056dbd7d2a21380c4804bbfe60856f475...</td>\n",
       "      <td>0.028298</td>\n",
       "    </tr>\n",
       "    <tr>\n",
       "      <th>924619</th>\n",
       "      <td>ffffddef1fc3643ea179c93245b68dca0f36941cd83977...</td>\n",
       "      <td>0.091487</td>\n",
       "    </tr>\n",
       "    <tr>\n",
       "      <th>924620</th>\n",
       "      <td>fffffa7cf7e453e1acc6a1426475d5cb9400859f82ff61...</td>\n",
       "      <td>-1.099710</td>\n",
       "    </tr>\n",
       "  </tbody>\n",
       "</table>\n",
       "<p>924621 rows × 2 columns</p>\n",
       "</div>"
      ],
      "text/plain": [
       "                                              customer_ID  prediction\n",
       "0       00000469ba478561f23a92a868bd366de6f6527a684c9a...   -1.306778\n",
       "1       00001bf2e77ff879fab36aa4fac689b9ba411dae63ae39...   -2.620357\n",
       "2       0000210045da4f81e5f122c6bde5c2a617d03eef67f82c...   -1.086531\n",
       "3       00003b41e58ede33b8daf61ab56d9952f17c9ad1c3976c...   -0.377325\n",
       "4       00004b22eaeeeb0ec976890c1d9bfc14fd9427e98c4ee9...    0.982528\n",
       "...                                                   ...         ...\n",
       "924616  ffff952c631f2c911b8a2a8ca56ea6e656309a83d2f64c...   -1.272258\n",
       "924617  ffffcf5df59e5e0bba2a5ac4578a34e2b5aa64a1546cd3...    0.737633\n",
       "924618  ffffd61f098cc056dbd7d2a21380c4804bbfe60856f475...    0.028298\n",
       "924619  ffffddef1fc3643ea179c93245b68dca0f36941cd83977...    0.091487\n",
       "924620  fffffa7cf7e453e1acc6a1426475d5cb9400859f82ff61...   -1.099710\n",
       "\n",
       "[924621 rows x 2 columns]"
      ]
     },
     "execution_count": 13,
     "metadata": {},
     "output_type": "execute_result"
    }
   ],
   "source": [
    "blend_ss['prediction'] = (np.sum(np.column_stack(preds), axis=1) / (w1+w2+w3))\n",
    "blend_ss"
   ]
  },
  {
   "cell_type": "code",
   "execution_count": 14,
   "id": "44537442",
   "metadata": {},
   "outputs": [],
   "source": [
    "os.chdir('C:\\\\Users\\\\Khangjrakpam Arjun\\\\OneDrive - McKinsey & Company\\\\Documents\\\\ARJUN\\\\ML\\\\COMPETITIONS\\\\Amex\\\\amex-default-prediction\\\\submission\\\\blended')"
   ]
  },
  {
   "cell_type": "code",
   "execution_count": 15,
   "id": "ed7bd1e0",
   "metadata": {},
   "outputs": [],
   "source": [
    "blend_ss.to_csv('blended3.csv', index=False)"
   ]
  },
  {
   "cell_type": "code",
   "execution_count": null,
   "id": "908a1691",
   "metadata": {},
   "outputs": [],
   "source": []
  }
 ],
 "metadata": {
  "kernelspec": {
   "display_name": "Python 3 (ipykernel)",
   "language": "python",
   "name": "python3"
  },
  "language_info": {
   "codemirror_mode": {
    "name": "ipython",
    "version": 3
   },
   "file_extension": ".py",
   "mimetype": "text/x-python",
   "name": "python",
   "nbconvert_exporter": "python",
   "pygments_lexer": "ipython3",
   "version": "3.9.12"
  },
  "papermill": {
   "default_parameters": {},
   "duration": 26.319685,
   "end_time": "2022-06-01T12:01:52.259428",
   "environment_variables": {},
   "exception": null,
   "input_path": "__notebook__.ipynb",
   "output_path": "__notebook__.ipynb",
   "parameters": {},
   "start_time": "2022-06-01T12:01:25.939743",
   "version": "2.3.3"
  }
 },
 "nbformat": 4,
 "nbformat_minor": 5
}
