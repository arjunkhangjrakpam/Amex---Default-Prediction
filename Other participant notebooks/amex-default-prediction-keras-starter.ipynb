{
 "cells": [
  {
   "cell_type": "markdown",
   "id": "2f4639f5",
   "metadata": {
    "papermill": {
     "duration": 0.019814,
     "end_time": "2022-06-01T12:56:41.773346",
     "exception": false,
     "start_time": "2022-06-01T12:56:41.753532",
     "status": "completed"
    },
    "tags": []
   },
   "source": [
    "# American Express - Default Prediction \n",
    "## Predict If A Customer Will Default in the Future ...\n",
    "The objective of this competition is to predict the probability that a customer does not pay back their credit card balance amount in the future based on their monthly customer profile. The target binary variable is calculated by observing 18 months performance window after the latest credit card statement, and if the customer does not pay due amount in 120 days after their latest statement date it is considered a default event.\n",
    "\n",
    "<img style=\"float: center;\" src=\"https://img.freepik.com/free-vector/brain-with-digital-circuit-programmer-with-laptop-machine-learning-artificial-intelligence-digital-brain-artificial-thinking-process-concept-vector-isolated-illustration_335657-2246.jpg?w=2000\" width = '550'>\n",
    "<a href='https://www.freepik.com/vectors/machine-learning'>Machine learning vector created by vectorjuice - www.freepik.com</a>\n",
    "\n",
    "#### Data Description\n",
    "The dataset contains aggregated profile features for each customer at each statement date. Features are anonymized and normalized, and fall into the following general categories:\n",
    "\n",
    "* D_* = Delinquency variables\n",
    "* S_* = Spend variables\n",
    "* P_* = Payment variables\n",
    "* B_* = Balance variables\n",
    "* R_* = Risk variables\n",
    "\n",
    "With the following features being categorical:\n",
    "\n",
    "**['B_30', 'B_38', 'D_114', 'D_116', 'D_117', 'D_120', 'D_126', 'D_63', 'D_64', 'D_66', 'D_68']**\n",
    "\n",
    "Your task is to predict, for each customer_ID, the probability of a future payment default (target = 1).\n",
    "\n",
    "Note that the negative class has been subsampled for this dataset at 5%, and thus receives a 20x weighting in the scoring metric.\n",
    "\n",
    "**Files**\n",
    "* train_data.csv - training data with multiple statement dates per customer_ID\n",
    "* train_labels.csv - target label for each customer_ID\n",
    "* test_data.csv - corresponding test data; your objective is to predict the target label for each customer_ID\n",
    "* sample_submission.csv - a sample submission file in the correct format\n",
    "\n",
    "---\n",
    "\n",
    "## My Strategy, or How I Will Aproach this Competition...\n",
    "We have data from many Customers and there is many points of information by for each of the customers, the target labels are only one per customer id so aggregation will be requiered, from here there is quie a lot of possibilities, this is what I will folow in this Notebook...\n",
    "\n",
    "#### Loading the Datasets\n",
    "The datasets is massive so I will rely on other Kaggles optimized datasets stored in a feather format to make my life easier in this competition.\n",
    "\n",
    "#### Quick EDA\n",
    "The typical analysis that I always like to complete to undertstand the dataset better...\n",
    "* Information of the datasets, size and others.\n",
    "* Simple visualization of the first few records.\n",
    "* Data statistical analalysis using describe.\n",
    "* Visualization of the number of NaNs.\n",
    "* Understanding the amount of unique records.\n",
    "\n",
    "#### Exploring the Target Variable\n",
    "Nothing in particular dataset seems to be quite inbalanced so I will get back to this part later...\n",
    "\n",
    "#### Structuring the Datasets\n",
    "Here is where everything happens, because we have time-base data o multiple points per customer we are trying to aggregate the information in certain way that's practical:\n",
    "* Statistical aggregation for numeric features\n",
    "* Only keep the last know record for analysis\n",
    "* Statictical aggregation for categorical features\n",
    "\n",
    "#### Feature Engineering\n",
    "At this point the only thing that I can consider some type of feature will be the aggregation of the datasets, as I mentioned in the previous point\n",
    "* Statistical aggregation\n",
    "* Only keep the last know record for analysis\n",
    "\n",
    "#### Label Encoding\n",
    "Because there is quite a lot of categorical variables and this is a NN model I will use the following encoding technique:\n",
    "* OneHot encoder, only train in the train dataset and applyed on test\n",
    "\n",
    "#### Fill NaNs**\n",
    "At this point just to get started, I will fill everything with ceros, probably not a good idea.\n",
    "* Fill NaNs with 0\n",
    "\n",
    "#### Model Development and Training\n",
    "I'm going to go first with an NN in the last few competitions the NN models have been working quite well also we have so much data.\n",
    "* Simple NN tested, layer after later.\n",
    "* I also tested a more complex NN, that I learned from Ambross with Skip conections.\n",
    "\n",
    "#### Predictions and Submission\n",
    "No much details here, just the simple average of all the predictions across multiple folds.\n",
    "* Average predictions across 5 folds\n",
    "\n",
    "---\n",
    "\n",
    "## Updates\n",
    "#### 05/28/2022\n",
    "* Build the initial model using Neuronal Nets and simple agg strategy (Last data point).\n",
    "* Evaluated the model and uploaded for Ranking.\n",
    "\n",
    "#### 05/29/2022\n",
    "* Improve model architecture.\n",
    "* Really dive deep into Feature Engineering (Not much here, memory is a big chalenge)\n",
    "\n",
    "#### 05/30/2022\n",
    "* ...\n",
    "\n",
    "---\n",
    "\n",
    "## Resources, Inspiration\n",
    "I have taken Ideas or learned quite a lot from the Notebooks below, please check also if you like my work.\n",
    "\n",
    "* https://www.kaggle.com/code/ambrosm/amex-keras-quickstart-1-training/notebook\n",
    "* ...\n",
    "* ...\n",
    "* ..."
   ]
  },
  {
   "cell_type": "markdown",
   "id": "96db39f3",
   "metadata": {
    "papermill": {
     "duration": 0.018939,
     "end_time": "2022-06-01T12:56:41.812406",
     "exception": false,
     "start_time": "2022-06-01T12:56:41.793467",
     "status": "completed"
    },
    "tags": []
   },
   "source": [
    "---"
   ]
  },
  {
   "cell_type": "markdown",
   "id": "76ea8a77",
   "metadata": {
    "papermill": {
     "duration": 0.018709,
     "end_time": "2022-06-01T12:56:41.849952",
     "exception": false,
     "start_time": "2022-06-01T12:56:41.831243",
     "status": "completed"
    },
    "tags": []
   },
   "source": [
    "# 1.0 Loading Model Libraries..."
   ]
  },
  {
   "cell_type": "code",
   "execution_count": 1,
   "id": "8bdf198f",
   "metadata": {
    "_cell_guid": "b1076dfc-b9ad-4769-8c92-a6c4dae69d19",
    "_uuid": "8f2839f25d086af736a60e9eeb907d3b93b6e0e5",
    "execution": {
     "iopub.execute_input": "2022-06-01T12:56:41.888800Z",
     "iopub.status.busy": "2022-06-01T12:56:41.888247Z",
     "iopub.status.idle": "2022-06-01T12:56:41.908963Z",
     "shell.execute_reply": "2022-06-01T12:56:41.908117Z"
    },
    "papermill": {
     "duration": 0.043789,
     "end_time": "2022-06-01T12:56:41.912285",
     "exception": false,
     "start_time": "2022-06-01T12:56:41.868496",
     "status": "completed"
    },
    "tags": []
   },
   "outputs": [
    {
     "name": "stdout",
     "output_type": "stream",
     "text": [
      "/kaggle/input/parquet-files-amexdefault-prediction/test_data.parquet\n",
      "/kaggle/input/parquet-files-amexdefault-prediction/train_data.ftr\n",
      "/kaggle/input/parquet-files-amexdefault-prediction/train_data.parquet\n",
      "/kaggle/input/parquet-files-amexdefault-prediction/test_data.ftr\n",
      "/kaggle/input/amex-default-prediction/sample_submission.csv\n",
      "/kaggle/input/amex-default-prediction/train_data.csv\n",
      "/kaggle/input/amex-default-prediction/test_data.csv\n",
      "/kaggle/input/amex-default-prediction/train_labels.csv\n",
      "CPU times: user 0 ns, sys: 742 µs, total: 742 µs\n",
      "Wall time: 5.51 ms\n"
     ]
    }
   ],
   "source": [
    "%%time\n",
    "# This Python 3 environment comes with many helpful analytics libraries installed\n",
    "# It is defined by the kaggle/python Docker image: https://github.com/kaggle/docker-python\n",
    "# For example, here's several helpful packages to load\n",
    "\n",
    "import numpy as np # linear algebra\n",
    "import pandas as pd # data processing, CSV file I/O (e.g. pd.read_csv)\n",
    "\n",
    "# Input data files are available in the read-only \"../input/\" directory\n",
    "# For example, running this (by clicking run or pressing Shift+Enter) will list all files under the input directory\n",
    "\n",
    "import os\n",
    "for dirname, _, filenames in os.walk('/kaggle/input'):\n",
    "    for filename in filenames:\n",
    "        print(os.path.join(dirname, filename))\n",
    "\n",
    "# You can write up to 20GB to the current directory (/kaggle/working/) that gets preserved as output when you create a version using \"Save & Run All\" \n",
    "# You can also write temporary files to /kaggle/temp/, but they won't be saved outside of the current session"
   ]
  },
  {
   "cell_type": "code",
   "execution_count": 2,
   "id": "a4f96400",
   "metadata": {
    "execution": {
     "iopub.execute_input": "2022-06-01T12:56:41.953482Z",
     "iopub.status.busy": "2022-06-01T12:56:41.953026Z",
     "iopub.status.idle": "2022-06-01T12:56:41.958865Z",
     "shell.execute_reply": "2022-06-01T12:56:41.958080Z"
    },
    "papermill": {
     "duration": 0.028176,
     "end_time": "2022-06-01T12:56:41.961216",
     "exception": false,
     "start_time": "2022-06-01T12:56:41.933040",
     "status": "completed"
    },
    "tags": []
   },
   "outputs": [
    {
     "name": "stdout",
     "output_type": "stream",
     "text": [
      "CPU times: user 6 µs, sys: 1 µs, total: 7 µs\n",
      "Wall time: 9.78 µs\n"
     ]
    }
   ],
   "source": [
    "%%time\n",
    "import datetime # ..."
   ]
  },
  {
   "cell_type": "markdown",
   "id": "d9289cbe",
   "metadata": {
    "papermill": {
     "duration": 0.018436,
     "end_time": "2022-06-01T12:56:41.998332",
     "exception": false,
     "start_time": "2022-06-01T12:56:41.979896",
     "status": "completed"
    },
    "tags": []
   },
   "source": [
    "---"
   ]
  },
  {
   "cell_type": "markdown",
   "id": "e32afc0f",
   "metadata": {
    "papermill": {
     "duration": 0.017918,
     "end_time": "2022-06-01T12:56:42.034571",
     "exception": false,
     "start_time": "2022-06-01T12:56:42.016653",
     "status": "completed"
    },
    "tags": []
   },
   "source": [
    "# 2.0 Setting the Notebook Parameters and Default Configuration..."
   ]
  },
  {
   "cell_type": "code",
   "execution_count": 3,
   "id": "d251fa1d",
   "metadata": {
    "execution": {
     "iopub.execute_input": "2022-06-01T12:56:42.072878Z",
     "iopub.status.busy": "2022-06-01T12:56:42.072208Z",
     "iopub.status.idle": "2022-06-01T12:56:42.077214Z",
     "shell.execute_reply": "2022-06-01T12:56:42.076469Z"
    },
    "papermill": {
     "duration": 0.026424,
     "end_time": "2022-06-01T12:56:42.079266",
     "exception": false,
     "start_time": "2022-06-01T12:56:42.052842",
     "status": "completed"
    },
    "tags": []
   },
   "outputs": [
    {
     "name": "stdout",
     "output_type": "stream",
     "text": [
      "CPU times: user 26 µs, sys: 3 µs, total: 29 µs\n",
      "Wall time: 32.7 µs\n"
     ]
    }
   ],
   "source": [
    "%%time\n",
    "# I like to disable my Notebook Warnings.\n",
    "import warnings\n",
    "warnings.filterwarnings('ignore')"
   ]
  },
  {
   "cell_type": "code",
   "execution_count": 4,
   "id": "b6b70ef3",
   "metadata": {
    "execution": {
     "iopub.execute_input": "2022-06-01T12:56:42.118438Z",
     "iopub.status.busy": "2022-06-01T12:56:42.117820Z",
     "iopub.status.idle": "2022-06-01T12:56:42.122676Z",
     "shell.execute_reply": "2022-06-01T12:56:42.121965Z"
    },
    "papermill": {
     "duration": 0.026253,
     "end_time": "2022-06-01T12:56:42.124846",
     "exception": false,
     "start_time": "2022-06-01T12:56:42.098593",
     "status": "completed"
    },
    "tags": []
   },
   "outputs": [
    {
     "name": "stdout",
     "output_type": "stream",
     "text": [
      "CPU times: user 3 µs, sys: 0 ns, total: 3 µs\n",
      "Wall time: 6.2 µs\n"
     ]
    }
   ],
   "source": [
    "%%time\n",
    "# Notebook Configuration...\n",
    "\n",
    "# Amount of data we want to load into the Model...\n",
    "DATA_ROWS = None\n",
    "# Dataframe, the amount of rows and cols to visualize...\n",
    "NROWS = 50\n",
    "NCOLS = 15\n",
    "# Main data location path...\n",
    "BASE_PATH = '...'"
   ]
  },
  {
   "cell_type": "code",
   "execution_count": 5,
   "id": "ed650859",
   "metadata": {
    "execution": {
     "iopub.execute_input": "2022-06-01T12:56:42.164181Z",
     "iopub.status.busy": "2022-06-01T12:56:42.163697Z",
     "iopub.status.idle": "2022-06-01T12:56:42.168542Z",
     "shell.execute_reply": "2022-06-01T12:56:42.167840Z"
    },
    "papermill": {
     "duration": 0.026732,
     "end_time": "2022-06-01T12:56:42.170955",
     "exception": false,
     "start_time": "2022-06-01T12:56:42.144223",
     "status": "completed"
    },
    "tags": []
   },
   "outputs": [
    {
     "name": "stdout",
     "output_type": "stream",
     "text": [
      "CPU times: user 74 µs, sys: 0 ns, total: 74 µs\n",
      "Wall time: 76.5 µs\n"
     ]
    }
   ],
   "source": [
    "%%time\n",
    "# Configure notebook display settings to only use 2 decimal places, tables look nicer.\n",
    "pd.options.display.float_format = '{:,.5f}'.format\n",
    "pd.set_option('display.max_columns', NCOLS) \n",
    "pd.set_option('display.max_rows', NROWS)"
   ]
  },
  {
   "cell_type": "markdown",
   "id": "6e293482",
   "metadata": {
    "papermill": {
     "duration": 0.018313,
     "end_time": "2022-06-01T12:56:42.208775",
     "exception": false,
     "start_time": "2022-06-01T12:56:42.190462",
     "status": "completed"
    },
    "tags": []
   },
   "source": [
    "---"
   ]
  },
  {
   "cell_type": "markdown",
   "id": "d3d7c22c",
   "metadata": {
    "papermill": {
     "duration": 0.018074,
     "end_time": "2022-06-01T12:56:42.245306",
     "exception": false,
     "start_time": "2022-06-01T12:56:42.227232",
     "status": "completed"
    },
    "tags": []
   },
   "source": [
    "# 3.0 Loading the Dataset Information (Using Feather)..."
   ]
  },
  {
   "cell_type": "code",
   "execution_count": 6,
   "id": "44007f78",
   "metadata": {
    "execution": {
     "iopub.execute_input": "2022-06-01T12:56:42.283691Z",
     "iopub.status.busy": "2022-06-01T12:56:42.283119Z",
     "iopub.status.idle": "2022-06-01T12:57:43.654239Z",
     "shell.execute_reply": "2022-06-01T12:57:43.653405Z"
    },
    "papermill": {
     "duration": 61.412174,
     "end_time": "2022-06-01T12:57:43.675763",
     "exception": false,
     "start_time": "2022-06-01T12:56:42.263589",
     "status": "completed"
    },
    "tags": []
   },
   "outputs": [
    {
     "name": "stdout",
     "output_type": "stream",
     "text": [
      "CPU times: user 25.5 s, sys: 10.9 s, total: 36.4 s\n",
      "Wall time: 1min 1s\n"
     ]
    }
   ],
   "source": [
    "%%time\n",
    "# Load the CSV information into a Pandas DataFrame...\n",
    "trn_data = pd.read_feather('../input/parquet-files-amexdefault-prediction/train_data.ftr')\n",
    "trn_lbls = pd.read_csv('/kaggle/input/amex-default-prediction/train_labels.csv').set_index('customer_ID')\n",
    "\n",
    "tst_data = pd.read_feather('../input/parquet-files-amexdefault-prediction/test_data.ftr')"
   ]
  },
  {
   "cell_type": "code",
   "execution_count": 7,
   "id": "83df5bc4",
   "metadata": {
    "execution": {
     "iopub.execute_input": "2022-06-01T12:57:43.723383Z",
     "iopub.status.busy": "2022-06-01T12:57:43.723084Z",
     "iopub.status.idle": "2022-06-01T12:57:46.446102Z",
     "shell.execute_reply": "2022-06-01T12:57:46.445086Z"
    },
    "papermill": {
     "duration": 2.748565,
     "end_time": "2022-06-01T12:57:46.448346",
     "exception": false,
     "start_time": "2022-06-01T12:57:43.699781",
     "status": "completed"
    },
    "tags": []
   },
   "outputs": [
    {
     "name": "stdout",
     "output_type": "stream",
     "text": [
      "CPU times: user 865 ms, sys: 675 ms, total: 1.54 s\n",
      "Wall time: 2.72 s\n"
     ]
    }
   ],
   "source": [
    "%%time\n",
    "sub = pd.read_csv('/kaggle/input/amex-default-prediction/sample_submission.csv')"
   ]
  },
  {
   "cell_type": "markdown",
   "id": "39a5eb71",
   "metadata": {
    "papermill": {
     "duration": 0.018464,
     "end_time": "2022-06-01T12:57:46.486671",
     "exception": false,
     "start_time": "2022-06-01T12:57:46.468207",
     "status": "completed"
    },
    "tags": []
   },
   "source": [
    "---"
   ]
  },
  {
   "cell_type": "markdown",
   "id": "a522de2a",
   "metadata": {
    "papermill": {
     "duration": 0.0186,
     "end_time": "2022-06-01T12:57:46.524101",
     "exception": false,
     "start_time": "2022-06-01T12:57:46.505501",
     "status": "completed"
    },
    "tags": []
   },
   "source": [
    "# 4.0 Exploring the Dataset, Quick EDA..."
   ]
  },
  {
   "cell_type": "code",
   "execution_count": 8,
   "id": "8c4eff04",
   "metadata": {
    "execution": {
     "iopub.execute_input": "2022-06-01T12:57:46.562689Z",
     "iopub.status.busy": "2022-06-01T12:57:46.562357Z",
     "iopub.status.idle": "2022-06-01T12:57:46.571700Z",
     "shell.execute_reply": "2022-06-01T12:57:46.570928Z"
    },
    "papermill": {
     "duration": 0.030635,
     "end_time": "2022-06-01T12:57:46.573456",
     "exception": false,
     "start_time": "2022-06-01T12:57:46.542821",
     "status": "completed"
    },
    "tags": []
   },
   "outputs": [
    {
     "name": "stdout",
     "output_type": "stream",
     "text": [
      "CPU times: user 16 µs, sys: 6 µs, total: 22 µs\n",
      "Wall time: 25.3 µs\n"
     ]
    },
    {
     "data": {
      "text/plain": [
       "(5531451, 190)"
      ]
     },
     "execution_count": 8,
     "metadata": {},
     "output_type": "execute_result"
    }
   ],
   "source": [
    "%%time\n",
    "# Explore the shape of the DataFrame...\n",
    "trn_data.shape"
   ]
  },
  {
   "cell_type": "code",
   "execution_count": 9,
   "id": "3a53ec26",
   "metadata": {
    "execution": {
     "iopub.execute_input": "2022-06-01T12:57:46.612190Z",
     "iopub.status.busy": "2022-06-01T12:57:46.611935Z",
     "iopub.status.idle": "2022-06-01T12:57:46.642837Z",
     "shell.execute_reply": "2022-06-01T12:57:46.641980Z"
    },
    "papermill": {
     "duration": 0.052227,
     "end_time": "2022-06-01T12:57:46.644494",
     "exception": false,
     "start_time": "2022-06-01T12:57:46.592267",
     "status": "completed"
    },
    "tags": []
   },
   "outputs": [
    {
     "name": "stdout",
     "output_type": "stream",
     "text": [
      "<class 'pandas.core.frame.DataFrame'>\n",
      "RangeIndex: 5531451 entries, 0 to 5531450\n",
      "Columns: 190 entries, customer_ID to D_145\n",
      "dtypes: category(11), float16(176), int64(1), object(2)\n",
      "memory usage: 2.0+ GB\n",
      "CPU times: user 15.6 ms, sys: 2.84 ms, total: 18.4 ms\n",
      "Wall time: 24.9 ms\n"
     ]
    }
   ],
   "source": [
    "%%time\n",
    "# Display simple information of the variables in the dataset...\n",
    "trn_data.info()"
   ]
  },
  {
   "cell_type": "code",
   "execution_count": 10,
   "id": "b8871950",
   "metadata": {
    "execution": {
     "iopub.execute_input": "2022-06-01T12:57:46.683595Z",
     "iopub.status.busy": "2022-06-01T12:57:46.683356Z",
     "iopub.status.idle": "2022-06-01T12:57:46.703954Z",
     "shell.execute_reply": "2022-06-01T12:57:46.702845Z"
    },
    "papermill": {
     "duration": 0.042685,
     "end_time": "2022-06-01T12:57:46.706452",
     "exception": false,
     "start_time": "2022-06-01T12:57:46.663767",
     "status": "completed"
    },
    "tags": []
   },
   "outputs": [
    {
     "name": "stdout",
     "output_type": "stream",
     "text": [
      "CPU times: user 207 µs, sys: 0 ns, total: 207 µs\n",
      "Wall time: 212 µs\n"
     ]
    },
    {
     "data": {
      "text/html": [
       "<div>\n",
       "<style scoped>\n",
       "    .dataframe tbody tr th:only-of-type {\n",
       "        vertical-align: middle;\n",
       "    }\n",
       "\n",
       "    .dataframe tbody tr th {\n",
       "        vertical-align: top;\n",
       "    }\n",
       "\n",
       "    .dataframe thead th {\n",
       "        text-align: right;\n",
       "    }\n",
       "</style>\n",
       "<table border=\"1\" class=\"dataframe\">\n",
       "  <thead>\n",
       "    <tr style=\"text-align: right;\">\n",
       "      <th></th>\n",
       "      <th>customer_ID</th>\n",
       "      <th>S_2</th>\n",
       "      <th>P_2</th>\n",
       "      <th>D_39</th>\n",
       "      <th>B_1</th>\n",
       "      <th>B_2</th>\n",
       "      <th>R_1</th>\n",
       "      <th>...</th>\n",
       "      <th>D_139</th>\n",
       "      <th>D_140</th>\n",
       "      <th>D_141</th>\n",
       "      <th>D_142</th>\n",
       "      <th>D_143</th>\n",
       "      <th>D_144</th>\n",
       "      <th>D_145</th>\n",
       "    </tr>\n",
       "  </thead>\n",
       "  <tbody>\n",
       "    <tr>\n",
       "      <th>0</th>\n",
       "      <td>0000099d6bd597052cdcda90ffabf56573fe9d7c79be5f...</td>\n",
       "      <td>2017-03-09</td>\n",
       "      <td>0.93848</td>\n",
       "      <td>0.00173</td>\n",
       "      <td>0.00873</td>\n",
       "      <td>1.00684</td>\n",
       "      <td>0.00922</td>\n",
       "      <td>...</td>\n",
       "      <td>0.00243</td>\n",
       "      <td>0.00371</td>\n",
       "      <td>0.00382</td>\n",
       "      <td>NaN</td>\n",
       "      <td>0.00057</td>\n",
       "      <td>0.00061</td>\n",
       "      <td>0.00267</td>\n",
       "    </tr>\n",
       "    <tr>\n",
       "      <th>1</th>\n",
       "      <td>0000099d6bd597052cdcda90ffabf56573fe9d7c79be5f...</td>\n",
       "      <td>2017-04-07</td>\n",
       "      <td>0.93652</td>\n",
       "      <td>0.00578</td>\n",
       "      <td>0.00492</td>\n",
       "      <td>1.00098</td>\n",
       "      <td>0.00615</td>\n",
       "      <td>...</td>\n",
       "      <td>0.00396</td>\n",
       "      <td>0.00317</td>\n",
       "      <td>0.00503</td>\n",
       "      <td>NaN</td>\n",
       "      <td>0.00957</td>\n",
       "      <td>0.00549</td>\n",
       "      <td>0.00922</td>\n",
       "    </tr>\n",
       "    <tr>\n",
       "      <th>2</th>\n",
       "      <td>0000099d6bd597052cdcda90ffabf56573fe9d7c79be5f...</td>\n",
       "      <td>2017-05-28</td>\n",
       "      <td>0.95410</td>\n",
       "      <td>0.09149</td>\n",
       "      <td>0.02165</td>\n",
       "      <td>1.00977</td>\n",
       "      <td>0.00682</td>\n",
       "      <td>...</td>\n",
       "      <td>0.00327</td>\n",
       "      <td>0.00733</td>\n",
       "      <td>0.00043</td>\n",
       "      <td>NaN</td>\n",
       "      <td>0.00343</td>\n",
       "      <td>0.00698</td>\n",
       "      <td>0.00260</td>\n",
       "    </tr>\n",
       "    <tr>\n",
       "      <th>3</th>\n",
       "      <td>0000099d6bd597052cdcda90ffabf56573fe9d7c79be5f...</td>\n",
       "      <td>2017-06-13</td>\n",
       "      <td>0.96045</td>\n",
       "      <td>0.00245</td>\n",
       "      <td>0.01369</td>\n",
       "      <td>1.00293</td>\n",
       "      <td>0.00137</td>\n",
       "      <td>...</td>\n",
       "      <td>0.00612</td>\n",
       "      <td>0.00452</td>\n",
       "      <td>0.00320</td>\n",
       "      <td>NaN</td>\n",
       "      <td>0.00842</td>\n",
       "      <td>0.00653</td>\n",
       "      <td>0.00960</td>\n",
       "    </tr>\n",
       "    <tr>\n",
       "      <th>4</th>\n",
       "      <td>0000099d6bd597052cdcda90ffabf56573fe9d7c79be5f...</td>\n",
       "      <td>2017-07-16</td>\n",
       "      <td>0.94727</td>\n",
       "      <td>0.00248</td>\n",
       "      <td>0.01519</td>\n",
       "      <td>1.00098</td>\n",
       "      <td>0.00761</td>\n",
       "      <td>...</td>\n",
       "      <td>0.00367</td>\n",
       "      <td>0.00494</td>\n",
       "      <td>0.00889</td>\n",
       "      <td>NaN</td>\n",
       "      <td>0.00167</td>\n",
       "      <td>0.00813</td>\n",
       "      <td>0.00983</td>\n",
       "    </tr>\n",
       "  </tbody>\n",
       "</table>\n",
       "<p>5 rows × 190 columns</p>\n",
       "</div>"
      ],
      "text/plain": [
       "                                         customer_ID         S_2     P_2  \\\n",
       "0  0000099d6bd597052cdcda90ffabf56573fe9d7c79be5f...  2017-03-09 0.93848   \n",
       "1  0000099d6bd597052cdcda90ffabf56573fe9d7c79be5f...  2017-04-07 0.93652   \n",
       "2  0000099d6bd597052cdcda90ffabf56573fe9d7c79be5f...  2017-05-28 0.95410   \n",
       "3  0000099d6bd597052cdcda90ffabf56573fe9d7c79be5f...  2017-06-13 0.96045   \n",
       "4  0000099d6bd597052cdcda90ffabf56573fe9d7c79be5f...  2017-07-16 0.94727   \n",
       "\n",
       "     D_39     B_1     B_2     R_1  ...   D_139   D_140   D_141  D_142   D_143  \\\n",
       "0 0.00173 0.00873 1.00684 0.00922  ... 0.00243 0.00371 0.00382    NaN 0.00057   \n",
       "1 0.00578 0.00492 1.00098 0.00615  ... 0.00396 0.00317 0.00503    NaN 0.00957   \n",
       "2 0.09149 0.02165 1.00977 0.00682  ... 0.00327 0.00733 0.00043    NaN 0.00343   \n",
       "3 0.00245 0.01369 1.00293 0.00137  ... 0.00612 0.00452 0.00320    NaN 0.00842   \n",
       "4 0.00248 0.01519 1.00098 0.00761  ... 0.00367 0.00494 0.00889    NaN 0.00167   \n",
       "\n",
       "    D_144   D_145  \n",
       "0 0.00061 0.00267  \n",
       "1 0.00549 0.00922  \n",
       "2 0.00698 0.00260  \n",
       "3 0.00653 0.00960  \n",
       "4 0.00813 0.00983  \n",
       "\n",
       "[5 rows x 190 columns]"
      ]
     },
     "execution_count": 10,
     "metadata": {},
     "output_type": "execute_result"
    }
   ],
   "source": [
    "%%time\n",
    "# Display the first few rows of the DataFrame...\n",
    "trn_data.head()"
   ]
  },
  {
   "cell_type": "code",
   "execution_count": 11,
   "id": "5d7fce2e",
   "metadata": {
    "execution": {
     "iopub.execute_input": "2022-06-01T12:57:46.746234Z",
     "iopub.status.busy": "2022-06-01T12:57:46.745987Z",
     "iopub.status.idle": "2022-06-01T12:57:47.481608Z",
     "shell.execute_reply": "2022-06-01T12:57:47.480312Z"
    },
    "papermill": {
     "duration": 0.758022,
     "end_time": "2022-06-01T12:57:47.483997",
     "exception": false,
     "start_time": "2022-06-01T12:57:46.725975",
     "status": "completed"
    },
    "tags": []
   },
   "outputs": [
    {
     "name": "stdout",
     "output_type": "stream",
     "text": [
      "CPU times: user 730 ms, sys: 1.76 ms, total: 732 ms\n",
      "Wall time: 729 ms\n"
     ]
    },
    {
     "data": {
      "text/plain": [
       "'2017-03-01'"
      ]
     },
     "execution_count": 11,
     "metadata": {},
     "output_type": "execute_result"
    }
   ],
   "source": [
    "%%time\n",
    "# Display the Min Date...\n",
    "trn_data['S_2'].min()"
   ]
  },
  {
   "cell_type": "code",
   "execution_count": 12,
   "id": "ebc59a30",
   "metadata": {
    "execution": {
     "iopub.execute_input": "2022-06-01T12:57:47.524884Z",
     "iopub.status.busy": "2022-06-01T12:57:47.524583Z",
     "iopub.status.idle": "2022-06-01T12:57:48.256505Z",
     "shell.execute_reply": "2022-06-01T12:57:48.255305Z"
    },
    "papermill": {
     "duration": 0.754725,
     "end_time": "2022-06-01T12:57:48.258862",
     "exception": false,
     "start_time": "2022-06-01T12:57:47.504137",
     "status": "completed"
    },
    "tags": []
   },
   "outputs": [
    {
     "name": "stdout",
     "output_type": "stream",
     "text": [
      "CPU times: user 721 ms, sys: 3.33 ms, total: 724 ms\n",
      "Wall time: 724 ms\n"
     ]
    },
    {
     "data": {
      "text/plain": [
       "'2018-03-31'"
      ]
     },
     "execution_count": 12,
     "metadata": {},
     "output_type": "execute_result"
    }
   ],
   "source": [
    "%%time\n",
    "# Display the Max Date...\n",
    "trn_data['S_2'].max()"
   ]
  },
  {
   "cell_type": "code",
   "execution_count": 13,
   "id": "c0e6e52f",
   "metadata": {
    "execution": {
     "iopub.execute_input": "2022-06-01T12:57:48.300108Z",
     "iopub.status.busy": "2022-06-01T12:57:48.299762Z",
     "iopub.status.idle": "2022-06-01T13:00:13.521880Z",
     "shell.execute_reply": "2022-06-01T13:00:13.521067Z"
    },
    "papermill": {
     "duration": 145.262911,
     "end_time": "2022-06-01T13:00:13.541987",
     "exception": false,
     "start_time": "2022-06-01T12:57:48.279076",
     "status": "completed"
    },
    "tags": []
   },
   "outputs": [
    {
     "name": "stdout",
     "output_type": "stream",
     "text": [
      "CPU times: user 2min 22s, sys: 2.61 s, total: 2min 24s\n",
      "Wall time: 2min 25s\n"
     ]
    },
    {
     "data": {
      "text/html": [
       "<div>\n",
       "<style scoped>\n",
       "    .dataframe tbody tr th:only-of-type {\n",
       "        vertical-align: middle;\n",
       "    }\n",
       "\n",
       "    .dataframe tbody tr th {\n",
       "        vertical-align: top;\n",
       "    }\n",
       "\n",
       "    .dataframe thead th {\n",
       "        text-align: right;\n",
       "    }\n",
       "</style>\n",
       "<table border=\"1\" class=\"dataframe\">\n",
       "  <thead>\n",
       "    <tr style=\"text-align: right;\">\n",
       "      <th></th>\n",
       "      <th>P_2</th>\n",
       "      <th>D_39</th>\n",
       "      <th>B_1</th>\n",
       "      <th>B_2</th>\n",
       "      <th>R_1</th>\n",
       "      <th>S_3</th>\n",
       "      <th>D_41</th>\n",
       "      <th>...</th>\n",
       "      <th>D_139</th>\n",
       "      <th>D_140</th>\n",
       "      <th>D_141</th>\n",
       "      <th>D_142</th>\n",
       "      <th>D_143</th>\n",
       "      <th>D_144</th>\n",
       "      <th>D_145</th>\n",
       "    </tr>\n",
       "  </thead>\n",
       "  <tbody>\n",
       "    <tr>\n",
       "      <th>count</th>\n",
       "      <td>5,485,466.00000</td>\n",
       "      <td>5,531,451.00000</td>\n",
       "      <td>5,531,451.00000</td>\n",
       "      <td>5,529,435.00000</td>\n",
       "      <td>5,531,451.00000</td>\n",
       "      <td>4,510,907.00000</td>\n",
       "      <td>5,529,435.00000</td>\n",
       "      <td>...</td>\n",
       "      <td>5,429,903.00000</td>\n",
       "      <td>5,490,819.00000</td>\n",
       "      <td>5,429,903.00000</td>\n",
       "      <td>944,408.00000</td>\n",
       "      <td>5,429,903.00000</td>\n",
       "      <td>5,490,724.00000</td>\n",
       "      <td>5,429,903.00000</td>\n",
       "    </tr>\n",
       "    <tr>\n",
       "      <th>mean</th>\n",
       "      <td>NaN</td>\n",
       "      <td>NaN</td>\n",
       "      <td>NaN</td>\n",
       "      <td>NaN</td>\n",
       "      <td>NaN</td>\n",
       "      <td>NaN</td>\n",
       "      <td>NaN</td>\n",
       "      <td>...</td>\n",
       "      <td>NaN</td>\n",
       "      <td>NaN</td>\n",
       "      <td>NaN</td>\n",
       "      <td>NaN</td>\n",
       "      <td>NaN</td>\n",
       "      <td>NaN</td>\n",
       "      <td>NaN</td>\n",
       "    </tr>\n",
       "    <tr>\n",
       "      <th>std</th>\n",
       "      <td>0.00000</td>\n",
       "      <td>0.00000</td>\n",
       "      <td>0.00000</td>\n",
       "      <td>0.00000</td>\n",
       "      <td>0.00000</td>\n",
       "      <td>0.00000</td>\n",
       "      <td>0.00000</td>\n",
       "      <td>...</td>\n",
       "      <td>0.00000</td>\n",
       "      <td>0.00000</td>\n",
       "      <td>0.00000</td>\n",
       "      <td>0.00000</td>\n",
       "      <td>0.00000</td>\n",
       "      <td>0.00000</td>\n",
       "      <td>0.00000</td>\n",
       "    </tr>\n",
       "    <tr>\n",
       "      <th>min</th>\n",
       "      <td>-0.45898</td>\n",
       "      <td>0.00000</td>\n",
       "      <td>-7.58984</td>\n",
       "      <td>0.00000</td>\n",
       "      <td>0.00000</td>\n",
       "      <td>-0.62695</td>\n",
       "      <td>0.00000</td>\n",
       "      <td>...</td>\n",
       "      <td>0.00000</td>\n",
       "      <td>0.00000</td>\n",
       "      <td>0.00000</td>\n",
       "      <td>-0.01454</td>\n",
       "      <td>0.00000</td>\n",
       "      <td>0.00000</td>\n",
       "      <td>0.00000</td>\n",
       "    </tr>\n",
       "    <tr>\n",
       "      <th>25%</th>\n",
       "      <td>0.48022</td>\n",
       "      <td>0.00453</td>\n",
       "      <td>0.00887</td>\n",
       "      <td>0.10535</td>\n",
       "      <td>0.00290</td>\n",
       "      <td>0.12732</td>\n",
       "      <td>0.00287</td>\n",
       "      <td>...</td>\n",
       "      <td>0.00303</td>\n",
       "      <td>0.00256</td>\n",
       "      <td>0.00303</td>\n",
       "      <td>0.19934</td>\n",
       "      <td>0.00303</td>\n",
       "      <td>0.00275</td>\n",
       "      <td>0.00303</td>\n",
       "    </tr>\n",
       "    <tr>\n",
       "      <th>50%</th>\n",
       "      <td>0.69434</td>\n",
       "      <td>0.00906</td>\n",
       "      <td>0.03134</td>\n",
       "      <td>0.81445</td>\n",
       "      <td>0.00578</td>\n",
       "      <td>0.16394</td>\n",
       "      <td>0.00574</td>\n",
       "      <td>...</td>\n",
       "      <td>0.00605</td>\n",
       "      <td>0.00511</td>\n",
       "      <td>0.00605</td>\n",
       "      <td>0.38208</td>\n",
       "      <td>0.00605</td>\n",
       "      <td>0.00551</td>\n",
       "      <td>0.00605</td>\n",
       "    </tr>\n",
       "    <tr>\n",
       "      <th>75%</th>\n",
       "      <td>0.86475</td>\n",
       "      <td>0.23669</td>\n",
       "      <td>0.12585</td>\n",
       "      <td>1.00195</td>\n",
       "      <td>0.00866</td>\n",
       "      <td>0.25806</td>\n",
       "      <td>0.00861</td>\n",
       "      <td>...</td>\n",
       "      <td>0.00908</td>\n",
       "      <td>0.00766</td>\n",
       "      <td>0.00908</td>\n",
       "      <td>0.55908</td>\n",
       "      <td>0.00908</td>\n",
       "      <td>0.00826</td>\n",
       "      <td>0.00908</td>\n",
       "    </tr>\n",
       "    <tr>\n",
       "      <th>max</th>\n",
       "      <td>1.00977</td>\n",
       "      <td>5.39062</td>\n",
       "      <td>1.32422</td>\n",
       "      <td>1.00977</td>\n",
       "      <td>3.25586</td>\n",
       "      <td>5.48438</td>\n",
       "      <td>8.99219</td>\n",
       "      <td>...</td>\n",
       "      <td>1.00977</td>\n",
       "      <td>1.00977</td>\n",
       "      <td>1.33984</td>\n",
       "      <td>2.22852</td>\n",
       "      <td>1.00977</td>\n",
       "      <td>1.34375</td>\n",
       "      <td>4.82812</td>\n",
       "    </tr>\n",
       "  </tbody>\n",
       "</table>\n",
       "<p>8 rows × 177 columns</p>\n",
       "</div>"
      ],
      "text/plain": [
       "                  P_2            D_39             B_1             B_2  \\\n",
       "count 5,485,466.00000 5,531,451.00000 5,531,451.00000 5,529,435.00000   \n",
       "mean              NaN             NaN             NaN             NaN   \n",
       "std           0.00000         0.00000         0.00000         0.00000   \n",
       "min          -0.45898         0.00000        -7.58984         0.00000   \n",
       "25%           0.48022         0.00453         0.00887         0.10535   \n",
       "50%           0.69434         0.00906         0.03134         0.81445   \n",
       "75%           0.86475         0.23669         0.12585         1.00195   \n",
       "max           1.00977         5.39062         1.32422         1.00977   \n",
       "\n",
       "                  R_1             S_3            D_41  ...           D_139  \\\n",
       "count 5,531,451.00000 4,510,907.00000 5,529,435.00000  ... 5,429,903.00000   \n",
       "mean              NaN             NaN             NaN  ...             NaN   \n",
       "std           0.00000         0.00000         0.00000  ...         0.00000   \n",
       "min           0.00000        -0.62695         0.00000  ...         0.00000   \n",
       "25%           0.00290         0.12732         0.00287  ...         0.00303   \n",
       "50%           0.00578         0.16394         0.00574  ...         0.00605   \n",
       "75%           0.00866         0.25806         0.00861  ...         0.00908   \n",
       "max           3.25586         5.48438         8.99219  ...         1.00977   \n",
       "\n",
       "                D_140           D_141         D_142           D_143  \\\n",
       "count 5,490,819.00000 5,429,903.00000 944,408.00000 5,429,903.00000   \n",
       "mean              NaN             NaN           NaN             NaN   \n",
       "std           0.00000         0.00000       0.00000         0.00000   \n",
       "min           0.00000         0.00000      -0.01454         0.00000   \n",
       "25%           0.00256         0.00303       0.19934         0.00303   \n",
       "50%           0.00511         0.00605       0.38208         0.00605   \n",
       "75%           0.00766         0.00908       0.55908         0.00908   \n",
       "max           1.00977         1.33984       2.22852         1.00977   \n",
       "\n",
       "                D_144           D_145  \n",
       "count 5,490,724.00000 5,429,903.00000  \n",
       "mean              NaN             NaN  \n",
       "std           0.00000         0.00000  \n",
       "min           0.00000         0.00000  \n",
       "25%           0.00275         0.00303  \n",
       "50%           0.00551         0.00605  \n",
       "75%           0.00826         0.00908  \n",
       "max           1.34375         4.82812  \n",
       "\n",
       "[8 rows x 177 columns]"
      ]
     },
     "execution_count": 13,
     "metadata": {},
     "output_type": "execute_result"
    }
   ],
   "source": [
    "%%time\n",
    "# Generate a simple statistical summary of the DataFrame, Only Numerical...\n",
    "trn_data.describe()"
   ]
  },
  {
   "cell_type": "code",
   "execution_count": 14,
   "id": "bacfdb6d",
   "metadata": {
    "execution": {
     "iopub.execute_input": "2022-06-01T13:00:13.583793Z",
     "iopub.status.busy": "2022-06-01T13:00:13.583498Z",
     "iopub.status.idle": "2022-06-01T13:00:18.863761Z",
     "shell.execute_reply": "2022-06-01T13:00:18.862911Z"
    },
    "papermill": {
     "duration": 5.303238,
     "end_time": "2022-06-01T13:00:18.866000",
     "exception": false,
     "start_time": "2022-06-01T13:00:13.562762",
     "status": "completed"
    },
    "tags": []
   },
   "outputs": [
    {
     "name": "stdout",
     "output_type": "stream",
     "text": [
      "CPU times: user 5.08 s, sys: 189 ms, total: 5.27 s\n",
      "Wall time: 5.27 s\n"
     ]
    },
    {
     "data": {
      "text/plain": [
       "160858968"
      ]
     },
     "execution_count": 14,
     "metadata": {},
     "output_type": "execute_result"
    }
   ],
   "source": [
    "%%time\n",
    "# Calculates the total number of missing values...\n",
    "trn_data.isnull().sum().sum()"
   ]
  },
  {
   "cell_type": "code",
   "execution_count": 15,
   "id": "c948b45c",
   "metadata": {
    "execution": {
     "iopub.execute_input": "2022-06-01T13:00:18.909144Z",
     "iopub.status.busy": "2022-06-01T13:00:18.908841Z",
     "iopub.status.idle": "2022-06-01T13:00:24.931793Z",
     "shell.execute_reply": "2022-06-01T13:00:24.930976Z"
    },
    "papermill": {
     "duration": 6.046649,
     "end_time": "2022-06-01T13:00:24.933654",
     "exception": false,
     "start_time": "2022-06-01T13:00:18.887005",
     "status": "completed"
    },
    "tags": []
   },
   "outputs": [
    {
     "name": "stdout",
     "output_type": "stream",
     "text": [
      "CPU times: user 5.79 s, sys: 190 ms, total: 5.98 s\n",
      "Wall time: 6.01 s\n"
     ]
    },
    {
     "data": {
      "text/plain": [
       "customer_ID          0\n",
       "S_2                  0\n",
       "P_2              45985\n",
       "D_39                 0\n",
       "B_1                  0\n",
       "                ...   \n",
       "D_141           101548\n",
       "D_142          4587043\n",
       "D_143           101548\n",
       "D_144            40727\n",
       "D_145           101548\n",
       "Length: 190, dtype: int64"
      ]
     },
     "execution_count": 15,
     "metadata": {},
     "output_type": "execute_result"
    }
   ],
   "source": [
    "%%time\n",
    "# Display the number of missing values by variable...\n",
    "trn_data.isnull().sum()"
   ]
  },
  {
   "cell_type": "code",
   "execution_count": 16,
   "id": "49999e4e",
   "metadata": {
    "execution": {
     "iopub.execute_input": "2022-06-01T13:00:24.980556Z",
     "iopub.status.busy": "2022-06-01T13:00:24.980122Z",
     "iopub.status.idle": "2022-06-01T13:00:39.625837Z",
     "shell.execute_reply": "2022-06-01T13:00:39.624409Z"
    },
    "papermill": {
     "duration": 14.671504,
     "end_time": "2022-06-01T13:00:39.628246",
     "exception": false,
     "start_time": "2022-06-01T13:00:24.956742",
     "status": "completed"
    },
    "tags": []
   },
   "outputs": [
    {
     "name": "stdout",
     "output_type": "stream",
     "text": [
      "CPU times: user 13.4 s, sys: 1.19 s, total: 14.6 s\n",
      "Wall time: 14.6 s\n"
     ]
    },
    {
     "data": {
      "text/plain": [
       "customer_ID    458913\n",
       "S_2               396\n",
       "P_2             17205\n",
       "D_39            11242\n",
       "B_1             22627\n",
       "                ...  \n",
       "D_141            9055\n",
       "D_142           14075\n",
       "D_143            8491\n",
       "D_144           15412\n",
       "D_145            9228\n",
       "Length: 190, dtype: int64"
      ]
     },
     "execution_count": 16,
     "metadata": {},
     "output_type": "execute_result"
    }
   ],
   "source": [
    "%%time\n",
    "# Display the number of unique values for each variable...\n",
    "trn_data.nunique()"
   ]
  },
  {
   "cell_type": "code",
   "execution_count": 17,
   "id": "df3301cc",
   "metadata": {
    "execution": {
     "iopub.execute_input": "2022-06-01T13:00:39.672564Z",
     "iopub.status.busy": "2022-06-01T13:00:39.672290Z",
     "iopub.status.idle": "2022-06-01T13:00:54.309782Z",
     "shell.execute_reply": "2022-06-01T13:00:54.309075Z"
    },
    "papermill": {
     "duration": 14.662369,
     "end_time": "2022-06-01T13:00:54.312136",
     "exception": false,
     "start_time": "2022-06-01T13:00:39.649767",
     "status": "completed"
    },
    "tags": []
   },
   "outputs": [
    {
     "name": "stdout",
     "output_type": "stream",
     "text": [
      "CPU times: user 13.4 s, sys: 1.2 s, total: 14.6 s\n",
      "Wall time: 14.6 s\n"
     ]
    },
    {
     "data": {
      "text/plain": [
       "D_87                1\n",
       "B_31                2\n",
       "D_114               2\n",
       "D_116               2\n",
       "D_120               2\n",
       "                ...  \n",
       "B_15            23154\n",
       "B_37            23906\n",
       "B_25            24710\n",
       "B_14            25845\n",
       "customer_ID    458913\n",
       "Length: 190, dtype: int64"
      ]
     },
     "execution_count": 17,
     "metadata": {},
     "output_type": "execute_result"
    }
   ],
   "source": [
    "%%time\n",
    "# Display the number of unique values for each variable, sorted by quantity...\n",
    "trn_data.nunique().sort_values(ascending = True)"
   ]
  },
  {
   "cell_type": "markdown",
   "id": "c96da59b",
   "metadata": {
    "papermill": {
     "duration": 0.032097,
     "end_time": "2022-06-01T13:00:54.377500",
     "exception": false,
     "start_time": "2022-06-01T13:00:54.345403",
     "status": "completed"
    },
    "tags": []
   },
   "source": [
    "---"
   ]
  },
  {
   "cell_type": "markdown",
   "id": "136d86cf",
   "metadata": {
    "papermill": {
     "duration": 0.030143,
     "end_time": "2022-06-01T13:00:54.439511",
     "exception": false,
     "start_time": "2022-06-01T13:00:54.409368",
     "status": "completed"
    },
    "tags": []
   },
   "source": [
    "# 5.0 Understanding the Target Variable..."
   ]
  },
  {
   "cell_type": "code",
   "execution_count": 18,
   "id": "1b624dc7",
   "metadata": {
    "execution": {
     "iopub.execute_input": "2022-06-01T13:00:54.505587Z",
     "iopub.status.busy": "2022-06-01T13:00:54.505166Z",
     "iopub.status.idle": "2022-06-01T13:00:54.516097Z",
     "shell.execute_reply": "2022-06-01T13:00:54.515368Z"
    },
    "papermill": {
     "duration": 0.047041,
     "end_time": "2022-06-01T13:00:54.518323",
     "exception": false,
     "start_time": "2022-06-01T13:00:54.471282",
     "status": "completed"
    },
    "tags": []
   },
   "outputs": [
    {
     "name": "stdout",
     "output_type": "stream",
     "text": [
      "CPU times: user 22 µs, sys: 2 µs, total: 24 µs\n",
      "Wall time: 29.3 µs\n"
     ]
    },
    {
     "data": {
      "text/plain": [
       "(458913, 1)"
      ]
     },
     "execution_count": 18,
     "metadata": {},
     "output_type": "execute_result"
    }
   ],
   "source": [
    "%%time\n",
    "# Explore the shape of the DataFrame...\n",
    "trn_lbls.shape"
   ]
  },
  {
   "cell_type": "code",
   "execution_count": 19,
   "id": "fcb5eb2a",
   "metadata": {
    "execution": {
     "iopub.execute_input": "2022-06-01T13:00:54.584782Z",
     "iopub.status.busy": "2022-06-01T13:00:54.584435Z",
     "iopub.status.idle": "2022-06-01T13:00:54.598042Z",
     "shell.execute_reply": "2022-06-01T13:00:54.596581Z"
    },
    "papermill": {
     "duration": 0.050674,
     "end_time": "2022-06-01T13:00:54.601115",
     "exception": false,
     "start_time": "2022-06-01T13:00:54.550441",
     "status": "completed"
    },
    "tags": []
   },
   "outputs": [
    {
     "name": "stdout",
     "output_type": "stream",
     "text": [
      "<class 'pandas.core.frame.DataFrame'>\n",
      "Index: 458913 entries, 0000099d6bd597052cdcda90ffabf56573fe9d7c79be5fbac11a8ed792feb62a to fffff1d38b785cef84adeace64f8f83db3a0c31e8d92eaba8b115f71cab04681\n",
      "Data columns (total 1 columns):\n",
      " #   Column  Non-Null Count   Dtype\n",
      "---  ------  --------------   -----\n",
      " 0   target  458913 non-null  int64\n",
      "dtypes: int64(1)\n",
      "memory usage: 7.0+ MB\n",
      "CPU times: user 8.5 ms, sys: 0 ns, total: 8.5 ms\n",
      "Wall time: 8.46 ms\n"
     ]
    }
   ],
   "source": [
    "%%time\n",
    "# Display simple information of the variables in the dataset...\n",
    "trn_lbls.info()"
   ]
  },
  {
   "cell_type": "code",
   "execution_count": 20,
   "id": "3b76f749",
   "metadata": {
    "execution": {
     "iopub.execute_input": "2022-06-01T13:00:54.677528Z",
     "iopub.status.busy": "2022-06-01T13:00:54.677245Z",
     "iopub.status.idle": "2022-06-01T13:00:54.690130Z",
     "shell.execute_reply": "2022-06-01T13:00:54.689404Z"
    },
    "papermill": {
     "duration": 0.053186,
     "end_time": "2022-06-01T13:00:54.694788",
     "exception": false,
     "start_time": "2022-06-01T13:00:54.641602",
     "status": "completed"
    },
    "tags": []
   },
   "outputs": [
    {
     "name": "stdout",
     "output_type": "stream",
     "text": [
      "CPU times: user 4.56 ms, sys: 47 µs, total: 4.61 ms\n",
      "Wall time: 4.94 ms\n"
     ]
    },
    {
     "data": {
      "text/plain": [
       "0    340085\n",
       "1    118828\n",
       "Name: target, dtype: int64"
      ]
     },
     "execution_count": 20,
     "metadata": {},
     "output_type": "execute_result"
    }
   ],
   "source": [
    "%%time\n",
    "# Check how well balanced is the dataset\n",
    "trn_lbls['target'].value_counts()"
   ]
  },
  {
   "cell_type": "code",
   "execution_count": 21,
   "id": "7b5a69a0",
   "metadata": {
    "execution": {
     "iopub.execute_input": "2022-06-01T13:00:54.766018Z",
     "iopub.status.busy": "2022-06-01T13:00:54.765690Z",
     "iopub.status.idle": "2022-06-01T13:00:54.793277Z",
     "shell.execute_reply": "2022-06-01T13:00:54.792505Z"
    },
    "papermill": {
     "duration": 0.065875,
     "end_time": "2022-06-01T13:00:54.795787",
     "exception": false,
     "start_time": "2022-06-01T13:00:54.729912",
     "status": "completed"
    },
    "tags": []
   },
   "outputs": [
    {
     "name": "stdout",
     "output_type": "stream",
     "text": [
      "CPU times: user 14.8 ms, sys: 0 ns, total: 14.8 ms\n",
      "Wall time: 17 ms\n"
     ]
    },
    {
     "data": {
      "text/plain": [
       "count   458,913.00000\n",
       "mean          0.25893\n",
       "std           0.43805\n",
       "min           0.00000\n",
       "25%           0.00000\n",
       "50%           0.00000\n",
       "75%           1.00000\n",
       "max           1.00000\n",
       "Name: target, dtype: float64"
      ]
     },
     "execution_count": 21,
     "metadata": {},
     "output_type": "execute_result"
    }
   ],
   "source": [
    "%%time\n",
    "# Check some statistics on the target variable\n",
    "trn_lbls['target'].describe()"
   ]
  },
  {
   "cell_type": "markdown",
   "id": "f9b0551b",
   "metadata": {
    "papermill": {
     "duration": 0.036623,
     "end_time": "2022-06-01T13:00:54.869828",
     "exception": false,
     "start_time": "2022-06-01T13:00:54.833205",
     "status": "completed"
    },
    "tags": []
   },
   "source": [
    "---"
   ]
  },
  {
   "cell_type": "markdown",
   "id": "af1114d3",
   "metadata": {
    "papermill": {
     "duration": 0.037188,
     "end_time": "2022-06-01T13:00:54.944897",
     "exception": false,
     "start_time": "2022-06-01T13:00:54.907709",
     "status": "completed"
    },
    "tags": []
   },
   "source": [
    "# 6.0 Structuring Data for the Model (Aggreations and More)"
   ]
  },
  {
   "cell_type": "markdown",
   "id": "60886b88",
   "metadata": {
    "papermill": {
     "duration": 0.03606,
     "end_time": "2022-06-01T13:00:55.019257",
     "exception": false,
     "start_time": "2022-06-01T13:00:54.983197",
     "status": "completed"
    },
    "tags": []
   },
   "source": [
    "## 6.1 Training Dataset..."
   ]
  },
  {
   "cell_type": "code",
   "execution_count": 22,
   "id": "19bee2b0",
   "metadata": {
    "execution": {
     "iopub.execute_input": "2022-06-01T13:00:55.094506Z",
     "iopub.status.busy": "2022-06-01T13:00:55.094055Z",
     "iopub.status.idle": "2022-06-01T13:00:55.099264Z",
     "shell.execute_reply": "2022-06-01T13:00:55.098578Z"
    },
    "papermill": {
     "duration": 0.048341,
     "end_time": "2022-06-01T13:00:55.104387",
     "exception": false,
     "start_time": "2022-06-01T13:00:55.056046",
     "status": "completed"
    },
    "tags": []
   },
   "outputs": [
    {
     "name": "stdout",
     "output_type": "stream",
     "text": [
      "CPU times: user 5 µs, sys: 1 µs, total: 6 µs\n",
      "Wall time: 9.54 µs\n"
     ]
    }
   ],
   "source": [
    "%%time\n",
    "# We have 458913 customers. and we have 458913 train labels..."
   ]
  },
  {
   "cell_type": "code",
   "execution_count": 23,
   "id": "3d717607",
   "metadata": {
    "execution": {
     "iopub.execute_input": "2022-06-01T13:00:55.177852Z",
     "iopub.status.busy": "2022-06-01T13:00:55.177505Z",
     "iopub.status.idle": "2022-06-01T13:00:56.795443Z",
     "shell.execute_reply": "2022-06-01T13:00:56.794489Z"
    },
    "papermill": {
     "duration": 1.657024,
     "end_time": "2022-06-01T13:00:56.797531",
     "exception": false,
     "start_time": "2022-06-01T13:00:55.140507",
     "status": "completed"
    },
    "tags": []
   },
   "outputs": [
    {
     "name": "stdout",
     "output_type": "stream",
     "text": [
      "CPU times: user 1.5 s, sys: 92.4 ms, total: 1.59 s\n",
      "Wall time: 1.61 s\n"
     ]
    }
   ],
   "source": [
    "%%time\n",
    "# Calculates the amount of information by costumer or records available...\n",
    "trn_num_statements = trn_data.groupby('customer_ID').size().sort_index()"
   ]
  },
  {
   "cell_type": "code",
   "execution_count": 24,
   "id": "8b487722",
   "metadata": {
    "execution": {
     "iopub.execute_input": "2022-06-01T13:00:56.842011Z",
     "iopub.status.busy": "2022-06-01T13:00:56.841677Z",
     "iopub.status.idle": "2022-06-01T13:00:56.914927Z",
     "shell.execute_reply": "2022-06-01T13:00:56.913869Z"
    },
    "papermill": {
     "duration": 0.09782,
     "end_time": "2022-06-01T13:00:56.917315",
     "exception": false,
     "start_time": "2022-06-01T13:00:56.819495",
     "status": "completed"
    },
    "tags": []
   },
   "outputs": [
    {
     "name": "stdout",
     "output_type": "stream",
     "text": [
      "CPU times: user 3 µs, sys: 0 ns, total: 3 µs\n",
      "Wall time: 5.72 µs\n"
     ]
    },
    {
     "data": {
      "text/plain": [
       "customer_ID\n",
       "0000099d6bd597052cdcda90ffabf56573fe9d7c79be5fbac11a8ed792feb62a    13\n",
       "00000fd6641609c6ece5454664794f0340ad84dddce9a267a310b5ae68e9d8e5    13\n",
       "00001b22f846c82c51f6e3958ccd81970162bae8b007e80662ef27519fcc18c1    13\n",
       "000041bdba6ecadd89a52d11886e8eaaec9325906c9723355abb5ca523658edc    13\n",
       "00007889e4fcd2614b6cbe7f8f3d2e5c728eca32d9eb8ad51ca8b8c4a24cefed    13\n",
       "                                                                    ..\n",
       "ffff41c8a52833b56430603969b9ca48d208e7c192c6a4081a6acc28cf4f8af7    13\n",
       "ffff518bb2075e4816ee3fe9f3b152c57fc0e6f01bf7fdd3e5b57cfcbee30286    13\n",
       "ffff9984b999fccb2b6127635ed0736dda94e544e67e026eee4d20f680639ff6    13\n",
       "ffffa5c46bc8de74f5a4554e74e239c8dee6b9baf388145b2c3d01967fcce461    13\n",
       "fffff1d38b785cef84adeace64f8f83db3a0c31e8d92eaba8b115f71cab04681    13\n",
       "Length: 458913, dtype: int64"
      ]
     },
     "execution_count": 24,
     "metadata": {},
     "output_type": "execute_result"
    }
   ],
   "source": [
    "%%time\n",
    "# Review some of the information created...\n",
    "trn_num_statements"
   ]
  },
  {
   "cell_type": "code",
   "execution_count": 25,
   "id": "ecac3e71",
   "metadata": {
    "execution": {
     "iopub.execute_input": "2022-06-01T13:00:56.962716Z",
     "iopub.status.busy": "2022-06-01T13:00:56.962031Z",
     "iopub.status.idle": "2022-06-01T13:00:59.770093Z",
     "shell.execute_reply": "2022-06-01T13:00:59.768528Z"
    },
    "papermill": {
     "duration": 2.833485,
     "end_time": "2022-06-01T13:00:59.772886",
     "exception": false,
     "start_time": "2022-06-01T13:00:56.939401",
     "status": "completed"
    },
    "tags": []
   },
   "outputs": [
    {
     "name": "stdout",
     "output_type": "stream",
     "text": [
      "CPU times: user 2.19 s, sys: 610 ms, total: 2.8 s\n",
      "Wall time: 2.8 s\n"
     ]
    }
   ],
   "source": [
    "%%time\n",
    "# Create a new dataset based on aggregated information\n",
    "trn_agg_data = (trn_data\n",
    "                .groupby('customer_ID')\n",
    "                .tail(1)\n",
    "                .set_index('customer_ID', drop=True)\n",
    "                .sort_index()\n",
    "                .drop(['S_2'], axis='columns'))\n",
    "\n",
    "# Merge the labels from the labels dataframe\n",
    "trn_agg_data['target'] = trn_lbls.target\n",
    "trn_agg_data['num_statements'] = trn_num_statements\n",
    "\n",
    "trn_agg_data.reset_index(inplace = True, drop = True) # forget the customer_IDs"
   ]
  },
  {
   "cell_type": "code",
   "execution_count": 26,
   "id": "27b54274",
   "metadata": {
    "execution": {
     "iopub.execute_input": "2022-06-01T13:00:59.823921Z",
     "iopub.status.busy": "2022-06-01T13:00:59.823620Z",
     "iopub.status.idle": "2022-06-01T13:00:59.839837Z",
     "shell.execute_reply": "2022-06-01T13:00:59.838568Z"
    },
    "papermill": {
     "duration": 0.043906,
     "end_time": "2022-06-01T13:00:59.842128",
     "exception": false,
     "start_time": "2022-06-01T13:00:59.798222",
     "status": "completed"
    },
    "tags": []
   },
   "outputs": [
    {
     "name": "stdout",
     "output_type": "stream",
     "text": [
      "CPU times: user 184 µs, sys: 15 µs, total: 199 µs\n",
      "Wall time: 203 µs\n"
     ]
    },
    {
     "data": {
      "text/html": [
       "<div>\n",
       "<style scoped>\n",
       "    .dataframe tbody tr th:only-of-type {\n",
       "        vertical-align: middle;\n",
       "    }\n",
       "\n",
       "    .dataframe tbody tr th {\n",
       "        vertical-align: top;\n",
       "    }\n",
       "\n",
       "    .dataframe thead th {\n",
       "        text-align: right;\n",
       "    }\n",
       "</style>\n",
       "<table border=\"1\" class=\"dataframe\">\n",
       "  <thead>\n",
       "    <tr style=\"text-align: right;\">\n",
       "      <th></th>\n",
       "      <th>P_2</th>\n",
       "      <th>D_39</th>\n",
       "      <th>B_1</th>\n",
       "      <th>B_2</th>\n",
       "      <th>R_1</th>\n",
       "      <th>S_3</th>\n",
       "      <th>D_41</th>\n",
       "      <th>...</th>\n",
       "      <th>D_141</th>\n",
       "      <th>D_142</th>\n",
       "      <th>D_143</th>\n",
       "      <th>D_144</th>\n",
       "      <th>D_145</th>\n",
       "      <th>target</th>\n",
       "      <th>num_statements</th>\n",
       "    </tr>\n",
       "  </thead>\n",
       "  <tbody>\n",
       "    <tr>\n",
       "      <th>0</th>\n",
       "      <td>0.93457</td>\n",
       "      <td>0.00912</td>\n",
       "      <td>0.00938</td>\n",
       "      <td>1.00781</td>\n",
       "      <td>0.00610</td>\n",
       "      <td>0.13501</td>\n",
       "      <td>0.00160</td>\n",
       "      <td>...</td>\n",
       "      <td>0.00508</td>\n",
       "      <td>NaN</td>\n",
       "      <td>0.00581</td>\n",
       "      <td>0.00297</td>\n",
       "      <td>0.00853</td>\n",
       "      <td>0</td>\n",
       "      <td>13</td>\n",
       "    </tr>\n",
       "    <tr>\n",
       "      <th>1</th>\n",
       "      <td>0.88037</td>\n",
       "      <td>0.17810</td>\n",
       "      <td>0.03470</td>\n",
       "      <td>1.00391</td>\n",
       "      <td>0.00691</td>\n",
       "      <td>0.16553</td>\n",
       "      <td>0.00555</td>\n",
       "      <td>...</td>\n",
       "      <td>0.00787</td>\n",
       "      <td>NaN</td>\n",
       "      <td>0.00328</td>\n",
       "      <td>0.00317</td>\n",
       "      <td>0.00851</td>\n",
       "      <td>0</td>\n",
       "      <td>13</td>\n",
       "    </tr>\n",
       "    <tr>\n",
       "      <th>2</th>\n",
       "      <td>0.88086</td>\n",
       "      <td>0.00970</td>\n",
       "      <td>0.00428</td>\n",
       "      <td>0.81250</td>\n",
       "      <td>0.00645</td>\n",
       "      <td>NaN</td>\n",
       "      <td>0.00380</td>\n",
       "      <td>...</td>\n",
       "      <td>0.00096</td>\n",
       "      <td>NaN</td>\n",
       "      <td>0.00220</td>\n",
       "      <td>0.00083</td>\n",
       "      <td>0.00344</td>\n",
       "      <td>0</td>\n",
       "      <td>13</td>\n",
       "    </tr>\n",
       "    <tr>\n",
       "      <th>3</th>\n",
       "      <td>0.62158</td>\n",
       "      <td>0.00108</td>\n",
       "      <td>0.01257</td>\n",
       "      <td>1.00586</td>\n",
       "      <td>0.00783</td>\n",
       "      <td>0.28784</td>\n",
       "      <td>0.00453</td>\n",
       "      <td>...</td>\n",
       "      <td>0.00190</td>\n",
       "      <td>NaN</td>\n",
       "      <td>0.00819</td>\n",
       "      <td>0.00556</td>\n",
       "      <td>0.00298</td>\n",
       "      <td>0</td>\n",
       "      <td>13</td>\n",
       "    </tr>\n",
       "    <tr>\n",
       "      <th>4</th>\n",
       "      <td>0.87207</td>\n",
       "      <td>0.00557</td>\n",
       "      <td>0.00768</td>\n",
       "      <td>0.81592</td>\n",
       "      <td>0.00125</td>\n",
       "      <td>NaN</td>\n",
       "      <td>0.00023</td>\n",
       "      <td>...</td>\n",
       "      <td>0.00576</td>\n",
       "      <td>NaN</td>\n",
       "      <td>0.00816</td>\n",
       "      <td>0.00694</td>\n",
       "      <td>0.00090</td>\n",
       "      <td>0</td>\n",
       "      <td>13</td>\n",
       "    </tr>\n",
       "  </tbody>\n",
       "</table>\n",
       "<p>5 rows × 190 columns</p>\n",
       "</div>"
      ],
      "text/plain": [
       "      P_2    D_39     B_1     B_2     R_1     S_3    D_41  ...   D_141  D_142  \\\n",
       "0 0.93457 0.00912 0.00938 1.00781 0.00610 0.13501 0.00160  ... 0.00508    NaN   \n",
       "1 0.88037 0.17810 0.03470 1.00391 0.00691 0.16553 0.00555  ... 0.00787    NaN   \n",
       "2 0.88086 0.00970 0.00428 0.81250 0.00645     NaN 0.00380  ... 0.00096    NaN   \n",
       "3 0.62158 0.00108 0.01257 1.00586 0.00783 0.28784 0.00453  ... 0.00190    NaN   \n",
       "4 0.87207 0.00557 0.00768 0.81592 0.00125     NaN 0.00023  ... 0.00576    NaN   \n",
       "\n",
       "    D_143   D_144   D_145  target  num_statements  \n",
       "0 0.00581 0.00297 0.00853       0              13  \n",
       "1 0.00328 0.00317 0.00851       0              13  \n",
       "2 0.00220 0.00083 0.00344       0              13  \n",
       "3 0.00819 0.00556 0.00298       0              13  \n",
       "4 0.00816 0.00694 0.00090       0              13  \n",
       "\n",
       "[5 rows x 190 columns]"
      ]
     },
     "execution_count": 26,
     "metadata": {},
     "output_type": "execute_result"
    }
   ],
   "source": [
    "%%time\n",
    "trn_agg_data.head()"
   ]
  },
  {
   "cell_type": "markdown",
   "id": "b5517ba0",
   "metadata": {
    "papermill": {
     "duration": 0.021726,
     "end_time": "2022-06-01T13:00:59.886473",
     "exception": false,
     "start_time": "2022-06-01T13:00:59.864747",
     "status": "completed"
    },
    "tags": []
   },
   "source": [
    "---"
   ]
  },
  {
   "cell_type": "markdown",
   "id": "5b75b67a",
   "metadata": {
    "papermill": {
     "duration": 0.021475,
     "end_time": "2022-06-01T13:00:59.929942",
     "exception": false,
     "start_time": "2022-06-01T13:00:59.908467",
     "status": "completed"
    },
    "tags": []
   },
   "source": [
    "## 6.2 Test Dataset..."
   ]
  },
  {
   "cell_type": "code",
   "execution_count": 27,
   "id": "8d85e25a",
   "metadata": {
    "execution": {
     "iopub.execute_input": "2022-06-01T13:00:59.976056Z",
     "iopub.status.busy": "2022-06-01T13:00:59.975125Z",
     "iopub.status.idle": "2022-06-01T13:01:02.796826Z",
     "shell.execute_reply": "2022-06-01T13:01:02.795466Z"
    },
    "papermill": {
     "duration": 2.847879,
     "end_time": "2022-06-01T13:01:02.799386",
     "exception": false,
     "start_time": "2022-06-01T13:00:59.951507",
     "status": "completed"
    },
    "tags": []
   },
   "outputs": [
    {
     "name": "stdout",
     "output_type": "stream",
     "text": [
      "CPU times: user 2.65 s, sys: 169 ms, total: 2.82 s\n",
      "Wall time: 2.82 s\n"
     ]
    }
   ],
   "source": [
    "%%time\n",
    "# Calculates the amount of information by costumer or records available...\n",
    "tst_num_statements = tst_data.groupby('customer_ID').size().sort_index()"
   ]
  },
  {
   "cell_type": "code",
   "execution_count": 28,
   "id": "2abb1adf",
   "metadata": {
    "execution": {
     "iopub.execute_input": "2022-06-01T13:01:02.846603Z",
     "iopub.status.busy": "2022-06-01T13:01:02.845957Z",
     "iopub.status.idle": "2022-06-01T13:01:08.768838Z",
     "shell.execute_reply": "2022-06-01T13:01:08.767151Z"
    },
    "papermill": {
     "duration": 5.948326,
     "end_time": "2022-06-01T13:01:08.771269",
     "exception": false,
     "start_time": "2022-06-01T13:01:02.822943",
     "status": "completed"
    },
    "tags": []
   },
   "outputs": [
    {
     "name": "stdout",
     "output_type": "stream",
     "text": [
      "CPU times: user 4.64 s, sys: 1.24 s, total: 5.88 s\n",
      "Wall time: 5.92 s\n"
     ]
    }
   ],
   "source": [
    "%%time\n",
    "# Create a new dataset based on aggregated information\n",
    "tst_agg_data = (tst_data\n",
    "                .groupby('customer_ID')\n",
    "                .tail(1)\n",
    "                .set_index('customer_ID', drop=True)\n",
    "                .sort_index()\n",
    "                .drop(['S_2'], axis='columns'))\n",
    "\n",
    "# Merge the labels from the labels dataframe\n",
    "tst_agg_data['num_statements'] = tst_num_statements\n",
    "\n",
    "tst_agg_data.reset_index(inplace = True, drop = True) # forget the customer_IDs"
   ]
  },
  {
   "cell_type": "code",
   "execution_count": 29,
   "id": "6391f90e",
   "metadata": {
    "execution": {
     "iopub.execute_input": "2022-06-01T13:01:08.821421Z",
     "iopub.status.busy": "2022-06-01T13:01:08.821113Z",
     "iopub.status.idle": "2022-06-01T13:01:08.841376Z",
     "shell.execute_reply": "2022-06-01T13:01:08.840472Z"
    },
    "papermill": {
     "duration": 0.046729,
     "end_time": "2022-06-01T13:01:08.843327",
     "exception": false,
     "start_time": "2022-06-01T13:01:08.796598",
     "status": "completed"
    },
    "tags": []
   },
   "outputs": [
    {
     "name": "stdout",
     "output_type": "stream",
     "text": [
      "CPU times: user 210 µs, sys: 19 µs, total: 229 µs\n",
      "Wall time: 234 µs\n"
     ]
    },
    {
     "data": {
      "text/html": [
       "<div>\n",
       "<style scoped>\n",
       "    .dataframe tbody tr th:only-of-type {\n",
       "        vertical-align: middle;\n",
       "    }\n",
       "\n",
       "    .dataframe tbody tr th {\n",
       "        vertical-align: top;\n",
       "    }\n",
       "\n",
       "    .dataframe thead th {\n",
       "        text-align: right;\n",
       "    }\n",
       "</style>\n",
       "<table border=\"1\" class=\"dataframe\">\n",
       "  <thead>\n",
       "    <tr style=\"text-align: right;\">\n",
       "      <th></th>\n",
       "      <th>P_2</th>\n",
       "      <th>D_39</th>\n",
       "      <th>B_1</th>\n",
       "      <th>B_2</th>\n",
       "      <th>R_1</th>\n",
       "      <th>S_3</th>\n",
       "      <th>D_41</th>\n",
       "      <th>...</th>\n",
       "      <th>D_140</th>\n",
       "      <th>D_141</th>\n",
       "      <th>D_142</th>\n",
       "      <th>D_143</th>\n",
       "      <th>D_144</th>\n",
       "      <th>D_145</th>\n",
       "      <th>num_statements</th>\n",
       "    </tr>\n",
       "  </thead>\n",
       "  <tbody>\n",
       "    <tr>\n",
       "      <th>0</th>\n",
       "      <td>0.56885</td>\n",
       "      <td>0.12140</td>\n",
       "      <td>0.01078</td>\n",
       "      <td>1.00977</td>\n",
       "      <td>0.00692</td>\n",
       "      <td>0.14941</td>\n",
       "      <td>0.00040</td>\n",
       "      <td>...</td>\n",
       "      <td>0.00125</td>\n",
       "      <td>0.00654</td>\n",
       "      <td>NaN</td>\n",
       "      <td>0.00916</td>\n",
       "      <td>0.00369</td>\n",
       "      <td>0.00322</td>\n",
       "      <td>9</td>\n",
       "    </tr>\n",
       "    <tr>\n",
       "      <th>1</th>\n",
       "      <td>0.84131</td>\n",
       "      <td>0.12646</td>\n",
       "      <td>0.01656</td>\n",
       "      <td>1.00879</td>\n",
       "      <td>0.00971</td>\n",
       "      <td>0.11218</td>\n",
       "      <td>0.00619</td>\n",
       "      <td>...</td>\n",
       "      <td>0.00087</td>\n",
       "      <td>0.00912</td>\n",
       "      <td>NaN</td>\n",
       "      <td>0.00220</td>\n",
       "      <td>0.00025</td>\n",
       "      <td>0.00778</td>\n",
       "      <td>13</td>\n",
       "    </tr>\n",
       "    <tr>\n",
       "      <th>2</th>\n",
       "      <td>0.69775</td>\n",
       "      <td>0.00272</td>\n",
       "      <td>0.00148</td>\n",
       "      <td>0.81006</td>\n",
       "      <td>0.00262</td>\n",
       "      <td>0.16614</td>\n",
       "      <td>0.00489</td>\n",
       "      <td>...</td>\n",
       "      <td>0.00890</td>\n",
       "      <td>0.89600</td>\n",
       "      <td>0.15015</td>\n",
       "      <td>1.00977</td>\n",
       "      <td>0.45776</td>\n",
       "      <td>0.09204</td>\n",
       "      <td>13</td>\n",
       "    </tr>\n",
       "    <tr>\n",
       "      <th>3</th>\n",
       "      <td>0.51318</td>\n",
       "      <td>0.32471</td>\n",
       "      <td>0.14954</td>\n",
       "      <td>0.20569</td>\n",
       "      <td>0.00228</td>\n",
       "      <td>0.18115</td>\n",
       "      <td>0.00581</td>\n",
       "      <td>...</td>\n",
       "      <td>0.00375</td>\n",
       "      <td>0.91992</td>\n",
       "      <td>0.25537</td>\n",
       "      <td>1.00781</td>\n",
       "      <td>0.50098</td>\n",
       "      <td>0.18298</td>\n",
       "      <td>13</td>\n",
       "    </tr>\n",
       "    <tr>\n",
       "      <th>4</th>\n",
       "      <td>0.25439</td>\n",
       "      <td>0.76807</td>\n",
       "      <td>0.56348</td>\n",
       "      <td>0.03802</td>\n",
       "      <td>0.50293</td>\n",
       "      <td>0.16833</td>\n",
       "      <td>0.00948</td>\n",
       "      <td>...</td>\n",
       "      <td>0.00114</td>\n",
       "      <td>0.00953</td>\n",
       "      <td>NaN</td>\n",
       "      <td>0.00941</td>\n",
       "      <td>0.00156</td>\n",
       "      <td>0.00052</td>\n",
       "      <td>13</td>\n",
       "    </tr>\n",
       "  </tbody>\n",
       "</table>\n",
       "<p>5 rows × 189 columns</p>\n",
       "</div>"
      ],
      "text/plain": [
       "      P_2    D_39     B_1     B_2     R_1     S_3    D_41  ...   D_140  \\\n",
       "0 0.56885 0.12140 0.01078 1.00977 0.00692 0.14941 0.00040  ... 0.00125   \n",
       "1 0.84131 0.12646 0.01656 1.00879 0.00971 0.11218 0.00619  ... 0.00087   \n",
       "2 0.69775 0.00272 0.00148 0.81006 0.00262 0.16614 0.00489  ... 0.00890   \n",
       "3 0.51318 0.32471 0.14954 0.20569 0.00228 0.18115 0.00581  ... 0.00375   \n",
       "4 0.25439 0.76807 0.56348 0.03802 0.50293 0.16833 0.00948  ... 0.00114   \n",
       "\n",
       "    D_141   D_142   D_143   D_144   D_145  num_statements  \n",
       "0 0.00654     NaN 0.00916 0.00369 0.00322               9  \n",
       "1 0.00912     NaN 0.00220 0.00025 0.00778              13  \n",
       "2 0.89600 0.15015 1.00977 0.45776 0.09204              13  \n",
       "3 0.91992 0.25537 1.00781 0.50098 0.18298              13  \n",
       "4 0.00953     NaN 0.00941 0.00156 0.00052              13  \n",
       "\n",
       "[5 rows x 189 columns]"
      ]
     },
     "execution_count": 29,
     "metadata": {},
     "output_type": "execute_result"
    }
   ],
   "source": [
    "%%time\n",
    "tst_agg_data.head()"
   ]
  },
  {
   "cell_type": "markdown",
   "id": "e8c21c55",
   "metadata": {
    "papermill": {
     "duration": 0.02423,
     "end_time": "2022-06-01T13:01:08.891945",
     "exception": false,
     "start_time": "2022-06-01T13:01:08.867715",
     "status": "completed"
    },
    "tags": []
   },
   "source": [
    "---"
   ]
  },
  {
   "cell_type": "markdown",
   "id": "e3a65472",
   "metadata": {
    "papermill": {
     "duration": 0.024422,
     "end_time": "2022-06-01T13:01:08.942113",
     "exception": false,
     "start_time": "2022-06-01T13:01:08.917691",
     "status": "completed"
    },
    "tags": []
   },
   "source": [
    "# 7.0 Label / One-Hot Encoding the Categorical Variables..."
   ]
  },
  {
   "cell_type": "markdown",
   "id": "d3ba1f7c",
   "metadata": {
    "papermill": {
     "duration": 0.025714,
     "end_time": "2022-06-01T13:01:08.993188",
     "exception": false,
     "start_time": "2022-06-01T13:01:08.967474",
     "status": "completed"
    },
    "tags": []
   },
   "source": [
    "## 7.1 One Hot Encoding Configuration..."
   ]
  },
  {
   "cell_type": "code",
   "execution_count": 30,
   "id": "f9fdad9b",
   "metadata": {
    "execution": {
     "iopub.execute_input": "2022-06-01T13:01:09.043156Z",
     "iopub.status.busy": "2022-06-01T13:01:09.042352Z",
     "iopub.status.idle": "2022-06-01T13:01:10.000701Z",
     "shell.execute_reply": "2022-06-01T13:01:09.999920Z"
    },
    "papermill": {
     "duration": 0.986104,
     "end_time": "2022-06-01T13:01:10.003368",
     "exception": false,
     "start_time": "2022-06-01T13:01:09.017264",
     "status": "completed"
    },
    "tags": []
   },
   "outputs": [
    {
     "name": "stdout",
     "output_type": "stream",
     "text": [
      "CPU times: user 424 ms, sys: 162 ms, total: 586 ms\n",
      "Wall time: 953 ms\n"
     ]
    }
   ],
   "source": [
    "%%time\n",
    "from sklearn.preprocessing import StandardScaler, QuantileTransformer, OneHotEncoder, OrdinalEncoder"
   ]
  },
  {
   "cell_type": "code",
   "execution_count": 31,
   "id": "7a5b1ecf",
   "metadata": {
    "execution": {
     "iopub.execute_input": "2022-06-01T13:01:10.050740Z",
     "iopub.status.busy": "2022-06-01T13:01:10.049949Z",
     "iopub.status.idle": "2022-06-01T13:01:10.057925Z",
     "shell.execute_reply": "2022-06-01T13:01:10.057037Z"
    },
    "papermill": {
     "duration": 0.033332,
     "end_time": "2022-06-01T13:01:10.060185",
     "exception": false,
     "start_time": "2022-06-01T13:01:10.026853",
     "status": "completed"
    },
    "tags": []
   },
   "outputs": [
    {
     "name": "stdout",
     "output_type": "stream",
     "text": [
      "CPU times: user 178 µs, sys: 0 ns, total: 178 µs\n",
      "Wall time: 182 µs\n"
     ]
    }
   ],
   "source": [
    "%%time\n",
    "# One-hot Encoding Configuration\n",
    "cat_features = ['B_30', 'B_38', 'D_114', 'D_116', 'D_117', 'D_120', 'D_126', 'D_63', 'D_64', 'D_66', 'D_68']\n",
    "\n",
    "#trn_agg_data[cat_features] = trn_agg_data[cat_features].astype(object)\n",
    "trn_not_cat_features = [f for f in trn_agg_data.columns if f not in cat_features]\n",
    "tst_not_cat_features = [f for f in tst_agg_data.columns if f not in cat_features]"
   ]
  },
  {
   "cell_type": "code",
   "execution_count": 32,
   "id": "c9e587de",
   "metadata": {
    "execution": {
     "iopub.execute_input": "2022-06-01T13:01:10.106174Z",
     "iopub.status.busy": "2022-06-01T13:01:10.105891Z",
     "iopub.status.idle": "2022-06-01T13:01:10.127875Z",
     "shell.execute_reply": "2022-06-01T13:01:10.126227Z"
    },
    "papermill": {
     "duration": 0.048059,
     "end_time": "2022-06-01T13:01:10.130556",
     "exception": false,
     "start_time": "2022-06-01T13:01:10.082497",
     "status": "completed"
    },
    "tags": []
   },
   "outputs": [
    {
     "name": "stdout",
     "output_type": "stream",
     "text": [
      "CPU times: user 6.04 ms, sys: 1 ms, total: 7.05 ms\n",
      "Wall time: 6.07 ms\n"
     ]
    },
    {
     "data": {
      "text/html": [
       "<div>\n",
       "<style scoped>\n",
       "    .dataframe tbody tr th:only-of-type {\n",
       "        vertical-align: middle;\n",
       "    }\n",
       "\n",
       "    .dataframe tbody tr th {\n",
       "        vertical-align: top;\n",
       "    }\n",
       "\n",
       "    .dataframe thead th {\n",
       "        text-align: right;\n",
       "    }\n",
       "</style>\n",
       "<table border=\"1\" class=\"dataframe\">\n",
       "  <thead>\n",
       "    <tr style=\"text-align: right;\">\n",
       "      <th></th>\n",
       "      <th>B_30</th>\n",
       "      <th>B_38</th>\n",
       "      <th>D_114</th>\n",
       "      <th>D_116</th>\n",
       "      <th>D_117</th>\n",
       "      <th>D_120</th>\n",
       "      <th>D_126</th>\n",
       "      <th>D_63</th>\n",
       "      <th>D_64</th>\n",
       "      <th>D_66</th>\n",
       "      <th>D_68</th>\n",
       "    </tr>\n",
       "  </thead>\n",
       "  <tbody>\n",
       "    <tr>\n",
       "      <th>0</th>\n",
       "      <td>0.00000</td>\n",
       "      <td>2.00000</td>\n",
       "      <td>1.00000</td>\n",
       "      <td>0.00000</td>\n",
       "      <td>4.00000</td>\n",
       "      <td>0.00000</td>\n",
       "      <td>1.00000</td>\n",
       "      <td>CR</td>\n",
       "      <td>O</td>\n",
       "      <td>NaN</td>\n",
       "      <td>6.00000</td>\n",
       "    </tr>\n",
       "    <tr>\n",
       "      <th>1</th>\n",
       "      <td>0.00000</td>\n",
       "      <td>2.00000</td>\n",
       "      <td>1.00000</td>\n",
       "      <td>0.00000</td>\n",
       "      <td>-1.00000</td>\n",
       "      <td>0.00000</td>\n",
       "      <td>1.00000</td>\n",
       "      <td>CO</td>\n",
       "      <td>O</td>\n",
       "      <td>NaN</td>\n",
       "      <td>6.00000</td>\n",
       "    </tr>\n",
       "    <tr>\n",
       "      <th>2</th>\n",
       "      <td>0.00000</td>\n",
       "      <td>1.00000</td>\n",
       "      <td>1.00000</td>\n",
       "      <td>0.00000</td>\n",
       "      <td>-1.00000</td>\n",
       "      <td>0.00000</td>\n",
       "      <td>1.00000</td>\n",
       "      <td>CO</td>\n",
       "      <td>R</td>\n",
       "      <td>NaN</td>\n",
       "      <td>6.00000</td>\n",
       "    </tr>\n",
       "    <tr>\n",
       "      <th>3</th>\n",
       "      <td>0.00000</td>\n",
       "      <td>2.00000</td>\n",
       "      <td>1.00000</td>\n",
       "      <td>0.00000</td>\n",
       "      <td>6.00000</td>\n",
       "      <td>0.00000</td>\n",
       "      <td>1.00000</td>\n",
       "      <td>CO</td>\n",
       "      <td>O</td>\n",
       "      <td>NaN</td>\n",
       "      <td>3.00000</td>\n",
       "    </tr>\n",
       "    <tr>\n",
       "      <th>4</th>\n",
       "      <td>0.00000</td>\n",
       "      <td>1.00000</td>\n",
       "      <td>1.00000</td>\n",
       "      <td>0.00000</td>\n",
       "      <td>4.00000</td>\n",
       "      <td>0.00000</td>\n",
       "      <td>1.00000</td>\n",
       "      <td>CO</td>\n",
       "      <td>O</td>\n",
       "      <td>1.00000</td>\n",
       "      <td>6.00000</td>\n",
       "    </tr>\n",
       "  </tbody>\n",
       "</table>\n",
       "</div>"
      ],
      "text/plain": [
       "     B_30    B_38   D_114   D_116    D_117   D_120   D_126 D_63 D_64    D_66  \\\n",
       "0 0.00000 2.00000 1.00000 0.00000  4.00000 0.00000 1.00000   CR    O     NaN   \n",
       "1 0.00000 2.00000 1.00000 0.00000 -1.00000 0.00000 1.00000   CO    O     NaN   \n",
       "2 0.00000 1.00000 1.00000 0.00000 -1.00000 0.00000 1.00000   CO    R     NaN   \n",
       "3 0.00000 2.00000 1.00000 0.00000  6.00000 0.00000 1.00000   CO    O     NaN   \n",
       "4 0.00000 1.00000 1.00000 0.00000  4.00000 0.00000 1.00000   CO    O 1.00000   \n",
       "\n",
       "     D_68  \n",
       "0 6.00000  \n",
       "1 6.00000  \n",
       "2 6.00000  \n",
       "3 3.00000  \n",
       "4 6.00000  "
      ]
     },
     "execution_count": 32,
     "metadata": {},
     "output_type": "execute_result"
    }
   ],
   "source": [
    "%%time\n",
    "trn_agg_data[cat_features].head()"
   ]
  },
  {
   "cell_type": "code",
   "execution_count": 33,
   "id": "454111bb",
   "metadata": {
    "execution": {
     "iopub.execute_input": "2022-06-01T13:01:10.179485Z",
     "iopub.status.busy": "2022-06-01T13:01:10.179193Z",
     "iopub.status.idle": "2022-06-01T13:01:10.883460Z",
     "shell.execute_reply": "2022-06-01T13:01:10.882079Z"
    },
    "papermill": {
     "duration": 0.732572,
     "end_time": "2022-06-01T13:01:10.886309",
     "exception": false,
     "start_time": "2022-06-01T13:01:10.153737",
     "status": "completed"
    },
    "tags": []
   },
   "outputs": [
    {
     "name": "stdout",
     "output_type": "stream",
     "text": [
      "CPU times: user 674 ms, sys: 24.9 ms, total: 699 ms\n",
      "Wall time: 699 ms\n"
     ]
    }
   ],
   "source": [
    "%%time\n",
    "#encoder = OneHotEncoder(drop = 'first', sparse = False, dtype = np.float32, handle_unknown = 'ignore')\n",
    "encoder = OrdinalEncoder()\n",
    "trn_encoded_features = encoder.fit_transform(trn_agg_data[cat_features])\n",
    "#feat_names = list(encoder.get_feature_names())"
   ]
  },
  {
   "cell_type": "markdown",
   "id": "1dedeffc",
   "metadata": {
    "papermill": {
     "duration": 0.026678,
     "end_time": "2022-06-01T13:01:10.941276",
     "exception": false,
     "start_time": "2022-06-01T13:01:10.914598",
     "status": "completed"
    },
    "tags": []
   },
   "source": [
    "## 7.2 Train Dataset One Hot Encoding..."
   ]
  },
  {
   "cell_type": "code",
   "execution_count": 34,
   "id": "91b6fa8f",
   "metadata": {
    "execution": {
     "iopub.execute_input": "2022-06-01T13:01:10.988705Z",
     "iopub.status.busy": "2022-06-01T13:01:10.988344Z",
     "iopub.status.idle": "2022-06-01T13:01:10.993646Z",
     "shell.execute_reply": "2022-06-01T13:01:10.992779Z"
    },
    "papermill": {
     "duration": 0.031739,
     "end_time": "2022-06-01T13:01:10.996020",
     "exception": false,
     "start_time": "2022-06-01T13:01:10.964281",
     "status": "completed"
    },
    "tags": []
   },
   "outputs": [
    {
     "name": "stdout",
     "output_type": "stream",
     "text": [
      "CPU times: user 197 µs, sys: 17 µs, total: 214 µs\n",
      "Wall time: 218 µs\n"
     ]
    }
   ],
   "source": [
    "%%time\n",
    "# One-hot Encoding\n",
    "trn_encoded_features = pd.DataFrame(trn_encoded_features)\n",
    "#trn_encoded_features.columns = feat_names"
   ]
  },
  {
   "cell_type": "code",
   "execution_count": 35,
   "id": "86191812",
   "metadata": {
    "execution": {
     "iopub.execute_input": "2022-06-01T13:01:11.043994Z",
     "iopub.status.busy": "2022-06-01T13:01:11.043350Z",
     "iopub.status.idle": "2022-06-01T13:01:11.637410Z",
     "shell.execute_reply": "2022-06-01T13:01:11.636324Z"
    },
    "papermill": {
     "duration": 0.621735,
     "end_time": "2022-06-01T13:01:11.641428",
     "exception": false,
     "start_time": "2022-06-01T13:01:11.019693",
     "status": "completed"
    },
    "tags": []
   },
   "outputs": [
    {
     "name": "stdout",
     "output_type": "stream",
     "text": [
      "CPU times: user 255 ms, sys: 323 ms, total: 578 ms\n",
      "Wall time: 578 ms\n"
     ]
    },
    {
     "data": {
      "text/html": [
       "<div>\n",
       "<style scoped>\n",
       "    .dataframe tbody tr th:only-of-type {\n",
       "        vertical-align: middle;\n",
       "    }\n",
       "\n",
       "    .dataframe tbody tr th {\n",
       "        vertical-align: top;\n",
       "    }\n",
       "\n",
       "    .dataframe thead th {\n",
       "        text-align: right;\n",
       "    }\n",
       "</style>\n",
       "<table border=\"1\" class=\"dataframe\">\n",
       "  <thead>\n",
       "    <tr style=\"text-align: right;\">\n",
       "      <th></th>\n",
       "      <th>P_2</th>\n",
       "      <th>D_39</th>\n",
       "      <th>B_1</th>\n",
       "      <th>B_2</th>\n",
       "      <th>R_1</th>\n",
       "      <th>S_3</th>\n",
       "      <th>D_41</th>\n",
       "      <th>...</th>\n",
       "      <th>4</th>\n",
       "      <th>5</th>\n",
       "      <th>6</th>\n",
       "      <th>7</th>\n",
       "      <th>8</th>\n",
       "      <th>9</th>\n",
       "      <th>10</th>\n",
       "    </tr>\n",
       "  </thead>\n",
       "  <tbody>\n",
       "    <tr>\n",
       "      <th>0</th>\n",
       "      <td>0.93457</td>\n",
       "      <td>0.00912</td>\n",
       "      <td>0.00938</td>\n",
       "      <td>1.00781</td>\n",
       "      <td>0.00610</td>\n",
       "      <td>0.13501</td>\n",
       "      <td>0.00160</td>\n",
       "      <td>...</td>\n",
       "      <td>4.00000</td>\n",
       "      <td>0.00000</td>\n",
       "      <td>1.00000</td>\n",
       "      <td>2.00000</td>\n",
       "      <td>0.00000</td>\n",
       "      <td>NaN</td>\n",
       "      <td>5.00000</td>\n",
       "    </tr>\n",
       "    <tr>\n",
       "      <th>1</th>\n",
       "      <td>0.88037</td>\n",
       "      <td>0.17810</td>\n",
       "      <td>0.03470</td>\n",
       "      <td>1.00391</td>\n",
       "      <td>0.00691</td>\n",
       "      <td>0.16553</td>\n",
       "      <td>0.00555</td>\n",
       "      <td>...</td>\n",
       "      <td>0.00000</td>\n",
       "      <td>0.00000</td>\n",
       "      <td>1.00000</td>\n",
       "      <td>1.00000</td>\n",
       "      <td>0.00000</td>\n",
       "      <td>NaN</td>\n",
       "      <td>5.00000</td>\n",
       "    </tr>\n",
       "    <tr>\n",
       "      <th>2</th>\n",
       "      <td>0.88086</td>\n",
       "      <td>0.00970</td>\n",
       "      <td>0.00428</td>\n",
       "      <td>0.81250</td>\n",
       "      <td>0.00645</td>\n",
       "      <td>NaN</td>\n",
       "      <td>0.00380</td>\n",
       "      <td>...</td>\n",
       "      <td>0.00000</td>\n",
       "      <td>0.00000</td>\n",
       "      <td>1.00000</td>\n",
       "      <td>1.00000</td>\n",
       "      <td>1.00000</td>\n",
       "      <td>NaN</td>\n",
       "      <td>5.00000</td>\n",
       "    </tr>\n",
       "    <tr>\n",
       "      <th>3</th>\n",
       "      <td>0.62158</td>\n",
       "      <td>0.00108</td>\n",
       "      <td>0.01257</td>\n",
       "      <td>1.00586</td>\n",
       "      <td>0.00783</td>\n",
       "      <td>0.28784</td>\n",
       "      <td>0.00453</td>\n",
       "      <td>...</td>\n",
       "      <td>6.00000</td>\n",
       "      <td>0.00000</td>\n",
       "      <td>1.00000</td>\n",
       "      <td>1.00000</td>\n",
       "      <td>0.00000</td>\n",
       "      <td>NaN</td>\n",
       "      <td>2.00000</td>\n",
       "    </tr>\n",
       "    <tr>\n",
       "      <th>4</th>\n",
       "      <td>0.87207</td>\n",
       "      <td>0.00557</td>\n",
       "      <td>0.00768</td>\n",
       "      <td>0.81592</td>\n",
       "      <td>0.00125</td>\n",
       "      <td>NaN</td>\n",
       "      <td>0.00023</td>\n",
       "      <td>...</td>\n",
       "      <td>4.00000</td>\n",
       "      <td>0.00000</td>\n",
       "      <td>1.00000</td>\n",
       "      <td>1.00000</td>\n",
       "      <td>0.00000</td>\n",
       "      <td>0.00000</td>\n",
       "      <td>5.00000</td>\n",
       "    </tr>\n",
       "  </tbody>\n",
       "</table>\n",
       "<p>5 rows × 190 columns</p>\n",
       "</div>"
      ],
      "text/plain": [
       "      P_2    D_39     B_1     B_2     R_1     S_3    D_41  ...       4  \\\n",
       "0 0.93457 0.00912 0.00938 1.00781 0.00610 0.13501 0.00160  ... 4.00000   \n",
       "1 0.88037 0.17810 0.03470 1.00391 0.00691 0.16553 0.00555  ... 0.00000   \n",
       "2 0.88086 0.00970 0.00428 0.81250 0.00645     NaN 0.00380  ... 0.00000   \n",
       "3 0.62158 0.00108 0.01257 1.00586 0.00783 0.28784 0.00453  ... 6.00000   \n",
       "4 0.87207 0.00557 0.00768 0.81592 0.00125     NaN 0.00023  ... 4.00000   \n",
       "\n",
       "        5       6       7       8       9      10  \n",
       "0 0.00000 1.00000 2.00000 0.00000     NaN 5.00000  \n",
       "1 0.00000 1.00000 1.00000 0.00000     NaN 5.00000  \n",
       "2 0.00000 1.00000 1.00000 1.00000     NaN 5.00000  \n",
       "3 0.00000 1.00000 1.00000 0.00000     NaN 2.00000  \n",
       "4 0.00000 1.00000 1.00000 0.00000 0.00000 5.00000  \n",
       "\n",
       "[5 rows x 190 columns]"
      ]
     },
     "execution_count": 35,
     "metadata": {},
     "output_type": "execute_result"
    }
   ],
   "source": [
    "%%time\n",
    "trn_agg_data = pd.concat([trn_agg_data[trn_not_cat_features], trn_encoded_features], axis = 1)\n",
    "trn_agg_data.head(5)"
   ]
  },
  {
   "cell_type": "markdown",
   "id": "4784eca0",
   "metadata": {
    "papermill": {
     "duration": 0.02337,
     "end_time": "2022-06-01T13:01:11.689636",
     "exception": false,
     "start_time": "2022-06-01T13:01:11.666266",
     "status": "completed"
    },
    "tags": []
   },
   "source": [
    "---"
   ]
  },
  {
   "cell_type": "markdown",
   "id": "c3186b12",
   "metadata": {
    "papermill": {
     "duration": 0.02323,
     "end_time": "2022-06-01T13:01:11.736105",
     "exception": false,
     "start_time": "2022-06-01T13:01:11.712875",
     "status": "completed"
    },
    "tags": []
   },
   "source": [
    "## 7.3 Test Dataset One-Hot Encoding..."
   ]
  },
  {
   "cell_type": "code",
   "execution_count": 36,
   "id": "dd01bab0",
   "metadata": {
    "execution": {
     "iopub.execute_input": "2022-06-01T13:01:11.783929Z",
     "iopub.status.busy": "2022-06-01T13:01:11.783538Z",
     "iopub.status.idle": "2022-06-01T13:01:11.806456Z",
     "shell.execute_reply": "2022-06-01T13:01:11.804982Z"
    },
    "papermill": {
     "duration": 0.049906,
     "end_time": "2022-06-01T13:01:11.809339",
     "exception": false,
     "start_time": "2022-06-01T13:01:11.759433",
     "status": "completed"
    },
    "tags": []
   },
   "outputs": [
    {
     "name": "stdout",
     "output_type": "stream",
     "text": [
      "CPU times: user 8.5 ms, sys: 44 µs, total: 8.54 ms\n",
      "Wall time: 7.47 ms\n"
     ]
    },
    {
     "data": {
      "text/html": [
       "<div>\n",
       "<style scoped>\n",
       "    .dataframe tbody tr th:only-of-type {\n",
       "        vertical-align: middle;\n",
       "    }\n",
       "\n",
       "    .dataframe tbody tr th {\n",
       "        vertical-align: top;\n",
       "    }\n",
       "\n",
       "    .dataframe thead th {\n",
       "        text-align: right;\n",
       "    }\n",
       "</style>\n",
       "<table border=\"1\" class=\"dataframe\">\n",
       "  <thead>\n",
       "    <tr style=\"text-align: right;\">\n",
       "      <th></th>\n",
       "      <th>B_30</th>\n",
       "      <th>B_38</th>\n",
       "      <th>D_114</th>\n",
       "      <th>D_116</th>\n",
       "      <th>D_117</th>\n",
       "      <th>D_120</th>\n",
       "      <th>D_126</th>\n",
       "      <th>D_63</th>\n",
       "      <th>D_64</th>\n",
       "      <th>D_66</th>\n",
       "      <th>D_68</th>\n",
       "    </tr>\n",
       "  </thead>\n",
       "  <tbody>\n",
       "    <tr>\n",
       "      <th>0</th>\n",
       "      <td>0.00000</td>\n",
       "      <td>2.00000</td>\n",
       "      <td>0.00000</td>\n",
       "      <td>0.00000</td>\n",
       "      <td>-1.00000</td>\n",
       "      <td>1.00000</td>\n",
       "      <td>0.00000</td>\n",
       "      <td>CR</td>\n",
       "      <td>U</td>\n",
       "      <td>NaN</td>\n",
       "      <td>6.00000</td>\n",
       "    </tr>\n",
       "    <tr>\n",
       "      <th>1</th>\n",
       "      <td>0.00000</td>\n",
       "      <td>2.00000</td>\n",
       "      <td>1.00000</td>\n",
       "      <td>0.00000</td>\n",
       "      <td>3.00000</td>\n",
       "      <td>0.00000</td>\n",
       "      <td>1.00000</td>\n",
       "      <td>CO</td>\n",
       "      <td>O</td>\n",
       "      <td>NaN</td>\n",
       "      <td>6.00000</td>\n",
       "    </tr>\n",
       "    <tr>\n",
       "      <th>2</th>\n",
       "      <td>0.00000</td>\n",
       "      <td>2.00000</td>\n",
       "      <td>0.00000</td>\n",
       "      <td>0.00000</td>\n",
       "      <td>3.00000</td>\n",
       "      <td>0.00000</td>\n",
       "      <td>0.00000</td>\n",
       "      <td>CR</td>\n",
       "      <td>U</td>\n",
       "      <td>1.00000</td>\n",
       "      <td>4.00000</td>\n",
       "    </tr>\n",
       "    <tr>\n",
       "      <th>3</th>\n",
       "      <td>0.00000</td>\n",
       "      <td>3.00000</td>\n",
       "      <td>0.00000</td>\n",
       "      <td>0.00000</td>\n",
       "      <td>4.00000</td>\n",
       "      <td>0.00000</td>\n",
       "      <td>1.00000</td>\n",
       "      <td>CL</td>\n",
       "      <td>R</td>\n",
       "      <td>NaN</td>\n",
       "      <td>5.00000</td>\n",
       "    </tr>\n",
       "    <tr>\n",
       "      <th>4</th>\n",
       "      <td>1.00000</td>\n",
       "      <td>6.00000</td>\n",
       "      <td>0.00000</td>\n",
       "      <td>0.00000</td>\n",
       "      <td>-1.00000</td>\n",
       "      <td>1.00000</td>\n",
       "      <td>0.00000</td>\n",
       "      <td>CO</td>\n",
       "      <td>R</td>\n",
       "      <td>NaN</td>\n",
       "      <td>5.00000</td>\n",
       "    </tr>\n",
       "  </tbody>\n",
       "</table>\n",
       "</div>"
      ],
      "text/plain": [
       "     B_30    B_38   D_114   D_116    D_117   D_120   D_126 D_63 D_64    D_66  \\\n",
       "0 0.00000 2.00000 0.00000 0.00000 -1.00000 1.00000 0.00000   CR    U     NaN   \n",
       "1 0.00000 2.00000 1.00000 0.00000  3.00000 0.00000 1.00000   CO    O     NaN   \n",
       "2 0.00000 2.00000 0.00000 0.00000  3.00000 0.00000 0.00000   CR    U 1.00000   \n",
       "3 0.00000 3.00000 0.00000 0.00000  4.00000 0.00000 1.00000   CL    R     NaN   \n",
       "4 1.00000 6.00000 0.00000 0.00000 -1.00000 1.00000 0.00000   CO    R     NaN   \n",
       "\n",
       "     D_68  \n",
       "0 6.00000  \n",
       "1 6.00000  \n",
       "2 4.00000  \n",
       "3 5.00000  \n",
       "4 5.00000  "
      ]
     },
     "execution_count": 36,
     "metadata": {},
     "output_type": "execute_result"
    }
   ],
   "source": [
    "%%time\n",
    "tst_agg_data[cat_features].head()"
   ]
  },
  {
   "cell_type": "code",
   "execution_count": 37,
   "id": "82ef91a2",
   "metadata": {
    "execution": {
     "iopub.execute_input": "2022-06-01T13:01:11.858889Z",
     "iopub.status.busy": "2022-06-01T13:01:11.858496Z",
     "iopub.status.idle": "2022-06-01T13:01:13.004961Z",
     "shell.execute_reply": "2022-06-01T13:01:13.002975Z"
    },
    "papermill": {
     "duration": 1.172828,
     "end_time": "2022-06-01T13:01:13.007261",
     "exception": false,
     "start_time": "2022-06-01T13:01:11.834433",
     "status": "completed"
    },
    "tags": []
   },
   "outputs": [
    {
     "name": "stdout",
     "output_type": "stream",
     "text": [
      "CPU times: user 1.07 s, sys: 73.9 ms, total: 1.14 s\n",
      "Wall time: 1.14 s\n"
     ]
    }
   ],
   "source": [
    "%%time\n",
    "# One-hot Encoding\n",
    "tst_encoded_features = encoder.transform(tst_agg_data[cat_features])\n",
    "tst_encoded_features = pd.DataFrame(tst_encoded_features)\n",
    "#tst_encoded_features.columns = feat_names"
   ]
  },
  {
   "cell_type": "code",
   "execution_count": 38,
   "id": "2ca7773b",
   "metadata": {
    "execution": {
     "iopub.execute_input": "2022-06-01T13:01:13.056722Z",
     "iopub.status.busy": "2022-06-01T13:01:13.056439Z",
     "iopub.status.idle": "2022-06-01T13:01:14.244026Z",
     "shell.execute_reply": "2022-06-01T13:01:14.241956Z"
    },
    "papermill": {
     "duration": 1.215136,
     "end_time": "2022-06-01T13:01:14.246982",
     "exception": false,
     "start_time": "2022-06-01T13:01:13.031846",
     "status": "completed"
    },
    "tags": []
   },
   "outputs": [
    {
     "name": "stdout",
     "output_type": "stream",
     "text": [
      "CPU times: user 539 ms, sys: 633 ms, total: 1.17 s\n",
      "Wall time: 1.17 s\n"
     ]
    },
    {
     "data": {
      "text/html": [
       "<div>\n",
       "<style scoped>\n",
       "    .dataframe tbody tr th:only-of-type {\n",
       "        vertical-align: middle;\n",
       "    }\n",
       "\n",
       "    .dataframe tbody tr th {\n",
       "        vertical-align: top;\n",
       "    }\n",
       "\n",
       "    .dataframe thead th {\n",
       "        text-align: right;\n",
       "    }\n",
       "</style>\n",
       "<table border=\"1\" class=\"dataframe\">\n",
       "  <thead>\n",
       "    <tr style=\"text-align: right;\">\n",
       "      <th></th>\n",
       "      <th>P_2</th>\n",
       "      <th>D_39</th>\n",
       "      <th>B_1</th>\n",
       "      <th>B_2</th>\n",
       "      <th>R_1</th>\n",
       "      <th>S_3</th>\n",
       "      <th>D_41</th>\n",
       "      <th>...</th>\n",
       "      <th>4</th>\n",
       "      <th>5</th>\n",
       "      <th>6</th>\n",
       "      <th>7</th>\n",
       "      <th>8</th>\n",
       "      <th>9</th>\n",
       "      <th>10</th>\n",
       "    </tr>\n",
       "  </thead>\n",
       "  <tbody>\n",
       "    <tr>\n",
       "      <th>0</th>\n",
       "      <td>0.56885</td>\n",
       "      <td>0.12140</td>\n",
       "      <td>0.01078</td>\n",
       "      <td>1.00977</td>\n",
       "      <td>0.00692</td>\n",
       "      <td>0.14941</td>\n",
       "      <td>0.00040</td>\n",
       "      <td>...</td>\n",
       "      <td>0.00000</td>\n",
       "      <td>1.00000</td>\n",
       "      <td>0.00000</td>\n",
       "      <td>2.00000</td>\n",
       "      <td>2.00000</td>\n",
       "      <td>NaN</td>\n",
       "      <td>5.00000</td>\n",
       "    </tr>\n",
       "    <tr>\n",
       "      <th>1</th>\n",
       "      <td>0.84131</td>\n",
       "      <td>0.12646</td>\n",
       "      <td>0.01656</td>\n",
       "      <td>1.00879</td>\n",
       "      <td>0.00971</td>\n",
       "      <td>0.11218</td>\n",
       "      <td>0.00619</td>\n",
       "      <td>...</td>\n",
       "      <td>3.00000</td>\n",
       "      <td>0.00000</td>\n",
       "      <td>1.00000</td>\n",
       "      <td>1.00000</td>\n",
       "      <td>0.00000</td>\n",
       "      <td>NaN</td>\n",
       "      <td>5.00000</td>\n",
       "    </tr>\n",
       "    <tr>\n",
       "      <th>2</th>\n",
       "      <td>0.69775</td>\n",
       "      <td>0.00272</td>\n",
       "      <td>0.00148</td>\n",
       "      <td>0.81006</td>\n",
       "      <td>0.00262</td>\n",
       "      <td>0.16614</td>\n",
       "      <td>0.00489</td>\n",
       "      <td>...</td>\n",
       "      <td>3.00000</td>\n",
       "      <td>0.00000</td>\n",
       "      <td>0.00000</td>\n",
       "      <td>2.00000</td>\n",
       "      <td>2.00000</td>\n",
       "      <td>0.00000</td>\n",
       "      <td>3.00000</td>\n",
       "    </tr>\n",
       "    <tr>\n",
       "      <th>3</th>\n",
       "      <td>0.51318</td>\n",
       "      <td>0.32471</td>\n",
       "      <td>0.14954</td>\n",
       "      <td>0.20569</td>\n",
       "      <td>0.00228</td>\n",
       "      <td>0.18115</td>\n",
       "      <td>0.00581</td>\n",
       "      <td>...</td>\n",
       "      <td>4.00000</td>\n",
       "      <td>0.00000</td>\n",
       "      <td>1.00000</td>\n",
       "      <td>0.00000</td>\n",
       "      <td>1.00000</td>\n",
       "      <td>NaN</td>\n",
       "      <td>4.00000</td>\n",
       "    </tr>\n",
       "    <tr>\n",
       "      <th>4</th>\n",
       "      <td>0.25439</td>\n",
       "      <td>0.76807</td>\n",
       "      <td>0.56348</td>\n",
       "      <td>0.03802</td>\n",
       "      <td>0.50293</td>\n",
       "      <td>0.16833</td>\n",
       "      <td>0.00948</td>\n",
       "      <td>...</td>\n",
       "      <td>0.00000</td>\n",
       "      <td>1.00000</td>\n",
       "      <td>0.00000</td>\n",
       "      <td>1.00000</td>\n",
       "      <td>1.00000</td>\n",
       "      <td>NaN</td>\n",
       "      <td>4.00000</td>\n",
       "    </tr>\n",
       "  </tbody>\n",
       "</table>\n",
       "<p>5 rows × 189 columns</p>\n",
       "</div>"
      ],
      "text/plain": [
       "      P_2    D_39     B_1     B_2     R_1     S_3    D_41  ...       4  \\\n",
       "0 0.56885 0.12140 0.01078 1.00977 0.00692 0.14941 0.00040  ... 0.00000   \n",
       "1 0.84131 0.12646 0.01656 1.00879 0.00971 0.11218 0.00619  ... 3.00000   \n",
       "2 0.69775 0.00272 0.00148 0.81006 0.00262 0.16614 0.00489  ... 3.00000   \n",
       "3 0.51318 0.32471 0.14954 0.20569 0.00228 0.18115 0.00581  ... 4.00000   \n",
       "4 0.25439 0.76807 0.56348 0.03802 0.50293 0.16833 0.00948  ... 0.00000   \n",
       "\n",
       "        5       6       7       8       9      10  \n",
       "0 1.00000 0.00000 2.00000 2.00000     NaN 5.00000  \n",
       "1 0.00000 1.00000 1.00000 0.00000     NaN 5.00000  \n",
       "2 0.00000 0.00000 2.00000 2.00000 0.00000 3.00000  \n",
       "3 0.00000 1.00000 0.00000 1.00000     NaN 4.00000  \n",
       "4 1.00000 0.00000 1.00000 1.00000     NaN 4.00000  \n",
       "\n",
       "[5 rows x 189 columns]"
      ]
     },
     "execution_count": 38,
     "metadata": {},
     "output_type": "execute_result"
    }
   ],
   "source": [
    "%%time\n",
    "tst_agg_data = pd.concat([tst_agg_data[tst_not_cat_features], tst_encoded_features], axis = 1)\n",
    "tst_agg_data.head()"
   ]
  },
  {
   "cell_type": "markdown",
   "id": "8294db92",
   "metadata": {
    "papermill": {
     "duration": 0.025231,
     "end_time": "2022-06-01T13:01:14.297815",
     "exception": false,
     "start_time": "2022-06-01T13:01:14.272584",
     "status": "completed"
    },
    "tags": []
   },
   "source": [
    "---"
   ]
  },
  {
   "cell_type": "markdown",
   "id": "db6c4dbe",
   "metadata": {
    "papermill": {
     "duration": 0.023614,
     "end_time": "2022-06-01T13:01:14.345003",
     "exception": false,
     "start_time": "2022-06-01T13:01:14.321389",
     "status": "completed"
    },
    "tags": []
   },
   "source": [
    "# 8.0 Pre-Processing the Data, Fill NaNs for model functionality..."
   ]
  },
  {
   "cell_type": "code",
   "execution_count": 39,
   "id": "79be2b87",
   "metadata": {
    "execution": {
     "iopub.execute_input": "2022-06-01T13:01:14.394256Z",
     "iopub.status.busy": "2022-06-01T13:01:14.393899Z",
     "iopub.status.idle": "2022-06-01T13:01:15.919514Z",
     "shell.execute_reply": "2022-06-01T13:01:15.918493Z"
    },
    "papermill": {
     "duration": 1.552905,
     "end_time": "2022-06-01T13:01:15.921916",
     "exception": false,
     "start_time": "2022-06-01T13:01:14.369011",
     "status": "completed"
    },
    "tags": []
   },
   "outputs": [
    {
     "name": "stdout",
     "output_type": "stream",
     "text": [
      "CPU times: user 1.31 s, sys: 209 ms, total: 1.52 s\n",
      "Wall time: 1.52 s\n"
     ]
    }
   ],
   "source": [
    "%%time\n",
    "# Impute missing values\n",
    "trn_agg_data.fillna(value = 0, inplace = True)\n",
    "tst_agg_data.fillna(value = 0, inplace = True)"
   ]
  },
  {
   "cell_type": "markdown",
   "id": "fda8e0cd",
   "metadata": {
    "papermill": {
     "duration": 0.024161,
     "end_time": "2022-06-01T13:01:15.970815",
     "exception": false,
     "start_time": "2022-06-01T13:01:15.946654",
     "status": "completed"
    },
    "tags": []
   },
   "source": [
    "---"
   ]
  },
  {
   "cell_type": "markdown",
   "id": "dc4fdbe4",
   "metadata": {
    "papermill": {
     "duration": 0.024554,
     "end_time": "2022-06-01T13:01:16.020038",
     "exception": false,
     "start_time": "2022-06-01T13:01:15.995484",
     "status": "completed"
    },
    "tags": []
   },
   "source": [
    "# 9.0 Feature Selection for Baseline Model..."
   ]
  },
  {
   "cell_type": "code",
   "execution_count": 40,
   "id": "1a2bdb44",
   "metadata": {
    "execution": {
     "iopub.execute_input": "2022-06-01T13:01:16.070730Z",
     "iopub.status.busy": "2022-06-01T13:01:16.069497Z",
     "iopub.status.idle": "2022-06-01T13:01:16.078232Z",
     "shell.execute_reply": "2022-06-01T13:01:16.077395Z"
    },
    "papermill": {
     "duration": 0.036396,
     "end_time": "2022-06-01T13:01:16.080115",
     "exception": false,
     "start_time": "2022-06-01T13:01:16.043719",
     "status": "completed"
    },
    "tags": []
   },
   "outputs": [
    {
     "name": "stdout",
     "output_type": "stream",
     "text": [
      "CPU times: user 118 µs, sys: 11 µs, total: 129 µs\n",
      "Wall time: 163 µs\n"
     ]
    }
   ],
   "source": [
    "%%time\n",
    "features = [f for f in trn_agg_data.columns if f != 'target' and f != 'customer_ID']"
   ]
  },
  {
   "cell_type": "markdown",
   "id": "1a9fa128",
   "metadata": {
    "papermill": {
     "duration": 0.023713,
     "end_time": "2022-06-01T13:01:16.127935",
     "exception": false,
     "start_time": "2022-06-01T13:01:16.104222",
     "status": "completed"
    },
    "tags": []
   },
   "source": [
    "---"
   ]
  },
  {
   "cell_type": "markdown",
   "id": "5f4fcf6d",
   "metadata": {
    "papermill": {
     "duration": 0.023878,
     "end_time": "2022-06-01T13:01:16.175834",
     "exception": false,
     "start_time": "2022-06-01T13:01:16.151956",
     "status": "completed"
    },
    "tags": []
   },
   "source": [
    "# 10.0 NN Development"
   ]
  },
  {
   "cell_type": "code",
   "execution_count": 41,
   "id": "565c7eb0",
   "metadata": {
    "execution": {
     "iopub.execute_input": "2022-06-01T13:01:16.225852Z",
     "iopub.status.busy": "2022-06-01T13:01:16.225283Z",
     "iopub.status.idle": "2022-06-01T13:01:16.368197Z",
     "shell.execute_reply": "2022-06-01T13:01:16.367302Z"
    },
    "papermill": {
     "duration": 0.172629,
     "end_time": "2022-06-01T13:01:16.372138",
     "exception": false,
     "start_time": "2022-06-01T13:01:16.199509",
     "status": "completed"
    },
    "tags": []
   },
   "outputs": [
    {
     "name": "stdout",
     "output_type": "stream",
     "text": [
      "CPU times: user 128 ms, sys: 11 ms, total: 139 ms\n",
      "Wall time: 137 ms\n"
     ]
    },
    {
     "data": {
      "text/plain": [
       "0"
      ]
     },
     "execution_count": 41,
     "metadata": {},
     "output_type": "execute_result"
    }
   ],
   "source": [
    "%%time\n",
    "# Release some memory by deleting the original DataFrames...\n",
    "import gc\n",
    "del trn_data, tst_data\n",
    "gc.collect()"
   ]
  },
  {
   "cell_type": "markdown",
   "id": "e79e27a4",
   "metadata": {
    "papermill": {
     "duration": 0.023859,
     "end_time": "2022-06-01T13:01:16.421266",
     "exception": false,
     "start_time": "2022-06-01T13:01:16.397407",
     "status": "completed"
    },
    "tags": []
   },
   "source": [
    "## 10.1 Loading Specific Model Libraries..."
   ]
  },
  {
   "cell_type": "code",
   "execution_count": 42,
   "id": "2bfdb6ad",
   "metadata": {
    "execution": {
     "iopub.execute_input": "2022-06-01T13:01:16.474137Z",
     "iopub.status.busy": "2022-06-01T13:01:16.473774Z",
     "iopub.status.idle": "2022-06-01T13:01:22.479540Z",
     "shell.execute_reply": "2022-06-01T13:01:22.478716Z"
    },
    "papermill": {
     "duration": 6.036289,
     "end_time": "2022-06-01T13:01:22.481794",
     "exception": false,
     "start_time": "2022-06-01T13:01:16.445505",
     "status": "completed"
    },
    "tags": []
   },
   "outputs": [
    {
     "name": "stdout",
     "output_type": "stream",
     "text": [
      "CPU times: user 2.06 s, sys: 877 ms, total: 2.94 s\n",
      "Wall time: 6 s\n"
     ]
    }
   ],
   "source": [
    "%%time\n",
    "import tensorflow as tf\n",
    "from tensorflow.keras.models import Model\n",
    "from tensorflow.keras.callbacks import ReduceLROnPlateau, LearningRateScheduler, EarlyStopping\n",
    "from tensorflow.keras.layers import Dense, Input, InputLayer, Add, BatchNormalization, Dropout, Concatenate\n",
    "from tensorflow.keras.utils import plot_model\n",
    "from sklearn.metrics import log_loss\n",
    "\n",
    "from sklearn.preprocessing import StandardScaler, RobustScaler, MinMaxScaler\n",
    "import random"
   ]
  },
  {
   "cell_type": "markdown",
   "id": "a7fddbc4",
   "metadata": {
    "papermill": {
     "duration": 0.02363,
     "end_time": "2022-06-01T13:01:22.529983",
     "exception": false,
     "start_time": "2022-06-01T13:01:22.506353",
     "status": "completed"
    },
    "tags": []
   },
   "source": [
    "---"
   ]
  },
  {
   "cell_type": "markdown",
   "id": "798e69ab",
   "metadata": {
    "papermill": {
     "duration": 0.023622,
     "end_time": "2022-06-01T13:01:22.578158",
     "exception": false,
     "start_time": "2022-06-01T13:01:22.554536",
     "status": "completed"
    },
    "tags": []
   },
   "source": [
    "## 10.2 Amex Metric, Function..."
   ]
  },
  {
   "cell_type": "code",
   "execution_count": 43,
   "id": "93f1068c",
   "metadata": {
    "execution": {
     "iopub.execute_input": "2022-06-01T13:01:22.628091Z",
     "iopub.status.busy": "2022-06-01T13:01:22.627087Z",
     "iopub.status.idle": "2022-06-01T13:01:22.638812Z",
     "shell.execute_reply": "2022-06-01T13:01:22.638035Z"
    },
    "papermill": {
     "duration": 0.038873,
     "end_time": "2022-06-01T13:01:22.641031",
     "exception": false,
     "start_time": "2022-06-01T13:01:22.602158",
     "status": "completed"
    },
    "tags": []
   },
   "outputs": [
    {
     "name": "stdout",
     "output_type": "stream",
     "text": [
      "CPU times: user 5 µs, sys: 1 µs, total: 6 µs\n",
      "Wall time: 8.34 µs\n"
     ]
    }
   ],
   "source": [
    "%%time\n",
    "# From https://www.kaggle.com/code/inversion/amex-competition-metric-python\n",
    "\n",
    "def amex_metric(y_true, y_pred, return_components=False) -> float:\n",
    "    \"\"\"Amex metric for ndarrays\"\"\"\n",
    "    \n",
    "    def top_four_percent_captured(df) -> float:\n",
    "        \"\"\"Corresponds to the recall for a threshold of 4 %\"\"\"\n",
    "        \n",
    "        df['weight'] = df['target'].apply(lambda x: 20 if x==0 else 1)\n",
    "        four_pct_cutoff = int(0.04 * df['weight'].sum())\n",
    "        df['weight_cumsum'] = df['weight'].cumsum()\n",
    "        df_cutoff = df.loc[df['weight_cumsum'] <= four_pct_cutoff]\n",
    "        return (df_cutoff['target'] == 1).sum() / (df['target'] == 1).sum()\n",
    "    \n",
    "    \n",
    "    def weighted_gini(df) -> float:\n",
    "        df['weight'] = df['target'].apply(lambda x: 20 if x==0 else 1)\n",
    "        df['random'] = (df['weight'] / df['weight'].sum()).cumsum()\n",
    "        total_pos = (df['target'] * df['weight']).sum()\n",
    "        df['cum_pos_found'] = (df['target'] * df['weight']).cumsum()\n",
    "        df['lorentz'] = df['cum_pos_found'] / total_pos\n",
    "        df['gini'] = (df['lorentz'] - df['random']) * df['weight']\n",
    "        return df['gini'].sum()\n",
    "\n",
    "    \n",
    "    def normalized_weighted_gini(df) -> float:\n",
    "        \"\"\"Corresponds to 2 * AUC - 1\"\"\"\n",
    "        \n",
    "        df2 = pd.DataFrame({'target': df.target, 'prediction': df.target})\n",
    "        df2.sort_values('prediction', ascending=False, inplace=True)\n",
    "        return weighted_gini(df) / weighted_gini(df2)\n",
    "\n",
    "    \n",
    "    df = pd.DataFrame({'target': y_true.ravel(), 'prediction': y_pred.ravel()})\n",
    "    df.sort_values('prediction', ascending=False, inplace=True)\n",
    "    g = normalized_weighted_gini(df)\n",
    "    d = top_four_percent_captured(df)\n",
    "\n",
    "    if return_components: return g, d, 0.5 * (g + d)\n",
    "    return 0.5 * (g + d)"
   ]
  },
  {
   "cell_type": "markdown",
   "id": "c2fb5c18",
   "metadata": {
    "papermill": {
     "duration": 0.023782,
     "end_time": "2022-06-01T13:01:22.688790",
     "exception": false,
     "start_time": "2022-06-01T13:01:22.665008",
     "status": "completed"
    },
    "tags": []
   },
   "source": [
    "---"
   ]
  },
  {
   "cell_type": "markdown",
   "id": "00c59398",
   "metadata": {
    "papermill": {
     "duration": 0.023861,
     "end_time": "2022-06-01T13:01:22.736362",
     "exception": false,
     "start_time": "2022-06-01T13:01:22.712501",
     "status": "completed"
    },
    "tags": []
   },
   "source": [
    "## 10.3 Defining the NN Model Architecture..."
   ]
  },
  {
   "cell_type": "markdown",
   "id": "69886331",
   "metadata": {
    "papermill": {
     "duration": 0.023676,
     "end_time": "2022-06-01T13:01:22.783871",
     "exception": false,
     "start_time": "2022-06-01T13:01:22.760195",
     "status": "completed"
    },
    "tags": []
   },
   "source": [
    "## 10.3.1 Architecture 01, Simple NN"
   ]
  },
  {
   "cell_type": "code",
   "execution_count": 44,
   "id": "df319d6c",
   "metadata": {
    "execution": {
     "iopub.execute_input": "2022-06-01T13:01:22.832644Z",
     "iopub.status.busy": "2022-06-01T13:01:22.832351Z",
     "iopub.status.idle": "2022-06-01T13:01:22.839945Z",
     "shell.execute_reply": "2022-06-01T13:01:22.839191Z"
    },
    "papermill": {
     "duration": 0.034596,
     "end_time": "2022-06-01T13:01:22.842341",
     "exception": false,
     "start_time": "2022-06-01T13:01:22.807745",
     "status": "completed"
    },
    "tags": []
   },
   "outputs": [
    {
     "name": "stdout",
     "output_type": "stream",
     "text": [
      "CPU times: user 4 µs, sys: 1 µs, total: 5 µs\n",
      "Wall time: 7.15 µs\n"
     ]
    }
   ],
   "source": [
    "%%time\n",
    "def nn_model():\n",
    "    '''\n",
    "    '''\n",
    "    regularization = 4e-4\n",
    "    activation_func = 'swish'\n",
    "    inputs = Input(shape = (len(features)))\n",
    "    \n",
    "    x = Dense(256, \n",
    "              #use_bias  = True, \n",
    "              kernel_regularizer = tf.keras.regularizers.l2(regularization), \n",
    "              activation = activation_func)(inputs)\n",
    "    \n",
    "    x = BatchNormalization()(x)\n",
    "    \n",
    "    x = Dense(64, \n",
    "              #use_bias  = True, \n",
    "              kernel_regularizer = tf.keras.regularizers.l2(regularization), \n",
    "              activation = activation_func)(x)\n",
    "    \n",
    "    x = BatchNormalization()(x)\n",
    "    \n",
    "    x = Dense(64, \n",
    "          #use_bias  = True, \n",
    "          kernel_regularizer = tf.keras.regularizers.l2(regularization), \n",
    "          activation = activation_func)(x)\n",
    "    \n",
    "    x = BatchNormalization()(x)\n",
    "\n",
    "    x = Dense(32, \n",
    "              #use_bias  = True, \n",
    "              kernel_regularizer = tf.keras.regularizers.l2(regularization), \n",
    "              activation = activation_func)(x)\n",
    "    \n",
    "    x = BatchNormalization()(x)\n",
    "\n",
    "    x = Dense(1, \n",
    "              #use_bias  = True, \n",
    "              #kernel_regularizer = tf.keras.regularizers.l2(regularization),\n",
    "              activation = 'sigmoid')(x)\n",
    "    \n",
    "    model = Model(inputs, x)\n",
    "    \n",
    "    return model"
   ]
  },
  {
   "cell_type": "markdown",
   "id": "86b006ee",
   "metadata": {
    "papermill": {
     "duration": 0.023686,
     "end_time": "2022-06-01T13:01:22.891062",
     "exception": false,
     "start_time": "2022-06-01T13:01:22.867376",
     "status": "completed"
    },
    "tags": []
   },
   "source": [
    "---"
   ]
  },
  {
   "cell_type": "markdown",
   "id": "025caa89",
   "metadata": {
    "papermill": {
     "duration": 0.023651,
     "end_time": "2022-06-01T13:01:22.938883",
     "exception": false,
     "start_time": "2022-06-01T13:01:22.915232",
     "status": "completed"
    },
    "tags": []
   },
   "source": [
    "## 10.3.2 Architecture 02, Concatenated NN"
   ]
  },
  {
   "cell_type": "code",
   "execution_count": 45,
   "id": "27f34ab7",
   "metadata": {
    "execution": {
     "iopub.execute_input": "2022-06-01T13:01:22.988537Z",
     "iopub.status.busy": "2022-06-01T13:01:22.988247Z",
     "iopub.status.idle": "2022-06-01T13:01:22.995116Z",
     "shell.execute_reply": "2022-06-01T13:01:22.994296Z"
    },
    "papermill": {
     "duration": 0.034733,
     "end_time": "2022-06-01T13:01:22.997543",
     "exception": false,
     "start_time": "2022-06-01T13:01:22.962810",
     "status": "completed"
    },
    "tags": []
   },
   "outputs": [
    {
     "name": "stdout",
     "output_type": "stream",
     "text": [
      "CPU times: user 4 µs, sys: 1 µs, total: 5 µs\n",
      "Wall time: 8.34 µs\n"
     ]
    }
   ],
   "source": [
    "%%time\n",
    "def nn_model():\n",
    "    regularization = 4e-4\n",
    "    activation_func = 'swish'\n",
    "    inputs = Input(shape = (len(features)))\n",
    "\n",
    "    x0 = Dense(256,\n",
    "               kernel_regularizer = tf.keras.regularizers.l2(regularization), \n",
    "               activation = activation_func)(inputs)\n",
    "    x1 = Dense(128,\n",
    "               kernel_regularizer = tf.keras.regularizers.l2(regularization),\n",
    "               activation = activation_func)(x0)\n",
    "    x1 = Dense(64,\n",
    "               kernel_regularizer = tf.keras.regularizers.l2(regularization),\n",
    "               activation = activation_func)(x1)\n",
    "    x1 = Dense(32,\n",
    "           kernel_regularizer = tf.keras.regularizers.l2(regularization),\n",
    "           activation = activation_func)(x1)\n",
    "    \n",
    "    x1 = Concatenate()([x1, x0])\n",
    "    x1 = Dropout(0.1)(x1)\n",
    "    \n",
    "    x1 = Dense(16, kernel_regularizer=tf.keras.regularizers.l2(regularization),activation=activation_func,)(x1)\n",
    "    \n",
    "    x1 = Dense(1, \n",
    "              #kernel_regularizer=tf.keras.regularizers.l2(regularization),\n",
    "              activation='sigmoid')(x1)\n",
    "    \n",
    "    model = Model(inputs, x1)\n",
    "    \n",
    "    return model\n",
    "    "
   ]
  },
  {
   "cell_type": "markdown",
   "id": "8e69960b",
   "metadata": {
    "papermill": {
     "duration": 0.024172,
     "end_time": "2022-06-01T13:01:23.047080",
     "exception": false,
     "start_time": "2022-06-01T13:01:23.022908",
     "status": "completed"
    },
    "tags": []
   },
   "source": [
    "---"
   ]
  },
  {
   "cell_type": "markdown",
   "id": "a86a6116",
   "metadata": {
    "papermill": {
     "duration": 0.023915,
     "end_time": "2022-06-01T13:01:23.095285",
     "exception": false,
     "start_time": "2022-06-01T13:01:23.071370",
     "status": "completed"
    },
    "tags": []
   },
   "source": [
    "## 10.4 Visualizing the Model Structure..."
   ]
  },
  {
   "cell_type": "code",
   "execution_count": 46,
   "id": "d6bb93b2",
   "metadata": {
    "execution": {
     "iopub.execute_input": "2022-06-01T13:01:23.144538Z",
     "iopub.status.busy": "2022-06-01T13:01:23.144219Z",
     "iopub.status.idle": "2022-06-01T13:01:26.194784Z",
     "shell.execute_reply": "2022-06-01T13:01:26.192770Z"
    },
    "papermill": {
     "duration": 3.077362,
     "end_time": "2022-06-01T13:01:26.196675",
     "exception": false,
     "start_time": "2022-06-01T13:01:23.119313",
     "status": "completed"
    },
    "tags": []
   },
   "outputs": [
    {
     "name": "stderr",
     "output_type": "stream",
     "text": [
      "2022-06-01 13:01:23.259876: I tensorflow/stream_executor/cuda/cuda_gpu_executor.cc:937] successful NUMA node read from SysFS had negative value (-1), but there must be at least one NUMA node, so returning NUMA node zero\n",
      "2022-06-01 13:01:23.429487: I tensorflow/stream_executor/cuda/cuda_gpu_executor.cc:937] successful NUMA node read from SysFS had negative value (-1), but there must be at least one NUMA node, so returning NUMA node zero\n",
      "2022-06-01 13:01:23.430306: I tensorflow/stream_executor/cuda/cuda_gpu_executor.cc:937] successful NUMA node read from SysFS had negative value (-1), but there must be at least one NUMA node, so returning NUMA node zero\n",
      "2022-06-01 13:01:23.431949: I tensorflow/core/platform/cpu_feature_guard.cc:142] This TensorFlow binary is optimized with oneAPI Deep Neural Network Library (oneDNN) to use the following CPU instructions in performance-critical operations:  AVX2 AVX512F FMA\n",
      "To enable them in other operations, rebuild TensorFlow with the appropriate compiler flags.\n",
      "2022-06-01 13:01:23.432436: I tensorflow/stream_executor/cuda/cuda_gpu_executor.cc:937] successful NUMA node read from SysFS had negative value (-1), but there must be at least one NUMA node, so returning NUMA node zero\n",
      "2022-06-01 13:01:23.433575: I tensorflow/stream_executor/cuda/cuda_gpu_executor.cc:937] successful NUMA node read from SysFS had negative value (-1), but there must be at least one NUMA node, so returning NUMA node zero\n",
      "2022-06-01 13:01:23.434630: I tensorflow/stream_executor/cuda/cuda_gpu_executor.cc:937] successful NUMA node read from SysFS had negative value (-1), but there must be at least one NUMA node, so returning NUMA node zero\n",
      "2022-06-01 13:01:25.784541: I tensorflow/stream_executor/cuda/cuda_gpu_executor.cc:937] successful NUMA node read from SysFS had negative value (-1), but there must be at least one NUMA node, so returning NUMA node zero\n",
      "2022-06-01 13:01:25.785855: I tensorflow/stream_executor/cuda/cuda_gpu_executor.cc:937] successful NUMA node read from SysFS had negative value (-1), but there must be at least one NUMA node, so returning NUMA node zero\n",
      "2022-06-01 13:01:25.786831: I tensorflow/stream_executor/cuda/cuda_gpu_executor.cc:937] successful NUMA node read from SysFS had negative value (-1), but there must be at least one NUMA node, so returning NUMA node zero\n",
      "2022-06-01 13:01:25.787705: I tensorflow/core/common_runtime/gpu/gpu_device.cc:1510] Created device /job:localhost/replica:0/task:0/device:GPU:0 with 15403 MB memory:  -> device: 0, name: Tesla P100-PCIE-16GB, pci bus id: 0000:00:04.0, compute capability: 6.0\n"
     ]
    },
    {
     "name": "stdout",
     "output_type": "stream",
     "text": [
      "Model: \"model\"\n",
      "__________________________________________________________________________________________________\n",
      "Layer (type)                    Output Shape         Param #     Connected to                     \n",
      "==================================================================================================\n",
      "input_1 (InputLayer)            [(None, 189)]        0                                            \n",
      "__________________________________________________________________________________________________\n",
      "dense (Dense)                   (None, 256)          48640       input_1[0][0]                    \n",
      "__________________________________________________________________________________________________\n",
      "dense_1 (Dense)                 (None, 128)          32896       dense[0][0]                      \n",
      "__________________________________________________________________________________________________\n",
      "dense_2 (Dense)                 (None, 64)           8256        dense_1[0][0]                    \n",
      "__________________________________________________________________________________________________\n",
      "dense_3 (Dense)                 (None, 32)           2080        dense_2[0][0]                    \n",
      "__________________________________________________________________________________________________\n",
      "concatenate (Concatenate)       (None, 288)          0           dense_3[0][0]                    \n",
      "                                                                 dense[0][0]                      \n",
      "__________________________________________________________________________________________________\n",
      "dropout (Dropout)               (None, 288)          0           concatenate[0][0]                \n",
      "__________________________________________________________________________________________________\n",
      "dense_4 (Dense)                 (None, 16)           4624        dropout[0][0]                    \n",
      "__________________________________________________________________________________________________\n",
      "dense_5 (Dense)                 (None, 1)            17          dense_4[0][0]                    \n",
      "==================================================================================================\n",
      "Total params: 96,513\n",
      "Trainable params: 96,513\n",
      "Non-trainable params: 0\n",
      "__________________________________________________________________________________________________\n",
      "CPU times: user 666 ms, sys: 560 ms, total: 1.23 s\n",
      "Wall time: 3.05 s\n"
     ]
    }
   ],
   "source": [
    "%%time\n",
    "architecture = nn_model()\n",
    "architecture.summary()"
   ]
  },
  {
   "cell_type": "code",
   "execution_count": 47,
   "id": "1e21e064",
   "metadata": {
    "execution": {
     "iopub.execute_input": "2022-06-01T13:01:26.247500Z",
     "iopub.status.busy": "2022-06-01T13:01:26.246637Z",
     "iopub.status.idle": "2022-06-01T13:01:27.497832Z",
     "shell.execute_reply": "2022-06-01T13:01:27.496755Z"
    },
    "papermill": {
     "duration": 1.278362,
     "end_time": "2022-06-01T13:01:27.499759",
     "exception": false,
     "start_time": "2022-06-01T13:01:26.221397",
     "status": "completed"
    },
    "tags": []
   },
   "outputs": [
    {
     "name": "stdout",
     "output_type": "stream",
     "text": [
      "CPU times: user 63 ms, sys: 125 ms, total: 188 ms\n",
      "Wall time: 1.24 s\n"
     ]
    },
    {
     "data": {
      "image/png": "[encoded data removed]",
      "text/plain": [
       "<IPython.core.display.Image object>"
      ]
     },
     "execution_count": 47,
     "metadata": {},
     "output_type": "execute_result"
    }
   ],
   "source": [
    "%%time\n",
    "plot_model(nn_model(), show_layer_names = False, show_shapes = True, dpi = 60)"
   ]
  },
  {
   "cell_type": "markdown",
   "id": "c0825bc1",
   "metadata": {
    "papermill": {
     "duration": 0.036842,
     "end_time": "2022-06-01T13:01:27.563121",
     "exception": false,
     "start_time": "2022-06-01T13:01:27.526279",
     "status": "completed"
    },
    "tags": []
   },
   "source": [
    "---"
   ]
  },
  {
   "cell_type": "markdown",
   "id": "31f8bb23",
   "metadata": {
    "papermill": {
     "duration": 0.047084,
     "end_time": "2022-06-01T13:01:27.656602",
     "exception": false,
     "start_time": "2022-06-01T13:01:27.609518",
     "status": "completed"
    },
    "tags": []
   },
   "source": [
    "## 10.5 Defining Model Training Parameters..."
   ]
  },
  {
   "cell_type": "code",
   "execution_count": 48,
   "id": "243b9b20",
   "metadata": {
    "execution": {
     "iopub.execute_input": "2022-06-01T13:01:27.738081Z",
     "iopub.status.busy": "2022-06-01T13:01:27.737617Z",
     "iopub.status.idle": "2022-06-01T13:01:27.746777Z",
     "shell.execute_reply": "2022-06-01T13:01:27.746061Z"
    },
    "papermill": {
     "duration": 0.051884,
     "end_time": "2022-06-01T13:01:27.749032",
     "exception": false,
     "start_time": "2022-06-01T13:01:27.697148",
     "status": "completed"
    },
    "tags": []
   },
   "outputs": [
    {
     "name": "stdout",
     "output_type": "stream",
     "text": [
      "CPU times: user 5 µs, sys: 0 ns, total: 5 µs\n",
      "Wall time: 10.5 µs\n"
     ]
    }
   ],
   "source": [
    "%%time\n",
    "# Defining model parameters...\n",
    "BATCH_SIZE         = 2048\n",
    "EPOCHS             = 192 \n",
    "EPOCHS_COSINEDECAY = 192 \n",
    "DIAGRAMS           = True\n",
    "USE_PLATEAU        = False\n",
    "INFERENCE          = False\n",
    "VERBOSE            = 0 \n",
    "TARGET             = 'target'"
   ]
  },
  {
   "cell_type": "markdown",
   "id": "5a1920cc",
   "metadata": {
    "papermill": {
     "duration": 0.039632,
     "end_time": "2022-06-01T13:01:27.824371",
     "exception": false,
     "start_time": "2022-06-01T13:01:27.784739",
     "status": "completed"
    },
    "tags": []
   },
   "source": [
    "---"
   ]
  },
  {
   "cell_type": "markdown",
   "id": "f66b953a",
   "metadata": {
    "papermill": {
     "duration": 0.039313,
     "end_time": "2022-06-01T13:01:27.903526",
     "exception": false,
     "start_time": "2022-06-01T13:01:27.864213",
     "status": "completed"
    },
    "tags": []
   },
   "source": [
    "## 10.6 Defining the Model Training Configuration..."
   ]
  },
  {
   "cell_type": "code",
   "execution_count": 49,
   "id": "ce2d0923",
   "metadata": {
    "execution": {
     "iopub.execute_input": "2022-06-01T13:01:27.996117Z",
     "iopub.status.busy": "2022-06-01T13:01:27.995685Z",
     "iopub.status.idle": "2022-06-01T13:01:28.010990Z",
     "shell.execute_reply": "2022-06-01T13:01:28.010061Z"
    },
    "papermill": {
     "duration": 0.058541,
     "end_time": "2022-06-01T13:01:28.013368",
     "exception": false,
     "start_time": "2022-06-01T13:01:27.954827",
     "status": "completed"
    },
    "tags": []
   },
   "outputs": [
    {
     "name": "stdout",
     "output_type": "stream",
     "text": [
      "CPU times: user 6 µs, sys: 0 ns, total: 6 µs\n",
      "Wall time: 9.78 µs\n"
     ]
    }
   ],
   "source": [
    " %%time\n",
    "# Defining model training function...\n",
    "def fit_model(X_train, y_train, X_val, y_val, run = 0):\n",
    "    '''\n",
    "    '''\n",
    "    lr_start = 0.01\n",
    "    start_time = datetime.datetime.now()\n",
    "    \n",
    "    scaler = StandardScaler()\n",
    "    X_train = scaler.fit_transform(X_train)\n",
    "\n",
    "    epochs = EPOCHS    \n",
    "    lr = ReduceLROnPlateau(monitor = 'val_loss', factor = 0.7, patience = 4, verbose = VERBOSE)\n",
    "    es = EarlyStopping(monitor = 'val_loss',patience = 12, verbose = 1, mode = 'min', restore_best_weights = True)\n",
    "    tm = tf.keras.callbacks.TerminateOnNaN()\n",
    "    callbacks = [lr, es, tm]\n",
    "    \n",
    "    # Cosine Learning Rate Decay\n",
    "    if USE_PLATEAU == False:\n",
    "        epochs = EPOCHS_COSINEDECAY\n",
    "        lr_end = 0.0002\n",
    "\n",
    "        def cosine_decay(epoch):\n",
    "            if epochs > 1:\n",
    "                w = (1 + math.cos(epoch / (epochs - 1) * math.pi)) / 2\n",
    "            else:\n",
    "                w = 1\n",
    "            return w * lr_start + (1 - w) * lr_end\n",
    "        \n",
    "        lr = LearningRateScheduler(cosine_decay, verbose = 0)\n",
    "        callbacks = [lr, tm]\n",
    "    \n",
    "    # Model Initialization...\n",
    "    model = nn_model()\n",
    "    optimizer_func = tf.keras.optimizers.Adam(learning_rate = lr_start)\n",
    "    loss_func = tf.keras.losses.BinaryCrossentropy()\n",
    "    model.compile(optimizer = optimizer_func, loss = loss_func)\n",
    "    \n",
    "    \n",
    "    X_val = scaler.transform(X_val)\n",
    "    validation_data = (X_val, y_val)\n",
    "    \n",
    "    history = model.fit(X_train, \n",
    "                        y_train, \n",
    "                        validation_data = validation_data, \n",
    "                        epochs          = epochs,\n",
    "                        verbose         = VERBOSE,\n",
    "                        batch_size      = BATCH_SIZE,\n",
    "                        shuffle         = True,\n",
    "                        callbacks       = callbacks\n",
    "                       )\n",
    "    \n",
    "    history_list.append(history.history)\n",
    "    \n",
    "    print(f'Training Loss: {history_list[-1][\"loss\"][-1]:.5f}, Validation Loss: {history_list[-1][\"val_loss\"][-1]:.5f}')\n",
    "    callbacks, es, lr, tm, history = None, None, None, None, None\n",
    "    \n",
    "    \n",
    "    y_val_pred = model.predict(X_val, batch_size = BATCH_SIZE, verbose = VERBOSE).ravel()\n",
    "    amex_score = amex_metric(y_val.values, y_val_pred, return_components = False)\n",
    "    \n",
    "    print(f'Fold {run}.{fold} | {str(datetime.datetime.now() - start_time)[-12:-7]}'\n",
    "          f'| Amex Score: {amex_score:.5f}')\n",
    "    \n",
    "    print('')\n",
    "    \n",
    "    score_list.append(amex_score)\n",
    "    \n",
    "    tst_data_scaled = scaler.transform(tst_agg_data[features])\n",
    "    tst_pred = model.predict(tst_data_scaled)\n",
    "    predictions.append(tst_pred)\n",
    "    \n",
    "    return model"
   ]
  },
  {
   "cell_type": "markdown",
   "id": "71f928dd",
   "metadata": {
    "papermill": {
     "duration": 0.038266,
     "end_time": "2022-06-01T13:01:28.095041",
     "exception": false,
     "start_time": "2022-06-01T13:01:28.056775",
     "status": "completed"
    },
    "tags": []
   },
   "source": [
    "---"
   ]
  },
  {
   "cell_type": "markdown",
   "id": "978ad814",
   "metadata": {
    "papermill": {
     "duration": 0.043576,
     "end_time": "2022-06-01T13:01:28.194291",
     "exception": false,
     "start_time": "2022-06-01T13:01:28.150715",
     "status": "completed"
    },
    "tags": []
   },
   "source": [
    "## 10.7 Creating a Model Training Loop and Cross Validating in 5 Folds... "
   ]
  },
  {
   "cell_type": "code",
   "execution_count": 50,
   "id": "23211d60",
   "metadata": {
    "execution": {
     "iopub.execute_input": "2022-06-01T13:01:28.280591Z",
     "iopub.status.busy": "2022-06-01T13:01:28.279855Z",
     "iopub.status.idle": "2022-06-01T13:19:48.128604Z",
     "shell.execute_reply": "2022-06-01T13:19:48.127541Z"
    },
    "papermill": {
     "duration": 1099.923158,
     "end_time": "2022-06-01T13:19:48.159405",
     "exception": false,
     "start_time": "2022-06-01T13:01:28.236247",
     "status": "completed"
    },
    "tags": []
   },
   "outputs": [
    {
     "name": "stderr",
     "output_type": "stream",
     "text": [
      "2022-06-01 13:01:32.846202: I tensorflow/compiler/mlir/mlir_graph_optimization_pass.cc:185] None of the MLIR Optimization Passes are enabled (registered 2)\n"
     ]
    },
    {
     "name": "stdout",
     "output_type": "stream",
     "text": [
      "Training Loss: 0.22576, Validation Loss: 0.22949\n",
      "Fold 0.0 | 02:51| Amex Score: 0.78215\n",
      "\n"
     ]
    },
    {
     "name": "stderr",
     "output_type": "stream",
     "text": [
      "2022-06-01 13:04:26.078102: W tensorflow/core/framework/cpu_allocator_impl.cc:80] Allocation of 699013476 exceeds 10% of free system memory.\n",
      "2022-06-01 13:04:26.779453: W tensorflow/core/framework/cpu_allocator_impl.cc:80] Allocation of 699013476 exceeds 10% of free system memory.\n"
     ]
    },
    {
     "name": "stdout",
     "output_type": "stream",
     "text": [
      "Training Loss: 0.22580, Validation Loss: 0.22946\n",
      "Fold 0.1 | 03:25| Amex Score: 0.78102\n",
      "\n"
     ]
    },
    {
     "name": "stderr",
     "output_type": "stream",
     "text": [
      "2022-06-01 13:08:39.652095: W tensorflow/core/framework/cpu_allocator_impl.cc:80] Allocation of 699013476 exceeds 10% of free system memory.\n",
      "2022-06-01 13:08:40.367471: W tensorflow/core/framework/cpu_allocator_impl.cc:80] Allocation of 699013476 exceeds 10% of free system memory.\n"
     ]
    },
    {
     "name": "stdout",
     "output_type": "stream",
     "text": [
      "Training Loss: 0.22636, Validation Loss: 0.22729\n",
      "Fold 0.2 | 02:49| Amex Score: 0.78334\n",
      "\n"
     ]
    },
    {
     "name": "stderr",
     "output_type": "stream",
     "text": [
      "2022-06-01 13:12:16.277467: W tensorflow/core/framework/cpu_allocator_impl.cc:80] Allocation of 699013476 exceeds 10% of free system memory.\n"
     ]
    },
    {
     "name": "stdout",
     "output_type": "stream",
     "text": [
      "Training Loss: 0.22665, Validation Loss: 0.22585\n",
      "Fold 0.3 | 02:51| Amex Score: 0.78439\n",
      "\n",
      "Training Loss: 0.22688, Validation Loss: 0.22541\n",
      "Fold 0.4 | 02:53| Amex Score: 0.78606\n",
      "\n",
      "OOF AUC: 0.78339\n",
      "CPU times: user 22min 41s, sys: 1min 41s, total: 24min 23s\n",
      "Wall time: 18min 19s\n"
     ]
    }
   ],
   "source": [
    "%%time\n",
    "from sklearn.model_selection import KFold\n",
    "from sklearn.metrics import roc_auc_score, roc_curve\n",
    "import math\n",
    "\n",
    "# Create empty lists to store NN information...\n",
    "history_list = []\n",
    "score_list   = []\n",
    "predictions  = []\n",
    "\n",
    "# Define kfolds for training purposes...\n",
    "kf = KFold(n_splits = 5)\n",
    "\n",
    "for fold, (trn_idx, val_idx) in enumerate(kf.split(trn_agg_data)):\n",
    "    X_train, X_val = trn_agg_data.iloc[trn_idx][features], trn_agg_data.iloc[val_idx][features]\n",
    "    y_train, y_val = trn_agg_data.iloc[trn_idx][TARGET], trn_agg_data.iloc[val_idx][TARGET]\n",
    "    \n",
    "    fit_model(X_train, y_train, X_val, y_val)\n",
    "    \n",
    "print(f'OOF AUC: {np.mean(score_list):.5f}')"
   ]
  },
  {
   "cell_type": "markdown",
   "id": "8dd7ad9b",
   "metadata": {
    "papermill": {
     "duration": 0.027573,
     "end_time": "2022-06-01T13:19:48.214610",
     "exception": false,
     "start_time": "2022-06-01T13:19:48.187037",
     "status": "completed"
    },
    "tags": []
   },
   "source": [
    "---"
   ]
  },
  {
   "cell_type": "markdown",
   "id": "42714986",
   "metadata": {
    "papermill": {
     "duration": 0.026279,
     "end_time": "2022-06-01T13:19:48.267765",
     "exception": false,
     "start_time": "2022-06-01T13:19:48.241486",
     "status": "completed"
    },
    "tags": []
   },
   "source": [
    "# 11.0 Model Prediction and Submissions"
   ]
  },
  {
   "cell_type": "code",
   "execution_count": 51,
   "id": "5449712f",
   "metadata": {
    "execution": {
     "iopub.execute_input": "2022-06-01T13:19:48.324686Z",
     "iopub.status.busy": "2022-06-01T13:19:48.324103Z",
     "iopub.status.idle": "2022-06-01T13:19:48.342344Z",
     "shell.execute_reply": "2022-06-01T13:19:48.341027Z"
    },
    "papermill": {
     "duration": 0.049656,
     "end_time": "2022-06-01T13:19:48.344298",
     "exception": false,
     "start_time": "2022-06-01T13:19:48.294642",
     "status": "completed"
    },
    "tags": []
   },
   "outputs": [
    {
     "name": "stdout",
     "output_type": "stream",
     "text": [
      "CPU times: user 188 µs, sys: 14 µs, total: 202 µs\n",
      "Wall time: 767 µs\n"
     ]
    },
    {
     "data": {
      "text/html": [
       "<div>\n",
       "<style scoped>\n",
       "    .dataframe tbody tr th:only-of-type {\n",
       "        vertical-align: middle;\n",
       "    }\n",
       "\n",
       "    .dataframe tbody tr th {\n",
       "        vertical-align: top;\n",
       "    }\n",
       "\n",
       "    .dataframe thead th {\n",
       "        text-align: right;\n",
       "    }\n",
       "</style>\n",
       "<table border=\"1\" class=\"dataframe\">\n",
       "  <thead>\n",
       "    <tr style=\"text-align: right;\">\n",
       "      <th></th>\n",
       "      <th>customer_ID</th>\n",
       "      <th>prediction</th>\n",
       "    </tr>\n",
       "  </thead>\n",
       "  <tbody>\n",
       "    <tr>\n",
       "      <th>0</th>\n",
       "      <td>00000469ba478561f23a92a868bd366de6f6527a684c9a...</td>\n",
       "      <td>0</td>\n",
       "    </tr>\n",
       "    <tr>\n",
       "      <th>1</th>\n",
       "      <td>00001bf2e77ff879fab36aa4fac689b9ba411dae63ae39...</td>\n",
       "      <td>0</td>\n",
       "    </tr>\n",
       "    <tr>\n",
       "      <th>2</th>\n",
       "      <td>0000210045da4f81e5f122c6bde5c2a617d03eef67f82c...</td>\n",
       "      <td>0</td>\n",
       "    </tr>\n",
       "    <tr>\n",
       "      <th>3</th>\n",
       "      <td>00003b41e58ede33b8daf61ab56d9952f17c9ad1c3976c...</td>\n",
       "      <td>0</td>\n",
       "    </tr>\n",
       "    <tr>\n",
       "      <th>4</th>\n",
       "      <td>00004b22eaeeeb0ec976890c1d9bfc14fd9427e98c4ee9...</td>\n",
       "      <td>0</td>\n",
       "    </tr>\n",
       "  </tbody>\n",
       "</table>\n",
       "</div>"
      ],
      "text/plain": [
       "                                         customer_ID  prediction\n",
       "0  00000469ba478561f23a92a868bd366de6f6527a684c9a...           0\n",
       "1  00001bf2e77ff879fab36aa4fac689b9ba411dae63ae39...           0\n",
       "2  0000210045da4f81e5f122c6bde5c2a617d03eef67f82c...           0\n",
       "3  00003b41e58ede33b8daf61ab56d9952f17c9ad1c3976c...           0\n",
       "4  00004b22eaeeeb0ec976890c1d9bfc14fd9427e98c4ee9...           0"
      ]
     },
     "execution_count": 51,
     "metadata": {},
     "output_type": "execute_result"
    }
   ],
   "source": [
    "%%time\n",
    "sub.head()"
   ]
  },
  {
   "cell_type": "code",
   "execution_count": 52,
   "id": "a3de3b8c",
   "metadata": {
    "execution": {
     "iopub.execute_input": "2022-06-01T13:19:48.400508Z",
     "iopub.status.busy": "2022-06-01T13:19:48.399633Z",
     "iopub.status.idle": "2022-06-01T13:19:48.415453Z",
     "shell.execute_reply": "2022-06-01T13:19:48.414338Z"
    },
    "papermill": {
     "duration": 0.046065,
     "end_time": "2022-06-01T13:19:48.417701",
     "exception": false,
     "start_time": "2022-06-01T13:19:48.371636",
     "status": "completed"
    },
    "tags": []
   },
   "outputs": [
    {
     "name": "stdout",
     "output_type": "stream",
     "text": [
      "CPU times: user 9.4 ms, sys: 11 µs, total: 9.41 ms\n",
      "Wall time: 10.1 ms\n"
     ]
    }
   ],
   "source": [
    "%%time\n",
    "sub['prediction'] = np.array(predictions).mean(axis = 0)"
   ]
  },
  {
   "cell_type": "code",
   "execution_count": 53,
   "id": "3ab3269a",
   "metadata": {
    "execution": {
     "iopub.execute_input": "2022-06-01T13:19:48.473698Z",
     "iopub.status.busy": "2022-06-01T13:19:48.473349Z",
     "iopub.status.idle": "2022-06-01T13:19:52.853086Z",
     "shell.execute_reply": "2022-06-01T13:19:52.852236Z"
    },
    "papermill": {
     "duration": 4.410244,
     "end_time": "2022-06-01T13:19:52.855395",
     "exception": false,
     "start_time": "2022-06-01T13:19:48.445151",
     "status": "completed"
    },
    "tags": []
   },
   "outputs": [
    {
     "name": "stdout",
     "output_type": "stream",
     "text": [
      "CPU times: user 4.25 s, sys: 90.9 ms, total: 4.34 s\n",
      "Wall time: 4.37 s\n"
     ]
    }
   ],
   "source": [
    "%%time\n",
    "sub.to_csv('my_submission.csv', index = False)"
   ]
  },
  {
   "cell_type": "code",
   "execution_count": 54,
   "id": "8724426a",
   "metadata": {
    "execution": {
     "iopub.execute_input": "2022-06-01T13:19:52.910967Z",
     "iopub.status.busy": "2022-06-01T13:19:52.910293Z",
     "iopub.status.idle": "2022-06-01T13:19:52.921403Z",
     "shell.execute_reply": "2022-06-01T13:19:52.919688Z"
    },
    "papermill": {
     "duration": 0.041254,
     "end_time": "2022-06-01T13:19:52.923642",
     "exception": false,
     "start_time": "2022-06-01T13:19:52.882388",
     "status": "completed"
    },
    "tags": []
   },
   "outputs": [
    {
     "name": "stdout",
     "output_type": "stream",
     "text": [
      "CPU times: user 113 µs, sys: 9 µs, total: 122 µs\n",
      "Wall time: 127 µs\n"
     ]
    },
    {
     "data": {
      "text/html": [
       "<div>\n",
       "<style scoped>\n",
       "    .dataframe tbody tr th:only-of-type {\n",
       "        vertical-align: middle;\n",
       "    }\n",
       "\n",
       "    .dataframe tbody tr th {\n",
       "        vertical-align: top;\n",
       "    }\n",
       "\n",
       "    .dataframe thead th {\n",
       "        text-align: right;\n",
       "    }\n",
       "</style>\n",
       "<table border=\"1\" class=\"dataframe\">\n",
       "  <thead>\n",
       "    <tr style=\"text-align: right;\">\n",
       "      <th></th>\n",
       "      <th>customer_ID</th>\n",
       "      <th>prediction</th>\n",
       "    </tr>\n",
       "  </thead>\n",
       "  <tbody>\n",
       "    <tr>\n",
       "      <th>0</th>\n",
       "      <td>00000469ba478561f23a92a868bd366de6f6527a684c9a...</td>\n",
       "      <td>0.02286</td>\n",
       "    </tr>\n",
       "    <tr>\n",
       "      <th>1</th>\n",
       "      <td>00001bf2e77ff879fab36aa4fac689b9ba411dae63ae39...</td>\n",
       "      <td>0.00233</td>\n",
       "    </tr>\n",
       "    <tr>\n",
       "      <th>2</th>\n",
       "      <td>0000210045da4f81e5f122c6bde5c2a617d03eef67f82c...</td>\n",
       "      <td>0.03613</td>\n",
       "    </tr>\n",
       "    <tr>\n",
       "      <th>3</th>\n",
       "      <td>00003b41e58ede33b8daf61ab56d9952f17c9ad1c3976c...</td>\n",
       "      <td>0.42969</td>\n",
       "    </tr>\n",
       "    <tr>\n",
       "      <th>4</th>\n",
       "      <td>00004b22eaeeeb0ec976890c1d9bfc14fd9427e98c4ee9...</td>\n",
       "      <td>0.90672</td>\n",
       "    </tr>\n",
       "  </tbody>\n",
       "</table>\n",
       "</div>"
      ],
      "text/plain": [
       "                                         customer_ID  prediction\n",
       "0  00000469ba478561f23a92a868bd366de6f6527a684c9a...     0.02286\n",
       "1  00001bf2e77ff879fab36aa4fac689b9ba411dae63ae39...     0.00233\n",
       "2  0000210045da4f81e5f122c6bde5c2a617d03eef67f82c...     0.03613\n",
       "3  00003b41e58ede33b8daf61ab56d9952f17c9ad1c3976c...     0.42969\n",
       "4  00004b22eaeeeb0ec976890c1d9bfc14fd9427e98c4ee9...     0.90672"
      ]
     },
     "execution_count": 54,
     "metadata": {},
     "output_type": "execute_result"
    }
   ],
   "source": [
    "%%time\n",
    "sub.head()"
   ]
  },
  {
   "cell_type": "markdown",
   "id": "6004e55a",
   "metadata": {
    "papermill": {
     "duration": 0.02661,
     "end_time": "2022-06-01T13:19:52.978359",
     "exception": false,
     "start_time": "2022-06-01T13:19:52.951749",
     "status": "completed"
    },
    "tags": []
   },
   "source": [
    "---"
   ]
  }
 ],
 "metadata": {
  "kernelspec": {
   "display_name": "Python 3",
   "language": "python",
   "name": "python3"
  },
  "language_info": {
   "codemirror_mode": {
    "name": "ipython",
    "version": 3
   },
   "file_extension": ".py",
   "mimetype": "text/x-python",
   "name": "python",
   "nbconvert_exporter": "python",
   "pygments_lexer": "ipython3",
   "version": "3.7.12"
  },
  "papermill": {
   "default_parameters": {},
   "duration": 1402.284203,
   "end_time": "2022-06-01T13:19:55.734037",
   "environment_variables": {},
   "exception": null,
   "input_path": "__notebook__.ipynb",
   "output_path": "__notebook__.ipynb",
   "parameters": {},
   "start_time": "2022-06-01T12:56:33.449834",
   "version": "2.3.4"
  }
 },
 "nbformat": 4,
 "nbformat_minor": 5
}
