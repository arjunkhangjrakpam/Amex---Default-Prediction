{
 "cells": [
  {
   "cell_type": "markdown",
   "id": "f48e6298",
   "metadata": {
    "papermill": {
     "duration": 0.005798,
     "end_time": "2022-05-28T11:55:43.006131",
     "exception": false,
     "start_time": "2022-05-28T11:55:43.000333",
     "status": "completed"
    },
    "tags": []
   },
   "source": [
    "# Import Libraries"
   ]
  },
  {
   "cell_type": "code",
   "execution_count": 18,
   "id": "5183d0c6",
   "metadata": {
    "execution": {
     "iopub.execute_input": "2022-05-28T11:55:43.020410Z",
     "iopub.status.busy": "2022-05-28T11:55:43.019527Z",
     "iopub.status.idle": "2022-05-28T11:55:44.479314Z",
     "shell.execute_reply": "2022-05-28T11:55:44.478394Z"
    },
    "papermill": {
     "duration": 1.468715,
     "end_time": "2022-05-28T11:55:44.482172",
     "exception": false,
     "start_time": "2022-05-28T11:55:43.013457",
     "status": "completed"
    },
    "tags": []
   },
   "outputs": [],
   "source": [
    "import pandas as pd\n",
    "import numpy as np\n",
    "from catboost import CatBoostClassifier\n",
    "from sklearn.model_selection import StratifiedKFold\n",
    "from sklearn.preprocessing import LabelEncoder\n",
    "import os\n",
    "import pickle\n",
    "os.chdir(f'C:\\\\Users\\\\Khangjrakpam Arjun\\\\OneDrive - McKinsey & Company\\\\Documents\\\\ARJUN\\\\ML\\\\COMPETITIONS\\\\Amex\\\\amex-default-prediction\\\\data')"
   ]
  },
  {
   "cell_type": "code",
   "execution_count": 3,
   "id": "3d1c4d93",
   "metadata": {},
   "outputs": [],
   "source": [
    "os.chdir(f'C:\\\\Users\\\\Khangjrakpam Arjun\\\\OneDrive - McKinsey & Company\\\\Documents\\\\ARJUN\\\\ML\\\\COMPETITIONS\\\\Amex\\\\amex-default-prediction\\\\preprocessed_data')"
   ]
  },
  {
   "cell_type": "markdown",
   "id": "6677cfe0",
   "metadata": {
    "papermill": {
     "duration": 0.004526,
     "end_time": "2022-05-28T11:55:44.491633",
     "exception": false,
     "start_time": "2022-05-28T11:55:44.487107",
     "status": "completed"
    },
    "tags": []
   },
   "source": [
    "Aggregated data are shared in dataset: https://www.kaggle.com/datasets/huseyincot/amex-agg-data-pickle\n",
    "Data created with following code: https://www.kaggle.com/code/huseyincot/amex-agg-data-how-it-created"
   ]
  },
  {
   "cell_type": "code",
   "execution_count": 4,
   "id": "c2943985",
   "metadata": {
    "execution": {
     "iopub.execute_input": "2022-05-28T11:55:44.502668Z",
     "iopub.status.busy": "2022-05-28T11:55:44.502267Z",
     "iopub.status.idle": "2022-05-28T11:56:42.541818Z",
     "shell.execute_reply": "2022-05-28T11:56:42.540700Z"
    },
    "papermill": {
     "duration": 58.047837,
     "end_time": "2022-05-28T11:56:42.544193",
     "exception": false,
     "start_time": "2022-05-28T11:55:44.496356",
     "status": "completed"
    },
    "tags": []
   },
   "outputs": [],
   "source": [
    "train = pd.read_pickle(\"train_agg_imputed_with_median.pkl\")\n",
    "test = pd.read_pickle(\"test_agg_imputed_with_median.pkl\")"
   ]
  },
  {
   "cell_type": "code",
   "execution_count": 5,
   "id": "54695340",
   "metadata": {},
   "outputs": [
    {
     "name": "stdout",
     "output_type": "stream",
     "text": [
      "<class 'pandas.core.frame.DataFrame'>\n",
      "Index: 458913 entries, 0000099d6bd597052cdcda90ffabf56573fe9d7c79be5fbac11a8ed792feb62a to fffff1d38b785cef84adeace64f8f83db3a0c31e8d92eaba8b115f71cab04681\n",
      "Columns: 1048 entries, B_10_mean to target\n",
      "dtypes: float64(993), int64(55)\n",
      "memory usage: 3.6+ GB\n"
     ]
    }
   ],
   "source": [
    "train.info()"
   ]
  },
  {
   "cell_type": "code",
   "execution_count": 6,
   "id": "762e4454",
   "metadata": {},
   "outputs": [
    {
     "name": "stdout",
     "output_type": "stream",
     "text": [
      "<class 'pandas.core.frame.DataFrame'>\n",
      "Index: 924621 entries, 00000469ba478561f23a92a868bd366de6f6527a684c9a2e78fb826dcac3b9b7 to fffffa7cf7e453e1acc6a1426475d5cb9400859f82ff61cceb803ea8ec37634d\n",
      "Columns: 1047 entries, B_10_mean to D_64_nunique\n",
      "dtypes: float64(993), int64(54)\n",
      "memory usage: 7.2+ GB\n"
     ]
    }
   ],
   "source": [
    "test.info()"
   ]
  },
  {
   "cell_type": "code",
   "execution_count": 7,
   "id": "ee7659d1",
   "metadata": {
    "execution": {
     "iopub.execute_input": "2022-05-28T11:56:42.555806Z",
     "iopub.status.busy": "2022-05-28T11:56:42.555361Z",
     "iopub.status.idle": "2022-05-28T11:56:42.837400Z",
     "shell.execute_reply": "2022-05-28T11:56:42.836512Z"
    },
    "papermill": {
     "duration": 0.291174,
     "end_time": "2022-05-28T11:56:42.840521",
     "exception": false,
     "start_time": "2022-05-28T11:56:42.549347",
     "status": "completed"
    },
    "tags": []
   },
   "outputs": [
    {
     "data": {
      "text/html": [
       "<div>\n",
       "<style scoped>\n",
       "    .dataframe tbody tr th:only-of-type {\n",
       "        vertical-align: middle;\n",
       "    }\n",
       "\n",
       "    .dataframe tbody tr th {\n",
       "        vertical-align: top;\n",
       "    }\n",
       "\n",
       "    .dataframe thead th {\n",
       "        text-align: right;\n",
       "    }\n",
       "</style>\n",
       "<table border=\"1\" class=\"dataframe\">\n",
       "  <thead>\n",
       "    <tr style=\"text-align: right;\">\n",
       "      <th></th>\n",
       "      <th>B_10_mean</th>\n",
       "      <th>B_10_std</th>\n",
       "      <th>B_10_min</th>\n",
       "      <th>B_10_max</th>\n",
       "      <th>B_10_last</th>\n",
       "      <th>B_10_median</th>\n",
       "      <th>B_11_mean</th>\n",
       "      <th>B_11_std</th>\n",
       "      <th>B_11_min</th>\n",
       "      <th>B_11_max</th>\n",
       "      <th>...</th>\n",
       "      <th>D_126_count</th>\n",
       "      <th>D_126_last</th>\n",
       "      <th>D_126_nunique</th>\n",
       "      <th>D_63_count</th>\n",
       "      <th>D_63_last</th>\n",
       "      <th>D_63_nunique</th>\n",
       "      <th>D_64_count</th>\n",
       "      <th>D_64_last</th>\n",
       "      <th>D_64_nunique</th>\n",
       "      <th>target</th>\n",
       "    </tr>\n",
       "    <tr>\n",
       "      <th>customer_ID</th>\n",
       "      <th></th>\n",
       "      <th></th>\n",
       "      <th></th>\n",
       "      <th></th>\n",
       "      <th></th>\n",
       "      <th></th>\n",
       "      <th></th>\n",
       "      <th></th>\n",
       "      <th></th>\n",
       "      <th></th>\n",
       "      <th></th>\n",
       "      <th></th>\n",
       "      <th></th>\n",
       "      <th></th>\n",
       "      <th></th>\n",
       "      <th></th>\n",
       "      <th></th>\n",
       "      <th></th>\n",
       "      <th></th>\n",
       "      <th></th>\n",
       "      <th></th>\n",
       "    </tr>\n",
       "  </thead>\n",
       "  <tbody>\n",
       "    <tr>\n",
       "      <th>0000099d6bd597052cdcda90ffabf56573fe9d7c79be5fbac11a8ed792feb62a</th>\n",
       "      <td>0.316065</td>\n",
       "      <td>NaN</td>\n",
       "      <td>0.316065</td>\n",
       "      <td>0.316065</td>\n",
       "      <td>0.316065</td>\n",
       "      <td>0.316065</td>\n",
       "      <td>0.008733</td>\n",
       "      <td>NaN</td>\n",
       "      <td>0.008733</td>\n",
       "      <td>0.008733</td>\n",
       "      <td>...</td>\n",
       "      <td>1</td>\n",
       "      <td>2.0</td>\n",
       "      <td>1</td>\n",
       "      <td>1</td>\n",
       "      <td>0.0</td>\n",
       "      <td>1</td>\n",
       "      <td>1</td>\n",
       "      <td>0.0</td>\n",
       "      <td>1</td>\n",
       "      <td>0</td>\n",
       "    </tr>\n",
       "    <tr>\n",
       "      <th>00000fd6641609c6ece5454664794f0340ad84dddce9a267a310b5ae68e9d8e5</th>\n",
       "      <td>0.299325</td>\n",
       "      <td>NaN</td>\n",
       "      <td>0.299325</td>\n",
       "      <td>0.299325</td>\n",
       "      <td>0.299325</td>\n",
       "      <td>0.299325</td>\n",
       "      <td>0.008047</td>\n",
       "      <td>NaN</td>\n",
       "      <td>0.008047</td>\n",
       "      <td>0.008047</td>\n",
       "      <td>...</td>\n",
       "      <td>1</td>\n",
       "      <td>2.0</td>\n",
       "      <td>1</td>\n",
       "      <td>1</td>\n",
       "      <td>3.0</td>\n",
       "      <td>1</td>\n",
       "      <td>1</td>\n",
       "      <td>0.0</td>\n",
       "      <td>1</td>\n",
       "      <td>0</td>\n",
       "    </tr>\n",
       "    <tr>\n",
       "      <th>00001b22f846c82c51f6e3958ccd81970162bae8b007e80662ef27519fcc18c1</th>\n",
       "      <td>0.300219</td>\n",
       "      <td>NaN</td>\n",
       "      <td>0.300219</td>\n",
       "      <td>0.300219</td>\n",
       "      <td>0.300219</td>\n",
       "      <td>0.300219</td>\n",
       "      <td>0.005092</td>\n",
       "      <td>NaN</td>\n",
       "      <td>0.005092</td>\n",
       "      <td>0.005092</td>\n",
       "      <td>...</td>\n",
       "      <td>1</td>\n",
       "      <td>2.0</td>\n",
       "      <td>1</td>\n",
       "      <td>1</td>\n",
       "      <td>3.0</td>\n",
       "      <td>1</td>\n",
       "      <td>1</td>\n",
       "      <td>2.0</td>\n",
       "      <td>1</td>\n",
       "      <td>0</td>\n",
       "    </tr>\n",
       "    <tr>\n",
       "      <th>000041bdba6ecadd89a52d11886e8eaaec9325906c9723355abb5ca523658edc</th>\n",
       "      <td>0.302809</td>\n",
       "      <td>NaN</td>\n",
       "      <td>0.302809</td>\n",
       "      <td>0.302809</td>\n",
       "      <td>0.302809</td>\n",
       "      <td>0.302809</td>\n",
       "      <td>0.011032</td>\n",
       "      <td>NaN</td>\n",
       "      <td>0.011032</td>\n",
       "      <td>0.011032</td>\n",
       "      <td>...</td>\n",
       "      <td>1</td>\n",
       "      <td>2.0</td>\n",
       "      <td>1</td>\n",
       "      <td>1</td>\n",
       "      <td>3.0</td>\n",
       "      <td>1</td>\n",
       "      <td>1</td>\n",
       "      <td>0.0</td>\n",
       "      <td>1</td>\n",
       "      <td>0</td>\n",
       "    </tr>\n",
       "    <tr>\n",
       "      <th>00007889e4fcd2614b6cbe7f8f3d2e5c728eca32d9eb8ad51ca8b8c4a24cefed</th>\n",
       "      <td>0.058786</td>\n",
       "      <td>NaN</td>\n",
       "      <td>0.058786</td>\n",
       "      <td>0.058786</td>\n",
       "      <td>0.058786</td>\n",
       "      <td>0.058786</td>\n",
       "      <td>0.004283</td>\n",
       "      <td>NaN</td>\n",
       "      <td>0.004283</td>\n",
       "      <td>0.004283</td>\n",
       "      <td>...</td>\n",
       "      <td>1</td>\n",
       "      <td>2.0</td>\n",
       "      <td>1</td>\n",
       "      <td>1</td>\n",
       "      <td>3.0</td>\n",
       "      <td>1</td>\n",
       "      <td>1</td>\n",
       "      <td>0.0</td>\n",
       "      <td>1</td>\n",
       "      <td>0</td>\n",
       "    </tr>\n",
       "  </tbody>\n",
       "</table>\n",
       "<p>5 rows × 1048 columns</p>\n",
       "</div>"
      ],
      "text/plain": [
       "                                                    B_10_mean  B_10_std  \\\n",
       "customer_ID                                                               \n",
       "0000099d6bd597052cdcda90ffabf56573fe9d7c79be5fb...   0.316065       NaN   \n",
       "00000fd6641609c6ece5454664794f0340ad84dddce9a26...   0.299325       NaN   \n",
       "00001b22f846c82c51f6e3958ccd81970162bae8b007e80...   0.300219       NaN   \n",
       "000041bdba6ecadd89a52d11886e8eaaec9325906c97233...   0.302809       NaN   \n",
       "00007889e4fcd2614b6cbe7f8f3d2e5c728eca32d9eb8ad...   0.058786       NaN   \n",
       "\n",
       "                                                    B_10_min  B_10_max  \\\n",
       "customer_ID                                                              \n",
       "0000099d6bd597052cdcda90ffabf56573fe9d7c79be5fb...  0.316065  0.316065   \n",
       "00000fd6641609c6ece5454664794f0340ad84dddce9a26...  0.299325  0.299325   \n",
       "00001b22f846c82c51f6e3958ccd81970162bae8b007e80...  0.300219  0.300219   \n",
       "000041bdba6ecadd89a52d11886e8eaaec9325906c97233...  0.302809  0.302809   \n",
       "00007889e4fcd2614b6cbe7f8f3d2e5c728eca32d9eb8ad...  0.058786  0.058786   \n",
       "\n",
       "                                                    B_10_last  B_10_median  \\\n",
       "customer_ID                                                                  \n",
       "0000099d6bd597052cdcda90ffabf56573fe9d7c79be5fb...   0.316065     0.316065   \n",
       "00000fd6641609c6ece5454664794f0340ad84dddce9a26...   0.299325     0.299325   \n",
       "00001b22f846c82c51f6e3958ccd81970162bae8b007e80...   0.300219     0.300219   \n",
       "000041bdba6ecadd89a52d11886e8eaaec9325906c97233...   0.302809     0.302809   \n",
       "00007889e4fcd2614b6cbe7f8f3d2e5c728eca32d9eb8ad...   0.058786     0.058786   \n",
       "\n",
       "                                                    B_11_mean  B_11_std  \\\n",
       "customer_ID                                                               \n",
       "0000099d6bd597052cdcda90ffabf56573fe9d7c79be5fb...   0.008733       NaN   \n",
       "00000fd6641609c6ece5454664794f0340ad84dddce9a26...   0.008047       NaN   \n",
       "00001b22f846c82c51f6e3958ccd81970162bae8b007e80...   0.005092       NaN   \n",
       "000041bdba6ecadd89a52d11886e8eaaec9325906c97233...   0.011032       NaN   \n",
       "00007889e4fcd2614b6cbe7f8f3d2e5c728eca32d9eb8ad...   0.004283       NaN   \n",
       "\n",
       "                                                    B_11_min  B_11_max  ...  \\\n",
       "customer_ID                                                             ...   \n",
       "0000099d6bd597052cdcda90ffabf56573fe9d7c79be5fb...  0.008733  0.008733  ...   \n",
       "00000fd6641609c6ece5454664794f0340ad84dddce9a26...  0.008047  0.008047  ...   \n",
       "00001b22f846c82c51f6e3958ccd81970162bae8b007e80...  0.005092  0.005092  ...   \n",
       "000041bdba6ecadd89a52d11886e8eaaec9325906c97233...  0.011032  0.011032  ...   \n",
       "00007889e4fcd2614b6cbe7f8f3d2e5c728eca32d9eb8ad...  0.004283  0.004283  ...   \n",
       "\n",
       "                                                    D_126_count  D_126_last  \\\n",
       "customer_ID                                                                   \n",
       "0000099d6bd597052cdcda90ffabf56573fe9d7c79be5fb...            1         2.0   \n",
       "00000fd6641609c6ece5454664794f0340ad84dddce9a26...            1         2.0   \n",
       "00001b22f846c82c51f6e3958ccd81970162bae8b007e80...            1         2.0   \n",
       "000041bdba6ecadd89a52d11886e8eaaec9325906c97233...            1         2.0   \n",
       "00007889e4fcd2614b6cbe7f8f3d2e5c728eca32d9eb8ad...            1         2.0   \n",
       "\n",
       "                                                    D_126_nunique  D_63_count  \\\n",
       "customer_ID                                                                     \n",
       "0000099d6bd597052cdcda90ffabf56573fe9d7c79be5fb...              1           1   \n",
       "00000fd6641609c6ece5454664794f0340ad84dddce9a26...              1           1   \n",
       "00001b22f846c82c51f6e3958ccd81970162bae8b007e80...              1           1   \n",
       "000041bdba6ecadd89a52d11886e8eaaec9325906c97233...              1           1   \n",
       "00007889e4fcd2614b6cbe7f8f3d2e5c728eca32d9eb8ad...              1           1   \n",
       "\n",
       "                                                    D_63_last  D_63_nunique  \\\n",
       "customer_ID                                                                   \n",
       "0000099d6bd597052cdcda90ffabf56573fe9d7c79be5fb...        0.0             1   \n",
       "00000fd6641609c6ece5454664794f0340ad84dddce9a26...        3.0             1   \n",
       "00001b22f846c82c51f6e3958ccd81970162bae8b007e80...        3.0             1   \n",
       "000041bdba6ecadd89a52d11886e8eaaec9325906c97233...        3.0             1   \n",
       "00007889e4fcd2614b6cbe7f8f3d2e5c728eca32d9eb8ad...        3.0             1   \n",
       "\n",
       "                                                    D_64_count  D_64_last  \\\n",
       "customer_ID                                                                 \n",
       "0000099d6bd597052cdcda90ffabf56573fe9d7c79be5fb...           1        0.0   \n",
       "00000fd6641609c6ece5454664794f0340ad84dddce9a26...           1        0.0   \n",
       "00001b22f846c82c51f6e3958ccd81970162bae8b007e80...           1        2.0   \n",
       "000041bdba6ecadd89a52d11886e8eaaec9325906c97233...           1        0.0   \n",
       "00007889e4fcd2614b6cbe7f8f3d2e5c728eca32d9eb8ad...           1        0.0   \n",
       "\n",
       "                                                    D_64_nunique  target  \n",
       "customer_ID                                                               \n",
       "0000099d6bd597052cdcda90ffabf56573fe9d7c79be5fb...             1       0  \n",
       "00000fd6641609c6ece5454664794f0340ad84dddce9a26...             1       0  \n",
       "00001b22f846c82c51f6e3958ccd81970162bae8b007e80...             1       0  \n",
       "000041bdba6ecadd89a52d11886e8eaaec9325906c97233...             1       0  \n",
       "00007889e4fcd2614b6cbe7f8f3d2e5c728eca32d9eb8ad...             1       0  \n",
       "\n",
       "[5 rows x 1048 columns]"
      ]
     },
     "execution_count": 7,
     "metadata": {},
     "output_type": "execute_result"
    }
   ],
   "source": [
    "train.head()"
   ]
  },
  {
   "cell_type": "markdown",
   "id": "9dfc46ed",
   "metadata": {
    "papermill": {
     "duration": 0.005186,
     "end_time": "2022-05-28T11:56:42.851099",
     "exception": false,
     "start_time": "2022-05-28T11:56:42.845913",
     "status": "completed"
    },
    "tags": []
   },
   "source": [
    "# Competition Metric"
   ]
  },
  {
   "cell_type": "code",
   "execution_count": 8,
   "id": "9d76ad98",
   "metadata": {
    "execution": {
     "iopub.execute_input": "2022-05-28T11:56:42.863503Z",
     "iopub.status.busy": "2022-05-28T11:56:42.863166Z",
     "iopub.status.idle": "2022-05-28T11:56:42.877825Z",
     "shell.execute_reply": "2022-05-28T11:56:42.876809Z"
    },
    "papermill": {
     "duration": 0.023076,
     "end_time": "2022-05-28T11:56:42.879883",
     "exception": false,
     "start_time": "2022-05-28T11:56:42.856807",
     "status": "completed"
    },
    "tags": []
   },
   "outputs": [],
   "source": [
    "def amex_metric(y_true: pd.DataFrame, y_pred: pd.DataFrame) -> float:\n",
    "    def top_four_percent_captured(y_true: pd.DataFrame, y_pred: pd.DataFrame) -> float:\n",
    "        df = (pd.concat([y_true, y_pred], axis='columns')\n",
    "              .sort_values('prediction', ascending=False))\n",
    "        df['weight'] = df['target'].apply(lambda x: 20 if x == 0 else 1)\n",
    "        four_pct_cutoff = int(0.04 * df['weight'].sum())\n",
    "        df['weight_cumsum'] = df['weight'].cumsum()\n",
    "        df_cutoff = df.loc[df['weight_cumsum'] <= four_pct_cutoff]\n",
    "        return (df_cutoff['target'] == 1).sum() / (df['target'] == 1).sum()\n",
    "\n",
    "    def weighted_gini(y_true: pd.DataFrame, y_pred: pd.DataFrame) -> float:\n",
    "        df = (pd.concat([y_true, y_pred], axis='columns')\n",
    "              .sort_values('prediction', ascending=False))\n",
    "        df['weight'] = df['target'].apply(lambda x: 20 if x == 0 else 1)\n",
    "        df['random'] = (df['weight'] / df['weight'].sum()).cumsum()\n",
    "        total_pos = (df['target'] * df['weight']).sum()\n",
    "        df['cum_pos_found'] = (df['target'] * df['weight']).cumsum()\n",
    "        df['lorentz'] = df['cum_pos_found'] / total_pos\n",
    "        df['gini'] = (df['lorentz'] - df['random']) * df['weight']\n",
    "        return df['gini'].sum()\n",
    "\n",
    "    def normalized_weighted_gini(y_true: pd.DataFrame, y_pred: pd.DataFrame) -> float:\n",
    "        y_true_pred = y_true.rename(columns={'target': 'prediction'})\n",
    "        return weighted_gini(y_true, y_pred) / weighted_gini(y_true, y_true_pred)\n",
    "\n",
    "    g = normalized_weighted_gini(y_true, y_pred)\n",
    "    d = top_four_percent_captured(y_true, y_pred)\n",
    "\n",
    "    return 0.5 * (g + d)"
   ]
  },
  {
   "cell_type": "code",
   "execution_count": 9,
   "id": "578e4034",
   "metadata": {
    "execution": {
     "iopub.execute_input": "2022-05-28T11:56:42.892543Z",
     "iopub.status.busy": "2022-05-28T11:56:42.891644Z",
     "iopub.status.idle": "2022-05-28T11:56:45.357202Z",
     "shell.execute_reply": "2022-05-28T11:56:45.356279Z"
    },
    "papermill": {
     "duration": 2.474472,
     "end_time": "2022-05-28T11:56:45.359749",
     "exception": false,
     "start_time": "2022-05-28T11:56:42.885277",
     "status": "completed"
    },
    "tags": []
   },
   "outputs": [],
   "source": [
    "features = test.columns.to_list()\n",
    "cat_features = [\n",
    "    \"B_30\",\n",
    "    \"B_38\",\n",
    "    \"D_114\",\n",
    "    \"D_116\",\n",
    "    \"D_117\",\n",
    "    \"D_120\",\n",
    "    \"D_126\",\n",
    "    \"D_63\",\n",
    "    \"D_64\",\n",
    "    \"D_66\",\n",
    "    \"D_68\"\n",
    "]\n",
    "cat_features = [f\"{cf}_last\" for cf in cat_features]\n",
    "le_encoder = LabelEncoder()\n",
    "for categorical_feature in cat_features:\n",
    "    train[categorical_feature] = le_encoder.fit_transform(train[categorical_feature])\n",
    "    test[categorical_feature] = le_encoder.transform(test[categorical_feature])"
   ]
  },
  {
   "cell_type": "code",
   "execution_count": 10,
   "id": "84e55288",
   "metadata": {
    "execution": {
     "iopub.execute_input": "2022-05-28T11:56:45.372025Z",
     "iopub.status.busy": "2022-05-28T11:56:45.371623Z",
     "iopub.status.idle": "2022-05-28T11:56:47.827685Z",
     "shell.execute_reply": "2022-05-28T11:56:47.826376Z"
    },
    "papermill": {
     "duration": 2.465468,
     "end_time": "2022-05-28T11:56:47.830742",
     "exception": false,
     "start_time": "2022-05-28T11:56:45.365274",
     "status": "completed"
    },
    "tags": []
   },
   "outputs": [],
   "source": [
    "train_y = pd.DataFrame(train[\"target\"])\n",
    "train_x = train.drop(\"target\", axis=1)"
   ]
  },
  {
   "cell_type": "markdown",
   "id": "2726617c",
   "metadata": {
    "papermill": {
     "duration": 0.005143,
     "end_time": "2022-05-28T11:56:47.841940",
     "exception": false,
     "start_time": "2022-05-28T11:56:47.836797",
     "status": "completed"
    },
    "tags": []
   },
   "source": [
    "# Model Training"
   ]
  },
  {
   "cell_type": "code",
   "execution_count": 11,
   "id": "57096091",
   "metadata": {
    "execution": {
     "iopub.execute_input": "2022-05-28T11:56:47.854444Z",
     "iopub.status.busy": "2022-05-28T11:56:47.854076Z",
     "iopub.status.idle": "2022-05-28T20:32:09.529607Z",
     "shell.execute_reply": "2022-05-28T20:32:09.523531Z"
    },
    "papermill": {
     "duration": 30921.712142,
     "end_time": "2022-05-28T20:32:09.559556",
     "exception": false,
     "start_time": "2022-05-28T11:56:47.847414",
     "status": "completed"
    },
    "tags": []
   },
   "outputs": [
    {
     "name": "stdout",
     "output_type": "stream",
     "text": [
      "******* Fold 0 ******* \n",
      "Learning rate set to 0.067666\n",
      "0:\tlearn: 0.6209897\ttest: 0.6212152\tbest: 0.6212152 (0)\ttotal: 994ms\tremaining: 1h 22m 48s\n",
      "100:\tlearn: 0.2611098\ttest: 0.2652317\tbest: 0.2652317 (100)\ttotal: 1m 19s\tremaining: 1h 4m 18s\n",
      "200:\tlearn: 0.2532704\ttest: 0.2589426\tbest: 0.2589426 (200)\ttotal: 2m 51s\tremaining: 1h 8m 16s\n",
      "300:\tlearn: 0.2484907\ttest: 0.2562826\tbest: 0.2562826 (300)\ttotal: 4m 24s\tremaining: 1h 8m 54s\n",
      "400:\tlearn: 0.2448763\ttest: 0.2547749\tbest: 0.2547749 (400)\ttotal: 5m 51s\tremaining: 1h 7m 8s\n",
      "500:\tlearn: 0.2418526\ttest: 0.2538879\tbest: 0.2538879 (500)\ttotal: 7m 19s\tremaining: 1h 5m 47s\n",
      "600:\tlearn: 0.2390670\ttest: 0.2531563\tbest: 0.2531563 (600)\ttotal: 8m 43s\tremaining: 1h 3m 52s\n",
      "700:\tlearn: 0.2366491\ttest: 0.2526489\tbest: 0.2526489 (700)\ttotal: 10m 13s\tremaining: 1h 2m 40s\n",
      "800:\tlearn: 0.2345773\ttest: 0.2523082\tbest: 0.2523082 (800)\ttotal: 11m 42s\tremaining: 1h 1m 23s\n",
      "900:\tlearn: 0.2323756\ttest: 0.2520292\tbest: 0.2520235 (895)\ttotal: 13m 5s\tremaining: 59m 31s\n",
      "1000:\tlearn: 0.2302847\ttest: 0.2518954\tbest: 0.2518954 (1000)\ttotal: 14m 25s\tremaining: 57m 39s\n",
      "1100:\tlearn: 0.2282221\ttest: 0.2516417\tbest: 0.2516404 (1099)\ttotal: 15m 49s\tremaining: 56m 2s\n",
      "1200:\tlearn: 0.2263452\ttest: 0.2514682\tbest: 0.2514621 (1181)\ttotal: 17m 12s\tremaining: 54m 26s\n",
      "1300:\tlearn: 0.2245104\ttest: 0.2513991\tbest: 0.2513719 (1264)\ttotal: 18m 34s\tremaining: 52m 49s\n",
      "1400:\tlearn: 0.2226990\ttest: 0.2512625\tbest: 0.2512625 (1400)\ttotal: 20m\tremaining: 51m 23s\n",
      "1500:\tlearn: 0.2208681\ttest: 0.2512112\tbest: 0.2511758 (1444)\ttotal: 21m 22s\tremaining: 49m 50s\n",
      "1600:\tlearn: 0.2191476\ttest: 0.2511062\tbest: 0.2511062 (1600)\ttotal: 22m 42s\tremaining: 48m 12s\n",
      "1700:\tlearn: 0.2174193\ttest: 0.2510291\tbest: 0.2510291 (1700)\ttotal: 24m 4s\tremaining: 46m 41s\n",
      "1800:\tlearn: 0.2156695\ttest: 0.2509380\tbest: 0.2509380 (1800)\ttotal: 25m 27s\tremaining: 45m 13s\n",
      "1900:\tlearn: 0.2140358\ttest: 0.2509195\tbest: 0.2509139 (1896)\ttotal: 26m 47s\tremaining: 43m 40s\n",
      "2000:\tlearn: 0.2124320\ttest: 0.2509081\tbest: 0.2508876 (1971)\ttotal: 28m 8s\tremaining: 42m 11s\n",
      "2100:\tlearn: 0.2107822\ttest: 0.2508475\tbest: 0.2508270 (2083)\ttotal: 29m 32s\tremaining: 40m 45s\n",
      "2200:\tlearn: 0.2091316\ttest: 0.2508278\tbest: 0.2508206 (2115)\ttotal: 30m 55s\tremaining: 39m 19s\n",
      "2300:\tlearn: 0.2076106\ttest: 0.2508313\tbest: 0.2508137 (2221)\ttotal: 32m 15s\tremaining: 37m 50s\n",
      "2400:\tlearn: 0.2060371\ttest: 0.2508797\tbest: 0.2508137 (2221)\ttotal: 33m 31s\tremaining: 36m 17s\n",
      "2500:\tlearn: 0.2045475\ttest: 0.2508600\tbest: 0.2508137 (2221)\ttotal: 34m 49s\tremaining: 34m 48s\n",
      "2600:\tlearn: 0.2030454\ttest: 0.2509099\tbest: 0.2508137 (2221)\ttotal: 36m 10s\tremaining: 33m 22s\n",
      "2700:\tlearn: 0.2015654\ttest: 0.2509525\tbest: 0.2508137 (2221)\ttotal: 37m 32s\tremaining: 31m 56s\n",
      "2800:\tlearn: 0.2000483\ttest: 0.2509371\tbest: 0.2508137 (2221)\ttotal: 38m 52s\tremaining: 30m 31s\n",
      "2900:\tlearn: 0.1986272\ttest: 0.2510032\tbest: 0.2508137 (2221)\ttotal: 40m 14s\tremaining: 29m 6s\n",
      "3000:\tlearn: 0.1972387\ttest: 0.2510345\tbest: 0.2508137 (2221)\ttotal: 41m 34s\tremaining: 27m 41s\n",
      "3100:\tlearn: 0.1958910\ttest: 0.2510484\tbest: 0.2508137 (2221)\ttotal: 42m 53s\tremaining: 26m 16s\n",
      "3200:\tlearn: 0.1945106\ttest: 0.2510543\tbest: 0.2508137 (2221)\ttotal: 44m 14s\tremaining: 24m 51s\n",
      "3300:\tlearn: 0.1930787\ttest: 0.2510372\tbest: 0.2508137 (2221)\ttotal: 45m 35s\tremaining: 23m 27s\n",
      "3400:\tlearn: 0.1917233\ttest: 0.2510375\tbest: 0.2508137 (2221)\ttotal: 46m 54s\tremaining: 22m 3s\n",
      "3500:\tlearn: 0.1903512\ttest: 0.2510292\tbest: 0.2508137 (2221)\ttotal: 48m 14s\tremaining: 20m 39s\n",
      "3600:\tlearn: 0.1889921\ttest: 0.2510471\tbest: 0.2508137 (2221)\ttotal: 49m 37s\tremaining: 19m 16s\n",
      "3700:\tlearn: 0.1876640\ttest: 0.2511181\tbest: 0.2508137 (2221)\ttotal: 50m 58s\tremaining: 17m 53s\n",
      "3800:\tlearn: 0.1864055\ttest: 0.2511633\tbest: 0.2508137 (2221)\ttotal: 52m 16s\tremaining: 16m 29s\n",
      "3900:\tlearn: 0.1851584\ttest: 0.2512296\tbest: 0.2508137 (2221)\ttotal: 53m 38s\tremaining: 15m 6s\n",
      "4000:\tlearn: 0.1839500\ttest: 0.2512865\tbest: 0.2508137 (2221)\ttotal: 54m 58s\tremaining: 13m 43s\n",
      "4100:\tlearn: 0.1826869\ttest: 0.2513014\tbest: 0.2508137 (2221)\ttotal: 56m 19s\tremaining: 12m 20s\n",
      "4200:\tlearn: 0.1814837\ttest: 0.2514122\tbest: 0.2508137 (2221)\ttotal: 57m 39s\tremaining: 10m 57s\n",
      "4300:\tlearn: 0.1802649\ttest: 0.2514939\tbest: 0.2508137 (2221)\ttotal: 59m 1s\tremaining: 9m 35s\n",
      "4400:\tlearn: 0.1790016\ttest: 0.2515606\tbest: 0.2508137 (2221)\ttotal: 1h 21s\tremaining: 8m 12s\n",
      "4500:\tlearn: 0.1777095\ttest: 0.2516541\tbest: 0.2508137 (2221)\ttotal: 1h 1m 58s\tremaining: 6m 52s\n",
      "4600:\tlearn: 0.1765067\ttest: 0.2517400\tbest: 0.2508137 (2221)\ttotal: 1h 3m 28s\tremaining: 5m 30s\n",
      "4700:\tlearn: 0.1752947\ttest: 0.2517953\tbest: 0.2508137 (2221)\ttotal: 1h 4m 52s\tremaining: 4m 7s\n",
      "4800:\tlearn: 0.1741001\ttest: 0.2518903\tbest: 0.2508137 (2221)\ttotal: 1h 6m 12s\tremaining: 2m 44s\n",
      "4900:\tlearn: 0.1730362\ttest: 0.2519859\tbest: 0.2508137 (2221)\ttotal: 1h 7m 24s\tremaining: 1m 21s\n",
      "4999:\tlearn: 0.1719148\ttest: 0.2520037\tbest: 0.2508137 (2221)\ttotal: 1h 8m 36s\tremaining: 0us\n",
      "\n",
      "bestTest = 0.2508137173\n",
      "bestIteration = 2221\n",
      "\n",
      "Shrink model to first 2222 iterations.\n",
      "******* Fold 1 ******* \n",
      "Learning rate set to 0.067666\n",
      "0:\tlearn: 0.6210623\ttest: 0.6211598\tbest: 0.6211598 (0)\ttotal: 1.01s\tremaining: 1h 23m 51s\n",
      "100:\tlearn: 0.2617921\ttest: 0.2619018\tbest: 0.2619018 (100)\ttotal: 1m 22s\tremaining: 1h 7m\n",
      "200:\tlearn: 0.2542009\ttest: 0.2556035\tbest: 0.2556035 (200)\ttotal: 2m 50s\tremaining: 1h 7m 41s\n",
      "300:\tlearn: 0.2492744\ttest: 0.2526648\tbest: 0.2526648 (300)\ttotal: 4m 18s\tremaining: 1h 7m 14s\n",
      "400:\tlearn: 0.2456239\ttest: 0.2511390\tbest: 0.2511390 (400)\ttotal: 5m 48s\tremaining: 1h 6m 42s\n",
      "500:\tlearn: 0.2426389\ttest: 0.2501432\tbest: 0.2501423 (498)\ttotal: 7m 19s\tremaining: 1h 5m 42s\n",
      "600:\tlearn: 0.2401073\ttest: 0.2494454\tbest: 0.2494454 (600)\ttotal: 8m 49s\tremaining: 1h 4m 36s\n",
      "700:\tlearn: 0.2378832\ttest: 0.2489770\tbest: 0.2489766 (699)\ttotal: 10m 15s\tremaining: 1h 2m 56s\n",
      "800:\tlearn: 0.2356532\ttest: 0.2486095\tbest: 0.2486095 (800)\ttotal: 11m 35s\tremaining: 1h 45s\n",
      "900:\tlearn: 0.2335302\ttest: 0.2483381\tbest: 0.2483381 (900)\ttotal: 12m 52s\tremaining: 58m 36s\n",
      "1000:\tlearn: 0.2315560\ttest: 0.2480569\tbest: 0.2480543 (993)\ttotal: 14m 9s\tremaining: 56m 34s\n",
      "1100:\tlearn: 0.2296481\ttest: 0.2478544\tbest: 0.2478538 (1099)\ttotal: 15m 26s\tremaining: 54m 39s\n",
      "1200:\tlearn: 0.2277794\ttest: 0.2476998\tbest: 0.2476982 (1194)\ttotal: 16m 44s\tremaining: 52m 57s\n",
      "1300:\tlearn: 0.2258279\ttest: 0.2474644\tbest: 0.2474628 (1299)\ttotal: 18m 2s\tremaining: 51m 16s\n",
      "1400:\tlearn: 0.2239935\ttest: 0.2472989\tbest: 0.2472989 (1400)\ttotal: 19m 18s\tremaining: 49m 37s\n",
      "1500:\tlearn: 0.2222252\ttest: 0.2471293\tbest: 0.2471262 (1498)\ttotal: 20m 37s\tremaining: 48m 5s\n",
      "1600:\tlearn: 0.2204767\ttest: 0.2470241\tbest: 0.2470174 (1596)\ttotal: 21m 58s\tremaining: 46m 38s\n",
      "1700:\tlearn: 0.2188272\ttest: 0.2469519\tbest: 0.2469502 (1699)\ttotal: 23m 16s\tremaining: 45m 8s\n",
      "1800:\tlearn: 0.2171154\ttest: 0.2469310\tbest: 0.2468730 (1748)\ttotal: 24m 34s\tremaining: 43m 38s\n",
      "1900:\tlearn: 0.2153972\ttest: 0.2468542\tbest: 0.2468450 (1890)\ttotal: 25m 53s\tremaining: 42m 12s\n",
      "2000:\tlearn: 0.2137818\ttest: 0.2468386\tbest: 0.2468305 (1964)\ttotal: 27m 12s\tremaining: 40m 47s\n",
      "2100:\tlearn: 0.2121939\ttest: 0.2468530\tbest: 0.2468305 (1964)\ttotal: 28m 37s\tremaining: 39m 29s\n",
      "2200:\tlearn: 0.2106351\ttest: 0.2468378\tbest: 0.2468279 (2178)\ttotal: 30m 2s\tremaining: 38m 11s\n",
      "2300:\tlearn: 0.2090020\ttest: 0.2467599\tbest: 0.2467599 (2300)\ttotal: 31m 24s\tremaining: 36m 50s\n",
      "2400:\tlearn: 0.2074892\ttest: 0.2466925\tbest: 0.2466855 (2395)\ttotal: 32m 46s\tremaining: 35m 29s\n",
      "2500:\tlearn: 0.2059909\ttest: 0.2466688\tbest: 0.2466500 (2492)\ttotal: 34m\tremaining: 33m 58s\n",
      "2600:\tlearn: 0.2045630\ttest: 0.2465912\tbest: 0.2465875 (2598)\ttotal: 35m 15s\tremaining: 32m 31s\n",
      "2700:\tlearn: 0.2030665\ttest: 0.2465609\tbest: 0.2465581 (2674)\ttotal: 36m 35s\tremaining: 31m 8s\n",
      "2800:\tlearn: 0.2016472\ttest: 0.2465997\tbest: 0.2465544 (2702)\ttotal: 37m 56s\tremaining: 29m 46s\n",
      "2900:\tlearn: 0.2002415\ttest: 0.2465878\tbest: 0.2465544 (2702)\ttotal: 39m 13s\tremaining: 28m 23s\n",
      "3000:\tlearn: 0.1987973\ttest: 0.2466325\tbest: 0.2465544 (2702)\ttotal: 40m 30s\tremaining: 26m 58s\n",
      "3100:\tlearn: 0.1973665\ttest: 0.2466020\tbest: 0.2465544 (2702)\ttotal: 41m 47s\tremaining: 25m 35s\n",
      "3200:\tlearn: 0.1960427\ttest: 0.2465974\tbest: 0.2465544 (2702)\ttotal: 43m 5s\tremaining: 24m 13s\n"
     ]
    },
    {
     "name": "stdout",
     "output_type": "stream",
     "text": [
      "3300:\tlearn: 0.1946392\ttest: 0.2465503\tbest: 0.2465503 (3300)\ttotal: 44m 23s\tremaining: 22m 50s\n",
      "3400:\tlearn: 0.1933202\ttest: 0.2465330\tbest: 0.2464957 (3376)\ttotal: 45m 41s\tremaining: 21m 28s\n",
      "3500:\tlearn: 0.1919299\ttest: 0.2465335\tbest: 0.2464957 (3376)\ttotal: 46m 59s\tremaining: 20m 7s\n",
      "3600:\tlearn: 0.1906649\ttest: 0.2465229\tbest: 0.2464957 (3376)\ttotal: 48m 20s\tremaining: 18m 46s\n",
      "3700:\tlearn: 0.1893871\ttest: 0.2464854\tbest: 0.2464817 (3696)\ttotal: 49m 37s\tremaining: 17m 25s\n",
      "3800:\tlearn: 0.1881194\ttest: 0.2465036\tbest: 0.2464762 (3735)\ttotal: 50m 57s\tremaining: 16m 4s\n",
      "3900:\tlearn: 0.1867794\ttest: 0.2465520\tbest: 0.2464762 (3735)\ttotal: 52m 14s\tremaining: 14m 42s\n",
      "4000:\tlearn: 0.1855941\ttest: 0.2465836\tbest: 0.2464762 (3735)\ttotal: 53m 31s\tremaining: 13m 21s\n",
      "4100:\tlearn: 0.1843562\ttest: 0.2465884\tbest: 0.2464762 (3735)\ttotal: 54m 48s\tremaining: 12m\n",
      "4200:\tlearn: 0.1831575\ttest: 0.2466124\tbest: 0.2464762 (3735)\ttotal: 56m 4s\tremaining: 10m 39s\n",
      "4300:\tlearn: 0.1819140\ttest: 0.2466300\tbest: 0.2464762 (3735)\ttotal: 57m 22s\tremaining: 9m 19s\n",
      "4400:\tlearn: 0.1807234\ttest: 0.2466423\tbest: 0.2464762 (3735)\ttotal: 58m 42s\tremaining: 7m 59s\n",
      "4500:\tlearn: 0.1794980\ttest: 0.2466883\tbest: 0.2464762 (3735)\ttotal: 59m 58s\tremaining: 6m 38s\n",
      "4600:\tlearn: 0.1783037\ttest: 0.2467230\tbest: 0.2464762 (3735)\ttotal: 1h 1m 18s\tremaining: 5m 19s\n",
      "4700:\tlearn: 0.1771080\ttest: 0.2467965\tbest: 0.2464762 (3735)\ttotal: 1h 2m 39s\tremaining: 3m 59s\n",
      "4800:\tlearn: 0.1759538\ttest: 0.2468323\tbest: 0.2464762 (3735)\ttotal: 1h 4m 8s\tremaining: 2m 39s\n",
      "4900:\tlearn: 0.1747891\ttest: 0.2468702\tbest: 0.2464762 (3735)\ttotal: 1h 5m 41s\tremaining: 1m 19s\n",
      "4999:\tlearn: 0.1736170\ttest: 0.2469323\tbest: 0.2464762 (3735)\ttotal: 1h 6m 53s\tremaining: 0us\n",
      "\n",
      "bestTest = 0.2464762417\n",
      "bestIteration = 3735\n",
      "\n",
      "Shrink model to first 3736 iterations.\n",
      "******* Fold 2 ******* \n",
      "Learning rate set to 0.067666\n",
      "0:\tlearn: 0.6214230\ttest: 0.6216056\tbest: 0.6216056 (0)\ttotal: 784ms\tremaining: 1h 5m 16s\n",
      "100:\tlearn: 0.2614052\ttest: 0.2639069\tbest: 0.2639069 (100)\ttotal: 2m 21s\tremaining: 1h 56m 19s\n",
      "200:\tlearn: 0.2536464\ttest: 0.2581437\tbest: 0.2581437 (200)\ttotal: 4m 35s\tremaining: 1h 50m 46s\n",
      "300:\tlearn: 0.2486813\ttest: 0.2555393\tbest: 0.2555393 (300)\ttotal: 6m 54s\tremaining: 1h 48m 29s\n",
      "400:\tlearn: 0.2450360\ttest: 0.2540791\tbest: 0.2540786 (399)\ttotal: 9m 7s\tremaining: 1h 45m 10s\n",
      "500:\tlearn: 0.2419415\ttest: 0.2532673\tbest: 0.2532673 (500)\ttotal: 11m 28s\tremaining: 1h 43m 27s\n",
      "600:\tlearn: 0.2393009\ttest: 0.2525814\tbest: 0.2525814 (600)\ttotal: 13m 49s\tremaining: 1h 41m 29s\n",
      "700:\tlearn: 0.2367819\ttest: 0.2521009\tbest: 0.2520960 (698)\ttotal: 16m 7s\tremaining: 1h 39m 10s\n",
      "800:\tlearn: 0.2346230\ttest: 0.2517974\tbest: 0.2517882 (798)\ttotal: 18m 20s\tremaining: 1h 36m 21s\n",
      "900:\tlearn: 0.2324838\ttest: 0.2515064\tbest: 0.2515064 (900)\ttotal: 20m 39s\tremaining: 1h 34m 10s\n",
      "1000:\tlearn: 0.2304411\ttest: 0.2512694\tbest: 0.2512694 (1000)\ttotal: 23m\tremaining: 1h 32m 4s\n",
      "1100:\tlearn: 0.2285410\ttest: 0.2510980\tbest: 0.2510921 (1097)\ttotal: 25m 18s\tremaining: 1h 29m 48s\n",
      "1200:\tlearn: 0.2266323\ttest: 0.2508975\tbest: 0.2508946 (1199)\ttotal: 27m 24s\tremaining: 1h 26m 50s\n",
      "1300:\tlearn: 0.2247165\ttest: 0.2507634\tbest: 0.2507577 (1298)\ttotal: 29m 25s\tremaining: 1h 23m 47s\n",
      "1400:\tlearn: 0.2228688\ttest: 0.2506367\tbest: 0.2506367 (1400)\ttotal: 31m 35s\tremaining: 1h 21m 17s\n",
      "1500:\tlearn: 0.2211342\ttest: 0.2505790\tbest: 0.2505781 (1499)\ttotal: 33m 45s\tremaining: 1h 18m 48s\n",
      "1600:\tlearn: 0.2193093\ttest: 0.2505051\tbest: 0.2505013 (1599)\ttotal: 35m 54s\tremaining: 1h 16m 19s\n",
      "1700:\tlearn: 0.2175828\ttest: 0.2504003\tbest: 0.2503955 (1699)\ttotal: 38m\tremaining: 1h 13m 48s\n",
      "1800:\tlearn: 0.2159109\ttest: 0.2503466\tbest: 0.2503466 (1800)\ttotal: 40m 11s\tremaining: 1h 11m 29s\n",
      "1900:\tlearn: 0.2143096\ttest: 0.2502653\tbest: 0.2502601 (1875)\ttotal: 42m 21s\tremaining: 1h 9m 6s\n",
      "2000:\tlearn: 0.2126606\ttest: 0.2502434\tbest: 0.2502416 (1999)\ttotal: 44m 32s\tremaining: 1h 6m 49s\n",
      "2100:\tlearn: 0.2109962\ttest: 0.2502698\tbest: 0.2502266 (2015)\ttotal: 46m 41s\tremaining: 1h 4m 28s\n",
      "2200:\tlearn: 0.2093606\ttest: 0.2501955\tbest: 0.2501955 (2200)\ttotal: 48m 50s\tremaining: 1h 2m 9s\n",
      "2300:\tlearn: 0.2078681\ttest: 0.2502327\tbest: 0.2501873 (2219)\ttotal: 50m 55s\tremaining: 59m 46s\n",
      "2400:\tlearn: 0.2062688\ttest: 0.2501752\tbest: 0.2501751 (2384)\ttotal: 53m 9s\tremaining: 57m 35s\n",
      "2500:\tlearn: 0.2047695\ttest: 0.2502036\tbest: 0.2501751 (2384)\ttotal: 55m 21s\tremaining: 55m 21s\n",
      "2600:\tlearn: 0.2032647\ttest: 0.2502526\tbest: 0.2501751 (2384)\ttotal: 57m 38s\tremaining: 53m 11s\n",
      "2700:\tlearn: 0.2018243\ttest: 0.2502232\tbest: 0.2501751 (2384)\ttotal: 59m 49s\tremaining: 50m 57s\n",
      "2800:\tlearn: 0.2003783\ttest: 0.2503046\tbest: 0.2501751 (2384)\ttotal: 1h 2m 3s\tremaining: 48m 45s\n",
      "2900:\tlearn: 0.1989171\ttest: 0.2503382\tbest: 0.2501751 (2384)\ttotal: 1h 4m 16s\tremaining: 46m 32s\n",
      "3000:\tlearn: 0.1975654\ttest: 0.2503626\tbest: 0.2501751 (2384)\ttotal: 1h 6m 27s\tremaining: 44m 17s\n",
      "3100:\tlearn: 0.1960879\ttest: 0.2504156\tbest: 0.2501751 (2384)\ttotal: 1h 8m 41s\tremaining: 42m 5s\n",
      "3200:\tlearn: 0.1947435\ttest: 0.2504655\tbest: 0.2501751 (2384)\ttotal: 1h 9m 55s\tremaining: 39m 19s\n",
      "3300:\tlearn: 0.1933700\ttest: 0.2505249\tbest: 0.2501751 (2384)\ttotal: 1h 11m 4s\tremaining: 36m 36s\n",
      "3400:\tlearn: 0.1920544\ttest: 0.2505966\tbest: 0.2501751 (2384)\ttotal: 1h 12m 17s\tremaining: 34m\n",
      "3500:\tlearn: 0.1907069\ttest: 0.2506457\tbest: 0.2501751 (2384)\ttotal: 1h 13m 27s\tremaining: 31m 28s\n",
      "3600:\tlearn: 0.1893622\ttest: 0.2506366\tbest: 0.2501751 (2384)\ttotal: 1h 14m 37s\tremaining: 29m\n",
      "3700:\tlearn: 0.1880995\ttest: 0.2506831\tbest: 0.2501751 (2384)\ttotal: 1h 15m 48s\tremaining: 26m 37s\n",
      "3800:\tlearn: 0.1868035\ttest: 0.2507919\tbest: 0.2501751 (2384)\ttotal: 1h 16m 55s\tremaining: 24m 16s\n",
      "3900:\tlearn: 0.1855453\ttest: 0.2508489\tbest: 0.2501751 (2384)\ttotal: 1h 18m 10s\tremaining: 22m 2s\n",
      "4000:\tlearn: 0.1842626\ttest: 0.2509642\tbest: 0.2501751 (2384)\ttotal: 1h 19m 17s\tremaining: 19m 48s\n",
      "4100:\tlearn: 0.1830419\ttest: 0.2510205\tbest: 0.2501751 (2384)\ttotal: 1h 20m 25s\tremaining: 17m 38s\n",
      "4200:\tlearn: 0.1818507\ttest: 0.2510515\tbest: 0.2501751 (2384)\ttotal: 1h 21m 34s\tremaining: 15m 31s\n",
      "4300:\tlearn: 0.1806262\ttest: 0.2511129\tbest: 0.2501751 (2384)\ttotal: 1h 22m 43s\tremaining: 13m 26s\n",
      "4400:\tlearn: 0.1794440\ttest: 0.2512015\tbest: 0.2501751 (2384)\ttotal: 1h 23m 50s\tremaining: 11m 25s\n",
      "4500:\tlearn: 0.1782935\ttest: 0.2512015\tbest: 0.2501751 (2384)\ttotal: 1h 24m 57s\tremaining: 9m 25s\n",
      "4600:\tlearn: 0.1770964\ttest: 0.2513373\tbest: 0.2501751 (2384)\ttotal: 1h 26m 4s\tremaining: 7m 28s\n",
      "4700:\tlearn: 0.1759620\ttest: 0.2513540\tbest: 0.2501751 (2384)\ttotal: 1h 27m 10s\tremaining: 5m 32s\n",
      "4800:\tlearn: 0.1748805\ttest: 0.2514040\tbest: 0.2501751 (2384)\ttotal: 1h 28m 16s\tremaining: 3m 39s\n",
      "4900:\tlearn: 0.1737111\ttest: 0.2514976\tbest: 0.2501751 (2384)\ttotal: 1h 29m 22s\tremaining: 1m 48s\n",
      "4999:\tlearn: 0.1725260\ttest: 0.2515766\tbest: 0.2501751 (2384)\ttotal: 1h 30m 28s\tremaining: 0us\n",
      "\n",
      "bestTest = 0.2501751128\n",
      "bestIteration = 2384\n",
      "\n",
      "Shrink model to first 2385 iterations.\n",
      "******* Fold 3 ******* \n",
      "Learning rate set to 0.067666\n",
      "0:\tlearn: 0.6198677\ttest: 0.6198152\tbest: 0.6198152 (0)\ttotal: 712ms\tremaining: 59m 18s\n",
      "100:\tlearn: 0.2616997\ttest: 0.2630806\tbest: 0.2630806 (100)\ttotal: 1m 12s\tremaining: 58m 23s\n",
      "200:\tlearn: 0.2539733\ttest: 0.2566417\tbest: 0.2566417 (200)\ttotal: 2m 21s\tremaining: 56m 21s\n",
      "300:\tlearn: 0.2491710\ttest: 0.2538630\tbest: 0.2538630 (300)\ttotal: 3m 32s\tremaining: 55m 9s\n",
      "400:\tlearn: 0.2455369\ttest: 0.2522245\tbest: 0.2522245 (400)\ttotal: 4m 43s\tremaining: 54m 9s\n",
      "500:\tlearn: 0.2423979\ttest: 0.2511455\tbest: 0.2511455 (500)\ttotal: 6m 10s\tremaining: 55m 32s\n",
      "600:\tlearn: 0.2397703\ttest: 0.2505606\tbest: 0.2505606 (600)\ttotal: 7m 19s\tremaining: 53m 43s\n",
      "700:\tlearn: 0.2373662\ttest: 0.2501103\tbest: 0.2501103 (700)\ttotal: 8m 29s\tremaining: 52m 9s\n",
      "800:\tlearn: 0.2351821\ttest: 0.2498088\tbest: 0.2498088 (800)\ttotal: 9m 39s\tremaining: 50m 40s\n",
      "900:\tlearn: 0.2330968\ttest: 0.2494924\tbest: 0.2494924 (900)\ttotal: 10m 49s\tremaining: 49m 15s\n",
      "1000:\tlearn: 0.2310762\ttest: 0.2493081\tbest: 0.2493037 (988)\ttotal: 11m 56s\tremaining: 47m 44s\n",
      "1100:\tlearn: 0.2290485\ttest: 0.2491460\tbest: 0.2491460 (1100)\ttotal: 13m 4s\tremaining: 46m 21s\n",
      "1200:\tlearn: 0.2270850\ttest: 0.2489660\tbest: 0.2489660 (1200)\ttotal: 14m 38s\tremaining: 46m 22s\n",
      "1300:\tlearn: 0.2252431\ttest: 0.2487881\tbest: 0.2487856 (1294)\ttotal: 20m 38s\tremaining: 58m 42s\n"
     ]
    },
    {
     "name": "stdout",
     "output_type": "stream",
     "text": [
      "1400:\tlearn: 0.2233905\ttest: 0.2486865\tbest: 0.2486692 (1391)\ttotal: 26m 55s\tremaining: 1h 9m 12s\n",
      "1500:\tlearn: 0.2216178\ttest: 0.2486217\tbest: 0.2486193 (1496)\ttotal: 31m 53s\tremaining: 1h 14m 22s\n",
      "1600:\tlearn: 0.2198299\ttest: 0.2485680\tbest: 0.2485664 (1576)\ttotal: 32m 54s\tremaining: 1h 9m 54s\n",
      "1700:\tlearn: 0.2181324\ttest: 0.2484841\tbest: 0.2484841 (1700)\ttotal: 33m 50s\tremaining: 1h 5m 40s\n",
      "1800:\tlearn: 0.2164111\ttest: 0.2484314\tbest: 0.2484294 (1798)\ttotal: 34m 51s\tremaining: 1h 1m 56s\n",
      "1900:\tlearn: 0.2147543\ttest: 0.2484117\tbest: 0.2483903 (1840)\ttotal: 35m 56s\tremaining: 58m 36s\n",
      "2000:\tlearn: 0.2131608\ttest: 0.2483963\tbest: 0.2483820 (1958)\ttotal: 37m 4s\tremaining: 55m 35s\n",
      "2100:\tlearn: 0.2116037\ttest: 0.2484247\tbest: 0.2483820 (1958)\ttotal: 38m 25s\tremaining: 53m 2s\n",
      "2200:\tlearn: 0.2099393\ttest: 0.2484734\tbest: 0.2483820 (1958)\ttotal: 39m 49s\tremaining: 50m 39s\n",
      "2300:\tlearn: 0.2083731\ttest: 0.2485273\tbest: 0.2483820 (1958)\ttotal: 41m 12s\tremaining: 48m 21s\n",
      "2400:\tlearn: 0.2067842\ttest: 0.2485507\tbest: 0.2483820 (1958)\ttotal: 42m 40s\tremaining: 46m 12s\n",
      "2500:\tlearn: 0.2052935\ttest: 0.2486127\tbest: 0.2483820 (1958)\ttotal: 44m 1s\tremaining: 44m\n",
      "2600:\tlearn: 0.2038669\ttest: 0.2486179\tbest: 0.2483820 (1958)\ttotal: 45m 18s\tremaining: 41m 47s\n",
      "2700:\tlearn: 0.2023475\ttest: 0.2486321\tbest: 0.2483820 (1958)\ttotal: 46m 15s\tremaining: 39m 22s\n",
      "2800:\tlearn: 0.2008359\ttest: 0.2486724\tbest: 0.2483820 (1958)\ttotal: 47m 19s\tremaining: 37m 10s\n",
      "2900:\tlearn: 0.1994148\ttest: 0.2486602\tbest: 0.2483820 (1958)\ttotal: 48m 23s\tremaining: 35m 1s\n",
      "3000:\tlearn: 0.1980135\ttest: 0.2486631\tbest: 0.2483820 (1958)\ttotal: 49m 30s\tremaining: 32m 59s\n",
      "3100:\tlearn: 0.1966167\ttest: 0.2487022\tbest: 0.2483820 (1958)\ttotal: 50m 38s\tremaining: 31m 1s\n",
      "3200:\tlearn: 0.1951888\ttest: 0.2487273\tbest: 0.2483820 (1958)\ttotal: 51m 47s\tremaining: 29m 7s\n",
      "3300:\tlearn: 0.1937631\ttest: 0.2488204\tbest: 0.2483820 (1958)\ttotal: 52m 57s\tremaining: 27m 15s\n",
      "3400:\tlearn: 0.1924301\ttest: 0.2488239\tbest: 0.2483820 (1958)\ttotal: 54m 5s\tremaining: 25m 26s\n",
      "3500:\tlearn: 0.1910730\ttest: 0.2488195\tbest: 0.2483820 (1958)\ttotal: 55m 15s\tremaining: 23m 39s\n",
      "3600:\tlearn: 0.1896812\ttest: 0.2488853\tbest: 0.2483820 (1958)\ttotal: 56m 32s\tremaining: 21m 58s\n",
      "3700:\tlearn: 0.1883269\ttest: 0.2488752\tbest: 0.2483820 (1958)\ttotal: 57m 47s\tremaining: 20m 17s\n",
      "3800:\tlearn: 0.1870447\ttest: 0.2489752\tbest: 0.2483820 (1958)\ttotal: 59m 2s\tremaining: 18m 37s\n",
      "3900:\tlearn: 0.1857895\ttest: 0.2490877\tbest: 0.2483820 (1958)\ttotal: 1h 12s\tremaining: 16m 58s\n",
      "4000:\tlearn: 0.1845245\ttest: 0.2492082\tbest: 0.2483820 (1958)\ttotal: 1h 1m 29s\tremaining: 15m 21s\n",
      "4100:\tlearn: 0.1832628\ttest: 0.2492444\tbest: 0.2483820 (1958)\ttotal: 1h 2m 55s\tremaining: 13m 47s\n",
      "4200:\tlearn: 0.1819553\ttest: 0.2492826\tbest: 0.2483820 (1958)\ttotal: 1h 4m 19s\tremaining: 12m 14s\n",
      "4300:\tlearn: 0.1807390\ttest: 0.2493341\tbest: 0.2483820 (1958)\ttotal: 1h 5m 58s\tremaining: 10m 43s\n",
      "4400:\tlearn: 0.1794647\ttest: 0.2494598\tbest: 0.2483820 (1958)\ttotal: 1h 7m 36s\tremaining: 9m 12s\n",
      "4500:\tlearn: 0.1782658\ttest: 0.2494933\tbest: 0.2483820 (1958)\ttotal: 1h 9m 9s\tremaining: 7m 40s\n",
      "4600:\tlearn: 0.1770319\ttest: 0.2495641\tbest: 0.2483820 (1958)\ttotal: 1h 10m 42s\tremaining: 6m 8s\n",
      "4700:\tlearn: 0.1758668\ttest: 0.2496363\tbest: 0.2483820 (1958)\ttotal: 1h 12m 8s\tremaining: 4m 35s\n",
      "4800:\tlearn: 0.1747205\ttest: 0.2496837\tbest: 0.2483820 (1958)\ttotal: 1h 13m 33s\tremaining: 3m 2s\n",
      "4900:\tlearn: 0.1734925\ttest: 0.2497293\tbest: 0.2483820 (1958)\ttotal: 1h 14m 52s\tremaining: 1m 30s\n",
      "4999:\tlearn: 0.1723490\ttest: 0.2498074\tbest: 0.2483820 (1958)\ttotal: 1h 16m 7s\tremaining: 0us\n",
      "\n",
      "bestTest = 0.2483820293\n",
      "bestIteration = 1958\n",
      "\n",
      "Shrink model to first 1959 iterations.\n",
      "******* Fold 4 ******* \n",
      "Learning rate set to 0.067666\n",
      "0:\tlearn: 0.6198588\ttest: 0.6196342\tbest: 0.6196342 (0)\ttotal: 694ms\tremaining: 57m 49s\n",
      "100:\tlearn: 0.2618083\ttest: 0.2617796\tbest: 0.2617796 (100)\ttotal: 1m 15s\tremaining: 1h 38s\n",
      "200:\tlearn: 0.2541884\ttest: 0.2555596\tbest: 0.2555596 (200)\ttotal: 2m 27s\tremaining: 58m 50s\n",
      "300:\tlearn: 0.2492966\ttest: 0.2526628\tbest: 0.2526628 (300)\ttotal: 3m 41s\tremaining: 57m 38s\n",
      "400:\tlearn: 0.2457489\ttest: 0.2511767\tbest: 0.2511767 (400)\ttotal: 4m 53s\tremaining: 56m 2s\n",
      "500:\tlearn: 0.2426448\ttest: 0.2501561\tbest: 0.2501561 (500)\ttotal: 6m 11s\tremaining: 55m 42s\n",
      "600:\tlearn: 0.2398818\ttest: 0.2493902\tbest: 0.2493902 (600)\ttotal: 7m 17s\tremaining: 53m 28s\n",
      "700:\tlearn: 0.2375123\ttest: 0.2489629\tbest: 0.2489629 (700)\ttotal: 8m 20s\tremaining: 51m 16s\n",
      "800:\tlearn: 0.2353001\ttest: 0.2486215\tbest: 0.2486215 (800)\ttotal: 9m 23s\tremaining: 49m 17s\n",
      "900:\tlearn: 0.2330988\ttest: 0.2483032\tbest: 0.2483000 (899)\ttotal: 10m 35s\tremaining: 48m 15s\n",
      "1000:\tlearn: 0.2310906\ttest: 0.2480571\tbest: 0.2480571 (1000)\ttotal: 11m 58s\tremaining: 47m 53s\n",
      "1100:\tlearn: 0.2290772\ttest: 0.2479093\tbest: 0.2479093 (1100)\ttotal: 13m 17s\tremaining: 47m 5s\n",
      "1200:\tlearn: 0.2272470\ttest: 0.2477100\tbest: 0.2477077 (1199)\ttotal: 14m 35s\tremaining: 46m 11s\n",
      "1300:\tlearn: 0.2254142\ttest: 0.2475402\tbest: 0.2475391 (1299)\ttotal: 15m 58s\tremaining: 45m 26s\n",
      "1400:\tlearn: 0.2235604\ttest: 0.2475572\tbest: 0.2475313 (1366)\ttotal: 17m 33s\tremaining: 45m 9s\n",
      "1500:\tlearn: 0.2217702\ttest: 0.2474680\tbest: 0.2474680 (1500)\ttotal: 18m 55s\tremaining: 44m 7s\n",
      "1600:\tlearn: 0.2200253\ttest: 0.2472855\tbest: 0.2472824 (1599)\ttotal: 20m 8s\tremaining: 42m 47s\n",
      "1700:\tlearn: 0.2183779\ttest: 0.2472053\tbest: 0.2471962 (1694)\ttotal: 21m 25s\tremaining: 41m 35s\n",
      "1800:\tlearn: 0.2167607\ttest: 0.2470767\tbest: 0.2470745 (1799)\ttotal: 22m 42s\tremaining: 40m 20s\n",
      "1900:\tlearn: 0.2150391\ttest: 0.2469830\tbest: 0.2469815 (1899)\ttotal: 23m 57s\tremaining: 39m 4s\n",
      "2000:\tlearn: 0.2134395\ttest: 0.2469774\tbest: 0.2469666 (1996)\ttotal: 25m 36s\tremaining: 38m 24s\n",
      "2100:\tlearn: 0.2118796\ttest: 0.2469851\tbest: 0.2469666 (1996)\ttotal: 31m 59s\tremaining: 44m 9s\n",
      "2200:\tlearn: 0.2103380\ttest: 0.2469107\tbest: 0.2469093 (2196)\ttotal: 38m 13s\tremaining: 48m 37s\n",
      "2300:\tlearn: 0.2087785\ttest: 0.2468860\tbest: 0.2468771 (2293)\ttotal: 45m 2s\tremaining: 52m 51s\n",
      "2400:\tlearn: 0.2072906\ttest: 0.2468428\tbest: 0.2468407 (2392)\ttotal: 51m 36s\tremaining: 55m 53s\n",
      "2500:\tlearn: 0.2057682\ttest: 0.2468054\tbest: 0.2468045 (2499)\ttotal: 58m 16s\tremaining: 58m 15s\n",
      "2600:\tlearn: 0.2042099\ttest: 0.2468413\tbest: 0.2467939 (2528)\ttotal: 1h 5m 1s\tremaining: 59m 59s\n",
      "2700:\tlearn: 0.2026789\ttest: 0.2468037\tbest: 0.2467841 (2676)\ttotal: 1h 9m 47s\tremaining: 59m 25s\n",
      "2800:\tlearn: 0.2012279\ttest: 0.2467466\tbest: 0.2467466 (2800)\ttotal: 1h 11m\tremaining: 55m 45s\n",
      "2900:\tlearn: 0.1997681\ttest: 0.2468046\tbest: 0.2467466 (2800)\ttotal: 1h 12m 6s\tremaining: 52m 11s\n",
      "3000:\tlearn: 0.1983548\ttest: 0.2468639\tbest: 0.2467466 (2800)\ttotal: 1h 13m 11s\tremaining: 48m 46s\n",
      "3100:\tlearn: 0.1969403\ttest: 0.2469094\tbest: 0.2467466 (2800)\ttotal: 1h 14m 14s\tremaining: 45m 28s\n",
      "3200:\tlearn: 0.1955922\ttest: 0.2469353\tbest: 0.2467466 (2800)\ttotal: 1h 15m 21s\tremaining: 42m 21s\n",
      "3300:\tlearn: 0.1942180\ttest: 0.2469213\tbest: 0.2467466 (2800)\ttotal: 1h 16m 34s\tremaining: 39m 25s\n",
      "3400:\tlearn: 0.1928332\ttest: 0.2469443\tbest: 0.2467466 (2800)\ttotal: 1h 17m 47s\tremaining: 36m 35s\n",
      "3500:\tlearn: 0.1915541\ttest: 0.2469622\tbest: 0.2467466 (2800)\ttotal: 1h 18m 57s\tremaining: 33m 49s\n",
      "3600:\tlearn: 0.1902131\ttest: 0.2469871\tbest: 0.2467466 (2800)\ttotal: 1h 20m 12s\tremaining: 31m 10s\n",
      "3700:\tlearn: 0.1889198\ttest: 0.2470338\tbest: 0.2467466 (2800)\ttotal: 1h 21m 24s\tremaining: 28m 34s\n",
      "3800:\tlearn: 0.1876029\ttest: 0.2470156\tbest: 0.2467466 (2800)\ttotal: 1h 22m 35s\tremaining: 26m 3s\n",
      "3900:\tlearn: 0.1863179\ttest: 0.2470405\tbest: 0.2467466 (2800)\ttotal: 1h 23m 43s\tremaining: 23m 35s\n",
      "4000:\tlearn: 0.1850355\ttest: 0.2470669\tbest: 0.2467466 (2800)\ttotal: 1h 24m 51s\tremaining: 21m 11s\n",
      "4100:\tlearn: 0.1837629\ttest: 0.2470663\tbest: 0.2467466 (2800)\ttotal: 1h 25m 59s\tremaining: 18m 51s\n",
      "4200:\tlearn: 0.1824364\ttest: 0.2471020\tbest: 0.2467466 (2800)\ttotal: 1h 27m 7s\tremaining: 16m 34s\n",
      "4300:\tlearn: 0.1812205\ttest: 0.2471950\tbest: 0.2467466 (2800)\ttotal: 1h 28m 15s\tremaining: 14m 20s\n",
      "4400:\tlearn: 0.1800253\ttest: 0.2472184\tbest: 0.2467466 (2800)\ttotal: 1h 29m 22s\tremaining: 12m 10s\n",
      "4500:\tlearn: 0.1788239\ttest: 0.2472960\tbest: 0.2467466 (2800)\ttotal: 1h 30m 29s\tremaining: 10m 2s\n",
      "4600:\tlearn: 0.1776551\ttest: 0.2473352\tbest: 0.2467466 (2800)\ttotal: 1h 31m 39s\tremaining: 7m 57s\n"
     ]
    },
    {
     "name": "stdout",
     "output_type": "stream",
     "text": [
      "4700:\tlearn: 0.1764297\ttest: 0.2474213\tbest: 0.2467466 (2800)\ttotal: 1h 32m 49s\tremaining: 5m 54s\n",
      "4800:\tlearn: 0.1753760\ttest: 0.2474256\tbest: 0.2467466 (2800)\ttotal: 1h 33m 59s\tremaining: 3m 53s\n",
      "4900:\tlearn: 0.1741896\ttest: 0.2474974\tbest: 0.2467466 (2800)\ttotal: 1h 35m 11s\tremaining: 1m 55s\n",
      "4999:\tlearn: 0.1730368\ttest: 0.2475548\tbest: 0.2467466 (2800)\ttotal: 1h 36m 24s\tremaining: 0us\n",
      "\n",
      "bestTest = 0.2467465648\n",
      "bestIteration = 2800\n",
      "\n",
      "Shrink model to first 2801 iterations.\n",
      "Amex metric: 0.7394852267604255\n"
     ]
    }
   ],
   "source": [
    "N_FOLDS = 5\n",
    "skf = StratifiedKFold(n_splits=N_FOLDS, shuffle=True, random_state=22)\n",
    "y_oof = np.zeros(train_x.shape[0])\n",
    "y_test = np.zeros(test.shape[0])\n",
    "ix = 0\n",
    "for train_ind, val_ind in skf.split(train_x, train_y):\n",
    "    print(f\"******* Fold {ix} ******* \")\n",
    "    tr_x, val_x = (\n",
    "        train_x.iloc[train_ind].reset_index(drop=True),\n",
    "        train_x.iloc[val_ind].reset_index(drop=True),\n",
    "    )\n",
    "    tr_y, val_y = (\n",
    "        train_y.iloc[train_ind].reset_index(drop=True),\n",
    "        train_y.iloc[val_ind].reset_index(drop=True),\n",
    "    )\n",
    "\n",
    "    clf = CatBoostClassifier(iterations=5000, random_state=22)\n",
    "    clf.fit(tr_x, tr_y, eval_set=[(val_x, val_y)], cat_features=cat_features,  verbose=100)\n",
    "    preds = clf.predict_proba(val_x)[:, 1]\n",
    "    y_oof[val_ind] = y_oof[val_ind] + preds\n",
    "\n",
    "    preds_test = clf.predict_proba(test)[:, 1]\n",
    "    y_test = y_test + preds_test / N_FOLDS\n",
    "    ix = ix + 1\n",
    "y_pred = train_y.copy(deep=True)\n",
    "y_pred = y_pred.rename(columns={\"target\": \"prediction\"})\n",
    "y_pred[\"prediction\"] = y_oof\n",
    "val_score = amex_metric(train_y, y_pred)\n",
    "print(f\"Amex metric: {val_score}\")"
   ]
  },
  {
   "cell_type": "code",
   "execution_count": 12,
   "id": "cc741f7b",
   "metadata": {
    "execution": {
     "iopub.execute_input": "2022-05-28T20:32:09.612174Z",
     "iopub.status.busy": "2022-05-28T20:32:09.611509Z",
     "iopub.status.idle": "2022-05-28T20:32:09.633865Z",
     "shell.execute_reply": "2022-05-28T20:32:09.632799Z"
    },
    "papermill": {
     "duration": 0.052301,
     "end_time": "2022-05-28T20:32:09.636383",
     "exception": false,
     "start_time": "2022-05-28T20:32:09.584082",
     "status": "completed"
    },
    "tags": []
   },
   "outputs": [],
   "source": [
    "y_oof_binary = (y_oof >= np.percentile(y_oof, 96)).astype(int)"
   ]
  },
  {
   "cell_type": "code",
   "execution_count": 13,
   "id": "4b231cba",
   "metadata": {
    "execution": {
     "iopub.execute_input": "2022-05-28T20:32:09.686324Z",
     "iopub.status.busy": "2022-05-28T20:32:09.685886Z",
     "iopub.status.idle": "2022-05-28T20:32:09.696323Z",
     "shell.execute_reply": "2022-05-28T20:32:09.695284Z"
    },
    "papermill": {
     "duration": 0.037403,
     "end_time": "2022-05-28T20:32:09.698543",
     "exception": false,
     "start_time": "2022-05-28T20:32:09.661140",
     "status": "completed"
    },
    "tags": []
   },
   "outputs": [
    {
     "data": {
      "text/plain": [
       "0.040001045949885926"
      ]
     },
     "execution_count": 13,
     "metadata": {},
     "output_type": "execute_result"
    }
   ],
   "source": [
    "y_oof_binary.mean()"
   ]
  },
  {
   "cell_type": "markdown",
   "id": "7eaa1fd0",
   "metadata": {
    "papermill": {
     "duration": 0.023416,
     "end_time": "2022-05-28T20:32:09.746369",
     "exception": false,
     "start_time": "2022-05-28T20:32:09.722953",
     "status": "completed"
    },
    "tags": []
   },
   "source": [
    "# Plot Confusion Matrix"
   ]
  },
  {
   "cell_type": "code",
   "execution_count": 14,
   "id": "55e68a33",
   "metadata": {
    "execution": {
     "iopub.execute_input": "2022-05-28T20:32:09.795417Z",
     "iopub.status.busy": "2022-05-28T20:32:09.794962Z",
     "iopub.status.idle": "2022-05-28T20:32:10.758774Z",
     "shell.execute_reply": "2022-05-28T20:32:10.757701Z"
    },
    "papermill": {
     "duration": 0.99126,
     "end_time": "2022-05-28T20:32:10.761202",
     "exception": false,
     "start_time": "2022-05-28T20:32:09.769942",
     "status": "completed"
    },
    "tags": []
   },
   "outputs": [
    {
     "data": {
      "image/png": "[encoded data removed]",
      "text/plain": [
       "<Figure size 432x288 with 2 Axes>"
      ]
     },
     "metadata": {
      "needs_background": "light"
     },
     "output_type": "display_data"
    }
   ],
   "source": [
    "import matplotlib.pyplot as plt\n",
    "import itertools\n",
    "from sklearn.metrics import confusion_matrix\n",
    "\n",
    "def plot_confusion_matrix(cm, classes,\n",
    "                          normalize = False,\n",
    "                          title = 'Confusion matrix\"',\n",
    "                          cmap = plt.cm.Blues) :\n",
    "    plt.imshow(cm, interpolation = 'nearest', cmap = cmap)\n",
    "    plt.title(title)\n",
    "    plt.colorbar()\n",
    "    tick_marks = np.arange(len(classes))\n",
    "    plt.xticks(tick_marks, classes, rotation = 0)\n",
    "    plt.yticks(tick_marks, classes)\n",
    "\n",
    "    thresh = cm.max() / 2.\n",
    "    for i, j in itertools.product(range(cm.shape[0]), range(cm.shape[1])) :\n",
    "        plt.text(j, i, cm[i, j],\n",
    "                 horizontalalignment = 'center',\n",
    "                 color = 'white' if cm[i, j] > thresh else 'black')\n",
    "\n",
    "    plt.tight_layout()\n",
    "    plt.ylabel('True label')\n",
    "    plt.xlabel('Predicted label')\n",
    "    \n",
    "cm = confusion_matrix(train_y, y_oof_binary)\n",
    "class_names = [0,1]\n",
    "plt.figure()\n",
    "plot_confusion_matrix(cm,\n",
    "                      classes = class_names,\n",
    "                      title = f'Confusion matrix at 4%')\n",
    "plt.show()"
   ]
  },
  {
   "cell_type": "markdown",
   "id": "4efdb75d",
   "metadata": {
    "papermill": {
     "duration": 0.024104,
     "end_time": "2022-05-28T20:32:10.809901",
     "exception": false,
     "start_time": "2022-05-28T20:32:10.785797",
     "status": "completed"
    },
    "tags": []
   },
   "source": [
    "# Submission"
   ]
  },
  {
   "cell_type": "code",
   "execution_count": 15,
   "id": "c138f097",
   "metadata": {
    "execution": {
     "iopub.execute_input": "2022-05-28T20:32:10.864321Z",
     "iopub.status.busy": "2022-05-28T20:32:10.863205Z",
     "iopub.status.idle": "2022-05-28T20:32:16.636489Z",
     "shell.execute_reply": "2022-05-28T20:32:16.635768Z"
    },
    "papermill": {
     "duration": 5.803075,
     "end_time": "2022-05-28T20:32:16.638925",
     "exception": false,
     "start_time": "2022-05-28T20:32:10.835850",
     "status": "completed"
    },
    "tags": []
   },
   "outputs": [],
   "source": [
    "test[\"prediction\"] = y_test\n",
    "test[\"prediction\"].to_csv(f\"submission_cat_{val_score}.csv\", index=True)"
   ]
  },
  {
   "cell_type": "code",
   "execution_count": 16,
   "id": "6e61f999",
   "metadata": {},
   "outputs": [
    {
     "data": {
      "text/plain": [
       "'C:\\\\Users\\\\Khangjrakpam Arjun\\\\OneDrive - McKinsey & Company\\\\Documents\\\\ARJUN\\\\ML\\\\COMPETITIONS\\\\Amex\\\\amex-default-prediction\\\\preprocessed_data'"
      ]
     },
     "execution_count": 16,
     "metadata": {},
     "output_type": "execute_result"
    }
   ],
   "source": [
    "os.getcwd()"
   ]
  },
  {
   "cell_type": "markdown",
   "id": "d2693d31",
   "metadata": {},
   "source": [
    "### Save model to disk"
   ]
  },
  {
   "cell_type": "code",
   "execution_count": 33,
   "id": "a3e9a437",
   "metadata": {},
   "outputs": [
    {
     "name": "stdout",
     "output_type": "stream",
     "text": [
      "C:\\Users\\Khangjrakpam Arjun\\OneDrive - McKinsey & Company\\Documents\\ARJUN\\ML\\COMPETITIONS\\Amex\\amex-default-prediction\\saved_model\\catboost\\catboost_model.sav\n"
     ]
    }
   ],
   "source": [
    "# save the model to disk\n",
    "from datetime import datetime\n",
    "current_time = datetime.now().strftime(\"%H_%M_%S\")\n",
    "filename = r'C:\\Users\\Khangjrakpam Arjun\\OneDrive - McKinsey & Company\\Documents\\ARJUN\\ML\\COMPETITIONS\\Amex\\amex-default-prediction\\saved_model\\catboost'+'\\\\'+('catboost') +'_model.sav'\n",
    "print(filename)\n",
    "import pickle\n",
    "pickle.dump(clf, open(filename, 'wb'))\n"
   ]
  },
  {
   "cell_type": "markdown",
   "id": "fd358cf1",
   "metadata": {},
   "source": [
    "### Load model from disk"
   ]
  },
  {
   "cell_type": "code",
   "execution_count": 20,
   "id": "8cd714d2",
   "metadata": {},
   "outputs": [
    {
     "name": "stdout",
     "output_type": "stream",
     "text": [
      "C:\\Users\\Khangjrakpam Arjun\\OneDrive - McKinsey & Company\\Documents\\ARJUN\\ML\\COMPETITIONS\\Amex\\amex-default-prediction\\saved_model\\catboost\\catboost_model.sav\n"
     ]
    }
   ],
   "source": [
    "filename = r'C:\\Users\\Khangjrakpam Arjun\\OneDrive - McKinsey & Company\\Documents\\ARJUN\\ML\\COMPETITIONS\\Amex\\amex-default-prediction\\saved_model\\catboost'+'\\\\'+('catboost') +'_model.sav'\n",
    "print(filename)\n",
    "import pickle"
   ]
  },
  {
   "cell_type": "code",
   "execution_count": 21,
   "id": "41e2985b",
   "metadata": {},
   "outputs": [],
   "source": [
    "# load the model from disk\n",
    "clf = pickle.load(open(filename, 'rb'))\n",
    "#rfr.score(X_test, y_test)"
   ]
  },
  {
   "cell_type": "code",
   "execution_count": null,
   "id": "3652094e",
   "metadata": {},
   "outputs": [],
   "source": []
  }
 ],
 "metadata": {
  "kernelspec": {
   "display_name": "Python 3 (ipykernel)",
   "language": "python",
   "name": "python3"
  },
  "language_info": {
   "codemirror_mode": {
    "name": "ipython",
    "version": 3
   },
   "file_extension": ".py",
   "mimetype": "text/x-python",
   "name": "python",
   "nbconvert_exporter": "python",
   "pygments_lexer": "ipython3",
   "version": "3.9.12"
  },
  "papermill": {
   "default_parameters": {},
   "duration": 31005.760087,
   "end_time": "2022-05-28T20:32:19.267707",
   "environment_variables": {},
   "exception": null,
   "input_path": "__notebook__.ipynb",
   "output_path": "__notebook__.ipynb",
   "parameters": {},
   "start_time": "2022-05-28T11:55:33.507620",
   "version": "2.3.4"
  }
 },
 "nbformat": 4,
 "nbformat_minor": 5
}
