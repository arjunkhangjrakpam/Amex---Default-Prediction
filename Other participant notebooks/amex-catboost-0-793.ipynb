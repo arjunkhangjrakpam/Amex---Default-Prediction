{
 "cells": [
  {
   "cell_type": "markdown",
   "id": "f48e6298",
   "metadata": {
    "papermill": {
     "duration": 0.005798,
     "end_time": "2022-05-28T11:55:43.006131",
     "exception": false,
     "start_time": "2022-05-28T11:55:43.000333",
     "status": "completed"
    },
    "tags": []
   },
   "source": [
    "# Import Libraries"
   ]
  },
  {
   "cell_type": "code",
   "execution_count": 2,
   "id": "5183d0c6",
   "metadata": {
    "execution": {
     "iopub.execute_input": "2022-05-28T11:55:43.020410Z",
     "iopub.status.busy": "2022-05-28T11:55:43.019527Z",
     "iopub.status.idle": "2022-05-28T11:55:44.479314Z",
     "shell.execute_reply": "2022-05-28T11:55:44.478394Z"
    },
    "papermill": {
     "duration": 1.468715,
     "end_time": "2022-05-28T11:55:44.482172",
     "exception": false,
     "start_time": "2022-05-28T11:55:43.013457",
     "status": "completed"
    },
    "tags": []
   },
   "outputs": [],
   "source": [
    "import pandas as pd\n",
    "import numpy as np\n",
    "from catboost import CatBoostClassifier\n",
    "from sklearn.model_selection import StratifiedKFold\n",
    "from sklearn.preprocessing import LabelEncoder\n",
    "import os\n",
    "os.chdir(f'C:\\\\Users\\\\Khangjrakpam Arjun\\\\OneDrive - McKinsey & Company\\\\Documents\\\\ARJUN\\\\ML\\\\COMPETITIONS\\\\Amex\\\\amex-default-prediction\\\\data')"
   ]
  },
  {
   "cell_type": "markdown",
   "id": "6677cfe0",
   "metadata": {
    "papermill": {
     "duration": 0.004526,
     "end_time": "2022-05-28T11:55:44.491633",
     "exception": false,
     "start_time": "2022-05-28T11:55:44.487107",
     "status": "completed"
    },
    "tags": []
   },
   "source": [
    "Aggregated data are shared in dataset: https://www.kaggle.com/datasets/huseyincot/amex-agg-data-pickle\n",
    "Data created with following code: https://www.kaggle.com/code/huseyincot/amex-agg-data-how-it-created"
   ]
  },
  {
   "cell_type": "code",
   "execution_count": 10,
   "id": "c2943985",
   "metadata": {
    "execution": {
     "iopub.execute_input": "2022-05-28T11:55:44.502668Z",
     "iopub.status.busy": "2022-05-28T11:55:44.502267Z",
     "iopub.status.idle": "2022-05-28T11:56:42.541818Z",
     "shell.execute_reply": "2022-05-28T11:56:42.540700Z"
    },
    "papermill": {
     "duration": 58.047837,
     "end_time": "2022-05-28T11:56:42.544193",
     "exception": false,
     "start_time": "2022-05-28T11:55:44.496356",
     "status": "completed"
    },
    "tags": []
   },
   "outputs": [],
   "source": [
    "train = pd.read_pickle(\"train_agg.pkl\", compression=\"gzip\")\n",
    "test = pd.read_pickle(\"test_agg.pkl\", compression=\"gzip\")"
   ]
  },
  {
   "cell_type": "code",
   "execution_count": 11,
   "id": "54695340",
   "metadata": {},
   "outputs": [
    {
     "name": "stdout",
     "output_type": "stream",
     "text": [
      "<class 'pandas.core.frame.DataFrame'>\n",
      "Index: 458913 entries, 0000099d6bd597052cdcda90ffabf56573fe9d7c79be5fbac11a8ed792feb62a to fffff1d38b785cef84adeace64f8f83db3a0c31e8d92eaba8b115f71cab04681\n",
      "Columns: 919 entries, P_2_mean to target\n",
      "dtypes: float32(372), float64(261), int16(27), int64(23), int8(236)\n",
      "memory usage: 1.7+ GB\n"
     ]
    }
   ],
   "source": [
    "train.info()"
   ]
  },
  {
   "cell_type": "code",
   "execution_count": 12,
   "id": "762e4454",
   "metadata": {},
   "outputs": [
    {
     "name": "stdout",
     "output_type": "stream",
     "text": [
      "<class 'pandas.core.frame.DataFrame'>\n",
      "Index: 924621 entries, 00000469ba478561f23a92a868bd366de6f6527a684c9a2e78fb826dcac3b9b7 to fffffa7cf7e453e1acc6a1426475d5cb9400859f82ff61cceb803ea8ec37634d\n",
      "Columns: 918 entries, P_2_mean to D_68_nunique\n",
      "dtypes: float32(372), float64(261), int16(30), int64(22), int8(233)\n",
      "memory usage: 3.5+ GB\n"
     ]
    }
   ],
   "source": [
    "test.info()"
   ]
  },
  {
   "cell_type": "code",
   "execution_count": 13,
   "id": "ee7659d1",
   "metadata": {
    "execution": {
     "iopub.execute_input": "2022-05-28T11:56:42.555806Z",
     "iopub.status.busy": "2022-05-28T11:56:42.555361Z",
     "iopub.status.idle": "2022-05-28T11:56:42.837400Z",
     "shell.execute_reply": "2022-05-28T11:56:42.836512Z"
    },
    "papermill": {
     "duration": 0.291174,
     "end_time": "2022-05-28T11:56:42.840521",
     "exception": false,
     "start_time": "2022-05-28T11:56:42.549347",
     "status": "completed"
    },
    "tags": []
   },
   "outputs": [
    {
     "data": {
      "text/html": [
       "<div>\n",
       "<style scoped>\n",
       "    .dataframe tbody tr th:only-of-type {\n",
       "        vertical-align: middle;\n",
       "    }\n",
       "\n",
       "    .dataframe tbody tr th {\n",
       "        vertical-align: top;\n",
       "    }\n",
       "\n",
       "    .dataframe thead th {\n",
       "        text-align: right;\n",
       "    }\n",
       "</style>\n",
       "<table border=\"1\" class=\"dataframe\">\n",
       "  <thead>\n",
       "    <tr style=\"text-align: right;\">\n",
       "      <th></th>\n",
       "      <th>P_2_mean</th>\n",
       "      <th>P_2_std</th>\n",
       "      <th>P_2_min</th>\n",
       "      <th>P_2_max</th>\n",
       "      <th>P_2_last</th>\n",
       "      <th>D_39_mean</th>\n",
       "      <th>D_39_std</th>\n",
       "      <th>D_39_min</th>\n",
       "      <th>D_39_max</th>\n",
       "      <th>D_39_last</th>\n",
       "      <th>...</th>\n",
       "      <th>D_64_count</th>\n",
       "      <th>D_64_last</th>\n",
       "      <th>D_64_nunique</th>\n",
       "      <th>D_66_count</th>\n",
       "      <th>D_66_last</th>\n",
       "      <th>D_66_nunique</th>\n",
       "      <th>D_68_count</th>\n",
       "      <th>D_68_last</th>\n",
       "      <th>D_68_nunique</th>\n",
       "      <th>target</th>\n",
       "    </tr>\n",
       "    <tr>\n",
       "      <th>customer_ID</th>\n",
       "      <th></th>\n",
       "      <th></th>\n",
       "      <th></th>\n",
       "      <th></th>\n",
       "      <th></th>\n",
       "      <th></th>\n",
       "      <th></th>\n",
       "      <th></th>\n",
       "      <th></th>\n",
       "      <th></th>\n",
       "      <th></th>\n",
       "      <th></th>\n",
       "      <th></th>\n",
       "      <th></th>\n",
       "      <th></th>\n",
       "      <th></th>\n",
       "      <th></th>\n",
       "      <th></th>\n",
       "      <th></th>\n",
       "      <th></th>\n",
       "      <th></th>\n",
       "    </tr>\n",
       "  </thead>\n",
       "  <tbody>\n",
       "    <tr>\n",
       "      <th>0000099d6bd597052cdcda90ffabf56573fe9d7c79be5fbac11a8ed792feb62a</th>\n",
       "      <td>0.933824</td>\n",
       "      <td>0.024194</td>\n",
       "      <td>0.868580</td>\n",
       "      <td>0.960384</td>\n",
       "      <td>0.934745</td>\n",
       "      <td>0.230769</td>\n",
       "      <td>0.832050</td>\n",
       "      <td>0</td>\n",
       "      <td>3</td>\n",
       "      <td>0</td>\n",
       "      <td>...</td>\n",
       "      <td>13</td>\n",
       "      <td>0</td>\n",
       "      <td>1</td>\n",
       "      <td>13</td>\n",
       "      <td>-1</td>\n",
       "      <td>1</td>\n",
       "      <td>13</td>\n",
       "      <td>6</td>\n",
       "      <td>1</td>\n",
       "      <td>0</td>\n",
       "    </tr>\n",
       "    <tr>\n",
       "      <th>00000fd6641609c6ece5454664794f0340ad84dddce9a267a310b5ae68e9d8e5</th>\n",
       "      <td>0.899820</td>\n",
       "      <td>0.022119</td>\n",
       "      <td>0.861109</td>\n",
       "      <td>0.929122</td>\n",
       "      <td>0.880519</td>\n",
       "      <td>7.153846</td>\n",
       "      <td>6.743468</td>\n",
       "      <td>0</td>\n",
       "      <td>19</td>\n",
       "      <td>6</td>\n",
       "      <td>...</td>\n",
       "      <td>13</td>\n",
       "      <td>0</td>\n",
       "      <td>1</td>\n",
       "      <td>13</td>\n",
       "      <td>-1</td>\n",
       "      <td>1</td>\n",
       "      <td>13</td>\n",
       "      <td>6</td>\n",
       "      <td>1</td>\n",
       "      <td>0</td>\n",
       "    </tr>\n",
       "    <tr>\n",
       "      <th>00001b22f846c82c51f6e3958ccd81970162bae8b007e80662ef27519fcc18c1</th>\n",
       "      <td>0.878454</td>\n",
       "      <td>0.028911</td>\n",
       "      <td>0.797670</td>\n",
       "      <td>0.904482</td>\n",
       "      <td>0.880875</td>\n",
       "      <td>0.000000</td>\n",
       "      <td>0.000000</td>\n",
       "      <td>0</td>\n",
       "      <td>0</td>\n",
       "      <td>0</td>\n",
       "      <td>...</td>\n",
       "      <td>13</td>\n",
       "      <td>2</td>\n",
       "      <td>1</td>\n",
       "      <td>13</td>\n",
       "      <td>-1</td>\n",
       "      <td>1</td>\n",
       "      <td>13</td>\n",
       "      <td>6</td>\n",
       "      <td>1</td>\n",
       "      <td>0</td>\n",
       "    </tr>\n",
       "    <tr>\n",
       "      <th>000041bdba6ecadd89a52d11886e8eaaec9325906c9723355abb5ca523658edc</th>\n",
       "      <td>0.598969</td>\n",
       "      <td>0.020107</td>\n",
       "      <td>0.567442</td>\n",
       "      <td>0.623392</td>\n",
       "      <td>0.621776</td>\n",
       "      <td>1.538462</td>\n",
       "      <td>3.017046</td>\n",
       "      <td>0</td>\n",
       "      <td>9</td>\n",
       "      <td>0</td>\n",
       "      <td>...</td>\n",
       "      <td>13</td>\n",
       "      <td>0</td>\n",
       "      <td>1</td>\n",
       "      <td>13</td>\n",
       "      <td>-1</td>\n",
       "      <td>1</td>\n",
       "      <td>13</td>\n",
       "      <td>3</td>\n",
       "      <td>3</td>\n",
       "      <td>0</td>\n",
       "    </tr>\n",
       "    <tr>\n",
       "      <th>00007889e4fcd2614b6cbe7f8f3d2e5c728eca32d9eb8ad51ca8b8c4a24cefed</th>\n",
       "      <td>0.891679</td>\n",
       "      <td>0.042325</td>\n",
       "      <td>0.805045</td>\n",
       "      <td>0.940382</td>\n",
       "      <td>0.871900</td>\n",
       "      <td>0.000000</td>\n",
       "      <td>0.000000</td>\n",
       "      <td>0</td>\n",
       "      <td>0</td>\n",
       "      <td>0</td>\n",
       "      <td>...</td>\n",
       "      <td>13</td>\n",
       "      <td>0</td>\n",
       "      <td>1</td>\n",
       "      <td>13</td>\n",
       "      <td>1</td>\n",
       "      <td>1</td>\n",
       "      <td>13</td>\n",
       "      <td>6</td>\n",
       "      <td>1</td>\n",
       "      <td>0</td>\n",
       "    </tr>\n",
       "  </tbody>\n",
       "</table>\n",
       "<p>5 rows × 919 columns</p>\n",
       "</div>"
      ],
      "text/plain": [
       "                                                    P_2_mean   P_2_std  \\\n",
       "customer_ID                                                              \n",
       "0000099d6bd597052cdcda90ffabf56573fe9d7c79be5fb...  0.933824  0.024194   \n",
       "00000fd6641609c6ece5454664794f0340ad84dddce9a26...  0.899820  0.022119   \n",
       "00001b22f846c82c51f6e3958ccd81970162bae8b007e80...  0.878454  0.028911   \n",
       "000041bdba6ecadd89a52d11886e8eaaec9325906c97233...  0.598969  0.020107   \n",
       "00007889e4fcd2614b6cbe7f8f3d2e5c728eca32d9eb8ad...  0.891679  0.042325   \n",
       "\n",
       "                                                     P_2_min   P_2_max  \\\n",
       "customer_ID                                                              \n",
       "0000099d6bd597052cdcda90ffabf56573fe9d7c79be5fb...  0.868580  0.960384   \n",
       "00000fd6641609c6ece5454664794f0340ad84dddce9a26...  0.861109  0.929122   \n",
       "00001b22f846c82c51f6e3958ccd81970162bae8b007e80...  0.797670  0.904482   \n",
       "000041bdba6ecadd89a52d11886e8eaaec9325906c97233...  0.567442  0.623392   \n",
       "00007889e4fcd2614b6cbe7f8f3d2e5c728eca32d9eb8ad...  0.805045  0.940382   \n",
       "\n",
       "                                                    P_2_last  D_39_mean  \\\n",
       "customer_ID                                                               \n",
       "0000099d6bd597052cdcda90ffabf56573fe9d7c79be5fb...  0.934745   0.230769   \n",
       "00000fd6641609c6ece5454664794f0340ad84dddce9a26...  0.880519   7.153846   \n",
       "00001b22f846c82c51f6e3958ccd81970162bae8b007e80...  0.880875   0.000000   \n",
       "000041bdba6ecadd89a52d11886e8eaaec9325906c97233...  0.621776   1.538462   \n",
       "00007889e4fcd2614b6cbe7f8f3d2e5c728eca32d9eb8ad...  0.871900   0.000000   \n",
       "\n",
       "                                                    D_39_std  D_39_min  \\\n",
       "customer_ID                                                              \n",
       "0000099d6bd597052cdcda90ffabf56573fe9d7c79be5fb...  0.832050         0   \n",
       "00000fd6641609c6ece5454664794f0340ad84dddce9a26...  6.743468         0   \n",
       "00001b22f846c82c51f6e3958ccd81970162bae8b007e80...  0.000000         0   \n",
       "000041bdba6ecadd89a52d11886e8eaaec9325906c97233...  3.017046         0   \n",
       "00007889e4fcd2614b6cbe7f8f3d2e5c728eca32d9eb8ad...  0.000000         0   \n",
       "\n",
       "                                                    D_39_max  D_39_last  ...  \\\n",
       "customer_ID                                                              ...   \n",
       "0000099d6bd597052cdcda90ffabf56573fe9d7c79be5fb...         3          0  ...   \n",
       "00000fd6641609c6ece5454664794f0340ad84dddce9a26...        19          6  ...   \n",
       "00001b22f846c82c51f6e3958ccd81970162bae8b007e80...         0          0  ...   \n",
       "000041bdba6ecadd89a52d11886e8eaaec9325906c97233...         9          0  ...   \n",
       "00007889e4fcd2614b6cbe7f8f3d2e5c728eca32d9eb8ad...         0          0  ...   \n",
       "\n",
       "                                                    D_64_count  D_64_last  \\\n",
       "customer_ID                                                                 \n",
       "0000099d6bd597052cdcda90ffabf56573fe9d7c79be5fb...          13          0   \n",
       "00000fd6641609c6ece5454664794f0340ad84dddce9a26...          13          0   \n",
       "00001b22f846c82c51f6e3958ccd81970162bae8b007e80...          13          2   \n",
       "000041bdba6ecadd89a52d11886e8eaaec9325906c97233...          13          0   \n",
       "00007889e4fcd2614b6cbe7f8f3d2e5c728eca32d9eb8ad...          13          0   \n",
       "\n",
       "                                                    D_64_nunique  D_66_count  \\\n",
       "customer_ID                                                                    \n",
       "0000099d6bd597052cdcda90ffabf56573fe9d7c79be5fb...             1          13   \n",
       "00000fd6641609c6ece5454664794f0340ad84dddce9a26...             1          13   \n",
       "00001b22f846c82c51f6e3958ccd81970162bae8b007e80...             1          13   \n",
       "000041bdba6ecadd89a52d11886e8eaaec9325906c97233...             1          13   \n",
       "00007889e4fcd2614b6cbe7f8f3d2e5c728eca32d9eb8ad...             1          13   \n",
       "\n",
       "                                                    D_66_last  D_66_nunique  \\\n",
       "customer_ID                                                                   \n",
       "0000099d6bd597052cdcda90ffabf56573fe9d7c79be5fb...         -1             1   \n",
       "00000fd6641609c6ece5454664794f0340ad84dddce9a26...         -1             1   \n",
       "00001b22f846c82c51f6e3958ccd81970162bae8b007e80...         -1             1   \n",
       "000041bdba6ecadd89a52d11886e8eaaec9325906c97233...         -1             1   \n",
       "00007889e4fcd2614b6cbe7f8f3d2e5c728eca32d9eb8ad...          1             1   \n",
       "\n",
       "                                                    D_68_count  D_68_last  \\\n",
       "customer_ID                                                                 \n",
       "0000099d6bd597052cdcda90ffabf56573fe9d7c79be5fb...          13          6   \n",
       "00000fd6641609c6ece5454664794f0340ad84dddce9a26...          13          6   \n",
       "00001b22f846c82c51f6e3958ccd81970162bae8b007e80...          13          6   \n",
       "000041bdba6ecadd89a52d11886e8eaaec9325906c97233...          13          3   \n",
       "00007889e4fcd2614b6cbe7f8f3d2e5c728eca32d9eb8ad...          13          6   \n",
       "\n",
       "                                                    D_68_nunique  target  \n",
       "customer_ID                                                               \n",
       "0000099d6bd597052cdcda90ffabf56573fe9d7c79be5fb...             1       0  \n",
       "00000fd6641609c6ece5454664794f0340ad84dddce9a26...             1       0  \n",
       "00001b22f846c82c51f6e3958ccd81970162bae8b007e80...             1       0  \n",
       "000041bdba6ecadd89a52d11886e8eaaec9325906c97233...             3       0  \n",
       "00007889e4fcd2614b6cbe7f8f3d2e5c728eca32d9eb8ad...             1       0  \n",
       "\n",
       "[5 rows x 919 columns]"
      ]
     },
     "execution_count": 13,
     "metadata": {},
     "output_type": "execute_result"
    }
   ],
   "source": [
    "train.head()"
   ]
  },
  {
   "cell_type": "markdown",
   "id": "9dfc46ed",
   "metadata": {
    "papermill": {
     "duration": 0.005186,
     "end_time": "2022-05-28T11:56:42.851099",
     "exception": false,
     "start_time": "2022-05-28T11:56:42.845913",
     "status": "completed"
    },
    "tags": []
   },
   "source": [
    "# Competition Metric"
   ]
  },
  {
   "cell_type": "code",
   "execution_count": 14,
   "id": "9d76ad98",
   "metadata": {
    "execution": {
     "iopub.execute_input": "2022-05-28T11:56:42.863503Z",
     "iopub.status.busy": "2022-05-28T11:56:42.863166Z",
     "iopub.status.idle": "2022-05-28T11:56:42.877825Z",
     "shell.execute_reply": "2022-05-28T11:56:42.876809Z"
    },
    "papermill": {
     "duration": 0.023076,
     "end_time": "2022-05-28T11:56:42.879883",
     "exception": false,
     "start_time": "2022-05-28T11:56:42.856807",
     "status": "completed"
    },
    "tags": []
   },
   "outputs": [],
   "source": [
    "def amex_metric(y_true: pd.DataFrame, y_pred: pd.DataFrame) -> float:\n",
    "    def top_four_percent_captured(y_true: pd.DataFrame, y_pred: pd.DataFrame) -> float:\n",
    "        df = (pd.concat([y_true, y_pred], axis='columns')\n",
    "              .sort_values('prediction', ascending=False))\n",
    "        df['weight'] = df['target'].apply(lambda x: 20 if x == 0 else 1)\n",
    "        four_pct_cutoff = int(0.04 * df['weight'].sum())\n",
    "        df['weight_cumsum'] = df['weight'].cumsum()\n",
    "        df_cutoff = df.loc[df['weight_cumsum'] <= four_pct_cutoff]\n",
    "        return (df_cutoff['target'] == 1).sum() / (df['target'] == 1).sum()\n",
    "\n",
    "    def weighted_gini(y_true: pd.DataFrame, y_pred: pd.DataFrame) -> float:\n",
    "        df = (pd.concat([y_true, y_pred], axis='columns')\n",
    "              .sort_values('prediction', ascending=False))\n",
    "        df['weight'] = df['target'].apply(lambda x: 20 if x == 0 else 1)\n",
    "        df['random'] = (df['weight'] / df['weight'].sum()).cumsum()\n",
    "        total_pos = (df['target'] * df['weight']).sum()\n",
    "        df['cum_pos_found'] = (df['target'] * df['weight']).cumsum()\n",
    "        df['lorentz'] = df['cum_pos_found'] / total_pos\n",
    "        df['gini'] = (df['lorentz'] - df['random']) * df['weight']\n",
    "        return df['gini'].sum()\n",
    "\n",
    "    def normalized_weighted_gini(y_true: pd.DataFrame, y_pred: pd.DataFrame) -> float:\n",
    "        y_true_pred = y_true.rename(columns={'target': 'prediction'})\n",
    "        return weighted_gini(y_true, y_pred) / weighted_gini(y_true, y_true_pred)\n",
    "\n",
    "    g = normalized_weighted_gini(y_true, y_pred)\n",
    "    d = top_four_percent_captured(y_true, y_pred)\n",
    "\n",
    "    return 0.5 * (g + d)"
   ]
  },
  {
   "cell_type": "code",
   "execution_count": 15,
   "id": "578e4034",
   "metadata": {
    "execution": {
     "iopub.execute_input": "2022-05-28T11:56:42.892543Z",
     "iopub.status.busy": "2022-05-28T11:56:42.891644Z",
     "iopub.status.idle": "2022-05-28T11:56:45.357202Z",
     "shell.execute_reply": "2022-05-28T11:56:45.356279Z"
    },
    "papermill": {
     "duration": 2.474472,
     "end_time": "2022-05-28T11:56:45.359749",
     "exception": false,
     "start_time": "2022-05-28T11:56:42.885277",
     "status": "completed"
    },
    "tags": []
   },
   "outputs": [],
   "source": [
    "features = test.columns.to_list()\n",
    "cat_features = [\n",
    "    \"B_30\",\n",
    "    \"B_38\",\n",
    "    \"D_114\",\n",
    "    \"D_116\",\n",
    "    \"D_117\",\n",
    "    \"D_120\",\n",
    "    \"D_126\",\n",
    "    \"D_63\",\n",
    "    \"D_64\",\n",
    "    \"D_66\",\n",
    "    \"D_68\"\n",
    "]\n",
    "cat_features = [f\"{cf}_last\" for cf in cat_features]\n",
    "le_encoder = LabelEncoder()\n",
    "for categorical_feature in cat_features:\n",
    "    train[categorical_feature] = le_encoder.fit_transform(train[categorical_feature])\n",
    "    test[categorical_feature] = le_encoder.transform(test[categorical_feature])"
   ]
  },
  {
   "cell_type": "code",
   "execution_count": 16,
   "id": "84e55288",
   "metadata": {
    "execution": {
     "iopub.execute_input": "2022-05-28T11:56:45.372025Z",
     "iopub.status.busy": "2022-05-28T11:56:45.371623Z",
     "iopub.status.idle": "2022-05-28T11:56:47.827685Z",
     "shell.execute_reply": "2022-05-28T11:56:47.826376Z"
    },
    "papermill": {
     "duration": 2.465468,
     "end_time": "2022-05-28T11:56:47.830742",
     "exception": false,
     "start_time": "2022-05-28T11:56:45.365274",
     "status": "completed"
    },
    "tags": []
   },
   "outputs": [],
   "source": [
    "train_y = pd.DataFrame(train[\"target\"])\n",
    "train_x = train.drop(\"target\", axis=1)"
   ]
  },
  {
   "cell_type": "markdown",
   "id": "2726617c",
   "metadata": {
    "papermill": {
     "duration": 0.005143,
     "end_time": "2022-05-28T11:56:47.841940",
     "exception": false,
     "start_time": "2022-05-28T11:56:47.836797",
     "status": "completed"
    },
    "tags": []
   },
   "source": [
    "# Model Training"
   ]
  },
  {
   "cell_type": "code",
   "execution_count": 17,
   "id": "57096091",
   "metadata": {
    "execution": {
     "iopub.execute_input": "2022-05-28T11:56:47.854444Z",
     "iopub.status.busy": "2022-05-28T11:56:47.854076Z",
     "iopub.status.idle": "2022-05-28T20:32:09.529607Z",
     "shell.execute_reply": "2022-05-28T20:32:09.523531Z"
    },
    "papermill": {
     "duration": 30921.712142,
     "end_time": "2022-05-28T20:32:09.559556",
     "exception": false,
     "start_time": "2022-05-28T11:56:47.847414",
     "status": "completed"
    },
    "tags": []
   },
   "outputs": [
    {
     "name": "stdout",
     "output_type": "stream",
     "text": [
      "******* Fold 0 ******* \n",
      "Learning rate set to 0.067666\n",
      "0:\tlearn: 0.6120772\ttest: 0.6122906\tbest: 0.6122906 (0)\ttotal: 1.37s\tremaining: 1h 54m 26s\n",
      "100:\tlearn: 0.2272345\ttest: 0.2309752\tbest: 0.2309752 (100)\ttotal: 1m 42s\tremaining: 1h 22m 35s\n",
      "200:\tlearn: 0.2201190\ttest: 0.2254878\tbest: 0.2254878 (200)\ttotal: 3m 12s\tremaining: 1h 16m 46s\n",
      "300:\tlearn: 0.2155245\ttest: 0.2232483\tbest: 0.2232483 (300)\ttotal: 4m 46s\tremaining: 1h 14m 34s\n",
      "400:\tlearn: 0.2119154\ttest: 0.2220908\tbest: 0.2220908 (400)\ttotal: 6m 25s\tremaining: 1h 13m 41s\n",
      "500:\tlearn: 0.2088974\ttest: 0.2214069\tbest: 0.2214069 (500)\ttotal: 8m 2s\tremaining: 1h 12m 14s\n",
      "600:\tlearn: 0.2061230\ttest: 0.2208882\tbest: 0.2208882 (600)\ttotal: 9m 42s\tremaining: 1h 11m 6s\n",
      "700:\tlearn: 0.2035487\ttest: 0.2204978\tbest: 0.2204978 (700)\ttotal: 11m 22s\tremaining: 1h 9m 47s\n",
      "800:\tlearn: 0.2011118\ttest: 0.2201872\tbest: 0.2201836 (798)\ttotal: 12m 57s\tremaining: 1h 7m 56s\n",
      "900:\tlearn: 0.1988276\ttest: 0.2200110\tbest: 0.2200064 (894)\ttotal: 14m 35s\tremaining: 1h 6m 21s\n",
      "1000:\tlearn: 0.1965806\ttest: 0.2198587\tbest: 0.2198352 (987)\ttotal: 15m 56s\tremaining: 1h 3m 42s\n",
      "1100:\tlearn: 0.1943423\ttest: 0.2197934\tbest: 0.2197857 (1098)\ttotal: 17m 10s\tremaining: 1h 50s\n",
      "1200:\tlearn: 0.1923264\ttest: 0.2197273\tbest: 0.2197234 (1197)\ttotal: 18m 21s\tremaining: 58m 4s\n",
      "1300:\tlearn: 0.1902400\ttest: 0.2197166\tbest: 0.2197106 (1239)\ttotal: 19m 36s\tremaining: 55m 45s\n",
      "1400:\tlearn: 0.1881515\ttest: 0.2196535\tbest: 0.2196157 (1374)\ttotal: 20m 58s\tremaining: 53m 51s\n",
      "1500:\tlearn: 0.1861062\ttest: 0.2196472\tbest: 0.2196157 (1374)\ttotal: 22m 16s\tremaining: 51m 56s\n",
      "1600:\tlearn: 0.1840451\ttest: 0.2196680\tbest: 0.2196157 (1374)\ttotal: 23m 33s\tremaining: 50m\n",
      "1700:\tlearn: 0.1820618\ttest: 0.2196058\tbest: 0.2195967 (1699)\ttotal: 24m 47s\tremaining: 48m 4s\n",
      "1800:\tlearn: 0.1801722\ttest: 0.2195642\tbest: 0.2195413 (1788)\ttotal: 25m 59s\tremaining: 46m 10s\n",
      "1900:\tlearn: 0.1782843\ttest: 0.2196000\tbest: 0.2195413 (1788)\ttotal: 27m 13s\tremaining: 44m 23s\n",
      "2000:\tlearn: 0.1764694\ttest: 0.2195826\tbest: 0.2195413 (1788)\ttotal: 28m 29s\tremaining: 42m 42s\n",
      "2100:\tlearn: 0.1747101\ttest: 0.2195538\tbest: 0.2195350 (2036)\ttotal: 29m 44s\tremaining: 41m 1s\n",
      "2200:\tlearn: 0.1729089\ttest: 0.2195687\tbest: 0.2195350 (2036)\ttotal: 30m 57s\tremaining: 39m 22s\n",
      "2300:\tlearn: 0.1711884\ttest: 0.2195381\tbest: 0.2195329 (2295)\ttotal: 32m 11s\tremaining: 37m 45s\n",
      "2400:\tlearn: 0.1694458\ttest: 0.2194365\tbest: 0.2194365 (2400)\ttotal: 33m 26s\tremaining: 36m 11s\n",
      "2500:\tlearn: 0.1678469\ttest: 0.2194264\tbest: 0.2194059 (2426)\ttotal: 34m 39s\tremaining: 34m 37s\n",
      "2600:\tlearn: 0.1661801\ttest: 0.2193840\tbest: 0.2193678 (2595)\ttotal: 35m 54s\tremaining: 33m 7s\n",
      "2700:\tlearn: 0.1645555\ttest: 0.2194756\tbest: 0.2193678 (2595)\ttotal: 37m 10s\tremaining: 31m 38s\n",
      "2800:\tlearn: 0.1629835\ttest: 0.2195989\tbest: 0.2193678 (2595)\ttotal: 38m 23s\tremaining: 30m 8s\n",
      "2900:\tlearn: 0.1613653\ttest: 0.2196264\tbest: 0.2193678 (2595)\ttotal: 39m 37s\tremaining: 28m 40s\n",
      "3000:\tlearn: 0.1598365\ttest: 0.2196162\tbest: 0.2193678 (2595)\ttotal: 40m 51s\tremaining: 27m 12s\n",
      "3100:\tlearn: 0.1583312\ttest: 0.2196736\tbest: 0.2193678 (2595)\ttotal: 42m 4s\tremaining: 25m 45s\n",
      "3200:\tlearn: 0.1568092\ttest: 0.2196948\tbest: 0.2193678 (2595)\ttotal: 43m 18s\tremaining: 24m 20s\n",
      "3300:\tlearn: 0.1552918\ttest: 0.2197478\tbest: 0.2193678 (2595)\ttotal: 44m 31s\tremaining: 22m 55s\n",
      "3400:\tlearn: 0.1538572\ttest: 0.2197122\tbest: 0.2193678 (2595)\ttotal: 45m 44s\tremaining: 21m 30s\n",
      "3500:\tlearn: 0.1523507\ttest: 0.2197507\tbest: 0.2193678 (2595)\ttotal: 46m 58s\tremaining: 20m 6s\n",
      "3600:\tlearn: 0.1508547\ttest: 0.2198419\tbest: 0.2193678 (2595)\ttotal: 48m 14s\tremaining: 18m 44s\n",
      "3700:\tlearn: 0.1493918\ttest: 0.2199039\tbest: 0.2193678 (2595)\ttotal: 49m 30s\tremaining: 17m 22s\n",
      "3800:\tlearn: 0.1479770\ttest: 0.2199307\tbest: 0.2193678 (2595)\ttotal: 50m 45s\tremaining: 16m\n",
      "3900:\tlearn: 0.1465996\ttest: 0.2199576\tbest: 0.2193678 (2595)\ttotal: 52m\tremaining: 14m 39s\n",
      "4000:\tlearn: 0.1451767\ttest: 0.2200078\tbest: 0.2193678 (2595)\ttotal: 53m 15s\tremaining: 13m 17s\n",
      "4100:\tlearn: 0.1437839\ttest: 0.2200397\tbest: 0.2193678 (2595)\ttotal: 54m 28s\tremaining: 11m 56s\n",
      "4200:\tlearn: 0.1424649\ttest: 0.2200647\tbest: 0.2193678 (2595)\ttotal: 55m 42s\tremaining: 10m 35s\n",
      "4300:\tlearn: 0.1411656\ttest: 0.2201215\tbest: 0.2193678 (2595)\ttotal: 56m 55s\tremaining: 9m 15s\n",
      "4400:\tlearn: 0.1398571\ttest: 0.2202062\tbest: 0.2193678 (2595)\ttotal: 58m 8s\tremaining: 7m 54s\n",
      "4500:\tlearn: 0.1385340\ttest: 0.2202856\tbest: 0.2193678 (2595)\ttotal: 59m 22s\tremaining: 6m 34s\n",
      "4600:\tlearn: 0.1371785\ttest: 0.2203475\tbest: 0.2193678 (2595)\ttotal: 1h 35s\tremaining: 5m 15s\n",
      "4700:\tlearn: 0.1359253\ttest: 0.2204300\tbest: 0.2193678 (2595)\ttotal: 1h 1m 48s\tremaining: 3m 55s\n",
      "4800:\tlearn: 0.1346252\ttest: 0.2205070\tbest: 0.2193678 (2595)\ttotal: 1h 3m 5s\tremaining: 2m 36s\n",
      "4900:\tlearn: 0.1333969\ttest: 0.2205855\tbest: 0.2193678 (2595)\ttotal: 1h 4m 19s\tremaining: 1m 17s\n",
      "4999:\tlearn: 0.1321726\ttest: 0.2206704\tbest: 0.2193678 (2595)\ttotal: 1h 5m 33s\tremaining: 0us\n",
      "\n",
      "bestTest = 0.2193678167\n",
      "bestIteration = 2595\n",
      "\n",
      "Shrink model to first 2596 iterations.\n",
      "******* Fold 1 ******* \n",
      "Learning rate set to 0.067666\n",
      "0:\tlearn: 0.6121231\ttest: 0.6121089\tbest: 0.6121089 (0)\ttotal: 1.06s\tremaining: 1h 28m 43s\n",
      "100:\tlearn: 0.2279199\ttest: 0.2277029\tbest: 0.2277029 (100)\ttotal: 1m 27s\tremaining: 1h 10m 52s\n",
      "200:\tlearn: 0.2208859\ttest: 0.2223150\tbest: 0.2223150 (200)\ttotal: 2m 44s\tremaining: 1h 5m 31s\n",
      "300:\tlearn: 0.2161541\ttest: 0.2198363\tbest: 0.2198363 (300)\ttotal: 4m 3s\tremaining: 1h 3m 18s\n",
      "400:\tlearn: 0.2126523\ttest: 0.2187162\tbest: 0.2187162 (400)\ttotal: 5m 20s\tremaining: 1h 1m 10s\n",
      "500:\tlearn: 0.2095272\ttest: 0.2179558\tbest: 0.2179558 (500)\ttotal: 6m 38s\tremaining: 59m 39s\n",
      "600:\tlearn: 0.2069571\ttest: 0.2175340\tbest: 0.2175340 (600)\ttotal: 7m 53s\tremaining: 57m 44s\n",
      "700:\tlearn: 0.2043721\ttest: 0.2171321\tbest: 0.2171321 (700)\ttotal: 9m 7s\tremaining: 55m 59s\n",
      "800:\tlearn: 0.2020688\ttest: 0.2168502\tbest: 0.2168408 (798)\ttotal: 10m 20s\tremaining: 54m 13s\n",
      "900:\tlearn: 0.1996136\ttest: 0.2165897\tbest: 0.2165818 (899)\ttotal: 11m 39s\tremaining: 53m\n",
      "1000:\tlearn: 0.1973670\ttest: 0.2164938\tbest: 0.2164865 (970)\ttotal: 12m 52s\tremaining: 51m 27s\n",
      "1100:\tlearn: 0.1951757\ttest: 0.2163293\tbest: 0.2163293 (1100)\ttotal: 14m 7s\tremaining: 50m\n",
      "1200:\tlearn: 0.1931217\ttest: 0.2161476\tbest: 0.2161476 (1200)\ttotal: 15m 20s\tremaining: 48m 32s\n",
      "1300:\tlearn: 0.1910605\ttest: 0.2160264\tbest: 0.2159862 (1276)\ttotal: 16m 35s\tremaining: 47m 8s\n",
      "1400:\tlearn: 0.1890055\ttest: 0.2158851\tbest: 0.2158818 (1399)\ttotal: 17m 49s\tremaining: 45m 47s\n",
      "1500:\tlearn: 0.1870563\ttest: 0.2158180\tbest: 0.2158117 (1481)\ttotal: 19m 4s\tremaining: 44m 27s\n",
      "1600:\tlearn: 0.1851115\ttest: 0.2157569\tbest: 0.2157569 (1600)\ttotal: 20m 18s\tremaining: 43m 6s\n",
      "1700:\tlearn: 0.1832084\ttest: 0.2157434\tbest: 0.2157306 (1695)\ttotal: 21m 32s\tremaining: 41m 46s\n",
      "1800:\tlearn: 0.1813405\ttest: 0.2156674\tbest: 0.2156674 (1800)\ttotal: 22m 47s\tremaining: 40m 28s\n",
      "1900:\tlearn: 0.1794620\ttest: 0.2156453\tbest: 0.2156350 (1819)\ttotal: 24m 2s\tremaining: 39m 11s\n",
      "2000:\tlearn: 0.1776791\ttest: 0.2156632\tbest: 0.2156350 (1819)\ttotal: 25m 17s\tremaining: 37m 54s\n",
      "2100:\tlearn: 0.1759251\ttest: 0.2156664\tbest: 0.2156350 (1819)\ttotal: 26m 32s\tremaining: 36m 36s\n",
      "2200:\tlearn: 0.1740951\ttest: 0.2156215\tbest: 0.2156172 (2145)\ttotal: 27m 46s\tremaining: 35m 19s\n",
      "2300:\tlearn: 0.1723356\ttest: 0.2155750\tbest: 0.2155620 (2278)\ttotal: 29m 1s\tremaining: 34m 2s\n",
      "2400:\tlearn: 0.1705592\ttest: 0.2155969\tbest: 0.2155620 (2278)\ttotal: 30m 16s\tremaining: 32m 46s\n",
      "2500:\tlearn: 0.1688491\ttest: 0.2155953\tbest: 0.2155484 (2451)\ttotal: 31m 33s\tremaining: 31m 31s\n",
      "2600:\tlearn: 0.1671559\ttest: 0.2156229\tbest: 0.2155484 (2451)\ttotal: 32m 47s\tremaining: 30m 14s\n",
      "2700:\tlearn: 0.1655075\ttest: 0.2156420\tbest: 0.2155484 (2451)\ttotal: 34m 3s\tremaining: 28m 59s\n",
      "2800:\tlearn: 0.1638085\ttest: 0.2156646\tbest: 0.2155484 (2451)\ttotal: 35m 19s\tremaining: 27m 43s\n",
      "2900:\tlearn: 0.1622388\ttest: 0.2156581\tbest: 0.2155484 (2451)\ttotal: 36m 33s\tremaining: 26m 26s\n",
      "3000:\tlearn: 0.1606254\ttest: 0.2156763\tbest: 0.2155484 (2451)\ttotal: 37m 47s\tremaining: 25m 10s\n",
      "3100:\tlearn: 0.1590717\ttest: 0.2157077\tbest: 0.2155484 (2451)\ttotal: 39m 2s\tremaining: 23m 54s\n",
      "3200:\tlearn: 0.1574871\ttest: 0.2157512\tbest: 0.2155484 (2451)\ttotal: 40m 17s\tremaining: 22m 38s\n",
      "3300:\tlearn: 0.1559777\ttest: 0.2158075\tbest: 0.2155484 (2451)\ttotal: 41m 31s\tremaining: 21m 22s\n"
     ]
    },
    {
     "name": "stdout",
     "output_type": "stream",
     "text": [
      "3400:\tlearn: 0.1544842\ttest: 0.2158601\tbest: 0.2155484 (2451)\ttotal: 42m 46s\tremaining: 20m 6s\n",
      "3500:\tlearn: 0.1529596\ttest: 0.2158635\tbest: 0.2155484 (2451)\ttotal: 44m 3s\tremaining: 18m 51s\n",
      "3600:\tlearn: 0.1514366\ttest: 0.2159056\tbest: 0.2155484 (2451)\ttotal: 45m 20s\tremaining: 17m 36s\n",
      "3700:\tlearn: 0.1500877\ttest: 0.2159326\tbest: 0.2155484 (2451)\ttotal: 46m 32s\tremaining: 16m 20s\n",
      "3800:\tlearn: 0.1487623\ttest: 0.2159728\tbest: 0.2155484 (2451)\ttotal: 47m 46s\tremaining: 15m 4s\n",
      "3900:\tlearn: 0.1473434\ttest: 0.2160005\tbest: 0.2155484 (2451)\ttotal: 49m 1s\tremaining: 13m 48s\n",
      "4000:\tlearn: 0.1459363\ttest: 0.2160584\tbest: 0.2155484 (2451)\ttotal: 50m 16s\tremaining: 12m 33s\n",
      "4100:\tlearn: 0.1445699\ttest: 0.2160528\tbest: 0.2155484 (2451)\ttotal: 51m 31s\tremaining: 11m 17s\n",
      "4200:\tlearn: 0.1432171\ttest: 0.2161062\tbest: 0.2155484 (2451)\ttotal: 52m 44s\tremaining: 10m 1s\n",
      "4300:\tlearn: 0.1419786\ttest: 0.2161601\tbest: 0.2155484 (2451)\ttotal: 53m 58s\tremaining: 8m 46s\n",
      "4400:\tlearn: 0.1406690\ttest: 0.2162402\tbest: 0.2155484 (2451)\ttotal: 55m 17s\tremaining: 7m 31s\n",
      "4500:\tlearn: 0.1393154\ttest: 0.2162726\tbest: 0.2155484 (2451)\ttotal: 56m 32s\tremaining: 6m 16s\n",
      "4600:\tlearn: 0.1380572\ttest: 0.2163274\tbest: 0.2155484 (2451)\ttotal: 57m 47s\tremaining: 5m\n",
      "4700:\tlearn: 0.1367866\ttest: 0.2163904\tbest: 0.2155484 (2451)\ttotal: 59m 3s\tremaining: 3m 45s\n",
      "4800:\tlearn: 0.1354585\ttest: 0.2164283\tbest: 0.2155484 (2451)\ttotal: 1h 19s\tremaining: 2m 30s\n",
      "4900:\tlearn: 0.1342281\ttest: 0.2165299\tbest: 0.2155484 (2451)\ttotal: 1h 1m 35s\tremaining: 1m 14s\n",
      "4999:\tlearn: 0.1330348\ttest: 0.2165737\tbest: 0.2155484 (2451)\ttotal: 1h 2m 48s\tremaining: 0us\n",
      "\n",
      "bestTest = 0.215548391\n",
      "bestIteration = 2451\n",
      "\n",
      "Shrink model to first 2452 iterations.\n",
      "******* Fold 2 ******* \n",
      "Learning rate set to 0.067666\n",
      "0:\tlearn: 0.6133176\ttest: 0.6133672\tbest: 0.6133672 (0)\ttotal: 964ms\tremaining: 1h 20m 21s\n",
      "100:\tlearn: 0.2276910\ttest: 0.2305523\tbest: 0.2305523 (100)\ttotal: 1m 23s\tremaining: 1h 7m 12s\n",
      "200:\tlearn: 0.2203656\ttest: 0.2250644\tbest: 0.2250644 (200)\ttotal: 2m 42s\tremaining: 1h 4m 29s\n",
      "300:\tlearn: 0.2156492\ttest: 0.2226841\tbest: 0.2226841 (300)\ttotal: 3m 59s\tremaining: 1h 2m 18s\n",
      "400:\tlearn: 0.2120057\ttest: 0.2215997\tbest: 0.2215997 (400)\ttotal: 5m 14s\tremaining: 1h 8s\n",
      "500:\tlearn: 0.2089533\ttest: 0.2209031\tbest: 0.2209031 (500)\ttotal: 6m 31s\tremaining: 58m 36s\n",
      "600:\tlearn: 0.2061535\ttest: 0.2204409\tbest: 0.2204365 (599)\ttotal: 7m 46s\tremaining: 56m 54s\n",
      "700:\tlearn: 0.2036201\ttest: 0.2201346\tbest: 0.2201346 (700)\ttotal: 9m\tremaining: 55m 15s\n",
      "800:\tlearn: 0.2010974\ttest: 0.2199887\tbest: 0.2199809 (797)\ttotal: 10m 16s\tremaining: 53m 50s\n",
      "900:\tlearn: 0.1987289\ttest: 0.2197953\tbest: 0.2197953 (900)\ttotal: 11m 30s\tremaining: 52m 19s\n",
      "1000:\tlearn: 0.1963582\ttest: 0.2196840\tbest: 0.2196738 (992)\ttotal: 12m 45s\tremaining: 50m 56s\n",
      "1100:\tlearn: 0.1941718\ttest: 0.2196121\tbest: 0.2195913 (1063)\ttotal: 14m\tremaining: 49m 34s\n",
      "1200:\tlearn: 0.1920044\ttest: 0.2195154\tbest: 0.2195094 (1197)\ttotal: 15m 13s\tremaining: 48m 10s\n",
      "1300:\tlearn: 0.1898917\ttest: 0.2194073\tbest: 0.2194062 (1298)\ttotal: 16m 28s\tremaining: 46m 49s\n",
      "1400:\tlearn: 0.1878488\ttest: 0.2194294\tbest: 0.2193643 (1352)\ttotal: 17m 46s\tremaining: 45m 40s\n",
      "1500:\tlearn: 0.1858579\ttest: 0.2194304\tbest: 0.2193643 (1352)\ttotal: 19m 5s\tremaining: 44m 30s\n",
      "1600:\tlearn: 0.1838463\ttest: 0.2193362\tbest: 0.2193322 (1593)\ttotal: 20m 36s\tremaining: 43m 46s\n",
      "1700:\tlearn: 0.1819108\ttest: 0.2193582\tbest: 0.2193322 (1593)\ttotal: 21m 50s\tremaining: 42m 23s\n",
      "1800:\tlearn: 0.1800596\ttest: 0.2193346\tbest: 0.2193322 (1593)\ttotal: 23m 3s\tremaining: 40m 58s\n",
      "1900:\tlearn: 0.1782132\ttest: 0.2193450\tbest: 0.2193271 (1802)\ttotal: 24m 15s\tremaining: 39m 33s\n",
      "2000:\tlearn: 0.1763739\ttest: 0.2193332\tbest: 0.2193014 (1936)\ttotal: 25m 34s\tremaining: 38m 20s\n",
      "2100:\tlearn: 0.1745466\ttest: 0.2193871\tbest: 0.2193014 (1936)\ttotal: 26m 52s\tremaining: 37m 5s\n",
      "2200:\tlearn: 0.1727481\ttest: 0.2193650\tbest: 0.2193014 (1936)\ttotal: 28m 11s\tremaining: 35m 51s\n",
      "2300:\tlearn: 0.1709601\ttest: 0.2194090\tbest: 0.2193014 (1936)\ttotal: 29m 29s\tremaining: 34m 36s\n",
      "2400:\tlearn: 0.1692678\ttest: 0.2193853\tbest: 0.2193014 (1936)\ttotal: 30m 46s\tremaining: 33m 19s\n",
      "2500:\tlearn: 0.1675264\ttest: 0.2194069\tbest: 0.2193014 (1936)\ttotal: 32m 6s\tremaining: 32m 6s\n",
      "2600:\tlearn: 0.1658697\ttest: 0.2194444\tbest: 0.2193014 (1936)\ttotal: 33m 24s\tremaining: 30m 49s\n",
      "2700:\tlearn: 0.1642520\ttest: 0.2194349\tbest: 0.2193014 (1936)\ttotal: 34m 41s\tremaining: 29m 32s\n",
      "2800:\tlearn: 0.1625865\ttest: 0.2194396\tbest: 0.2193014 (1936)\ttotal: 36m\tremaining: 28m 16s\n",
      "2900:\tlearn: 0.1609421\ttest: 0.2194729\tbest: 0.2193014 (1936)\ttotal: 37m 19s\tremaining: 27m 1s\n",
      "3000:\tlearn: 0.1594117\ttest: 0.2195650\tbest: 0.2193014 (1936)\ttotal: 38m 35s\tremaining: 25m 43s\n",
      "3100:\tlearn: 0.1578309\ttest: 0.2196283\tbest: 0.2193014 (1936)\ttotal: 39m 54s\tremaining: 24m 26s\n",
      "3200:\tlearn: 0.1563230\ttest: 0.2196735\tbest: 0.2193014 (1936)\ttotal: 41m 13s\tremaining: 23m 10s\n",
      "3300:\tlearn: 0.1548427\ttest: 0.2196711\tbest: 0.2193014 (1936)\ttotal: 42m 33s\tremaining: 21m 54s\n",
      "3400:\tlearn: 0.1533756\ttest: 0.2197020\tbest: 0.2193014 (1936)\ttotal: 43m 51s\tremaining: 20m 37s\n",
      "3500:\tlearn: 0.1518553\ttest: 0.2197565\tbest: 0.2193014 (1936)\ttotal: 45m 10s\tremaining: 19m 20s\n",
      "3600:\tlearn: 0.1503816\ttest: 0.2198149\tbest: 0.2193014 (1936)\ttotal: 46m 27s\tremaining: 18m 3s\n",
      "3700:\tlearn: 0.1489493\ttest: 0.2198306\tbest: 0.2193014 (1936)\ttotal: 47m 47s\tremaining: 16m 46s\n",
      "3800:\tlearn: 0.1475765\ttest: 0.2198305\tbest: 0.2193014 (1936)\ttotal: 49m 5s\tremaining: 15m 29s\n",
      "3900:\tlearn: 0.1461479\ttest: 0.2197772\tbest: 0.2193014 (1936)\ttotal: 50m 25s\tremaining: 14m 12s\n",
      "4000:\tlearn: 0.1447299\ttest: 0.2198164\tbest: 0.2193014 (1936)\ttotal: 51m 48s\tremaining: 12m 56s\n",
      "4100:\tlearn: 0.1433872\ttest: 0.2198603\tbest: 0.2193014 (1936)\ttotal: 53m 8s\tremaining: 11m 39s\n",
      "4200:\tlearn: 0.1420766\ttest: 0.2199225\tbest: 0.2193014 (1936)\ttotal: 54m 26s\tremaining: 10m 21s\n",
      "4300:\tlearn: 0.1407098\ttest: 0.2200077\tbest: 0.2193014 (1936)\ttotal: 55m 47s\tremaining: 9m 4s\n",
      "4400:\tlearn: 0.1394072\ttest: 0.2200911\tbest: 0.2193014 (1936)\ttotal: 57m 5s\tremaining: 7m 46s\n",
      "4500:\tlearn: 0.1381607\ttest: 0.2201966\tbest: 0.2193014 (1936)\ttotal: 58m 22s\tremaining: 6m 28s\n",
      "4600:\tlearn: 0.1368852\ttest: 0.2202657\tbest: 0.2193014 (1936)\ttotal: 59m 41s\tremaining: 5m 10s\n",
      "4700:\tlearn: 0.1355982\ttest: 0.2203047\tbest: 0.2193014 (1936)\ttotal: 1h 1m\tremaining: 3m 52s\n",
      "4800:\tlearn: 0.1343752\ttest: 0.2204045\tbest: 0.2193014 (1936)\ttotal: 1h 2m 18s\tremaining: 2m 34s\n",
      "4900:\tlearn: 0.1331759\ttest: 0.2204718\tbest: 0.2193014 (1936)\ttotal: 1h 3m 36s\tremaining: 1m 17s\n",
      "4999:\tlearn: 0.1319622\ttest: 0.2205227\tbest: 0.2193014 (1936)\ttotal: 1h 4m 55s\tremaining: 0us\n",
      "\n",
      "bestTest = 0.2193013764\n",
      "bestIteration = 1936\n",
      "\n",
      "Shrink model to first 1937 iterations.\n",
      "******* Fold 3 ******* \n",
      "Learning rate set to 0.067666\n",
      "0:\tlearn: 0.6107421\ttest: 0.6106856\tbest: 0.6106856 (0)\ttotal: 956ms\tremaining: 1h 19m 40s\n",
      "100:\tlearn: 0.2275340\ttest: 0.2295827\tbest: 0.2295827 (100)\ttotal: 1m 26s\tremaining: 1h 10m 6s\n",
      "200:\tlearn: 0.2204362\ttest: 0.2240347\tbest: 0.2240347 (200)\ttotal: 2m 49s\tremaining: 1h 7m 27s\n",
      "300:\tlearn: 0.2157278\ttest: 0.2216359\tbest: 0.2216359 (300)\ttotal: 4m 11s\tremaining: 1h 5m 28s\n",
      "400:\tlearn: 0.2120725\ttest: 0.2204719\tbest: 0.2204719 (400)\ttotal: 5m 32s\tremaining: 1h 3m 38s\n",
      "500:\tlearn: 0.2088605\ttest: 0.2198093\tbest: 0.2198093 (500)\ttotal: 6m 54s\tremaining: 1h 2m 3s\n",
      "600:\tlearn: 0.2061932\ttest: 0.2193061\tbest: 0.2193047 (598)\ttotal: 8m 13s\tremaining: 1h 13s\n",
      "700:\tlearn: 0.2036401\ttest: 0.2189904\tbest: 0.2189904 (700)\ttotal: 9m 30s\tremaining: 58m 18s\n",
      "800:\tlearn: 0.2012862\ttest: 0.2187496\tbest: 0.2187496 (800)\ttotal: 10m 48s\tremaining: 56m 39s\n",
      "900:\tlearn: 0.1989911\ttest: 0.2185932\tbest: 0.2185908 (889)\ttotal: 12m 8s\tremaining: 55m 13s\n",
      "1000:\tlearn: 0.1967411\ttest: 0.2184167\tbest: 0.2184079 (995)\ttotal: 13m 26s\tremaining: 53m 40s\n",
      "1100:\tlearn: 0.1946186\ttest: 0.2183100\tbest: 0.2183100 (1100)\ttotal: 14m 43s\tremaining: 52m 7s\n",
      "1200:\tlearn: 0.1924626\ttest: 0.2181967\tbest: 0.2181914 (1198)\ttotal: 16m 2s\tremaining: 50m 45s\n",
      "1300:\tlearn: 0.1904475\ttest: 0.2180803\tbest: 0.2180702 (1285)\ttotal: 17m 20s\tremaining: 49m 19s\n",
      "1400:\tlearn: 0.1883458\ttest: 0.2180069\tbest: 0.2179994 (1399)\ttotal: 18m 38s\tremaining: 47m 53s\n",
      "1500:\tlearn: 0.1864081\ttest: 0.2180035\tbest: 0.2179874 (1489)\ttotal: 19m 54s\tremaining: 46m 25s\n"
     ]
    },
    {
     "name": "stdout",
     "output_type": "stream",
     "text": [
      "1600:\tlearn: 0.1844194\ttest: 0.2180106\tbest: 0.2179740 (1554)\ttotal: 21m 12s\tremaining: 45m 2s\n",
      "1700:\tlearn: 0.1824835\ttest: 0.2179330\tbest: 0.2179259 (1695)\ttotal: 22m 36s\tremaining: 43m 49s\n",
      "1800:\tlearn: 0.1805999\ttest: 0.2178912\tbest: 0.2178806 (1795)\ttotal: 23m 54s\tremaining: 42m 27s\n",
      "1900:\tlearn: 0.1787784\ttest: 0.2178686\tbest: 0.2178686 (1900)\ttotal: 25m 12s\tremaining: 41m 5s\n",
      "2000:\tlearn: 0.1769772\ttest: 0.2179028\tbest: 0.2178339 (1946)\ttotal: 26m 33s\tremaining: 39m 47s\n",
      "2100:\tlearn: 0.1751493\ttest: 0.2178373\tbest: 0.2178319 (2097)\ttotal: 27m 51s\tremaining: 38m 26s\n",
      "2200:\tlearn: 0.1734003\ttest: 0.2178026\tbest: 0.2177968 (2193)\ttotal: 29m 10s\tremaining: 37m 5s\n",
      "2300:\tlearn: 0.1716887\ttest: 0.2177463\tbest: 0.2177358 (2270)\ttotal: 30m 28s\tremaining: 35m 44s\n",
      "2400:\tlearn: 0.1699207\ttest: 0.2177598\tbest: 0.2177162 (2345)\ttotal: 31m 46s\tremaining: 34m 23s\n",
      "2500:\tlearn: 0.1681473\ttest: 0.2177875\tbest: 0.2177162 (2345)\ttotal: 33m 3s\tremaining: 33m 2s\n",
      "2600:\tlearn: 0.1664835\ttest: 0.2177846\tbest: 0.2177162 (2345)\ttotal: 34m 23s\tremaining: 31m 42s\n",
      "2700:\tlearn: 0.1648849\ttest: 0.2178296\tbest: 0.2177162 (2345)\ttotal: 35m 42s\tremaining: 30m 23s\n",
      "2800:\tlearn: 0.1631758\ttest: 0.2178470\tbest: 0.2177162 (2345)\ttotal: 36m 59s\tremaining: 29m 2s\n",
      "2900:\tlearn: 0.1615312\ttest: 0.2178354\tbest: 0.2177162 (2345)\ttotal: 38m 19s\tremaining: 27m 43s\n",
      "3000:\tlearn: 0.1598769\ttest: 0.2177988\tbest: 0.2177162 (2345)\ttotal: 39m 38s\tremaining: 26m 24s\n",
      "3100:\tlearn: 0.1582791\ttest: 0.2178186\tbest: 0.2177162 (2345)\ttotal: 40m 56s\tremaining: 25m 4s\n",
      "3200:\tlearn: 0.1566549\ttest: 0.2178493\tbest: 0.2177162 (2345)\ttotal: 42m 16s\tremaining: 23m 45s\n",
      "3300:\tlearn: 0.1551420\ttest: 0.2179737\tbest: 0.2177162 (2345)\ttotal: 43m 34s\tremaining: 22m 25s\n",
      "3400:\tlearn: 0.1536694\ttest: 0.2180321\tbest: 0.2177162 (2345)\ttotal: 44m 51s\tremaining: 21m 5s\n",
      "3500:\tlearn: 0.1522329\ttest: 0.2180907\tbest: 0.2177162 (2345)\ttotal: 46m 10s\tremaining: 19m 46s\n",
      "3600:\tlearn: 0.1507276\ttest: 0.2182051\tbest: 0.2177162 (2345)\ttotal: 47m 29s\tremaining: 18m 26s\n",
      "3700:\tlearn: 0.1493692\ttest: 0.2182422\tbest: 0.2177162 (2345)\ttotal: 48m 45s\tremaining: 17m 6s\n",
      "3800:\tlearn: 0.1480200\ttest: 0.2183415\tbest: 0.2177162 (2345)\ttotal: 50m 2s\tremaining: 15m 47s\n",
      "3900:\tlearn: 0.1466041\ttest: 0.2183745\tbest: 0.2177162 (2345)\ttotal: 51m 21s\tremaining: 14m 28s\n",
      "4000:\tlearn: 0.1452639\ttest: 0.2184132\tbest: 0.2177162 (2345)\ttotal: 52m 39s\tremaining: 13m 8s\n",
      "4100:\tlearn: 0.1438964\ttest: 0.2184287\tbest: 0.2177162 (2345)\ttotal: 53m 57s\tremaining: 11m 49s\n",
      "4200:\tlearn: 0.1425560\ttest: 0.2184623\tbest: 0.2177162 (2345)\ttotal: 55m 15s\tremaining: 10m 30s\n",
      "4300:\tlearn: 0.1412294\ttest: 0.2185342\tbest: 0.2177162 (2345)\ttotal: 56m 34s\tremaining: 9m 11s\n",
      "4400:\tlearn: 0.1399524\ttest: 0.2185872\tbest: 0.2177162 (2345)\ttotal: 57m 56s\tremaining: 7m 53s\n",
      "4500:\tlearn: 0.1386748\ttest: 0.2186184\tbest: 0.2177162 (2345)\ttotal: 59m 19s\tremaining: 6m 34s\n",
      "4600:\tlearn: 0.1373475\ttest: 0.2186638\tbest: 0.2177162 (2345)\ttotal: 1h 40s\tremaining: 5m 15s\n",
      "4700:\tlearn: 0.1360981\ttest: 0.2187214\tbest: 0.2177162 (2345)\ttotal: 1h 1m 57s\tremaining: 3m 56s\n",
      "4800:\tlearn: 0.1349363\ttest: 0.2187546\tbest: 0.2177162 (2345)\ttotal: 1h 3m 13s\tremaining: 2m 37s\n",
      "4900:\tlearn: 0.1337067\ttest: 0.2188015\tbest: 0.2177162 (2345)\ttotal: 1h 4m 32s\tremaining: 1m 18s\n",
      "4999:\tlearn: 0.1324766\ttest: 0.2189003\tbest: 0.2177162 (2345)\ttotal: 1h 5m 53s\tremaining: 0us\n",
      "\n",
      "bestTest = 0.2177162281\n",
      "bestIteration = 2345\n",
      "\n",
      "Shrink model to first 2346 iterations.\n",
      "******* Fold 4 ******* \n",
      "Learning rate set to 0.067666\n",
      "0:\tlearn: 0.6108783\ttest: 0.6108161\tbest: 0.6108161 (0)\ttotal: 990ms\tremaining: 1h 22m 29s\n",
      "100:\tlearn: 0.2278453\ttest: 0.2280799\tbest: 0.2280799 (100)\ttotal: 1m 28s\tremaining: 1h 11m 24s\n",
      "200:\tlearn: 0.2207848\ttest: 0.2228624\tbest: 0.2228624 (200)\ttotal: 2m 53s\tremaining: 1h 8m 53s\n",
      "300:\tlearn: 0.2161800\ttest: 0.2205334\tbest: 0.2205334 (300)\ttotal: 4m 15s\tremaining: 1h 6m 34s\n",
      "400:\tlearn: 0.2125139\ttest: 0.2193083\tbest: 0.2193083 (400)\ttotal: 5m 35s\tremaining: 1h 4m 12s\n",
      "500:\tlearn: 0.2094801\ttest: 0.2186857\tbest: 0.2186857 (500)\ttotal: 6m 53s\tremaining: 1h 1m 54s\n",
      "600:\tlearn: 0.2067858\ttest: 0.2182970\tbest: 0.2182970 (600)\ttotal: 8m 10s\tremaining: 59m 49s\n",
      "700:\tlearn: 0.2043569\ttest: 0.2179037\tbest: 0.2179037 (700)\ttotal: 9m 26s\tremaining: 57m 56s\n",
      "800:\tlearn: 0.2020572\ttest: 0.2175826\tbest: 0.2175781 (798)\ttotal: 10m 44s\tremaining: 56m 19s\n",
      "900:\tlearn: 0.1998808\ttest: 0.2173752\tbest: 0.2173730 (899)\ttotal: 12m 1s\tremaining: 54m 44s\n",
      "1000:\tlearn: 0.1976248\ttest: 0.2172259\tbest: 0.2172187 (977)\ttotal: 13m 17s\tremaining: 53m 7s\n",
      "1100:\tlearn: 0.1954106\ttest: 0.2170678\tbest: 0.2170678 (1100)\ttotal: 14m 35s\tremaining: 51m 40s\n",
      "1200:\tlearn: 0.1932989\ttest: 0.2168527\tbest: 0.2168527 (1200)\ttotal: 15m 53s\tremaining: 50m 15s\n",
      "1300:\tlearn: 0.1913598\ttest: 0.2167368\tbest: 0.2167257 (1296)\ttotal: 17m 8s\tremaining: 48m 45s\n",
      "1400:\tlearn: 0.1892979\ttest: 0.2166821\tbest: 0.2166794 (1379)\ttotal: 18m 25s\tremaining: 47m 20s\n",
      "1500:\tlearn: 0.1872878\ttest: 0.2166091\tbest: 0.2166016 (1499)\ttotal: 19m 41s\tremaining: 45m 54s\n",
      "1600:\tlearn: 0.1852586\ttest: 0.2165011\tbest: 0.2165011 (1600)\ttotal: 20m 59s\tremaining: 44m 33s\n",
      "1700:\tlearn: 0.1832793\ttest: 0.2164760\tbest: 0.2164668 (1699)\ttotal: 22m 17s\tremaining: 43m 13s\n",
      "1800:\tlearn: 0.1813503\ttest: 0.2163515\tbest: 0.2163515 (1800)\ttotal: 23m 35s\tremaining: 41m 54s\n",
      "1900:\tlearn: 0.1794658\ttest: 0.2163272\tbest: 0.2163078 (1872)\ttotal: 24m 51s\tremaining: 40m 30s\n",
      "2000:\tlearn: 0.1776657\ttest: 0.2163142\tbest: 0.2163078 (1872)\ttotal: 26m 8s\tremaining: 39m 10s\n",
      "2100:\tlearn: 0.1758071\ttest: 0.2163381\tbest: 0.2163074 (2008)\ttotal: 27m 26s\tremaining: 37m 51s\n",
      "2200:\tlearn: 0.1740123\ttest: 0.2163378\tbest: 0.2163074 (2008)\ttotal: 28m 45s\tremaining: 36m 34s\n",
      "2300:\tlearn: 0.1722618\ttest: 0.2162860\tbest: 0.2162859 (2297)\ttotal: 30m 3s\tremaining: 35m 15s\n",
      "2400:\tlearn: 0.1706203\ttest: 0.2162501\tbest: 0.2162291 (2349)\ttotal: 31m 19s\tremaining: 33m 54s\n",
      "2500:\tlearn: 0.1689198\ttest: 0.2162726\tbest: 0.2162291 (2349)\ttotal: 32m 38s\tremaining: 32m 36s\n",
      "2600:\tlearn: 0.1671753\ttest: 0.2163131\tbest: 0.2162291 (2349)\ttotal: 33m 56s\tremaining: 31m 18s\n",
      "2700:\tlearn: 0.1656403\ttest: 0.2163551\tbest: 0.2162291 (2349)\ttotal: 35m 12s\tremaining: 29m 58s\n",
      "2800:\tlearn: 0.1639962\ttest: 0.2163253\tbest: 0.2162291 (2349)\ttotal: 36m 35s\tremaining: 28m 44s\n",
      "2900:\tlearn: 0.1623872\ttest: 0.2163536\tbest: 0.2162291 (2349)\ttotal: 37m 54s\tremaining: 27m 25s\n",
      "3000:\tlearn: 0.1609036\ttest: 0.2163449\tbest: 0.2162291 (2349)\ttotal: 39m 10s\tremaining: 26m 5s\n",
      "3100:\tlearn: 0.1593667\ttest: 0.2163790\tbest: 0.2162291 (2349)\ttotal: 40m 30s\tremaining: 24m 48s\n",
      "3200:\tlearn: 0.1578461\ttest: 0.2164088\tbest: 0.2162291 (2349)\ttotal: 41m 48s\tremaining: 23m 29s\n",
      "3300:\tlearn: 0.1563138\ttest: 0.2164625\tbest: 0.2162291 (2349)\ttotal: 43m 8s\tremaining: 22m 12s\n",
      "3400:\tlearn: 0.1548327\ttest: 0.2165426\tbest: 0.2162291 (2349)\ttotal: 44m 24s\tremaining: 20m 52s\n",
      "3500:\tlearn: 0.1533554\ttest: 0.2166252\tbest: 0.2162291 (2349)\ttotal: 45m 40s\tremaining: 19m 33s\n",
      "3600:\tlearn: 0.1518791\ttest: 0.2166346\tbest: 0.2162291 (2349)\ttotal: 46m 57s\tremaining: 18m 14s\n",
      "3700:\tlearn: 0.1504035\ttest: 0.2166678\tbest: 0.2162291 (2349)\ttotal: 48m 15s\tremaining: 16m 56s\n",
      "3800:\tlearn: 0.1490069\ttest: 0.2167443\tbest: 0.2162291 (2349)\ttotal: 49m 32s\tremaining: 15m 37s\n",
      "3900:\tlearn: 0.1476167\ttest: 0.2167625\tbest: 0.2162291 (2349)\ttotal: 50m 49s\tremaining: 14m 19s\n",
      "4000:\tlearn: 0.1461458\ttest: 0.2168124\tbest: 0.2162291 (2349)\ttotal: 52m 9s\tremaining: 13m 1s\n",
      "4100:\tlearn: 0.1448042\ttest: 0.2168248\tbest: 0.2162291 (2349)\ttotal: 53m 26s\tremaining: 11m 42s\n",
      "4200:\tlearn: 0.1433824\ttest: 0.2169165\tbest: 0.2162291 (2349)\ttotal: 54m 43s\tremaining: 10m 24s\n",
      "4300:\tlearn: 0.1420396\ttest: 0.2169783\tbest: 0.2162291 (2349)\ttotal: 56m\tremaining: 9m 6s\n",
      "4400:\tlearn: 0.1407132\ttest: 0.2170687\tbest: 0.2162291 (2349)\ttotal: 57m 16s\tremaining: 7m 47s\n",
      "4500:\tlearn: 0.1393656\ttest: 0.2171431\tbest: 0.2162291 (2349)\ttotal: 58m 32s\tremaining: 6m 29s\n",
      "4600:\tlearn: 0.1380445\ttest: 0.2172411\tbest: 0.2162291 (2349)\ttotal: 59m 51s\tremaining: 5m 11s\n",
      "4700:\tlearn: 0.1368125\ttest: 0.2173507\tbest: 0.2162291 (2349)\ttotal: 1h 1m 7s\tremaining: 3m 53s\n",
      "4800:\tlearn: 0.1354970\ttest: 0.2174900\tbest: 0.2162291 (2349)\ttotal: 1h 2m 26s\tremaining: 2m 35s\n",
      "4900:\tlearn: 0.1342029\ttest: 0.2175273\tbest: 0.2162291 (2349)\ttotal: 1h 3m 45s\tremaining: 1m 17s\n"
     ]
    },
    {
     "name": "stdout",
     "output_type": "stream",
     "text": [
      "4999:\tlearn: 0.1329793\ttest: 0.2176098\tbest: 0.2162291 (2349)\ttotal: 1h 5m 1s\tremaining: 0us\n",
      "\n",
      "bestTest = 0.2162290696\n",
      "bestIteration = 2349\n",
      "\n",
      "Shrink model to first 2350 iterations.\n",
      "Amex metric: 0.7916274632281144\n"
     ]
    }
   ],
   "source": [
    "N_FOLDS = 5\n",
    "skf = StratifiedKFold(n_splits=N_FOLDS, shuffle=True, random_state=22)\n",
    "y_oof = np.zeros(train_x.shape[0])\n",
    "y_test = np.zeros(test.shape[0])\n",
    "ix = 0\n",
    "for train_ind, val_ind in skf.split(train_x, train_y):\n",
    "    print(f\"******* Fold {ix} ******* \")\n",
    "    tr_x, val_x = (\n",
    "        train_x.iloc[train_ind].reset_index(drop=True),\n",
    "        train_x.iloc[val_ind].reset_index(drop=True),\n",
    "    )\n",
    "    tr_y, val_y = (\n",
    "        train_y.iloc[train_ind].reset_index(drop=True),\n",
    "        train_y.iloc[val_ind].reset_index(drop=True),\n",
    "    )\n",
    "\n",
    "    clf = CatBoostClassifier(iterations=5000, random_state=22)\n",
    "    clf.fit(tr_x, tr_y, eval_set=[(val_x, val_y)], cat_features=cat_features,  verbose=100)\n",
    "    preds = clf.predict_proba(val_x)[:, 1]\n",
    "    y_oof[val_ind] = y_oof[val_ind] + preds\n",
    "\n",
    "    preds_test = clf.predict_proba(test)[:, 1]\n",
    "    y_test = y_test + preds_test / N_FOLDS\n",
    "    ix = ix + 1\n",
    "y_pred = train_y.copy(deep=True)\n",
    "y_pred = y_pred.rename(columns={\"target\": \"prediction\"})\n",
    "y_pred[\"prediction\"] = y_oof\n",
    "val_score = amex_metric(train_y, y_pred)\n",
    "print(f\"Amex metric: {val_score}\")"
   ]
  },
  {
   "cell_type": "code",
   "execution_count": 18,
   "id": "cc741f7b",
   "metadata": {
    "execution": {
     "iopub.execute_input": "2022-05-28T20:32:09.612174Z",
     "iopub.status.busy": "2022-05-28T20:32:09.611509Z",
     "iopub.status.idle": "2022-05-28T20:32:09.633865Z",
     "shell.execute_reply": "2022-05-28T20:32:09.632799Z"
    },
    "papermill": {
     "duration": 0.052301,
     "end_time": "2022-05-28T20:32:09.636383",
     "exception": false,
     "start_time": "2022-05-28T20:32:09.584082",
     "status": "completed"
    },
    "tags": []
   },
   "outputs": [],
   "source": [
    "y_oof_binary = (y_oof >= np.percentile(y_oof, 96)).astype(int)"
   ]
  },
  {
   "cell_type": "code",
   "execution_count": 19,
   "id": "4b231cba",
   "metadata": {
    "execution": {
     "iopub.execute_input": "2022-05-28T20:32:09.686324Z",
     "iopub.status.busy": "2022-05-28T20:32:09.685886Z",
     "iopub.status.idle": "2022-05-28T20:32:09.696323Z",
     "shell.execute_reply": "2022-05-28T20:32:09.695284Z"
    },
    "papermill": {
     "duration": 0.037403,
     "end_time": "2022-05-28T20:32:09.698543",
     "exception": false,
     "start_time": "2022-05-28T20:32:09.661140",
     "status": "completed"
    },
    "tags": []
   },
   "outputs": [
    {
     "data": {
      "text/plain": [
       "0.040001045949885926"
      ]
     },
     "execution_count": 19,
     "metadata": {},
     "output_type": "execute_result"
    }
   ],
   "source": [
    "y_oof_binary.mean()"
   ]
  },
  {
   "cell_type": "markdown",
   "id": "7eaa1fd0",
   "metadata": {
    "papermill": {
     "duration": 0.023416,
     "end_time": "2022-05-28T20:32:09.746369",
     "exception": false,
     "start_time": "2022-05-28T20:32:09.722953",
     "status": "completed"
    },
    "tags": []
   },
   "source": [
    "# Plot Confusion Matrix"
   ]
  },
  {
   "cell_type": "code",
   "execution_count": 20,
   "id": "55e68a33",
   "metadata": {
    "execution": {
     "iopub.execute_input": "2022-05-28T20:32:09.795417Z",
     "iopub.status.busy": "2022-05-28T20:32:09.794962Z",
     "iopub.status.idle": "2022-05-28T20:32:10.758774Z",
     "shell.execute_reply": "2022-05-28T20:32:10.757701Z"
    },
    "papermill": {
     "duration": 0.99126,
     "end_time": "2022-05-28T20:32:10.761202",
     "exception": false,
     "start_time": "2022-05-28T20:32:09.769942",
     "status": "completed"
    },
    "tags": []
   },
   "outputs": [
    {
     "data": {
      "image/png": "[encoded data removed]",
      "text/plain": [
       "<Figure size 432x288 with 2 Axes>"
      ]
     },
     "metadata": {
      "needs_background": "light"
     },
     "output_type": "display_data"
    }
   ],
   "source": [
    "import matplotlib.pyplot as plt\n",
    "import itertools\n",
    "from sklearn.metrics import confusion_matrix\n",
    "\n",
    "def plot_confusion_matrix(cm, classes,\n",
    "                          normalize = False,\n",
    "                          title = 'Confusion matrix\"',\n",
    "                          cmap = plt.cm.Blues) :\n",
    "    plt.imshow(cm, interpolation = 'nearest', cmap = cmap)\n",
    "    plt.title(title)\n",
    "    plt.colorbar()\n",
    "    tick_marks = np.arange(len(classes))\n",
    "    plt.xticks(tick_marks, classes, rotation = 0)\n",
    "    plt.yticks(tick_marks, classes)\n",
    "\n",
    "    thresh = cm.max() / 2.\n",
    "    for i, j in itertools.product(range(cm.shape[0]), range(cm.shape[1])) :\n",
    "        plt.text(j, i, cm[i, j],\n",
    "                 horizontalalignment = 'center',\n",
    "                 color = 'white' if cm[i, j] > thresh else 'black')\n",
    "\n",
    "    plt.tight_layout()\n",
    "    plt.ylabel('True label')\n",
    "    plt.xlabel('Predicted label')\n",
    "    \n",
    "cm = confusion_matrix(train_y, y_oof_binary)\n",
    "class_names = [0,1]\n",
    "plt.figure()\n",
    "plot_confusion_matrix(cm,\n",
    "                      classes = class_names,\n",
    "                      title = f'Confusion matrix at 4%')\n",
    "plt.show()"
   ]
  },
  {
   "cell_type": "markdown",
   "id": "4efdb75d",
   "metadata": {
    "papermill": {
     "duration": 0.024104,
     "end_time": "2022-05-28T20:32:10.809901",
     "exception": false,
     "start_time": "2022-05-28T20:32:10.785797",
     "status": "completed"
    },
    "tags": []
   },
   "source": [
    "# Submission"
   ]
  },
  {
   "cell_type": "code",
   "execution_count": 1,
   "id": "c138f097",
   "metadata": {
    "execution": {
     "iopub.execute_input": "2022-05-28T20:32:10.864321Z",
     "iopub.status.busy": "2022-05-28T20:32:10.863205Z",
     "iopub.status.idle": "2022-05-28T20:32:16.636489Z",
     "shell.execute_reply": "2022-05-28T20:32:16.635768Z"
    },
    "papermill": {
     "duration": 5.803075,
     "end_time": "2022-05-28T20:32:16.638925",
     "exception": false,
     "start_time": "2022-05-28T20:32:10.835850",
     "status": "completed"
    },
    "tags": []
   },
   "outputs": [
    {
     "ename": "NameError",
     "evalue": "name 'y_test' is not defined",
     "output_type": "error",
     "traceback": [
      "\u001b[1;31m---------------------------------------------------------------------------\u001b[0m",
      "\u001b[1;31mNameError\u001b[0m                                 Traceback (most recent call last)",
      "Input \u001b[1;32mIn [1]\u001b[0m, in \u001b[0;36m<cell line: 1>\u001b[1;34m()\u001b[0m\n\u001b[1;32m----> 1\u001b[0m test[\u001b[38;5;124m\"\u001b[39m\u001b[38;5;124mprediction\u001b[39m\u001b[38;5;124m\"\u001b[39m] \u001b[38;5;241m=\u001b[39m \u001b[43my_test\u001b[49m\n\u001b[0;32m      2\u001b[0m test[\u001b[38;5;124m\"\u001b[39m\u001b[38;5;124mprediction\u001b[39m\u001b[38;5;124m\"\u001b[39m]\u001b[38;5;241m.\u001b[39mto_csv(\u001b[38;5;124mf\u001b[39m\u001b[38;5;124m\"\u001b[39m\u001b[38;5;124msubmission_cat_\u001b[39m\u001b[38;5;132;01m{\u001b[39;00mval_score\u001b[38;5;132;01m}\u001b[39;00m\u001b[38;5;124m.csv\u001b[39m\u001b[38;5;124m\"\u001b[39m, index\u001b[38;5;241m=\u001b[39m\u001b[38;5;28;01mTrue\u001b[39;00m)\n",
      "\u001b[1;31mNameError\u001b[0m: name 'y_test' is not defined"
     ]
    }
   ],
   "source": [
    "test[\"prediction\"] = y_test\n",
    "test[\"prediction\"].to_csv(f\"submission_cat_{val_score}.csv\", index=True)"
   ]
  },
  {
   "cell_type": "code",
   "execution_count": 22,
   "id": "6e61f999",
   "metadata": {},
   "outputs": [
    {
     "data": {
      "text/plain": [
       "'C:\\\\Users\\\\Khangjrakpam Arjun\\\\OneDrive - McKinsey & Company\\\\Documents\\\\ARJUN\\\\ML\\\\COMPETITIONS\\\\Amex\\\\amex-default-prediction\\\\data'"
      ]
     },
     "execution_count": 22,
     "metadata": {},
     "output_type": "execute_result"
    }
   ],
   "source": [
    "os.getcwd()"
   ]
  },
  {
   "cell_type": "markdown",
   "id": "d2693d31",
   "metadata": {},
   "source": [
    "### Save model to disk"
   ]
  },
  {
   "cell_type": "code",
   "execution_count": 33,
   "id": "a3e9a437",
   "metadata": {},
   "outputs": [
    {
     "name": "stdout",
     "output_type": "stream",
     "text": [
      "C:\\Users\\Khangjrakpam Arjun\\OneDrive - McKinsey & Company\\Documents\\ARJUN\\ML\\COMPETITIONS\\Amex\\amex-default-prediction\\saved_model\\catboost\\catboost_model.sav\n"
     ]
    }
   ],
   "source": [
    "# save the model to disk\n",
    "from datetime import datetime\n",
    "current_time = datetime.now().strftime(\"%H_%M_%S\")\n",
    "filename = r'C:\\Users\\Khangjrakpam Arjun\\OneDrive - McKinsey & Company\\Documents\\ARJUN\\ML\\COMPETITIONS\\Amex\\amex-default-prediction\\saved_model\\catboost'+'\\\\'+('catboost') +'_model.sav'\n",
    "print(filename)\n",
    "import pickle\n",
    "pickle.dump(clf, open(filename, 'wb'))\n"
   ]
  },
  {
   "cell_type": "markdown",
   "id": "fd358cf1",
   "metadata": {},
   "source": [
    "### Load model from disk"
   ]
  },
  {
   "cell_type": "code",
   "execution_count": 34,
   "id": "41e2985b",
   "metadata": {},
   "outputs": [],
   "source": [
    "# load the model from disk\n",
    "clf = pickle.load(open(filename, 'rb'))\n",
    "#rfr.score(X_test, y_test)"
   ]
  },
  {
   "cell_type": "code",
   "execution_count": null,
   "id": "3652094e",
   "metadata": {},
   "outputs": [],
   "source": []
  }
 ],
 "metadata": {
  "kernelspec": {
   "display_name": "Python 3 (ipykernel)",
   "language": "python",
   "name": "python3"
  },
  "language_info": {
   "codemirror_mode": {
    "name": "ipython",
    "version": 3
   },
   "file_extension": ".py",
   "mimetype": "text/x-python",
   "name": "python",
   "nbconvert_exporter": "python",
   "pygments_lexer": "ipython3",
   "version": "3.9.12"
  },
  "papermill": {
   "default_parameters": {},
   "duration": 31005.760087,
   "end_time": "2022-05-28T20:32:19.267707",
   "environment_variables": {},
   "exception": null,
   "input_path": "__notebook__.ipynb",
   "output_path": "__notebook__.ipynb",
   "parameters": {},
   "start_time": "2022-05-28T11:55:33.507620",
   "version": "2.3.4"
  }
 },
 "nbformat": 4,
 "nbformat_minor": 5
}
