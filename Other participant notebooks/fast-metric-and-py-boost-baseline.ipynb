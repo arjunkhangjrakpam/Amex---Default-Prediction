{
 "cells": [
  {
   "cell_type": "code",
   "execution_count": 1,
   "id": "238764b2",
   "metadata": {
    "execution": {
     "iopub.execute_input": "2022-05-31T17:08:12.709240Z",
     "iopub.status.busy": "2022-05-31T17:08:12.708490Z",
     "iopub.status.idle": "2022-05-31T17:08:24.120475Z",
     "shell.execute_reply": "2022-05-31T17:08:24.119441Z"
    },
    "papermill": {
     "duration": 11.427226,
     "end_time": "2022-05-31T17:08:24.122896",
     "exception": false,
     "start_time": "2022-05-31T17:08:12.695670",
     "status": "completed"
    },
    "tags": []
   },
   "outputs": [
    {
     "name": "stdout",
     "output_type": "stream",
     "text": [
      "Collecting py-boost\r\n",
      "  Downloading Py_Boost-0.1.9-py3-none-any.whl (42 kB)\r\n",
      "\u001b[2K     \u001b[90m━━━━━━━━━━━━━━━━━━━━━━━━━━━━━━━━━━━━━━━\u001b[0m \u001b[32m42.4/42.4 kB\u001b[0m \u001b[31m525.3 kB/s\u001b[0m eta \u001b[36m0:00:00\u001b[0m\r\n",
      "\u001b[?25hRequirement already satisfied: scikit-learn>=0.22 in /opt/conda/lib/python3.7/site-packages (from py-boost) (1.0.2)\r\n",
      "Requirement already satisfied: joblib in /opt/conda/lib/python3.7/site-packages (from py-boost) (1.1.0)\r\n",
      "Requirement already satisfied: numpy in /opt/conda/lib/python3.7/site-packages (from py-boost) (1.21.6)\r\n",
      "Requirement already satisfied: pandas>=1 in /opt/conda/lib/python3.7/site-packages (from py-boost) (1.3.5)\r\n",
      "Requirement already satisfied: numba in /opt/conda/lib/python3.7/site-packages (from py-boost) (0.55.1)\r\n",
      "Collecting importlib-metadata<2.0,>=1.0\r\n",
      "  Downloading importlib_metadata-1.7.0-py2.py3-none-any.whl (31 kB)\r\n",
      "Requirement already satisfied: zipp>=0.5 in /opt/conda/lib/python3.7/site-packages (from importlib-metadata<2.0,>=1.0->py-boost) (3.8.0)\r\n",
      "Requirement already satisfied: python-dateutil>=2.7.3 in /opt/conda/lib/python3.7/site-packages (from pandas>=1->py-boost) (2.8.2)\r\n",
      "Requirement already satisfied: pytz>=2017.3 in /opt/conda/lib/python3.7/site-packages (from pandas>=1->py-boost) (2022.1)\r\n",
      "Requirement already satisfied: scipy>=1.1.0 in /opt/conda/lib/python3.7/site-packages (from scikit-learn>=0.22->py-boost) (1.7.3)\r\n",
      "Requirement already satisfied: threadpoolctl>=2.0.0 in /opt/conda/lib/python3.7/site-packages (from scikit-learn>=0.22->py-boost) (3.1.0)\r\n",
      "Requirement already satisfied: setuptools in /opt/conda/lib/python3.7/site-packages (from numba->py-boost) (59.8.0)\r\n",
      "Requirement already satisfied: llvmlite<0.39,>=0.38.0rc1 in /opt/conda/lib/python3.7/site-packages (from numba->py-boost) (0.38.0)\r\n",
      "Requirement already satisfied: six>=1.5 in /opt/conda/lib/python3.7/site-packages (from python-dateutil>=2.7.3->pandas>=1->py-boost) (1.16.0)\r\n",
      "Installing collected packages: importlib-metadata, py-boost\r\n",
      "  Attempting uninstall: importlib-metadata\r\n",
      "    Found existing installation: importlib-metadata 4.11.4\r\n",
      "    Uninstalling importlib-metadata-4.11.4:\r\n",
      "      Successfully uninstalled importlib-metadata-4.11.4\r\n",
      "\u001b[31mERROR: pip's dependency resolver does not currently take into account all the packages that are installed. This behaviour is the source of the following dependency conflicts.\r\n",
      "markdown 3.3.7 requires importlib-metadata>=4.4; python_version < \"3.10\", but you have importlib-metadata 1.7.0 which is incompatible.\r\n",
      "keyring 23.5.0 requires importlib-metadata>=3.6, but you have importlib-metadata 1.7.0 which is incompatible.\r\n",
      "ibis-framework 2.1.1 requires importlib-metadata<5,>=4; python_version < \"3.8\", but you have importlib-metadata 1.7.0 which is incompatible.\r\n",
      "gym 0.23.1 requires importlib-metadata>=4.10.0; python_version < \"3.10\", but you have importlib-metadata 1.7.0 which is incompatible.\r\n",
      "flask 2.1.2 requires importlib-metadata>=3.6.0; python_version < \"3.10\", but you have importlib-metadata 1.7.0 which is incompatible.\u001b[0m\u001b[31m\r\n",
      "\u001b[0mSuccessfully installed importlib-metadata-1.7.0 py-boost-0.1.9\r\n",
      "\u001b[33mWARNING: Running pip as the 'root' user can result in broken permissions and conflicting behaviour with the system package manager. It is recommended to use a virtual environment instead: https://pip.pypa.io/warnings/venv\u001b[0m\u001b[33m\r\n",
      "\u001b[0m"
     ]
    }
   ],
   "source": [
    "!pip install -U py-boost"
   ]
  },
  {
   "cell_type": "code",
   "execution_count": 2,
   "id": "45778cad",
   "metadata": {
    "_cell_guid": "b1076dfc-b9ad-4769-8c92-a6c4dae69d19",
    "_uuid": "8f2839f25d086af736a60e9eeb907d3b93b6e0e5",
    "execution": {
     "iopub.execute_input": "2022-05-31T17:08:24.146893Z",
     "iopub.status.busy": "2022-05-31T17:08:24.146025Z",
     "iopub.status.idle": "2022-05-31T17:08:41.781451Z",
     "shell.execute_reply": "2022-05-31T17:08:41.780579Z"
    },
    "papermill": {
     "duration": 17.649907,
     "end_time": "2022-05-31T17:08:41.784283",
     "exception": false,
     "start_time": "2022-05-31T17:08:24.134376",
     "status": "completed"
    },
    "tags": []
   },
   "outputs": [],
   "source": [
    "# This Python 3 environment comes with many helpful analytics libraries installed\n",
    "# It is defined by the kaggle/python Docker image: https://github.com/kaggle/docker-python\n",
    "# For example, here's several helpful packages to load\n",
    "import os\n",
    "import sys\n",
    "\n",
    "import numpy as np # linear algebra\n",
    "import pandas as pd # data processing, CSV file I/O (e.g. pd.read_csv)\n",
    "from pandas import Series, DataFrame\n",
    "\n",
    "import cupy as cp\n",
    "import cudf\n",
    "from py_boost import GradientBoosting\n",
    "from py_boost.gpu.losses import Metric\n",
    "\n",
    "from sklearn.model_selection import StratifiedKFold"
   ]
  },
  {
   "cell_type": "markdown",
   "id": "abbfc185",
   "metadata": {
    "papermill": {
     "duration": 0.010669,
     "end_time": "2022-05-31T17:08:41.806338",
     "exception": false,
     "start_time": "2022-05-31T17:08:41.795669",
     "status": "completed"
    },
    "tags": []
   },
   "source": [
    "### Preprocessing \n",
    "\n",
    "The following script in the hidden cell will read the data with **RAPIDS CuDF** and save to **.feather**. Also it splits the test data into the 4 partitions to prevent OOM during inference. It takes quite a long time (about 30 min) in Kernel probably due to RAM limitations, but locally it takes about 2 mins, so I just use precomputed data. But you may set PREPROCESSING=True if do not want to use the external dataset."
   ]
  },
  {
   "cell_type": "code",
   "execution_count": 3,
   "id": "5cce67e9",
   "metadata": {
    "_kg_hide-input": true,
    "execution": {
     "iopub.execute_input": "2022-05-31T17:08:41.828944Z",
     "iopub.status.busy": "2022-05-31T17:08:41.828524Z",
     "iopub.status.idle": "2022-05-31T17:08:41.838243Z",
     "shell.execute_reply": "2022-05-31T17:08:41.837446Z"
    },
    "papermill": {
     "duration": 0.02355,
     "end_time": "2022-05-31T17:08:41.840397",
     "exception": false,
     "start_time": "2022-05-31T17:08:41.816847",
     "status": "completed"
    },
    "tags": []
   },
   "outputs": [],
   "source": [
    "script = \"\"\"\n",
    "import os\n",
    "import numpy as np\n",
    "import math\n",
    "import pandas as pd\n",
    "import cudf\n",
    "import subprocess\n",
    "\n",
    "        \n",
    "def process_fn(path, **kwargs):\n",
    "    \n",
    "    data = cudf.read_csv(path, dtype=DTYPES, **kwargs)\n",
    "    data['customer_ID'] = data['customer_ID'].map(cudf.from_pandas(MAPPER))\n",
    "    data['S_2'] = cudf.to_datetime(data['S_2'])\n",
    "\n",
    "    for col in CATS:\n",
    "        if col in FILL_DICT:\n",
    "            data[col] += FILL_DICT[col]\n",
    "            data[col] = data[col].fillna(0).astype(np.uint8)\n",
    "        else:\n",
    "            data[col] = data[col].map(cudf.Series(MAP_DICT[col], dtype=np.uint8)).fillna(0)\n",
    "            \n",
    "    return data\n",
    "\n",
    "\n",
    "def batch_process_fn(path, batch_size, output, start=0, stop=None):\n",
    "    \n",
    "    names = pd.read_csv(path, nrows=2).columns.to_list()\n",
    "    \n",
    "    # iterate over file\n",
    "    parts = []\n",
    "    skiprows = 1 + start\n",
    "    if stop is None:\n",
    "        # nrows + 1 \n",
    "        stop = int(subprocess.check_output(\n",
    "            ['wc', '-l', path]).decode(\"utf-8\").split(' ')[0]) - 1\n",
    "        \n",
    "    total = stop - start\n",
    "    niter = math.ceil(total / batch_size)\n",
    "    print(start, stop, total)\n",
    "\n",
    "    for i in range(niter):\n",
    "        batch_size_ = min(batch_size, total - i * batch_size)\n",
    "        \n",
    "        data = process_fn(path, skiprows=skiprows, nrows=batch_size_, names=names)\n",
    "        skiprows += batch_size\n",
    "        data = data.to_pandas()\n",
    "        parts.append(data)\n",
    "        \n",
    "        print(data.shape)\n",
    "\n",
    "    data = pd.concat(parts, axis=0, ignore_index=True)\n",
    "    data.to_feather(output)\n",
    "    print(data.shape)\n",
    "    \n",
    "\n",
    "if __name__ == '__main__':\n",
    "    \n",
    "    os.makedirs('./data', exist_ok=True)\n",
    "    \n",
    "    train_ids = pd.read_csv('../input/amex-default-prediction/train_labels.csv', )\n",
    "    test_ids = pd.read_csv('../input/amex-default-prediction/sample_submission.csv', )\n",
    "\n",
    "    ids = pd.concat([train_ids['customer_ID'], test_ids['customer_ID']], axis=0, \n",
    "                   ).sort_values().reset_index()\n",
    "    ids['index'] = ids['index'].astype(np.int32)\n",
    "\n",
    "    MAPPER = ids.set_index('customer_ID')['index']\n",
    "\n",
    "    train_ids['my_id'] = train_ids['customer_ID'].map(MAPPER).values\n",
    "    test_ids['my_id'] = test_ids['customer_ID'].map(MAPPER).values\n",
    "\n",
    "    train_ids.to_feather('./data/target.feather')\n",
    "    test_ids.to_feather('./data/ssub.feather')\n",
    "\n",
    "    # analyze sample\n",
    "    sample = pd.read_csv('../input/amex-default-prediction/train_data.csv', nrows=100)\n",
    "    CATS = ['B_30', 'B_38', 'D_114', 'D_116', 'D_117', 'D_120', 'D_126', 'D_63', 'D_64', 'D_66', 'D_68']\n",
    "    NUMS = sample.columns.drop(['customer_ID', 'S_2'] + CATS).to_list()\n",
    "    FEATS = sample.columns.to_list()\n",
    "\n",
    "    FILL_DICT = {\n",
    "        'B_30': 1, 'B_38': 0, 'D_114': 1, 'D_116': 1, 'D_117': 2, 'D_120': 1, 'D_126': 2,  'D_66': 1, 'D_68': 1\n",
    "    }\n",
    "\n",
    "    MAP_DICT = {\n",
    "        'D_63': {'CO': 1, 'CR': 2, 'CL': 3, 'XZ': 4, 'XM': 5, 'XL': 6 },\n",
    "        'D_64': {'O': 2, 'U': 3, 'R': 4, '-1' : 1, },    \n",
    "    }\n",
    "\n",
    "    DTYPES = sample.dtypes.to_dict()\n",
    "\n",
    "    for col in DTYPES:\n",
    "        if DTYPES[col] == np.float64:\n",
    "            DTYPES[col] = np.float32\n",
    "            \n",
    "    # save feathers\n",
    "    batch_process_fn('../input/amex-default-prediction/train_data.csv', 2000000, './data/train.feather')\n",
    "    \n",
    "    partitions = [\n",
    "\n",
    "        (0, 2681973), \n",
    "        (2681973, 5362891), \n",
    "        (5362891, 8045043), \n",
    "        (8045043, None)\n",
    "\n",
    "    ]\n",
    "\n",
    "    for n, (start, stop) in enumerate(partitions):\n",
    "        batch_process_fn(\n",
    "            '../input/amex-default-prediction/test_data.csv', 2000000, \n",
    "            './data/test_part{0}.feather'.format(n), \n",
    "            start=start, stop=stop\n",
    "        )\n",
    "    \n",
    "\"\"\"\n",
    "with open('preprocess_script.py', 'w') as f:\n",
    "    f.writelines(script)"
   ]
  },
  {
   "cell_type": "code",
   "execution_count": 4,
   "id": "6d812a14",
   "metadata": {
    "execution": {
     "iopub.execute_input": "2022-05-31T17:08:41.868060Z",
     "iopub.status.busy": "2022-05-31T17:08:41.867754Z",
     "iopub.status.idle": "2022-05-31T17:08:41.874474Z",
     "shell.execute_reply": "2022-05-31T17:08:41.872841Z"
    },
    "papermill": {
     "duration": 0.021599,
     "end_time": "2022-05-31T17:08:41.877173",
     "exception": false,
     "start_time": "2022-05-31T17:08:41.855574",
     "status": "completed"
    },
    "tags": []
   },
   "outputs": [
    {
     "name": "stdout",
     "output_type": "stream",
     "text": [
      "CPU times: user 4 µs, sys: 1e+03 ns, total: 5 µs\n",
      "Wall time: 8.11 µs\n"
     ]
    }
   ],
   "source": [
    "%%time\n",
    "PREPROCESSING = False\n",
    "\n",
    "if PREPROCESSING:\n",
    "    !{sys.executable} preprocess_script.py\n",
    "    DATA_DIR = './data'\n",
    "else:\n",
    "    DATA_DIR = '../input/amexsavedasfeather/'"
   ]
  },
  {
   "cell_type": "markdown",
   "id": "d81a6459",
   "metadata": {
    "papermill": {
     "duration": 0.010957,
     "end_time": "2022-05-31T17:08:41.900118",
     "exception": false,
     "start_time": "2022-05-31T17:08:41.889161",
     "status": "completed"
    },
    "tags": []
   },
   "source": [
    "### Feature extraction\n",
    "\n",
    "Here we create aggregated dataset. To simplify the process I used the features from [this Kernel](https://www.kaggle.com/code/huseyincot/amex-agg-data-how-it-created) proposed by [huseyincotel](https://www.kaggle.com/huseyincot), just speed up execution with **CuDF**"
   ]
  },
  {
   "cell_type": "code",
   "execution_count": 5,
   "id": "d87a7a56",
   "metadata": {
    "execution": {
     "iopub.execute_input": "2022-05-31T17:08:41.922803Z",
     "iopub.status.busy": "2022-05-31T17:08:41.922145Z",
     "iopub.status.idle": "2022-05-31T17:08:41.930061Z",
     "shell.execute_reply": "2022-05-31T17:08:41.929173Z"
    },
    "papermill": {
     "duration": 0.021203,
     "end_time": "2022-05-31T17:08:41.931909",
     "exception": false,
     "start_time": "2022-05-31T17:08:41.910706",
     "status": "completed"
    },
    "tags": []
   },
   "outputs": [],
   "source": [
    "def feature_extraction(path):\n",
    "    \"\"\"\n",
    "    Simple features\n",
    "    \"\"\"\n",
    "    data = cudf.read_feather(path)\n",
    "    \n",
    "    CATS = ['B_30', 'B_38', 'D_114', 'D_116', 'D_117', 'D_120', 'D_126', 'D_63', 'D_64', 'D_66', 'D_68']\n",
    "    NUMS = data.columns.drop(['customer_ID', 'S_2'] + CATS).to_list()\n",
    "    \n",
    "    agg_nums = data.groupby('customer_ID')[NUMS].agg(['mean', 'std', 'min', 'max', 'last']).astype(np.float32)\n",
    "    agg_nums.columns = ['_'.join(x) for x in agg_nums.columns]\n",
    "    \n",
    "    agg_cats = data.groupby(\"customer_ID\")[CATS].agg(['count', 'last', 'nunique']).astype(np.float32)\n",
    "    agg_cats.columns = ['_'.join(x) for x in agg_cats.columns]\n",
    "    \n",
    "    data = cudf.concat([agg_nums, agg_cats, ], axis=1).to_pandas()\n",
    "    \n",
    "    return data"
   ]
  },
  {
   "cell_type": "code",
   "execution_count": 6,
   "id": "32551250",
   "metadata": {
    "execution": {
     "iopub.execute_input": "2022-05-31T17:08:41.953643Z",
     "iopub.status.busy": "2022-05-31T17:08:41.953381Z",
     "iopub.status.idle": "2022-05-31T17:09:38.858925Z",
     "shell.execute_reply": "2022-05-31T17:09:38.857997Z"
    },
    "papermill": {
     "duration": 56.92909,
     "end_time": "2022-05-31T17:09:38.871430",
     "exception": false,
     "start_time": "2022-05-31T17:08:41.942340",
     "status": "completed"
    },
    "tags": []
   },
   "outputs": [
    {
     "name": "stderr",
     "output_type": "stream",
     "text": [
      "/opt/conda/lib/python3.7/site-packages/cudf/io/feather.py:16: UserWarning: Using CPU via PyArrow to read feather dataset, this may be GPU accelerated in the future\n",
      "  \"Using CPU via PyArrow to read feather dataset, this may \"\n"
     ]
    },
    {
     "name": "stdout",
     "output_type": "stream",
     "text": [
      "CPU times: user 7.26 s, sys: 7.5 s, total: 14.8 s\n",
      "Wall time: 56.9 s\n"
     ]
    }
   ],
   "source": [
    "%%time\n",
    "# DataFrames\n",
    "train = feature_extraction(os.path.join(DATA_DIR, 'train.feather'))\n",
    "labels = pd.read_feather(os.path.join(DATA_DIR, 'target.feather')).set_index('my_id')\n",
    "\n",
    "# features arrays\n",
    "X = train.values\n",
    "y = labels['target'].loc[train.index].values"
   ]
  },
  {
   "cell_type": "markdown",
   "id": "75e513e1",
   "metadata": {
    "papermill": {
     "duration": 0.012812,
     "end_time": "2022-05-31T17:09:38.894500",
     "exception": false,
     "start_time": "2022-05-31T17:09:38.881688",
     "status": "completed"
    },
    "tags": []
   },
   "source": [
    "### Metric comparison\n",
    "\n",
    "Proposed by host metric implementation based on **pandas** looks not very efficient. Lets take some random (not nullable) feature as prediction and evaluate the time"
   ]
  },
  {
   "cell_type": "code",
   "execution_count": 7,
   "id": "56e86acd",
   "metadata": {
    "execution": {
     "iopub.execute_input": "2022-05-31T17:09:38.916369Z",
     "iopub.status.busy": "2022-05-31T17:09:38.916033Z",
     "iopub.status.idle": "2022-05-31T17:09:38.919773Z",
     "shell.execute_reply": "2022-05-31T17:09:38.919025Z"
    },
    "papermill": {
     "duration": 0.016566,
     "end_time": "2022-05-31T17:09:38.921577",
     "exception": false,
     "start_time": "2022-05-31T17:09:38.905011",
     "status": "completed"
    },
    "tags": []
   },
   "outputs": [],
   "source": [
    "# lets create simple dummy predicion\n",
    "dummy_pred = X[:, 10]"
   ]
  },
  {
   "cell_type": "code",
   "execution_count": 8,
   "id": "1f1e7f6a",
   "metadata": {
    "execution": {
     "iopub.execute_input": "2022-05-31T17:09:38.943475Z",
     "iopub.status.busy": "2022-05-31T17:09:38.942833Z",
     "iopub.status.idle": "2022-05-31T17:09:38.955859Z",
     "shell.execute_reply": "2022-05-31T17:09:38.955047Z"
    },
    "papermill": {
     "duration": 0.025936,
     "end_time": "2022-05-31T17:09:38.957625",
     "exception": false,
     "start_time": "2022-05-31T17:09:38.931689",
     "status": "completed"
    },
    "tags": []
   },
   "outputs": [],
   "source": [
    "def amex_metric_official(y_true: pd.DataFrame, y_pred: pd.DataFrame) -> float:\n",
    "\n",
    "    def top_four_percent_captured(y_true: pd.DataFrame, y_pred: pd.DataFrame) -> float:\n",
    "        df = (pd.concat([y_true, y_pred], axis='columns')\n",
    "              .sort_values('prediction', ascending=False))\n",
    "        df['weight'] = df['target'].apply(lambda x: 20 if x==0 else 1)\n",
    "        four_pct_cutoff = int(0.04 * df['weight'].sum())\n",
    "        df['weight_cumsum'] = df['weight'].cumsum()\n",
    "        df_cutoff = df.loc[df['weight_cumsum'] <= four_pct_cutoff]\n",
    "        return (df_cutoff['target'] == 1).sum() / (df['target'] == 1).sum()\n",
    "        \n",
    "    def weighted_gini(y_true: pd.DataFrame, y_pred: pd.DataFrame) -> float:\n",
    "        df = (pd.concat([y_true, y_pred], axis='columns')\n",
    "              .sort_values('prediction', ascending=False))\n",
    "        df['weight'] = df['target'].apply(lambda x: 20 if x==0 else 1)\n",
    "        df['random'] = (df['weight'] / df['weight'].sum()).cumsum()\n",
    "        total_pos = (df['target'] * df['weight']).sum()\n",
    "        df['cum_pos_found'] = (df['target'] * df['weight']).cumsum()\n",
    "        df['lorentz'] = df['cum_pos_found'] / total_pos\n",
    "        df['gini'] = (df['lorentz'] - df['random']) * df['weight']\n",
    "        return df['gini'].sum()\n",
    "\n",
    "    def normalized_weighted_gini(y_true: pd.DataFrame, y_pred: pd.DataFrame) -> float:\n",
    "        y_true_pred = y_true.rename(columns={'target': 'prediction'})\n",
    "        return weighted_gini(y_true, y_pred) / weighted_gini(y_true, y_true_pred)\n",
    "\n",
    "    g = normalized_weighted_gini(y_true, y_pred)\n",
    "    d = top_four_percent_captured(y_true, y_pred)\n",
    "\n",
    "    return 0.5 * (g + d)"
   ]
  },
  {
   "cell_type": "code",
   "execution_count": 9,
   "id": "57999f94",
   "metadata": {
    "execution": {
     "iopub.execute_input": "2022-05-31T17:09:38.978757Z",
     "iopub.status.busy": "2022-05-31T17:09:38.978469Z",
     "iopub.status.idle": "2022-05-31T17:09:38.984316Z",
     "shell.execute_reply": "2022-05-31T17:09:38.983653Z"
    },
    "papermill": {
     "duration": 0.018721,
     "end_time": "2022-05-31T17:09:38.986365",
     "exception": false,
     "start_time": "2022-05-31T17:09:38.967644",
     "status": "completed"
    },
    "tags": []
   },
   "outputs": [],
   "source": [
    "# proposed implementation takes DataFrame as input, so lets do so\n",
    "ydf = DataFrame({'target': y})\n",
    "xdf = DataFrame({'prediction': dummy_pred})"
   ]
  },
  {
   "cell_type": "code",
   "execution_count": 10,
   "id": "ec7791a6",
   "metadata": {
    "execution": {
     "iopub.execute_input": "2022-05-31T17:09:39.011399Z",
     "iopub.status.busy": "2022-05-31T17:09:39.011123Z",
     "iopub.status.idle": "2022-05-31T17:09:46.056390Z",
     "shell.execute_reply": "2022-05-31T17:09:46.055451Z"
    },
    "papermill": {
     "duration": 7.061908,
     "end_time": "2022-05-31T17:09:46.058558",
     "exception": false,
     "start_time": "2022-05-31T17:09:38.996650",
     "status": "completed"
    },
    "tags": []
   },
   "outputs": [
    {
     "name": "stdout",
     "output_type": "stream",
     "text": [
      "882 ms ± 67.8 ms per loop (mean ± std. dev. of 7 runs, 1 loop each)\n"
     ]
    }
   ],
   "source": [
    "%%timeit\n",
    "val = amex_metric_official(ydf, xdf)"
   ]
  },
  {
   "cell_type": "code",
   "execution_count": 11,
   "id": "89a9a1b0",
   "metadata": {
    "execution": {
     "iopub.execute_input": "2022-05-31T17:09:46.082631Z",
     "iopub.status.busy": "2022-05-31T17:09:46.081972Z",
     "iopub.status.idle": "2022-05-31T17:09:47.161825Z",
     "shell.execute_reply": "2022-05-31T17:09:47.160955Z"
    },
    "papermill": {
     "duration": 1.093854,
     "end_time": "2022-05-31T17:09:47.163887",
     "exception": false,
     "start_time": "2022-05-31T17:09:46.070033",
     "status": "completed"
    },
    "tags": []
   },
   "outputs": [
    {
     "data": {
      "text/plain": [
       "0.4162627954609682"
      ]
     },
     "execution_count": 11,
     "metadata": {},
     "output_type": "execute_result"
    }
   ],
   "source": [
    "amex_metric_official(ydf, xdf)"
   ]
  },
  {
   "cell_type": "markdown",
   "id": "b21a4a82",
   "metadata": {
    "papermill": {
     "duration": 0.021129,
     "end_time": "2022-05-31T17:09:47.205678",
     "exception": false,
     "start_time": "2022-05-31T17:09:47.184549",
     "status": "completed"
    },
    "tags": []
   },
   "source": [
    "Takes about 1 second. Not too long to evaluate the model quality, but almost impossible to use as early stopping detector for tree ensembles\n",
    "\n",
    "### Numpy implementation\n",
    "\n",
    "Implementation based. on **NumPy** looks much more efficient. It is proposed by [Konstantin Yakovlev](https://www.kaggle.com/kyakovlev) in this post [this post](https://www.kaggle.com/competitions/amex-default-prediction/discussion/327534). Lets see how fast it is."
   ]
  },
  {
   "cell_type": "code",
   "execution_count": 12,
   "id": "52909a60",
   "metadata": {
    "execution": {
     "iopub.execute_input": "2022-05-31T17:09:47.243296Z",
     "iopub.status.busy": "2022-05-31T17:09:47.242948Z",
     "iopub.status.idle": "2022-05-31T17:09:47.256212Z",
     "shell.execute_reply": "2022-05-31T17:09:47.255502Z"
    },
    "papermill": {
     "duration": 0.035967,
     "end_time": "2022-05-31T17:09:47.260904",
     "exception": false,
     "start_time": "2022-05-31T17:09:47.224937",
     "status": "completed"
    },
    "tags": []
   },
   "outputs": [],
   "source": [
    "def amex_metric_numpy(y_true: np.array, y_pred: np.array) -> float:\n",
    "\n",
    "    labels     = np.transpose(np.array([y_true, y_pred]))\n",
    "    labels     = labels[labels[:, 1].argsort()[::-1]]\n",
    "    weights    = np.where(labels[:,0]==0, 20, 1)\n",
    "    cut_vals   = labels[np.cumsum(weights) <= int(0.04 * np.sum(weights))]\n",
    "    top_four   = np.sum(cut_vals[:,0]) / np.sum(labels[:,0])\n",
    "\n",
    "    gini = [0,0]\n",
    "    for i in [1,0]:\n",
    "        labels         = np.transpose(np.array([y_true, y_pred]))\n",
    "        labels         = labels[labels[:, i].argsort()[::-1]]\n",
    "        weight         = np.where(labels[:,0]==0, 20, 1)\n",
    "        weight_random  = np.cumsum(weight / np.sum(weight))\n",
    "        total_pos      = np.sum(labels[:, 0] *  weight)\n",
    "        cum_pos_found  = np.cumsum(labels[:, 0] * weight)\n",
    "        lorentz        = cum_pos_found / total_pos\n",
    "        gini[i]        = np.sum((lorentz - weight_random) * weight)\n",
    "\n",
    "    return 0.5 * (gini[1]/gini[0] + top_four)"
   ]
  },
  {
   "cell_type": "code",
   "execution_count": 13,
   "id": "7815c468",
   "metadata": {
    "execution": {
     "iopub.execute_input": "2022-05-31T17:09:47.296319Z",
     "iopub.status.busy": "2022-05-31T17:09:47.295990Z",
     "iopub.status.idle": "2022-05-31T17:09:48.863760Z",
     "shell.execute_reply": "2022-05-31T17:09:48.862770Z"
    },
    "papermill": {
     "duration": 1.587633,
     "end_time": "2022-05-31T17:09:48.865608",
     "exception": false,
     "start_time": "2022-05-31T17:09:47.277975",
     "status": "completed"
    },
    "tags": []
   },
   "outputs": [
    {
     "name": "stdout",
     "output_type": "stream",
     "text": [
      "188 ms ± 22.9 ms per loop (mean ± std. dev. of 7 runs, 1 loop each)\n"
     ]
    }
   ],
   "source": [
    "%%timeit\n",
    "val = amex_metric_numpy(y, dummy_pred)"
   ]
  },
  {
   "cell_type": "code",
   "execution_count": 14,
   "id": "c97cf7db",
   "metadata": {
    "execution": {
     "iopub.execute_input": "2022-05-31T17:09:48.888036Z",
     "iopub.status.busy": "2022-05-31T17:09:48.887719Z",
     "iopub.status.idle": "2022-05-31T17:09:49.069760Z",
     "shell.execute_reply": "2022-05-31T17:09:49.068962Z"
    },
    "papermill": {
     "duration": 0.195205,
     "end_time": "2022-05-31T17:09:49.071548",
     "exception": false,
     "start_time": "2022-05-31T17:09:48.876343",
     "status": "completed"
    },
    "tags": []
   },
   "outputs": [
    {
     "data": {
      "text/plain": [
       "0.4162627950103909"
      ]
     },
     "execution_count": 14,
     "metadata": {},
     "output_type": "execute_result"
    }
   ],
   "source": [
    "amex_metric_numpy(y, dummy_pred)"
   ]
  },
  {
   "cell_type": "markdown",
   "id": "9f83a09a",
   "metadata": {
    "papermill": {
     "duration": 0.010284,
     "end_time": "2022-05-31T17:09:49.092632",
     "exception": false,
     "start_time": "2022-05-31T17:09:49.082348",
     "status": "completed"
    },
    "tags": []
   },
   "source": [
    "##### Good job! Almost x5 speed up. But can we make it faster? :)"
   ]
  },
  {
   "cell_type": "code",
   "execution_count": 15,
   "id": "cb197266",
   "metadata": {
    "execution": {
     "iopub.execute_input": "2022-05-31T17:09:49.114923Z",
     "iopub.status.busy": "2022-05-31T17:09:49.114157Z",
     "iopub.status.idle": "2022-05-31T17:09:49.124535Z",
     "shell.execute_reply": "2022-05-31T17:09:49.123627Z"
    },
    "papermill": {
     "duration": 0.023515,
     "end_time": "2022-05-31T17:09:49.126488",
     "exception": false,
     "start_time": "2022-05-31T17:09:49.102973",
     "status": "completed"
    },
    "tags": []
   },
   "outputs": [],
   "source": [
    "def check_input(arr):\n",
    "    \"\"\"\n",
    "    Check the input\n",
    "    \"\"\"\n",
    "    if type(arr) is pd.DataFrame:\n",
    "        arr = arr[arr.columns[0]]\n",
    "        \n",
    "    if type(arr) is pd.Series:\n",
    "        arr = arr.values\n",
    "        \n",
    "    if len(arr.shape) > 1:\n",
    "        arr = arr[:, 0]\n",
    "        \n",
    "    return arr\n",
    "\n",
    "\n",
    "def gini(cs_0, cs_1, sum_0, sum_1):\n",
    "    \"\"\"\n",
    "    Gini part\n",
    "    \"\"\"\n",
    "    auc_ = (cs_0 - sum_0 / 2) * sum_1\n",
    "    tot = cs_0[-1] * cs_1[-1]\n",
    "\n",
    "    return 2 * float(auc_.sum() / tot) - 1\n",
    "\n",
    "\n",
    "def recall_at4(cs_0, cs_1, sum_1):\n",
    "    \"\"\"\n",
    "    Recall part\n",
    "    \"\"\"\n",
    "    cs_tot = cs_0 + cs_1\n",
    "    th = cs_tot[-1] * 0.96\n",
    "    \n",
    "    return float(sum_1[cs_tot >= th].sum() / cs_1[-1])\n",
    "    \n",
    "    \n",
    "def amex_score(y_true, y_pred):\n",
    "    \"\"\"\n",
    "    Faster NumPy metric implementation\n",
    "    \"\"\"\n",
    "    y_true = check_input(y_true)\n",
    "    y_pred = check_input(y_pred)\n",
    "\n",
    "    sum_1 = y_true[y_pred.argsort()]\n",
    "    sum_0 = (1 - sum_1) \n",
    "    sum_0 *= 20\n",
    "    \n",
    "    cs_0, cs_1 = np.cumsum(sum_0, dtype=np.float64), np.cumsum(sum_1, dtype=np.float64)\n",
    "    \n",
    "    g = gini(cs_0, cs_1, sum_0, sum_1)\n",
    "    d = recall_at4(cs_0, cs_1, sum_1)\n",
    "    \n",
    "    return (g + d) / 2"
   ]
  },
  {
   "cell_type": "code",
   "execution_count": 16,
   "id": "dcd0a52f",
   "metadata": {
    "execution": {
     "iopub.execute_input": "2022-05-31T17:09:49.148184Z",
     "iopub.status.busy": "2022-05-31T17:09:49.147904Z",
     "iopub.status.idle": "2022-05-31T17:09:53.880144Z",
     "shell.execute_reply": "2022-05-31T17:09:53.878545Z"
    },
    "papermill": {
     "duration": 4.745284,
     "end_time": "2022-05-31T17:09:53.882176",
     "exception": false,
     "start_time": "2022-05-31T17:09:49.136892",
     "status": "completed"
    },
    "tags": []
   },
   "outputs": [
    {
     "name": "stdout",
     "output_type": "stream",
     "text": [
      "58.4 ms ± 4.27 ms per loop (mean ± std. dev. of 7 runs, 10 loops each)\n"
     ]
    }
   ],
   "source": [
    "%%timeit\n",
    "val = amex_score(y, dummy_pred)"
   ]
  },
  {
   "cell_type": "code",
   "execution_count": 17,
   "id": "745b137b",
   "metadata": {
    "execution": {
     "iopub.execute_input": "2022-05-31T17:09:53.904483Z",
     "iopub.status.busy": "2022-05-31T17:09:53.904173Z",
     "iopub.status.idle": "2022-05-31T17:09:53.965505Z",
     "shell.execute_reply": "2022-05-31T17:09:53.964584Z"
    },
    "papermill": {
     "duration": 0.074652,
     "end_time": "2022-05-31T17:09:53.967524",
     "exception": false,
     "start_time": "2022-05-31T17:09:53.892872",
     "status": "completed"
    },
    "tags": []
   },
   "outputs": [
    {
     "data": {
      "text/plain": [
       "0.4162632971042849"
      ]
     },
     "execution_count": 17,
     "metadata": {},
     "output_type": "execute_result"
    }
   ],
   "source": [
    "amex_score(y, dummy_pred)"
   ]
  },
  {
   "cell_type": "markdown",
   "id": "aadd6d68",
   "metadata": {
    "papermill": {
     "duration": 0.010348,
     "end_time": "2022-05-31T17:09:53.988628",
     "exception": false,
     "start_time": "2022-05-31T17:09:53.978280",
     "status": "completed"
    },
    "tags": []
   },
   "source": [
    "##### This NumPy implementation is about x3 faster. But remember, this is GPU Kernel, so let's use it : )"
   ]
  },
  {
   "cell_type": "code",
   "execution_count": 18,
   "id": "c196f1ba",
   "metadata": {
    "execution": {
     "iopub.execute_input": "2022-05-31T17:09:54.011052Z",
     "iopub.status.busy": "2022-05-31T17:09:54.010705Z",
     "iopub.status.idle": "2022-05-31T17:09:54.018580Z",
     "shell.execute_reply": "2022-05-31T17:09:54.017590Z"
    },
    "papermill": {
     "duration": 0.021806,
     "end_time": "2022-05-31T17:09:54.020867",
     "exception": false,
     "start_time": "2022-05-31T17:09:53.999061",
     "status": "completed"
    },
    "tags": []
   },
   "outputs": [],
   "source": [
    "def amex_score_gpu(y_true, y_pred):\n",
    "    \"\"\"\n",
    "    CuPy based AMEX metric\n",
    "    \"\"\"\n",
    "    y_true = cp.asarray(check_input(y_true))\n",
    "    y_pred = cp.asarray(check_input(y_pred))\n",
    "    \n",
    "    unique = cp.unique(y_pred)\n",
    "    rank = cp.searchsorted(unique, y_pred)\n",
    "    \n",
    "    sum_1 = cp.zeros_like(unique, dtype=cp.float64)\n",
    "    sum_1.scatter_add(rank, y_true)\n",
    "    \n",
    "    sum_0 = cp.zeros_like(unique, dtype=cp.float64)\n",
    "    sum_0.scatter_add(rank, 1 - y_true)\n",
    "    sum_0 *= 20\n",
    "    \n",
    "    cs_0, cs_1 = sum_0.cumsum(), sum_1.cumsum()\n",
    "    \n",
    "    g = gini(cs_0, cs_1, sum_0, sum_1)\n",
    "    d = recall_at4(cs_0, cs_1, sum_1)\n",
    "    \n",
    "    return (g + d) / 2"
   ]
  },
  {
   "cell_type": "code",
   "execution_count": 19,
   "id": "ffb65faf",
   "metadata": {
    "execution": {
     "iopub.execute_input": "2022-05-31T17:09:54.046096Z",
     "iopub.status.busy": "2022-05-31T17:09:54.045798Z",
     "iopub.status.idle": "2022-05-31T17:10:00.101987Z",
     "shell.execute_reply": "2022-05-31T17:10:00.101134Z"
    },
    "papermill": {
     "duration": 6.070884,
     "end_time": "2022-05-31T17:10:00.103888",
     "exception": false,
     "start_time": "2022-05-31T17:09:54.033004",
     "status": "completed"
    },
    "tags": []
   },
   "outputs": [
    {
     "name": "stdout",
     "output_type": "stream",
     "text": [
      "9.98 ms ± 395 µs per loop (mean ± std. dev. of 7 runs, 1 loop each)\n"
     ]
    }
   ],
   "source": [
    "%%timeit\n",
    "val = amex_score_gpu(y, dummy_pred)"
   ]
  },
  {
   "cell_type": "code",
   "execution_count": 20,
   "id": "91e7b312",
   "metadata": {
    "execution": {
     "iopub.execute_input": "2022-05-31T17:10:00.127930Z",
     "iopub.status.busy": "2022-05-31T17:10:00.126481Z",
     "iopub.status.idle": "2022-05-31T17:10:00.143278Z",
     "shell.execute_reply": "2022-05-31T17:10:00.142394Z"
    },
    "papermill": {
     "duration": 0.03022,
     "end_time": "2022-05-31T17:10:00.145087",
     "exception": false,
     "start_time": "2022-05-31T17:10:00.114867",
     "status": "completed"
    },
    "tags": []
   },
   "outputs": [
    {
     "data": {
      "text/plain": [
       "0.4162632971042849"
      ]
     },
     "execution_count": 20,
     "metadata": {},
     "output_type": "execute_result"
    }
   ],
   "source": [
    "amex_score_gpu(y, dummy_pred)"
   ]
  },
  {
   "cell_type": "markdown",
   "id": "dd874cd3",
   "metadata": {
    "papermill": {
     "duration": 0.010422,
     "end_time": "2022-05-31T17:10:00.166236",
     "exception": false,
     "start_time": "2022-05-31T17:10:00.155814",
     "status": "completed"
    },
    "tags": []
   },
   "source": [
    "##### And x5 more using GPU. Some time is spent for CPU->GPU data transfer, so if target and predictions already will be on the device, it will be a liite bit faster"
   ]
  },
  {
   "cell_type": "code",
   "execution_count": 21,
   "id": "6fc3964f",
   "metadata": {
    "execution": {
     "iopub.execute_input": "2022-05-31T17:10:00.188561Z",
     "iopub.status.busy": "2022-05-31T17:10:00.188284Z",
     "iopub.status.idle": "2022-05-31T17:10:00.194016Z",
     "shell.execute_reply": "2022-05-31T17:10:00.193305Z"
    },
    "papermill": {
     "duration": 0.018795,
     "end_time": "2022-05-31T17:10:00.195662",
     "exception": false,
     "start_time": "2022-05-31T17:10:00.176867",
     "status": "completed"
    },
    "tags": []
   },
   "outputs": [],
   "source": [
    "ygpu = cp.asarray(y)\n",
    "xgpu = cp.asarray(dummy_pred)"
   ]
  },
  {
   "cell_type": "code",
   "execution_count": 22,
   "id": "10be35b0",
   "metadata": {
    "execution": {
     "iopub.execute_input": "2022-05-31T17:10:00.219564Z",
     "iopub.status.busy": "2022-05-31T17:10:00.219250Z",
     "iopub.status.idle": "2022-05-31T17:10:06.837734Z",
     "shell.execute_reply": "2022-05-31T17:10:06.836907Z"
    },
    "papermill": {
     "duration": 6.63231,
     "end_time": "2022-05-31T17:10:06.839624",
     "exception": false,
     "start_time": "2022-05-31T17:10:00.207314",
     "status": "completed"
    },
    "tags": []
   },
   "outputs": [
    {
     "name": "stdout",
     "output_type": "stream",
     "text": [
      "8.17 ms ± 519 µs per loop (mean ± std. dev. of 7 runs, 100 loops each)\n"
     ]
    }
   ],
   "source": [
    "%%timeit\n",
    "val = amex_score_gpu(ygpu, xgpu)"
   ]
  },
  {
   "cell_type": "markdown",
   "id": "2bd4eb05",
   "metadata": {
    "papermill": {
     "duration": 0.010501,
     "end_time": "2022-05-31T17:10:06.861210",
     "exception": false,
     "start_time": "2022-05-31T17:10:06.850709",
     "status": "completed"
    },
    "tags": []
   },
   "source": [
    "So why do we need so fast metric? The answer is - to perform early stopping in Gradient Boosting. And here is what I want to show\n",
    "\n",
    "### Py-Boost\n",
    "\n",
    "**Py-Boost** is GBDT implementation written only on Python. Despite this fact, it is fast because it is based on Python GPU libraries (**CuPy** mostly). I made it few month ago mainly for the research purposes, that is focused on multioutput training (multilabel/multiclass tasks), where **py-boost** is very efficient. But we can also train a simple binary task too. \n",
    "\n",
    "To learn more, visit our [Github repo](https://github.com/sb-ai-lab/Py-Boost). Here you will find some more usage tutorials. If you like this tool, you also can star us :)\n",
    "\n",
    "During **Py-Boost** traing data is represented as GPU arrays, so we can loosely pass  **amex_score_gpu** function for the fast evaluation with no overhead on data transfer, just need to write the wrapper class"
   ]
  },
  {
   "cell_type": "code",
   "execution_count": 23,
   "id": "032d5108",
   "metadata": {
    "execution": {
     "iopub.execute_input": "2022-05-31T17:10:06.884350Z",
     "iopub.status.busy": "2022-05-31T17:10:06.883537Z",
     "iopub.status.idle": "2022-05-31T17:10:06.889125Z",
     "shell.execute_reply": "2022-05-31T17:10:06.888445Z"
    },
    "papermill": {
     "duration": 0.01897,
     "end_time": "2022-05-31T17:10:06.890813",
     "exception": false,
     "start_time": "2022-05-31T17:10:06.871843",
     "status": "completed"
    },
    "tags": []
   },
   "outputs": [],
   "source": [
    "class CustomAMEXMetric(Metric):\n",
    "    \"\"\"Custom AMEX Metric for Py-Boost\"\"\"\n",
    "    \n",
    "    def compare(self, v0 ,v1):\n",
    "        \"\"\"\n",
    "        It should return True if v0 (new value) metric value is better than v1 (old value), False othewise\n",
    "        \"\"\"\n",
    "        return v0 > v1\n",
    "    \n",
    "    def __call__(self, y_true, y_pred, sample_weight=None):\n",
    "        \"\"\"\n",
    "        We also update __call__ method with AMEX score\n",
    "        \"\"\"\n",
    "        return amex_score_gpu(y_true, y_pred)"
   ]
  },
  {
   "cell_type": "markdown",
   "id": "a67634dd",
   "metadata": {
    "papermill": {
     "duration": 0.010413,
     "end_time": "2022-05-31T17:10:06.911890",
     "exception": false,
     "start_time": "2022-05-31T17:10:06.901477",
     "status": "completed"
    },
    "tags": []
   },
   "source": [
    "##### Other **py-boost** hyperparameters and interface are very common for all GBDT users. Here is the example of Cross-Validation loop with custom AMEX metric:"
   ]
  },
  {
   "cell_type": "code",
   "execution_count": 24,
   "id": "249cd9de",
   "metadata": {
    "execution": {
     "iopub.execute_input": "2022-05-31T17:10:06.934651Z",
     "iopub.status.busy": "2022-05-31T17:10:06.933953Z",
     "iopub.status.idle": "2022-05-31T17:10:06.943586Z",
     "shell.execute_reply": "2022-05-31T17:10:06.942865Z"
    },
    "papermill": {
     "duration": 0.022707,
     "end_time": "2022-05-31T17:10:06.945197",
     "exception": false,
     "start_time": "2022-05-31T17:10:06.922490",
     "status": "completed"
    },
    "tags": []
   },
   "outputs": [],
   "source": [
    "params = {\n",
    "\n",
    "    'loss': 'bce',\n",
    "    'metric': CustomAMEXMetric(),\n",
    "    'ntrees': 10000,\n",
    "    'lr': 0.01,\n",
    "    'min_gain_to_split': 0,\n",
    "    'lambda_l2': 10,\n",
    "    'max_bin': 256,\n",
    "    'max_depth': 6,\n",
    "    'min_data_in_leaf': 10,\n",
    "    'colsample': 0.9,\n",
    "    'subsample': 0.6,\n",
    "    'quant_sample': 1000000,\n",
    "    'es': 300,\n",
    "    'verbose': 100,\n",
    "    \n",
    "}\n",
    "\n",
    "def cv_loop(params, X, y, score=amex_score):\n",
    "    \"\"\"\n",
    "    CrossValidation loop for Py-Boost training\n",
    "    \"\"\"\n",
    "    scores = []\n",
    "    models = []\n",
    "    indices = np.arange(X.shape[0])\n",
    "    oof_pred = np.zeros((X.shape[0], ), dtype=np.float32)\n",
    "    cv = StratifiedKFold(5, shuffle=True, random_state=42)\n",
    "    \n",
    "    for n, (f0, f1) in enumerate(cv.split(y, y)):\n",
    "        \n",
    "        X_test, y_test = X[f1], y[f1]\n",
    "        \n",
    "        model = GradientBoosting(**params)\n",
    "        model.fit(X[f0], y[f0], eval_sets=[{'X': X_test, 'y': y_test}])\n",
    "        \n",
    "        models.append(model)\n",
    "        oof_pred[f1] = model.predict(X_test, batch_size=1000000)[:, 0]\n",
    "        scores.append(\n",
    "            score(y_test, oof_pred[f1])\n",
    "        )\n",
    "        \n",
    "        print('Fold {0}: score {1}'.format(n, scores[-1]))\n",
    "        \n",
    "    return oof_pred, np.array(scores), models"
   ]
  },
  {
   "cell_type": "code",
   "execution_count": 25,
   "id": "99ac9b8c",
   "metadata": {
    "execution": {
     "iopub.execute_input": "2022-05-31T17:10:06.967567Z",
     "iopub.status.busy": "2022-05-31T17:10:06.967021Z",
     "iopub.status.idle": "2022-05-31T17:45:15.862532Z",
     "shell.execute_reply": "2022-05-31T17:45:15.861470Z"
    },
    "papermill": {
     "duration": 2108.941373,
     "end_time": "2022-05-31T17:45:15.897108",
     "exception": false,
     "start_time": "2022-05-31T17:10:06.955735",
     "status": "completed"
    },
    "tags": []
   },
   "outputs": [
    {
     "name": "stdout",
     "output_type": "stream",
     "text": [
      "[17:11:19] Stdout logging level is INFO.\n",
      "[17:11:19] GDBT train starts. Max iter 10000, early stopping rounds 300\n",
      "[17:11:31] Iter 0; Sample 0, score = 0.701628061567336; \n",
      "[17:11:41] Iter 100; Sample 0, score = 0.7454931893652477; \n",
      "[17:11:51] Iter 200; Sample 0, score = 0.7567495791206504; \n",
      "[17:12:01] Iter 300; Sample 0, score = 0.765035623594998; \n",
      "[17:12:11] Iter 400; Sample 0, score = 0.7707637552513407; \n",
      "[17:12:21] Iter 500; Sample 0, score = 0.7759271958444613; \n",
      "[17:12:31] Iter 600; Sample 0, score = 0.7795673758364086; \n",
      "[17:12:41] Iter 700; Sample 0, score = 0.7810444135458701; \n",
      "[17:12:51] Iter 800; Sample 0, score = 0.7833639946923465; \n",
      "[17:13:01] Iter 900; Sample 0, score = 0.7845953348926618; \n",
      "[17:13:12] Iter 1000; Sample 0, score = 0.7856305237227006; \n",
      "[17:13:22] Iter 1100; Sample 0, score = 0.7869202806067421; \n",
      "[17:13:32] Iter 1200; Sample 0, score = 0.7874077754013437; \n",
      "[17:13:42] Iter 1300; Sample 0, score = 0.7872121484414085; \n",
      "[17:13:52] Iter 1400; Sample 0, score = 0.7878055156138023; \n",
      "[17:14:02] Iter 1500; Sample 0, score = 0.7884929665697018; \n",
      "[17:14:13] Iter 1600; Sample 0, score = 0.7887848390977783; \n",
      "[17:14:23] Iter 1700; Sample 0, score = 0.789055775262629; \n",
      "[17:14:33] Iter 1800; Sample 0, score = 0.7891813518270808; \n",
      "[17:14:43] Iter 1900; Sample 0, score = 0.7896853499027376; \n",
      "[17:14:53] Iter 2000; Sample 0, score = 0.7895450610624778; \n",
      "[17:15:04] Iter 2100; Sample 0, score = 0.7895851515447138; \n",
      "[17:15:14] Iter 2200; Sample 0, score = 0.7902737461281777; \n",
      "[17:15:24] Iter 2300; Sample 0, score = 0.7898400099643472; \n",
      "[17:15:34] Iter 2400; Sample 0, score = 0.7903897578359902; \n",
      "[17:15:44] Iter 2500; Sample 0, score = 0.7905483056055307; \n",
      "[17:15:55] Iter 2600; Sample 0, score = 0.7909991814768094; \n",
      "[17:16:05] Iter 2700; Sample 0, score = 0.7908189050964393; \n",
      "[17:16:15] Iter 2800; Sample 0, score = 0.7906167589900459; \n",
      "[17:16:25] Iter 2900; Sample 0, score = 0.7911430854943275; \n",
      "[17:16:36] Iter 3000; Sample 0, score = 0.7914374646162257; \n",
      "[17:16:46] Iter 3100; Sample 0, score = 0.7913498977889201; \n",
      "[17:16:56] Iter 3200; Sample 0, score = 0.7913831168060554; \n",
      "[17:17:06] Iter 3300; Sample 0, score = 0.7915489772212343; \n",
      "[17:17:16] Iter 3400; Sample 0, score = 0.7915066054288555; \n",
      "[17:17:26] Iter 3500; Sample 0, score = 0.7917562801336164; \n",
      "[17:17:37] Iter 3600; Sample 0, score = 0.7918910560945172; \n",
      "[17:17:47] Iter 3700; Sample 0, score = 0.7918830313021384; \n",
      "[17:17:57] Iter 3800; Sample 0, score = 0.7921949997601605; \n",
      "[17:18:07] Iter 3900; Sample 0, score = 0.7921416547752554; \n",
      "[17:18:17] Iter 4000; Sample 0, score = 0.7924208516545598; \n",
      "[17:18:28] Iter 4100; Sample 0, score = 0.7925281670994729; \n",
      "[17:18:38] Iter 4200; Sample 0, score = 0.792493797571105; \n",
      "[17:18:48] Iter 4300; Sample 0, score = 0.7925753537047001; \n",
      "[17:18:58] Iter 4400; Sample 0, score = 0.7925000075782926; \n",
      "[17:19:08] Iter 4500; Sample 0, score = 0.7925552283627186; \n",
      "[17:19:19] Iter 4600; Sample 0, score = 0.7927527380058426; \n",
      "[17:19:29] Iter 4700; Sample 0, score = 0.792677402517831; \n",
      "[17:19:39] Iter 4800; Sample 0, score = 0.7923254546549423; \n",
      "[17:19:47] Early stopping at iter 4882, best iter 4582, best_score 0.7930066239509288\n",
      "Fold 0: score 0.7930066226993526\n",
      "[17:21:02] Stdout logging level is INFO.\n",
      "[17:21:02] GDBT train starts. Max iter 10000, early stopping rounds 300\n",
      "[17:21:02] Iter 0; Sample 0, score = 0.6867757516147514; \n",
      "[17:21:12] Iter 100; Sample 0, score = 0.7473927228345386; \n",
      "[17:21:22] Iter 200; Sample 0, score = 0.759167525692108; \n",
      "[17:21:32] Iter 300; Sample 0, score = 0.7671386820945336; \n",
      "[17:21:42] Iter 400; Sample 0, score = 0.7721180387002167; \n",
      "[17:21:52] Iter 500; Sample 0, score = 0.7764763695556172; \n",
      "[17:22:03] Iter 600; Sample 0, score = 0.7787327523722829; \n",
      "[17:22:13] Iter 700; Sample 0, score = 0.7813720611221555; \n",
      "[17:22:23] Iter 800; Sample 0, score = 0.7835202905637801; \n",
      "[17:22:33] Iter 900; Sample 0, score = 0.7845526273650227; \n",
      "[17:22:43] Iter 1000; Sample 0, score = 0.7854040472918803; \n",
      "[17:22:54] Iter 1100; Sample 0, score = 0.7860155185110255; \n",
      "[17:23:04] Iter 1200; Sample 0, score = 0.7871404878934091; \n",
      "[17:23:14] Iter 1300; Sample 0, score = 0.7878603021013583; \n",
      "[17:23:24] Iter 1400; Sample 0, score = 0.7881164462024315; \n",
      "[17:23:34] Iter 1500; Sample 0, score = 0.7879046592061574; \n",
      "[17:23:45] Iter 1600; Sample 0, score = 0.7886259881339532; \n",
      "[17:23:55] Iter 1700; Sample 0, score = 0.7891248256488932; \n",
      "[17:24:05] Iter 1800; Sample 0, score = 0.789631480820385; \n",
      "[17:24:15] Iter 1900; Sample 0, score = 0.7897913380513092; \n",
      "[17:24:25] Iter 2000; Sample 0, score = 0.7897164518790796; \n",
      "[17:24:36] Iter 2100; Sample 0, score = 0.789992571758803; \n",
      "[17:24:46] Iter 2200; Sample 0, score = 0.7902195866801947; \n",
      "[17:24:56] Iter 2300; Sample 0, score = 0.7898700872128441; \n",
      "[17:25:06] Iter 2400; Sample 0, score = 0.7901627338406727; \n",
      "[17:25:16] Iter 2500; Sample 0, score = 0.7907489595204453; \n",
      "[17:25:27] Iter 2600; Sample 0, score = 0.7903863648134708; \n",
      "[17:25:37] Iter 2700; Sample 0, score = 0.7907835749834959; \n",
      "[17:25:47] Iter 2800; Sample 0, score = 0.791244197815721; \n",
      "[17:25:57] Iter 2900; Sample 0, score = 0.7908785123418296; \n",
      "[17:26:08] Iter 3000; Sample 0, score = 0.7910764209248017; \n",
      "[17:26:18] Iter 3100; Sample 0, score = 0.7910757284903831; \n",
      "[17:26:19] Early stopping at iter 3107, best iter 2807, best_score 0.7915189478455191\n",
      "Fold 1: score 0.7915189447165791\n",
      "[17:27:31] Stdout logging level is INFO.\n",
      "[17:27:31] GDBT train starts. Max iter 10000, early stopping rounds 300\n",
      "[17:27:31] Iter 0; Sample 0, score = 0.698420866419162; \n",
      "[17:27:41] Iter 100; Sample 0, score = 0.752246684789549; \n",
      "[17:27:51] Iter 200; Sample 0, score = 0.7619540721672378; \n",
      "[17:28:01] Iter 300; Sample 0, score = 0.7712001804508526; \n",
      "[17:28:11] Iter 400; Sample 0, score = 0.7772435379283569; \n",
      "[17:28:22] Iter 500; Sample 0, score = 0.7820219462913407; \n",
      "[17:28:32] Iter 600; Sample 0, score = 0.7860886421269284; \n",
      "[17:28:42] Iter 700; Sample 0, score = 0.7870514383088945; \n",
      "[17:28:52] Iter 800; Sample 0, score = 0.7883772481948017; \n",
      "[17:29:02] Iter 900; Sample 0, score = 0.7898910346028053; \n",
      "[17:29:13] Iter 1000; Sample 0, score = 0.7904063027123344; \n",
      "[17:29:23] Iter 1100; Sample 0, score = 0.7914959270832556; \n",
      "[17:29:33] Iter 1200; Sample 0, score = 0.7917604247583632; \n",
      "[17:29:43] Iter 1300; Sample 0, score = 0.7922405236584793; \n",
      "[17:29:53] Iter 1400; Sample 0, score = 0.7931855423284248; \n",
      "[17:30:04] Iter 1500; Sample 0, score = 0.7932494417420339; \n",
      "[17:30:14] Iter 1600; Sample 0, score = 0.7940015014678756; \n",
      "[17:30:24] Iter 1700; Sample 0, score = 0.7940822365427087; \n",
      "[17:30:34] Iter 1800; Sample 0, score = 0.7939557203222734; \n",
      "[17:30:45] Iter 1900; Sample 0, score = 0.7941737562785284; \n",
      "[17:30:55] Iter 2000; Sample 0, score = 0.7941695442341501; \n",
      "[17:31:05] Iter 2100; Sample 0, score = 0.7941239692944199; \n",
      "[17:31:16] Iter 2200; Sample 0, score = 0.7949031874913839; \n",
      "[17:31:26] Iter 2300; Sample 0, score = 0.7943179930618665; \n",
      "[17:31:36] Iter 2400; Sample 0, score = 0.7943046015706503; \n",
      "[17:31:46] Early stopping at iter 2496, best iter 2196, best_score 0.7951115649398142\n",
      "Fold 2: score 0.7951115718237736\n",
      "[17:32:56] Stdout logging level is INFO.\n",
      "[17:32:56] GDBT train starts. Max iter 10000, early stopping rounds 300\n",
      "[17:32:56] Iter 0; Sample 0, score = 0.696576627747679; \n",
      "[17:33:06] Iter 100; Sample 0, score = 0.7465175074602421; \n",
      "[17:33:17] Iter 200; Sample 0, score = 0.757209629885323; \n",
      "[17:33:27] Iter 300; Sample 0, score = 0.76332703999061; \n",
      "[17:33:37] Iter 400; Sample 0, score = 0.7687919258506815; \n",
      "[17:33:47] Iter 500; Sample 0, score = 0.7735989977686191; \n",
      "[17:33:57] Iter 600; Sample 0, score = 0.7767034218547773; \n",
      "[17:34:07] Iter 700; Sample 0, score = 0.7791942360919069; \n",
      "[17:34:18] Iter 800; Sample 0, score = 0.7806462874656912; \n",
      "[17:34:28] Iter 900; Sample 0, score = 0.7823303701979227; \n",
      "[17:34:38] Iter 1000; Sample 0, score = 0.7836800796260315; \n",
      "[17:34:48] Iter 1100; Sample 0, score = 0.7852833090044928; \n",
      "[17:34:58] Iter 1200; Sample 0, score = 0.7857043507305628; \n",
      "[17:35:09] Iter 1300; Sample 0, score = 0.7864762806920567; \n",
      "[17:35:19] Iter 1400; Sample 0, score = 0.7873697447648862; \n",
      "[17:35:29] Iter 1500; Sample 0, score = 0.7878790247685338; \n",
      "[17:35:39] Iter 1600; Sample 0, score = 0.7883583241906478; \n",
      "[17:35:50] Iter 1700; Sample 0, score = 0.7891006887985179; \n",
      "[17:36:00] Iter 1800; Sample 0, score = 0.7894463145599537; \n",
      "[17:36:10] Iter 1900; Sample 0, score = 0.7895991494084749; \n",
      "[17:36:20] Iter 2000; Sample 0, score = 0.7903341265892794; \n",
      "[17:36:31] Iter 2100; Sample 0, score = 0.790506231204456; \n",
      "[17:36:41] Iter 2200; Sample 0, score = 0.7907663472394604; \n",
      "[17:36:51] Iter 2300; Sample 0, score = 0.7907685106801284; \n",
      "[17:37:01] Iter 2400; Sample 0, score = 0.7907818696289914; \n",
      "[17:37:12] Iter 2500; Sample 0, score = 0.7914422935304268; \n",
      "[17:37:22] Iter 2600; Sample 0, score = 0.7914927432520729; \n",
      "[17:37:32] Iter 2700; Sample 0, score = 0.7911921273198889; \n",
      "[17:37:43] Iter 2800; Sample 0, score = 0.7915989624313784; \n",
      "[17:37:53] Iter 2900; Sample 0, score = 0.7921873022044877; \n",
      "[17:38:03] Iter 3000; Sample 0, score = 0.7918302437511677; \n",
      "[17:38:13] Iter 3100; Sample 0, score = 0.7915915236875254; \n",
      "[17:38:24] Iter 3200; Sample 0, score = 0.7917574680978379; \n",
      "[17:38:24] Early stopping at iter 3201, best iter 2901, best_score 0.7921873022044877\n",
      "Fold 3: score 0.7921873065851892\n",
      "[17:39:37] Stdout logging level is INFO.\n",
      "[17:39:37] GDBT train starts. Max iter 10000, early stopping rounds 300\n",
      "[17:39:37] Iter 0; Sample 0, score = 0.6927526573791847; \n",
      "[17:39:47] Iter 100; Sample 0, score = 0.7475322836911154; \n",
      "[17:39:58] Iter 200; Sample 0, score = 0.7579176891255036; \n",
      "[17:40:08] Iter 300; Sample 0, score = 0.7659122396079545; \n",
      "[17:40:18] Iter 400; Sample 0, score = 0.7715948616263404; \n",
      "[17:40:28] Iter 500; Sample 0, score = 0.7760518975912338; \n",
      "[17:40:38] Iter 600; Sample 0, score = 0.7788892047496209; \n",
      "[17:40:48] Iter 700; Sample 0, score = 0.781617743339571; \n",
      "[17:40:58] Iter 800; Sample 0, score = 0.7829771858603565; \n",
      "[17:41:09] Iter 900; Sample 0, score = 0.7836356584880222; \n",
      "[17:41:19] Iter 1000; Sample 0, score = 0.7845859209736725; \n",
      "[17:41:29] Iter 1100; Sample 0, score = 0.7853253999263712; \n",
      "[17:41:39] Iter 1200; Sample 0, score = 0.7856410007439227; \n",
      "[17:41:50] Iter 1300; Sample 0, score = 0.7856870043513685; \n",
      "[17:42:00] Iter 1400; Sample 0, score = 0.7859839645462328; \n",
      "[17:42:10] Iter 1500; Sample 0, score = 0.7867263015149725; \n",
      "[17:42:20] Iter 1600; Sample 0, score = 0.7870143284540922; \n",
      "[17:42:31] Iter 1700; Sample 0, score = 0.7872127869102039; \n",
      "[17:42:41] Iter 1800; Sample 0, score = 0.7876856806149615; \n",
      "[17:42:51] Iter 1900; Sample 0, score = 0.7878248429042389; \n",
      "[17:43:01] Iter 2000; Sample 0, score = 0.7882744118938925; \n",
      "[17:43:12] Iter 2100; Sample 0, score = 0.788309903359132; \n",
      "[17:43:22] Iter 2200; Sample 0, score = 0.7882000327617376; \n",
      "[17:43:32] Iter 2300; Sample 0, score = 0.7884793786414046; \n",
      "[17:43:43] Iter 2400; Sample 0, score = 0.789265436309222; \n",
      "[17:43:53] Iter 2500; Sample 0, score = 0.7892771099311244; \n",
      "[17:44:03] Iter 2600; Sample 0, score = 0.7893994132424856; \n",
      "[17:44:13] Iter 2700; Sample 0, score = 0.7893216548051805; \n",
      "[17:44:24] Iter 2800; Sample 0, score = 0.789577659699015; \n",
      "[17:44:34] Iter 2900; Sample 0, score = 0.7893233500899308; \n",
      "[17:44:44] Iter 3000; Sample 0, score = 0.7897446386760574; \n",
      "[17:44:54] Iter 3100; Sample 0, score = 0.7898859267985933; \n",
      "[17:45:05] Iter 3200; Sample 0, score = 0.7898322509168618; \n",
      "[17:45:11] Early stopping at iter 3258, best iter 2958, best_score 0.7901765407835447\n",
      "Fold 4: score 0.790176548918909\n",
      "CPU times: user 38min 59s, sys: 13.5 s, total: 39min 13s\n",
      "Wall time: 35min 8s\n"
     ]
    }
   ],
   "source": [
    "%%time\n",
    "oof_pred, scores, models = cv_loop(params, X, y)"
   ]
  },
  {
   "cell_type": "code",
   "execution_count": 26,
   "id": "11b3c1e7",
   "metadata": {
    "execution": {
     "iopub.execute_input": "2022-05-31T17:45:15.973756Z",
     "iopub.status.busy": "2022-05-31T17:45:15.973172Z",
     "iopub.status.idle": "2022-05-31T17:45:16.059343Z",
     "shell.execute_reply": "2022-05-31T17:45:16.058518Z"
    },
    "papermill": {
     "duration": 0.127058,
     "end_time": "2022-05-31T17:45:16.061941",
     "exception": false,
     "start_time": "2022-05-31T17:45:15.934883",
     "status": "completed"
    },
    "tags": []
   },
   "outputs": [
    {
     "data": {
      "text/plain": [
       "0.7920376202793218"
      ]
     },
     "execution_count": 26,
     "metadata": {},
     "output_type": "execute_result"
    }
   ],
   "source": [
    "amex_score(y, oof_pred)"
   ]
  },
  {
   "cell_type": "markdown",
   "id": "9d29926c",
   "metadata": {
    "papermill": {
     "duration": 0.026412,
     "end_time": "2022-05-31T17:45:16.127884",
     "exception": false,
     "start_time": "2022-05-31T17:45:16.101472",
     "status": "completed"
    },
    "tags": []
   },
   "source": [
    "### Feature importance\n",
    "\n",
    "As usual, you can visualize feature importances"
   ]
  },
  {
   "cell_type": "code",
   "execution_count": 27,
   "id": "691e4a94",
   "metadata": {
    "execution": {
     "iopub.execute_input": "2022-05-31T17:45:16.174242Z",
     "iopub.status.busy": "2022-05-31T17:45:16.173910Z",
     "iopub.status.idle": "2022-05-31T17:45:17.498930Z",
     "shell.execute_reply": "2022-05-31T17:45:17.498109Z"
    },
    "papermill": {
     "duration": 1.34969,
     "end_time": "2022-05-31T17:45:17.500898",
     "exception": false,
     "start_time": "2022-05-31T17:45:16.151208",
     "status": "completed"
    },
    "tags": []
   },
   "outputs": [
    {
     "data": {
      "text/plain": [
       "<AxesSubplot:>"
      ]
     },
     "execution_count": 27,
     "metadata": {},
     "output_type": "execute_result"
    },
    {
     "data": {
      "image/png": "[encoded data removed]",
      "text/plain": [
       "<Figure size 432x288 with 1 Axes>"
      ]
     },
     "metadata": {
      "needs_background": "light"
     },
     "output_type": "display_data"
    }
   ],
   "source": [
    "Series(models[0].get_feature_importance(), index=train.columns).sort_values(\n",
    "    ascending=False)[:20][::-1].plot(kind='barh')"
   ]
  },
  {
   "cell_type": "code",
   "execution_count": 28,
   "id": "67745ed5",
   "metadata": {
    "execution": {
     "iopub.execute_input": "2022-05-31T17:45:17.546274Z",
     "iopub.status.busy": "2022-05-31T17:45:17.545669Z",
     "iopub.status.idle": "2022-05-31T17:45:17.549450Z",
     "shell.execute_reply": "2022-05-31T17:45:17.548730Z"
    },
    "papermill": {
     "duration": 0.027953,
     "end_time": "2022-05-31T17:45:17.551060",
     "exception": false,
     "start_time": "2022-05-31T17:45:17.523107",
     "status": "completed"
    },
    "tags": []
   },
   "outputs": [],
   "source": [
    "del train, X"
   ]
  },
  {
   "cell_type": "markdown",
   "id": "10fd5fdc",
   "metadata": {
    "papermill": {
     "duration": 0.021629,
     "end_time": "2022-05-31T17:45:17.594285",
     "exception": false,
     "start_time": "2022-05-31T17:45:17.572656",
     "status": "completed"
    },
    "tags": []
   },
   "source": [
    "### Inference\n",
    "\n",
    "Inference code is also quite simple"
   ]
  },
  {
   "cell_type": "code",
   "execution_count": 29,
   "id": "2cdbd322",
   "metadata": {
    "execution": {
     "iopub.execute_input": "2022-05-31T17:45:17.639237Z",
     "iopub.status.busy": "2022-05-31T17:45:17.638954Z",
     "iopub.status.idle": "2022-05-31T17:45:17.646516Z",
     "shell.execute_reply": "2022-05-31T17:45:17.645839Z"
    },
    "papermill": {
     "duration": 0.032089,
     "end_time": "2022-05-31T17:45:17.648229",
     "exception": false,
     "start_time": "2022-05-31T17:45:17.616140",
     "status": "completed"
    },
    "tags": []
   },
   "outputs": [],
   "source": [
    "def inference(flist, models):\n",
    "    \"\"\"\n",
    "    Inference separated by partitions\n",
    "    \"\"\"\n",
    "    pred_parts = []\n",
    "\n",
    "    for path in flist:\n",
    "        test = feature_extraction(path)\n",
    "        X_test, index = test.values, test.index\n",
    "\n",
    "        del test\n",
    "\n",
    "        pred = np.zeros((X_test.shape[0], ), dtype=np.float32)\n",
    "\n",
    "        for model in models:\n",
    "            pred += model.predict(X_test, batch_size=5000000)[:, 0]\n",
    "\n",
    "        pred /= len(models)\n",
    "        pred_parts.append(Series(pred, index=index))\n",
    "\n",
    "        del X_test\n",
    "        print('{0} finished'.format(path))    \n",
    "        \n",
    "    return pd.concat(pred_parts, axis=0)"
   ]
  },
  {
   "cell_type": "code",
   "execution_count": 30,
   "id": "e506d368",
   "metadata": {
    "execution": {
     "iopub.execute_input": "2022-05-31T17:45:17.692649Z",
     "iopub.status.busy": "2022-05-31T17:45:17.692388Z",
     "iopub.status.idle": "2022-05-31T17:51:02.588297Z",
     "shell.execute_reply": "2022-05-31T17:51:02.587409Z"
    },
    "papermill": {
     "duration": 344.943779,
     "end_time": "2022-05-31T17:51:02.613696",
     "exception": false,
     "start_time": "2022-05-31T17:45:17.669917",
     "status": "completed"
    },
    "tags": []
   },
   "outputs": [
    {
     "name": "stderr",
     "output_type": "stream",
     "text": [
      "/opt/conda/lib/python3.7/site-packages/cudf/io/feather.py:16: UserWarning: Using CPU via PyArrow to read feather dataset, this may be GPU accelerated in the future\n",
      "  \"Using CPU via PyArrow to read feather dataset, this may \"\n"
     ]
    },
    {
     "name": "stdout",
     "output_type": "stream",
     "text": [
      "../input/amexsavedasfeather/test_part0.feather finished\n",
      "../input/amexsavedasfeather/test_part1.feather finished\n",
      "../input/amexsavedasfeather/test_part2.feather finished\n",
      "../input/amexsavedasfeather/test_part3.feather finished\n",
      "CPU times: user 1min 40s, sys: 2min 38s, total: 4min 19s\n",
      "Wall time: 5min 44s\n"
     ]
    }
   ],
   "source": [
    "%%time\n",
    "prediction = inference(\n",
    "    [os.path.join(DATA_DIR, 'test_part{0}.feather'.format(x)) for x in range(4)],\n",
    "    models\n",
    ")"
   ]
  },
  {
   "cell_type": "markdown",
   "id": "e10fe60c",
   "metadata": {
    "papermill": {
     "duration": 0.02233,
     "end_time": "2022-05-31T17:51:02.659431",
     "exception": false,
     "start_time": "2022-05-31T17:51:02.637101",
     "status": "completed"
    },
    "tags": []
   },
   "source": [
    "The last thing to do is generating submission"
   ]
  },
  {
   "cell_type": "code",
   "execution_count": 31,
   "id": "fa4a2b56",
   "metadata": {
    "execution": {
     "iopub.execute_input": "2022-05-31T17:51:02.773376Z",
     "iopub.status.busy": "2022-05-31T17:51:02.772637Z",
     "iopub.status.idle": "2022-05-31T17:51:04.185057Z",
     "shell.execute_reply": "2022-05-31T17:51:04.184255Z"
    },
    "papermill": {
     "duration": 1.438297,
     "end_time": "2022-05-31T17:51:04.187323",
     "exception": false,
     "start_time": "2022-05-31T17:51:02.749026",
     "status": "completed"
    },
    "tags": []
   },
   "outputs": [],
   "source": [
    "ssub = pd.read_feather(os.path.join(DATA_DIR, 'ssub.feather')).set_index('my_id')\n",
    "ssub['prediction'] = prediction"
   ]
  },
  {
   "cell_type": "code",
   "execution_count": 32,
   "id": "423305b5",
   "metadata": {
    "execution": {
     "iopub.execute_input": "2022-05-31T17:51:04.234543Z",
     "iopub.status.busy": "2022-05-31T17:51:04.234201Z",
     "iopub.status.idle": "2022-05-31T17:51:04.274655Z",
     "shell.execute_reply": "2022-05-31T17:51:04.273659Z"
    },
    "papermill": {
     "duration": 0.066432,
     "end_time": "2022-05-31T17:51:04.276982",
     "exception": false,
     "start_time": "2022-05-31T17:51:04.210550",
     "status": "completed"
    },
    "tags": []
   },
   "outputs": [
    {
     "data": {
      "text/html": [
       "<div>\n",
       "<style scoped>\n",
       "    .dataframe tbody tr th:only-of-type {\n",
       "        vertical-align: middle;\n",
       "    }\n",
       "\n",
       "    .dataframe tbody tr th {\n",
       "        vertical-align: top;\n",
       "    }\n",
       "\n",
       "    .dataframe thead th {\n",
       "        text-align: right;\n",
       "    }\n",
       "</style>\n",
       "<table border=\"1\" class=\"dataframe\">\n",
       "  <thead>\n",
       "    <tr style=\"text-align: right;\">\n",
       "      <th></th>\n",
       "      <th>customer_ID</th>\n",
       "      <th>prediction</th>\n",
       "    </tr>\n",
       "    <tr>\n",
       "      <th>my_id</th>\n",
       "      <th></th>\n",
       "      <th></th>\n",
       "    </tr>\n",
       "  </thead>\n",
       "  <tbody>\n",
       "    <tr>\n",
       "      <th>0</th>\n",
       "      <td>00000469ba478561f23a92a868bd366de6f6527a684c9a...</td>\n",
       "      <td>0.041570</td>\n",
       "    </tr>\n",
       "    <tr>\n",
       "      <th>1</th>\n",
       "      <td>00001bf2e77ff879fab36aa4fac689b9ba411dae63ae39...</td>\n",
       "      <td>0.001296</td>\n",
       "    </tr>\n",
       "    <tr>\n",
       "      <th>2</th>\n",
       "      <td>0000210045da4f81e5f122c6bde5c2a617d03eef67f82c...</td>\n",
       "      <td>0.047684</td>\n",
       "    </tr>\n",
       "    <tr>\n",
       "      <th>3</th>\n",
       "      <td>00003b41e58ede33b8daf61ab56d9952f17c9ad1c3976c...</td>\n",
       "      <td>0.288642</td>\n",
       "    </tr>\n",
       "    <tr>\n",
       "      <th>4</th>\n",
       "      <td>00004b22eaeeeb0ec976890c1d9bfc14fd9427e98c4ee9...</td>\n",
       "      <td>0.854481</td>\n",
       "    </tr>\n",
       "    <tr>\n",
       "      <th>...</th>\n",
       "      <td>...</td>\n",
       "      <td>...</td>\n",
       "    </tr>\n",
       "    <tr>\n",
       "      <th>924616</th>\n",
       "      <td>ffff952c631f2c911b8a2a8ca56ea6e656309a83d2f64c...</td>\n",
       "      <td>0.018517</td>\n",
       "    </tr>\n",
       "    <tr>\n",
       "      <th>924617</th>\n",
       "      <td>ffffcf5df59e5e0bba2a5ac4578a34e2b5aa64a1546cd3...</td>\n",
       "      <td>0.774471</td>\n",
       "    </tr>\n",
       "    <tr>\n",
       "      <th>924618</th>\n",
       "      <td>ffffd61f098cc056dbd7d2a21380c4804bbfe60856f475...</td>\n",
       "      <td>0.492161</td>\n",
       "    </tr>\n",
       "    <tr>\n",
       "      <th>924619</th>\n",
       "      <td>ffffddef1fc3643ea179c93245b68dca0f36941cd83977...</td>\n",
       "      <td>0.281367</td>\n",
       "    </tr>\n",
       "    <tr>\n",
       "      <th>924620</th>\n",
       "      <td>fffffa7cf7e453e1acc6a1426475d5cb9400859f82ff61...</td>\n",
       "      <td>0.071461</td>\n",
       "    </tr>\n",
       "  </tbody>\n",
       "</table>\n",
       "<p>924621 rows × 2 columns</p>\n",
       "</div>"
      ],
      "text/plain": [
       "                                              customer_ID  prediction\n",
       "my_id                                                                \n",
       "0       00000469ba478561f23a92a868bd366de6f6527a684c9a...    0.041570\n",
       "1       00001bf2e77ff879fab36aa4fac689b9ba411dae63ae39...    0.001296\n",
       "2       0000210045da4f81e5f122c6bde5c2a617d03eef67f82c...    0.047684\n",
       "3       00003b41e58ede33b8daf61ab56d9952f17c9ad1c3976c...    0.288642\n",
       "4       00004b22eaeeeb0ec976890c1d9bfc14fd9427e98c4ee9...    0.854481\n",
       "...                                                   ...         ...\n",
       "924616  ffff952c631f2c911b8a2a8ca56ea6e656309a83d2f64c...    0.018517\n",
       "924617  ffffcf5df59e5e0bba2a5ac4578a34e2b5aa64a1546cd3...    0.774471\n",
       "924618  ffffd61f098cc056dbd7d2a21380c4804bbfe60856f475...    0.492161\n",
       "924619  ffffddef1fc3643ea179c93245b68dca0f36941cd83977...    0.281367\n",
       "924620  fffffa7cf7e453e1acc6a1426475d5cb9400859f82ff61...    0.071461\n",
       "\n",
       "[924621 rows x 2 columns]"
      ]
     },
     "execution_count": 32,
     "metadata": {},
     "output_type": "execute_result"
    }
   ],
   "source": [
    "ssub[['customer_ID', 'prediction']]"
   ]
  },
  {
   "cell_type": "code",
   "execution_count": 33,
   "id": "dc4dbd7a",
   "metadata": {
    "execution": {
     "iopub.execute_input": "2022-05-31T17:51:04.325020Z",
     "iopub.status.busy": "2022-05-31T17:51:04.324330Z",
     "iopub.status.idle": "2022-05-31T17:51:08.612950Z",
     "shell.execute_reply": "2022-05-31T17:51:08.612118Z"
    },
    "papermill": {
     "duration": 4.314796,
     "end_time": "2022-05-31T17:51:08.615099",
     "exception": false,
     "start_time": "2022-05-31T17:51:04.300303",
     "status": "completed"
    },
    "tags": []
   },
   "outputs": [],
   "source": [
    "ssub[['customer_ID', 'prediction']].to_csv('submission.csv', index=False)"
   ]
  },
  {
   "cell_type": "markdown",
   "id": "399e7956",
   "metadata": {
    "papermill": {
     "duration": 0.022091,
     "end_time": "2022-05-31T17:51:08.660386",
     "exception": false,
     "start_time": "2022-05-31T17:51:08.638295",
     "status": "completed"
    },
    "tags": []
   },
   "source": [
    "#### Hope this kernel was helpful. Thanks for your attention! And Good luck :)"
   ]
  }
 ],
 "metadata": {
  "kernelspec": {
   "display_name": "Python 3",
   "language": "python",
   "name": "python3"
  },
  "language_info": {
   "codemirror_mode": {
    "name": "ipython",
    "version": 3
   },
   "file_extension": ".py",
   "mimetype": "text/x-python",
   "name": "python",
   "nbconvert_exporter": "python",
   "pygments_lexer": "ipython3",
   "version": "3.7.12"
  },
  "papermill": {
   "default_parameters": {},
   "duration": 2588.356545,
   "end_time": "2022-05-31T17:51:12.443412",
   "environment_variables": {},
   "exception": null,
   "input_path": "__notebook__.ipynb",
   "output_path": "__notebook__.ipynb",
   "parameters": {},
   "start_time": "2022-05-31T17:08:04.086867",
   "version": "2.3.4"
  }
 },
 "nbformat": 4,
 "nbformat_minor": 5
}
